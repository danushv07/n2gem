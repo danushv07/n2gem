{
 "cells": [
  {
   "cell_type": "markdown",
   "metadata": {},
   "source": [
    "# Adversarial Attack \n",
    "\n",
    "- develop a model for mnist dataset using fastai\n",
    "- attack the model using foolbox (black box attack)\n",
    "- check the density & coverage metrics"
   ]
  },
  {
   "cell_type": "code",
   "execution_count": 1,
   "metadata": {},
   "outputs": [],
   "source": [
    "# dependencies\n",
    "import os \n",
    "os.environ[\"GIT_PYTHON_REFRESH\"] = \"quiet\" \n",
    "#!module load git\n",
    "import foolbox as fb\n",
    "import torch\n",
    "import eagerpy as ep\n",
    "from foolbox import PyTorchModel, accuracy, samples\n",
    "import numpy as np"
   ]
  },
  {
   "cell_type": "code",
   "execution_count": 2,
   "metadata": {},
   "outputs": [],
   "source": [
    "import torchvision\n",
    "from fastai.vision.all import *"
   ]
  },
  {
   "cell_type": "markdown",
   "metadata": {},
   "source": [
    "Fix the seed generator"
   ]
  },
  {
   "cell_type": "code",
   "execution_count": 3,
   "metadata": {},
   "outputs": [],
   "source": [
    "torch.manual_seed(42) \n",
    "if torch.cuda.is_available():\n",
    "    torch.cuda.manual_seed_all(42)\n",
    "np.random.seed(42)"
   ]
  },
  {
   "cell_type": "code",
   "execution_count": 4,
   "metadata": {},
   "outputs": [
    {
     "name": "stdout",
     "output_type": "stream",
     "text": [
      "cpu\n"
     ]
    }
   ],
   "source": [
    "device = 'cuda' if torch.cuda.is_available() else 'cpu'\n",
    "print(device)"
   ]
  },
  {
   "cell_type": "markdown",
   "metadata": {},
   "source": [
    "### Import the MNIST dataset "
   ]
  },
  {
   "cell_type": "code",
   "execution_count": 5,
   "metadata": {},
   "outputs": [],
   "source": [
    "def load_mnist():\n",
    "    \"\"\"Function to load the mnist\n",
    "        The foolowing transform is aaplied: Normalize:(0.1307,)(0.3081,)\n",
    "    \n",
    "    \"\"\"\n",
    "    transforms = torchvision.transforms.Compose([\n",
    "        torchvision.transforms.ToTensor(),\n",
    "        torchvision.transforms.Normalize((0.1307,), (0.3081))\n",
    "    ])\n",
    "    train_set = torchvision.datasets.MNIST('./files/', train=True, download=True, transform=transforms)\n",
    "    test_set = torchvision.datasets.MNIST('./files/', train=False, download=True, transform=transforms)\n",
    "    \n",
    "    return train_set, test_set\n",
    "\n",
    "train_set, test_set = load_mnist()"
   ]
  },
  {
   "cell_type": "markdown",
   "metadata": {},
   "source": [
    "### Combine the datasets and stratify split \n",
    "- Combine train and test\n",
    "- form the model_dataset[training+ test] and validation set"
   ]
  },
  {
   "cell_type": "code",
   "execution_count": 6,
   "metadata": {},
   "outputs": [
    {
     "name": "stdout",
     "output_type": "stream",
     "text": [
      "X_validation_set size:  (2100, 1, 28, 28)\n",
      "Y_validation_set size:  2100\n",
      "X_train_set size:  (54320, 1, 28, 28)\n",
      "Y_train_set size:  54320\n",
      "X_test_set size:  (13580, 1, 28, 28)\n",
      "Y_test_set size:  13580\n"
     ]
    }
   ],
   "source": [
    "from torch.utils.data import ConcatDataset\n",
    "from sklearn.model_selection import train_test_split\n",
    "\n",
    "def create_dataset(train_set, test_set, vali_split, test_split):\n",
    "    \"\"\"Function to split the dataset and form the training, test and validation datasets\n",
    "        \n",
    "        Parameters\n",
    "        ----------------------\n",
    "        train_set: torch.utils.mnist.dataset\n",
    "        test_set: torch.utils.mnist.dataset\n",
    "        vali_split: the size for the validation set \n",
    "        test_split: the size of the test set\n",
    "        \n",
    "        Return\n",
    "        ----------------------\n",
    "        X_trainset: list, size: train_size, 1, 28, 28\n",
    "        X_testset: list, size: test_size, 1, 28, 28\n",
    "        X_validation: list, size: vali_size, 1, 28, 28\n",
    "        y_trainset: list, size: train_size\n",
    "        y_testset: list, size: test_size\n",
    "        y_valiset: list, size: vali_size\n",
    "        \n",
    "    \"\"\"\n",
    "    # combine the datasets\n",
    "    dataset = ConcatDataset([train_set, test_set])\n",
    "    X=[]; Y=[];\n",
    "    for i in range(len(dataset)):\n",
    "        x, y = dataset[i]\n",
    "        X.append(x.numpy())  #.detach().cpu().numpy())\n",
    "        Y.append(y)\n",
    "    \n",
    "    # split the dataset into train and validation set\n",
    "    X_model, X_validation, y_model, y_validation = train_test_split(X, Y, test_size=vali_split, random_state=42, stratify=np.array(Y))\n",
    "\n",
    "    print(\"X_validation_set size: \", np.array(X_validation).shape)\n",
    "    print(\"Y_validation_set size: \", len(y_validation))\n",
    "    \n",
    "    # form the model_dataset for the metrics\n",
    "    # model_dataset = ConcatData\n",
    "    \n",
    "    # split the X_train into training set & test set\n",
    "    X_trainset, X_testset, y_trainset, y_testset = train_test_split(X_model, y_model, test_size=test_split, random_state=42)\n",
    "    print(\"X_train_set size: \", np.array(X_trainset).shape)\n",
    "    print(\"Y_train_set size: \", len(y_trainset))\n",
    "    print(\"X_test_set size: \", np.array(X_testset).shape)\n",
    "    print(\"Y_test_set size: \", len(y_testset))\n",
    "    \n",
    "    #X = np.array(X); Y = np.array(Y)\n",
    "    \n",
    "    return X_trainset, X_testset, X_validation, y_trainset, y_testset, y_validation\n",
    "\n",
    "X_trainset, X_testset, X_validation, y_trainset, y_testset, y_validation = create_dataset(train_set, test_set, 0.03, 0.2)"
   ]
  },
  {
   "cell_type": "markdown",
   "metadata": {},
   "source": [
    "### Convert the datasets to Torch.TensorDataset"
   ]
  },
  {
   "cell_type": "code",
   "execution_count": 7,
   "metadata": {},
   "outputs": [],
   "source": [
    "def convert_tensor(X_trainset, X_testset, X_validation, y_trainset, y_testset, y_validation):\n",
    "    \"\"\"\n",
    "    Function to convert the split datasets into torch Tensor dataset\n",
    "    \n",
    "    Parameters\n",
    "    ----------------------\n",
    "    X_trainset: list, size: train_size, 1, 28, 28\n",
    "    X_testset: list, size: test_size, 1, 28, 28\n",
    "    X_validation: list, size: vali_size, 1, 28, 28\n",
    "    y_trainset: list, size: train_size\n",
    "    y_testset: list, size: test_size\n",
    "    y_valiset: list, size: vali_size\n",
    "    \n",
    "    Return\n",
    "    -------------------\n",
    "    train_set: TensorDataset, consists of training images and labels\n",
    "    test_set: TensorDataset, consists of test images and labels\n",
    "    validation_set: TensorDataset, consists of validation images and labels\n",
    "    \n",
    "    # for the adversarial attack\n",
    "    model_dataset_images: Tensor, size: (training + test) size, only the images\n",
    "    model_dataset_images: Tensor, size: (training + test) size, only the labels\n",
    "    \"\"\"\n",
    "    X_trainset = torch.Tensor(X_trainset); \n",
    "    y_trainset = torch.Tensor(y_trainset).type(torch.LongTensor) #dtype = torch.long);\n",
    "    X_testset = torch.Tensor(X_testset); \n",
    "    y_testset = torch.Tensor(y_testset).type(torch.LongTensor);\n",
    "    X_validation = torch.Tensor(X_validation); \n",
    "    y_validation = torch.Tensor(y_validation).type(torch.LongTensor)\n",
    "    # y - label should be longTensor for fastai training\n",
    "    \n",
    "    # form model_dataset\n",
    "    model_dataset_images = torch.vstack((X_trainset, X_testset))\n",
    "    model_dataset_labels = torch.cat((y_trainset, y_testset))\n",
    "    \n",
    "    # form the Tensor dataset\n",
    "    train_set = torch.utils.data.TensorDataset(X_trainset, y_trainset)\n",
    "    test_set = torch.utils.data.TensorDataset(X_testset, y_testset)\n",
    "    validation_set = torch.utils.data.TensorDataset(X_validation, y_validation)\n",
    "    \n",
    "    return train_set, test_set, validation_set, model_dataset_images, model_dataset_labels\n",
    "\n",
    "train_set, test_set, validation_set, model_images, model_labels = convert_tensor(X_trainset, X_testset, X_validation, y_trainset, y_testset, y_validation)"
   ]
  },
  {
   "cell_type": "code",
   "execution_count": 41,
   "metadata": {},
   "outputs": [],
   "source": [
    "torch.save(model_images, 'model_dataset_images.pt')\n",
    "torch.save(model_labels, 'model_dataset_labels.pt')"
   ]
  },
  {
   "cell_type": "code",
   "execution_count": null,
   "metadata": {},
   "outputs": [],
   "source": [
    "torch.save()"
   ]
  },
  {
   "cell_type": "markdown",
   "metadata": {},
   "source": [
    "### The Dataloader for the CNN models"
   ]
  },
  {
   "cell_type": "code",
   "execution_count": 8,
   "metadata": {},
   "outputs": [],
   "source": [
    "train_loader = torch.utils.data.DataLoader(train_set, batch_size=64, shuffle=True)\n",
    "test_loader = torch.utils.data.DataLoader(test_set, batch_size=1000, shuffle=True)"
   ]
  },
  {
   "cell_type": "markdown",
   "metadata": {},
   "source": [
    "### Define the CNN model"
   ]
  },
  {
   "cell_type": "code",
   "execution_count": 9,
   "metadata": {},
   "outputs": [],
   "source": [
    "import torch.nn as nn\n",
    "import torch.nn.functional as F\n",
    "\n",
    "class CNet(nn.Module):\n",
    "    def __init__(self):\n",
    "        super(CNet, self).__init__()\n",
    "        self.conv1 = nn.Conv2d(1, 10, kernel_size=5)\n",
    "        self.conv2 = nn.Conv2d(10, 20, kernel_size=5)\n",
    "        self.drop = nn.Dropout(0.5)\n",
    "        self.fc1 = nn.Linear(320, 50)\n",
    "        self.fc2 = nn.Linear(50, 10)\n",
    "    \n",
    "    def forward(self, x):\n",
    "        x = F.max_pool2d(self.conv1(x), 2)\n",
    "        x = F.relu(x)\n",
    "        x = self.drop(self.conv2(x))\n",
    "        x = F.relu(F.max_pool2d(x, 2))\n",
    "        x = x.view(-1, 320)\n",
    "        x = F.relu(self.fc1(x))\n",
    "        x = F.dropout(x)\n",
    "        x = self.fc2(x)\n",
    "        output = F.log_softmax(x, dim=1)\n",
    "        return output\n",
    "        "
   ]
  },
  {
   "cell_type": "code",
   "execution_count": 10,
   "metadata": {},
   "outputs": [],
   "source": [
    "class NewNet(nn.Module):\n",
    "    def __init__(self):\n",
    "        super(NewNet, self).__init__()\n",
    "        self.conv1 = nn.Conv2d(1, 16, kernel_size=3)\n",
    "        self.conv2 = nn.Conv2d(16, 32, kernel_size=3)\n",
    "        self.drop = nn.Dropout(0.5)\n",
    "        self.fc1 = nn.Linear(800, 512)\n",
    "        self.fc2 = nn.Linear(512, 64)\n",
    "        self.fc3 = nn.Linear(64, 10)\n",
    "    \n",
    "    def forward(self, x):\n",
    "        x = F.relu(self.conv1(x))\n",
    "        x = self.drop(F.max_pool2d(x, 2))\n",
    "        x = F.relu(self.conv2(x))\n",
    "        x = F.max_pool2d(x, 2)\n",
    "        x = x.view(-1, 800)\n",
    "        x = self.drop(F.relu(self.fc1(x)))\n",
    "        x = F.relu(self.fc2(x))\n",
    "        x = self.fc3(x)\n",
    "        output = F.log_softmax(x, dim=1)\n",
    "        return output"
   ]
  },
  {
   "cell_type": "markdown",
   "metadata": {},
   "source": [
    "### Fastai classifier\n",
    "- Fastai takes the available device by default"
   ]
  },
  {
   "cell_type": "code",
   "execution_count": 11,
   "metadata": {},
   "outputs": [],
   "source": [
    "data = DataLoaders(train_loader, test_loader)\n",
    "learn = Learner(data, NewNet(), loss_func=F.nll_loss, opt_func=Adam, metrics=accuracy)"
   ]
  },
  {
   "cell_type": "markdown",
   "metadata": {},
   "source": [
    "- Initial fit for the model"
   ]
  },
  {
   "cell_type": "code",
   "execution_count": 41,
   "metadata": {},
   "outputs": [
    {
     "data": {
      "text/html": [
       "<table border=\"1\" class=\"dataframe\">\n",
       "  <thead>\n",
       "    <tr style=\"text-align: left;\">\n",
       "      <th>epoch</th>\n",
       "      <th>train_loss</th>\n",
       "      <th>valid_loss</th>\n",
       "      <th>accuracy</th>\n",
       "      <th>time</th>\n",
       "    </tr>\n",
       "  </thead>\n",
       "  <tbody>\n",
       "    <tr>\n",
       "      <td>0</td>\n",
       "      <td>0.172277</td>\n",
       "      <td>0.111684</td>\n",
       "      <td>0.965096</td>\n",
       "      <td>00:06</td>\n",
       "    </tr>\n",
       "    <tr>\n",
       "      <td>1</td>\n",
       "      <td>0.095120</td>\n",
       "      <td>0.060756</td>\n",
       "      <td>0.980192</td>\n",
       "      <td>00:03</td>\n",
       "    </tr>\n",
       "    <tr>\n",
       "      <td>2</td>\n",
       "      <td>0.067478</td>\n",
       "      <td>0.049296</td>\n",
       "      <td>0.983947</td>\n",
       "      <td>00:03</td>\n",
       "    </tr>\n",
       "  </tbody>\n",
       "</table>"
      ],
      "text/plain": [
       "<IPython.core.display.HTML object>"
      ]
     },
     "metadata": {},
     "output_type": "display_data"
    }
   ],
   "source": [
    "learn.fit_one_cycle(3)"
   ]
  },
  {
   "cell_type": "markdown",
   "metadata": {},
   "source": [
    "- Unfreeze and check the optimal learning rate"
   ]
  },
  {
   "cell_type": "code",
   "execution_count": 42,
   "metadata": {},
   "outputs": [
    {
     "data": {
      "text/html": [],
      "text/plain": [
       "<IPython.core.display.HTML object>"
      ]
     },
     "metadata": {},
     "output_type": "display_data"
    },
    {
     "data": {
      "text/plain": [
       "SuggestedLRs(valley=tensor(1.7378e-05))"
      ]
     },
     "execution_count": 42,
     "metadata": {},
     "output_type": "execute_result"
    },
    {
     "data": {
      "image/png": "[encoded data removed]",
      "text/plain": [
       "<Figure size 432x288 with 1 Axes>"
      ]
     },
     "metadata": {
      "needs_background": "light"
     },
     "output_type": "display_data"
    }
   ],
   "source": [
    "learn.unfreeze()\n",
    "learn.lr_find()"
   ]
  },
  {
   "cell_type": "markdown",
   "metadata": {},
   "source": [
    "- Fit the model again"
   ]
  },
  {
   "cell_type": "code",
   "execution_count": 43,
   "metadata": {},
   "outputs": [
    {
     "data": {
      "text/html": [
       "<table border=\"1\" class=\"dataframe\">\n",
       "  <thead>\n",
       "    <tr style=\"text-align: left;\">\n",
       "      <th>epoch</th>\n",
       "      <th>train_loss</th>\n",
       "      <th>valid_loss</th>\n",
       "      <th>accuracy</th>\n",
       "      <th>time</th>\n",
       "    </tr>\n",
       "  </thead>\n",
       "  <tbody>\n",
       "    <tr>\n",
       "      <td>0</td>\n",
       "      <td>0.061845</td>\n",
       "      <td>0.049151</td>\n",
       "      <td>0.984021</td>\n",
       "      <td>00:03</td>\n",
       "    </tr>\n",
       "    <tr>\n",
       "      <td>1</td>\n",
       "      <td>0.072000</td>\n",
       "      <td>0.048584</td>\n",
       "      <td>0.983873</td>\n",
       "      <td>00:03</td>\n",
       "    </tr>\n",
       "    <tr>\n",
       "      <td>2</td>\n",
       "      <td>0.071690</td>\n",
       "      <td>0.048445</td>\n",
       "      <td>0.983947</td>\n",
       "      <td>00:03</td>\n",
       "    </tr>\n",
       "    <tr>\n",
       "      <td>3</td>\n",
       "      <td>0.069793</td>\n",
       "      <td>0.048071</td>\n",
       "      <td>0.984536</td>\n",
       "      <td>00:03</td>\n",
       "    </tr>\n",
       "    <tr>\n",
       "      <td>4</td>\n",
       "      <td>0.066021</td>\n",
       "      <td>0.047852</td>\n",
       "      <td>0.984462</td>\n",
       "      <td>00:03</td>\n",
       "    </tr>\n",
       "    <tr>\n",
       "      <td>5</td>\n",
       "      <td>0.065057</td>\n",
       "      <td>0.047673</td>\n",
       "      <td>0.984462</td>\n",
       "      <td>00:03</td>\n",
       "    </tr>\n",
       "    <tr>\n",
       "      <td>6</td>\n",
       "      <td>0.067660</td>\n",
       "      <td>0.047517</td>\n",
       "      <td>0.984610</td>\n",
       "      <td>00:03</td>\n",
       "    </tr>\n",
       "    <tr>\n",
       "      <td>7</td>\n",
       "      <td>0.070133</td>\n",
       "      <td>0.047518</td>\n",
       "      <td>0.984610</td>\n",
       "      <td>00:03</td>\n",
       "    </tr>\n",
       "  </tbody>\n",
       "</table>"
      ],
      "text/plain": [
       "<IPython.core.display.HTML object>"
      ]
     },
     "metadata": {},
     "output_type": "display_data"
    }
   ],
   "source": [
    "learn.fit_one_cycle(8, lr_max=1e-5)"
   ]
  },
  {
   "cell_type": "code",
   "execution_count": 45,
   "metadata": {},
   "outputs": [],
   "source": [
    "#learn.recorder.plot_loss()"
   ]
  },
  {
   "cell_type": "markdown",
   "metadata": {},
   "source": [
    "- Fine tune the model "
   ]
  },
  {
   "cell_type": "code",
   "execution_count": 46,
   "metadata": {},
   "outputs": [
    {
     "data": {
      "text/html": [
       "<table border=\"1\" class=\"dataframe\">\n",
       "  <thead>\n",
       "    <tr style=\"text-align: left;\">\n",
       "      <th>epoch</th>\n",
       "      <th>train_loss</th>\n",
       "      <th>valid_loss</th>\n",
       "      <th>accuracy</th>\n",
       "      <th>time</th>\n",
       "    </tr>\n",
       "  </thead>\n",
       "  <tbody>\n",
       "    <tr>\n",
       "      <td>0</td>\n",
       "      <td>0.115505</td>\n",
       "      <td>0.060985</td>\n",
       "      <td>0.982401</td>\n",
       "      <td>00:03</td>\n",
       "    </tr>\n",
       "  </tbody>\n",
       "</table>"
      ],
      "text/plain": [
       "<IPython.core.display.HTML object>"
      ]
     },
     "metadata": {},
     "output_type": "display_data"
    },
    {
     "data": {
      "text/html": [
       "<table border=\"1\" class=\"dataframe\">\n",
       "  <thead>\n",
       "    <tr style=\"text-align: left;\">\n",
       "      <th>epoch</th>\n",
       "      <th>train_loss</th>\n",
       "      <th>valid_loss</th>\n",
       "      <th>accuracy</th>\n",
       "      <th>time</th>\n",
       "    </tr>\n",
       "  </thead>\n",
       "  <tbody>\n",
       "    <tr>\n",
       "      <td>0</td>\n",
       "      <td>0.070029</td>\n",
       "      <td>0.046246</td>\n",
       "      <td>0.985420</td>\n",
       "      <td>00:03</td>\n",
       "    </tr>\n",
       "    <tr>\n",
       "      <td>1</td>\n",
       "      <td>0.070937</td>\n",
       "      <td>0.041459</td>\n",
       "      <td>0.987187</td>\n",
       "      <td>00:03</td>\n",
       "    </tr>\n",
       "    <tr>\n",
       "      <td>2</td>\n",
       "      <td>0.045100</td>\n",
       "      <td>0.035249</td>\n",
       "      <td>0.988586</td>\n",
       "      <td>00:03</td>\n",
       "    </tr>\n",
       "    <tr>\n",
       "      <td>3</td>\n",
       "      <td>0.030003</td>\n",
       "      <td>0.033169</td>\n",
       "      <td>0.989617</td>\n",
       "      <td>00:03</td>\n",
       "    </tr>\n",
       "    <tr>\n",
       "      <td>4</td>\n",
       "      <td>0.037282</td>\n",
       "      <td>0.030900</td>\n",
       "      <td>0.990206</td>\n",
       "      <td>00:03</td>\n",
       "    </tr>\n",
       "  </tbody>\n",
       "</table>"
      ],
      "text/plain": [
       "<IPython.core.display.HTML object>"
      ]
     },
     "metadata": {},
     "output_type": "display_data"
    }
   ],
   "source": [
    "learn.fine_tune(5)"
   ]
  },
  {
   "cell_type": "code",
   "execution_count": 47,
   "metadata": {},
   "outputs": [
    {
     "data": {
      "image/png": "[encoded data removed]",
      "text/plain": [
       "<Figure size 432x288 with 1 Axes>"
      ]
     },
     "metadata": {
      "needs_background": "light"
     },
     "output_type": "display_data"
    }
   ],
   "source": [
    "learn.recorder.plot_loss()"
   ]
  },
  {
   "cell_type": "markdown",
   "metadata": {},
   "source": [
    "### - Save the fastai classifier\n",
    "- By default it is saved in the /models folder with .pth extension"
   ]
  },
  {
   "cell_type": "code",
   "execution_count": 122,
   "metadata": {},
   "outputs": [
    {
     "data": {
      "text/plain": [
       "Path('models/fastai_cnn_NewNet_99_splitDataset.pth')"
      ]
     },
     "execution_count": 122,
     "metadata": {},
     "output_type": "execute_result"
    }
   ],
   "source": [
    "learn.save('./fastai_cnn_NewNet_99_splitDataset')"
   ]
  },
  {
   "cell_type": "markdown",
   "metadata": {},
   "source": [
    "- Load the model(fastai) and save it as torch model for foolbox compatibility"
   ]
  },
  {
   "cell_type": "code",
   "execution_count": 123,
   "metadata": {},
   "outputs": [],
   "source": [
    "model_new = learn.load('fastai_cnn_NewNet_99_splitDataset')\n",
    "torch.save(model_new.model.state_dict(), 'fastai_cnn_NewNet_99_splitDataset_weights.pth')"
   ]
  },
  {
   "cell_type": "markdown",
   "metadata": {},
   "source": [
    "### Load model for the attack"
   ]
  },
  {
   "cell_type": "code",
   "execution_count": 12,
   "metadata": {},
   "outputs": [
    {
     "data": {
      "text/plain": [
       "NewNet(\n",
       "  (conv1): Conv2d(1, 16, kernel_size=(3, 3), stride=(1, 1))\n",
       "  (conv2): Conv2d(16, 32, kernel_size=(3, 3), stride=(1, 1))\n",
       "  (drop): Dropout(p=0.5, inplace=False)\n",
       "  (fc1): Linear(in_features=800, out_features=512, bias=True)\n",
       "  (fc2): Linear(in_features=512, out_features=64, bias=True)\n",
       "  (fc3): Linear(in_features=64, out_features=10, bias=True)\n",
       ")"
      ]
     },
     "execution_count": 12,
     "metadata": {},
     "output_type": "execute_result"
    }
   ],
   "source": [
    "# load the NewNet model\n",
    "MyModel = NewNet()\n",
    "MyModel.load_state_dict(torch.load('chkpt_files/fastai_cnn_NewNet_99_splitDataset_weights.pth', map_location=device))\n",
    "MyModel.eval()\n",
    "\n",
    "# load the CNet model\n",
    "#MyModel_1 = CNet()\n",
    "#MyModel_1.load_state_dict(torch.load('fastai_cnn_weights.pth'))\n",
    "#MyModel_1.eval()"
   ]
  },
  {
   "cell_type": "markdown",
   "metadata": {},
   "source": [
    "### Create a Pytorch model for foolbox attack"
   ]
  },
  {
   "cell_type": "code",
   "execution_count": 13,
   "metadata": {},
   "outputs": [],
   "source": [
    "preprocess = dict(mean=0.1307, std=0.3081)\n",
    "bound = (0, 1)\n",
    "original_model = fb.PyTorchModel(MyModel, bounds=bound, preprocessing=preprocess)"
   ]
  },
  {
   "cell_type": "markdown",
   "metadata": {},
   "source": [
    "- Three different attacks with 100 values of epsilons"
   ]
  },
  {
   "cell_type": "code",
   "execution_count": 14,
   "metadata": {},
   "outputs": [],
   "source": [
    "attack0 = fb.attacks.LinfPGD()\n",
    "attack1 = fb.attacks.BoundaryAttack()\n",
    "attack2 = fb.attacks.FGSM()\n",
    "attack = [attack0, attack1, attack2]\n",
    "epsilon = np.linspace(0.0, 1, num=20)"
   ]
  },
  {
   "cell_type": "markdown",
   "metadata": {},
   "source": [
    "- Attack the ```trained network``` with model_dataset"
   ]
  },
  {
   "cell_type": "code",
   "execution_count": 15,
   "metadata": {},
   "outputs": [],
   "source": [
    "images = ep.astensor(model_images.to(device))\n",
    "labels = ep.astensor(model_labels.to(device))"
   ]
  },
  {
   "cell_type": "code",
   "execution_count": 17,
   "metadata": {},
   "outputs": [],
   "source": [
    "def model_attack(attk, model, image, label, epsilon):\n",
    "    \"\"\"\n",
    "    Function to perform the adv attack on the pytorch model\n",
    "    \n",
    "    Parameters\n",
    "    --------------------\n",
    "    attk: type of foolbox attack\n",
    "    model: foolbox Pytorch model\n",
    "    image: the images used for the attack, either as ep.tensor or torch.tensor\n",
    "            size:(no_of_samples x dims)\n",
    "    labels: corresponding labels for the images, either as ep.tensor or torch.tensor\n",
    "            size:(no_of_samples \n",
    "    epsilon: the pertubation\n",
    "    \n",
    "    Return\n",
    "    -------------\n",
    "    clip_adv: list, the actual adversarial examples generated for the given model\n",
    "                size: similar to the input images\n",
    "    adv_ : boolean list, indicating whether a given image is adversarial example or not,\n",
    "            True - adversarial sample\n",
    "            False - not an adversarial sample\n",
    "    \"\"\"\n",
    "    raw_adv, clip_adv, adv_ = attk(model, images, labels, epsilons=epsilon)\n",
    "    \n",
    "    return clip_adv, adv_\n"
   ]
  },
  {
   "cell_type": "markdown",
   "metadata": {},
   "source": [
    "## Attack the model using 20 epsilon & ```FGSM attack```"
   ]
  },
  {
   "cell_type": "code",
   "execution_count": 18,
   "metadata": {},
   "outputs": [],
   "source": [
    "adv_images, adv_info = model_attack(attack2, original_model, images[:20000,:,:,:], labels[:20000], epsilon)"
   ]
  },
  {
   "cell_type": "markdown",
   "metadata": {},
   "source": [
    "#### Plot the results"
   ]
  },
  {
   "cell_type": "code",
   "execution_count": 19,
   "metadata": {},
   "outputs": [
    {
     "data": {
      "text/plain": [
       "Text(0.5, 1.0, 'The NewNet Model with FGSM attack')"
      ]
     },
     "execution_count": 19,
     "metadata": {},
     "output_type": "execute_result"
    },
    {
     "data": {
      "image/png": "[encoded data removed]",
      "text/plain": [
       "<Figure size 432x288 with 1 Axes>"
      ]
     },
     "metadata": {
      "needs_background": "light"
     },
     "output_type": "display_data"
    }
   ],
   "source": [
    "import matplotlib.pyplot as plt\n",
    "fig, ax = plt.subplots()\n",
    "robust_accuracy = []\n",
    "for i in range(20):\n",
    "    acc = 1 - adv_info[i, :].raw.cpu().numpy().astype(np.float32).mean(axis=-1)\n",
    "    robust_accuracy.append(acc)\n",
    "ax.plot(epsilon, robust_accuracy)\n",
    "ax.set_xlabel(\"Epsilons\")\n",
    "ax.set_ylabel(\"Accuracy\")\n",
    "ax.set_title(\"The NewNet Model with FGSM attack\")"
   ]
  },
  {
   "cell_type": "markdown",
   "metadata": {},
   "source": [
    "### Metrics"
   ]
  },
  {
   "cell_type": "code",
   "execution_count": 20,
   "metadata": {},
   "outputs": [],
   "source": [
    "from n2gem.metrics import gem_build_coverage, gem_build_density"
   ]
  },
  {
   "cell_type": "code",
   "execution_count": 32,
   "metadata": {},
   "outputs": [],
   "source": [
    "def model_metrics(adv_imgs, real_imgs, epi_len):\n",
    "    \"\"\"\n",
    "    Function to compute density & coverage for the between the \n",
    "    real & adversarial samples\n",
    "    \n",
    "    Parameters\n",
    "    ---------------\n",
    "    adv_imgs: ep.tensor, the generated adversarial samples, size: no_of_images x image_dims\n",
    "    real_imgs: torch.tensor, size: no_of_images x dims\n",
    "    epi_len: integer, the length or number of epsilons used for the attack\n",
    "    \"\"\"\n",
    "    density = []\n",
    "    coverage = []\n",
    "    \n",
    "    for i in range(epi_len):\n",
    "        # generated adversarial for each epsilon(convert from eagerpy --> torch and reshape)\n",
    "        gen = adv_imgs[i].raw.view(adv_imgs[i].shape[0], -1)\n",
    "\n",
    "        # density\n",
    "        density.append(gem_build_density(real_imgs, real_imgs.shape[0], gen, 'indexflatl2'))\n",
    "\n",
    "        # coverage\n",
    "        coverage.append(gem_build_coverage(real_imgs, real_imgs.shape[0], gen, 'indexflatl2'))\n",
    "    \n",
    "    return density, coverage"
   ]
  },
  {
   "cell_type": "markdown",
   "metadata": {},
   "source": [
    "### - density & coverage for\n",
    "\n",
    "#### --> model_dataset & adversarial samples "
   ]
  },
  {
   "cell_type": "code",
   "execution_count": 22,
   "metadata": {},
   "outputs": [],
   "source": [
    "# resize the real images\n",
    "real = model_images.view(model_images.shape[0], -1)[:20000, :]\n",
    "\n",
    "# 20 values of epsilons were considered\n",
    "# find the density & coverage for each vgalue of epsilons\n",
    "density = []\n",
    "coverage = []\n",
    "for i in range(len(epsilon)):\n",
    "    \n",
    "    # generated adversarial for each epsilon(convert from eagerpy --> torch and reshape)\n",
    "    gen = adv_images[i].raw.view(adv_images[i].shape[0], -1)\n",
    "    \n",
    "    # density\n",
    "    density.append(gem_build_density(real, real.shape[0], gen, 'indexflatl2'))\n",
    "    \n",
    "    # coverage\n",
    "    coverage.append(gem_build_coverage(real, real.shape[0], gen, 'indexflatl2'))"
   ]
  },
  {
   "cell_type": "markdown",
   "metadata": {},
   "source": [
    "#### --> model_dataset & validation set"
   ]
  },
  {
   "cell_type": "code",
   "execution_count": 26,
   "metadata": {},
   "outputs": [],
   "source": [
    "# images from the validation set\n",
    "gen_validate = torch.from_numpy(np.array(X_validation).reshape(len(X_validation), -1))\n",
    "gen_labels = torch.from_numpy(np.array(y_validation))\n",
    "density_validate = gem_build_density(real, real.shape[0], gen_validate, 'indexflatl2')\n",
    "coverage_validate = gem_build_coverage(real, real.shape[0], gen_validate, 'indexflatl2')"
   ]
  },
  {
   "cell_type": "markdown",
   "metadata": {},
   "source": [
    "#### Attack the model using validation dataset"
   ]
  },
  {
   "cell_type": "code",
   "execution_count": 28,
   "metadata": {},
   "outputs": [],
   "source": [
    "adv_vali, adv_info_vali = model_attack(attack2, original_model, gen_validate, gen_labels, epsilon)"
   ]
  },
  {
   "cell_type": "markdown",
   "metadata": {},
   "source": [
    "#### --> model_dataset and validation adversarial samples"
   ]
  },
  {
   "cell_type": "code",
   "execution_count": 30,
   "metadata": {},
   "outputs": [],
   "source": [
    "vali_den = []\n",
    "vali_cov = []\n",
    "for i in range(len(epsilon)):\n",
    "    \n",
    "    # generated adversarial for each epsilon(convert from eagerpy --> torch and reshape)\n",
    "    gen = adv_vali[i].raw.view(adv_images[i].shape[0], -1)\n",
    "    \n",
    "    # density\n",
    "    vali_den.append(gem_build_density(real, real.shape[0], gen, 'indexflatl2'))\n",
    "    \n",
    "    # coverage\n",
    "    vali_cov.append(gem_build_coverage(real, real.shape[0], gen, 'indexflatl2'))"
   ]
  },
  {
   "cell_type": "code",
   "execution_count": 33,
   "metadata": {},
   "outputs": [
    {
     "name": "stdout",
     "output_type": "stream",
     "text": [
      "Density\n",
      "Model_dataset & validation set: density: 1.0106667280197144\n",
      "Epsilon: 0.00000, Accuracy: 0.99%, Model_adv_density: 1.03955, Vali_adv_density: 1.03955\n",
      "Epsilon: 0.05263, Accuracy: 0.99%, Model_adv_density: 1.26336, Vali_adv_density: 1.26336\n",
      "Epsilon: 0.10526, Accuracy: 0.99%, Model_adv_density: 1.37134, Vali_adv_density: 1.37134\n",
      "Epsilon: 0.15789, Accuracy: 0.99%, Model_adv_density: 1.37555, Vali_adv_density: 1.37555\n",
      "Epsilon: 0.21053, Accuracy: 0.99%, Model_adv_density: 1.28116, Vali_adv_density: 1.28116\n",
      "Epsilon: 0.26316, Accuracy: 0.99%, Model_adv_density: 1.09334, Vali_adv_density: 1.09334\n",
      "Epsilon: 0.31579, Accuracy: 0.99%, Model_adv_density: 0.85064, Vali_adv_density: 0.85064\n",
      "Epsilon: 0.36842, Accuracy: 0.99%, Model_adv_density: 0.60406, Vali_adv_density: 0.60406\n",
      "Epsilon: 0.42105, Accuracy: 0.99%, Model_adv_density: 0.39341, Vali_adv_density: 0.39341\n",
      "Epsilon: 0.47368, Accuracy: 0.98%, Model_adv_density: 0.34184, Vali_adv_density: 0.34184\n",
      "Epsilon: 0.52632, Accuracy: 0.98%, Model_adv_density: 0.29307, Vali_adv_density: 0.29307\n",
      "Epsilon: 0.57895, Accuracy: 0.96%, Model_adv_density: 0.24165, Vali_adv_density: 0.24165\n",
      "Epsilon: 0.63158, Accuracy: 0.95%, Model_adv_density: 0.19316, Vali_adv_density: 0.19316\n",
      "Epsilon: 0.68421, Accuracy: 0.93%, Model_adv_density: 0.14921, Vali_adv_density: 0.14921\n",
      "Epsilon: 0.73684, Accuracy: 0.90%, Model_adv_density: 0.11126, Vali_adv_density: 0.11126\n",
      "Epsilon: 0.78947, Accuracy: 0.87%, Model_adv_density: 0.07967, Vali_adv_density: 0.07967\n",
      "Epsilon: 0.84211, Accuracy: 0.82%, Model_adv_density: 0.05493, Vali_adv_density: 0.05493\n",
      "Epsilon: 0.89474, Accuracy: 0.75%, Model_adv_density: 0.03647, Vali_adv_density: 0.03647\n",
      "Epsilon: 0.94737, Accuracy: 0.67%, Model_adv_density: 0.02295, Vali_adv_density: 0.02295\n",
      "Epsilon: 1.00000, Accuracy: 0.56%, Model_adv_density: 0.01370, Vali_adv_density: 0.01370\n"
     ]
    }
   ],
   "source": [
    "print(\"Density\")\n",
    "print(f\"Model_dataset & validation set: density: {density_validate}\")\n",
    "#print(f\"Model_dataset & adversarial samples\")\n",
    "for i in range(len(epsilon)):\n",
    "    print(\"Epsilon: {:.5f}, Accuracy: {:.2f}%, Model_adv_density: {:.5f}, Vali_adv_density: {:.5f}\".format(epsilon[i], robust_accuracy[i], density[i], vali_den[i]))"
   ]
  },
  {
   "cell_type": "code",
   "execution_count": 35,
   "metadata": {},
   "outputs": [
    {
     "data": {
      "text/plain": [
       "Text(0.5, 1.0, 'The NewNet Model with FGSM attack')"
      ]
     },
     "execution_count": 35,
     "metadata": {},
     "output_type": "execute_result"
    },
    {
     "data": {
      "image/png": "[encoded data removed]",
      "text/plain": [
       "<Figure size 432x288 with 1 Axes>"
      ]
     },
     "metadata": {
      "needs_background": "light"
     },
     "output_type": "display_data"
    }
   ],
   "source": [
    "fig, ax = plt.subplots()\n",
    "ax.plot(epsilon, density)\n",
    "ax.set_xlabel(\"Epsilons\")\n",
    "ax.set_ylabel(\"Accuracy\")\n",
    "ax.set_title(\"The NewNet Model with FGSM attack\")"
   ]
  },
  {
   "cell_type": "code",
   "execution_count": 34,
   "metadata": {},
   "outputs": [
    {
     "name": "stdout",
     "output_type": "stream",
     "text": [
      "Coverage\n",
      "Model_dataset & validation set: coverage: 0.39364999532699585\n",
      "Model_dataset & adversarial samples\n",
      "Epsilon: 0.00000, Accuracy: 0.99%, Model_adv_coverage: 1.00000, Vali_adv_coverage: 1.00000\n",
      "Epsilon: 0.05263, Accuracy: 0.99%, Model_adv_coverage: 1.00000, Vali_adv_coverage: 1.00000\n",
      "Epsilon: 0.10526, Accuracy: 0.99%, Model_adv_coverage: 1.00000, Vali_adv_coverage: 1.00000\n",
      "Epsilon: 0.15789, Accuracy: 0.99%, Model_adv_coverage: 1.00000, Vali_adv_coverage: 1.00000\n",
      "Epsilon: 0.21053, Accuracy: 0.99%, Model_adv_coverage: 0.98890, Vali_adv_coverage: 0.98890\n",
      "Epsilon: 0.26316, Accuracy: 0.99%, Model_adv_coverage: 0.94545, Vali_adv_coverage: 0.94545\n",
      "Epsilon: 0.31579, Accuracy: 0.99%, Model_adv_coverage: 0.91480, Vali_adv_coverage: 0.91480\n",
      "Epsilon: 0.36842, Accuracy: 0.99%, Model_adv_coverage: 0.89925, Vali_adv_coverage: 0.89925\n",
      "Epsilon: 0.42105, Accuracy: 0.99%, Model_adv_coverage: 0.88475, Vali_adv_coverage: 0.88475\n",
      "Epsilon: 0.47368, Accuracy: 0.98%, Model_adv_coverage: 0.87070, Vali_adv_coverage: 0.87070\n",
      "Epsilon: 0.52632, Accuracy: 0.98%, Model_adv_coverage: 0.84605, Vali_adv_coverage: 0.84605\n",
      "Epsilon: 0.57895, Accuracy: 0.96%, Model_adv_coverage: 0.80670, Vali_adv_coverage: 0.80670\n",
      "Epsilon: 0.63158, Accuracy: 0.95%, Model_adv_coverage: 0.75310, Vali_adv_coverage: 0.75310\n",
      "Epsilon: 0.68421, Accuracy: 0.93%, Model_adv_coverage: 0.68430, Vali_adv_coverage: 0.68430\n",
      "Epsilon: 0.73684, Accuracy: 0.90%, Model_adv_coverage: 0.60180, Vali_adv_coverage: 0.60180\n",
      "Epsilon: 0.78947, Accuracy: 0.87%, Model_adv_coverage: 0.50785, Vali_adv_coverage: 0.50785\n",
      "Epsilon: 0.84211, Accuracy: 0.82%, Model_adv_coverage: 0.40915, Vali_adv_coverage: 0.40915\n",
      "Epsilon: 0.89474, Accuracy: 0.75%, Model_adv_coverage: 0.31110, Vali_adv_coverage: 0.31110\n",
      "Epsilon: 0.94737, Accuracy: 0.67%, Model_adv_coverage: 0.22200, Vali_adv_coverage: 0.22200\n",
      "Epsilon: 1.00000, Accuracy: 0.56%, Model_adv_coverage: 0.15135, Vali_adv_coverage: 0.15135\n"
     ]
    }
   ],
   "source": [
    "print(\"Coverage\")\n",
    "print(f\"Model_dataset & validation set: coverage: {coverage_validate}\")\n",
    "print(f\"Model_dataset & adversarial samples\")\n",
    "for i in range(len(epsilon)):\n",
    "    print(\"Epsilon: {:.5f}, Accuracy: {:.2f}%, Model_adv_coverage: {:.5f}, Vali_adv_coverage: {:.5f}\".format(epsilon[i], robust_accuracy[i], coverage[i], vali_cov[i]))"
   ]
  },
  {
   "cell_type": "markdown",
   "metadata": {},
   "source": [
    "## Attack the model using 20 epsilon & ```Boundary attack```"
   ]
  },
  {
   "cell_type": "markdown",
   "metadata": {},
   "source": [
    "#### Attack the model using ```model_dataset```"
   ]
  },
  {
   "cell_type": "code",
   "execution_count": 42,
   "metadata": {},
   "outputs": [],
   "source": [
    "#adv_bdy_images, adv_bdy_info = model_attack(attack1, original_model, images[:10,:,:,:], labels[:10], 0.4)"
   ]
  },
  {
   "cell_type": "markdown",
   "metadata": {},
   "source": [
    "Plot the results"
   ]
  },
  {
   "cell_type": "code",
   "execution_count": null,
   "metadata": {},
   "outputs": [],
   "source": [
    "fig, ax = plt.subplots()\n",
    "robust_accuracy = []\n",
    "for i in range(20):\n",
    "    acc = 1 - adv_info[i, :].raw.cpu().numpy().astype(np.float32).mean(axis=-1)\n",
    "    robust_accuracy.append(acc)\n",
    "ax.plot(epsilon, robust_accuracy)\n",
    "ax.set_xlabel(\"Epsilons\")\n",
    "ax.set_ylabel(\"Accuracy\")\n",
    "ax.set_title(\"The NewNet Model with Boundary attack\")"
   ]
  },
  {
   "cell_type": "code",
   "execution_count": null,
   "metadata": {},
   "outputs": [],
   "source": [
    "Form the images & labels from the validation set"
   ]
  },
  {
   "cell_type": "code",
   "execution_count": 179,
   "metadata": {},
   "outputs": [],
   "source": [
    "images = []; labels=[]\n",
    "for i in range(len(validation_set)):\n",
    "    x, y = validation_set[i]\n",
    "    images.append(x); labels.append(y)\n",
    "#images = torch.stack(images).to(device)\n",
    "#print(images.is_cuda())\n",
    "torch.save(torch.stack(images).view(len(validation_set), -1), 'real_vali_images.pt')"
   ]
  },
  {
   "cell_type": "code",
   "execution_count": 165,
   "metadata": {},
   "outputs": [
    {
     "data": {
      "text/plain": [
       "(torch.Size([2100, 1, 28, 28]), torch.Size([2100]))"
      ]
     },
     "execution_count": 165,
     "metadata": {},
     "output_type": "execute_result"
    }
   ],
   "source": [
    "# move tensors to the device and convert to ep tensors\n",
    "images = ep.astensor(torch.stack(images).to(device))\n",
    "labels = ep.astensor(torch.stack(labels).to(device))\n",
    "images.shape, labels.shape"
   ]
  },
  {
   "cell_type": "code",
   "execution_count": 146,
   "metadata": {},
   "outputs": [
    {
     "data": {
      "text/plain": [
       "(torch.Size([1024, 1, 28, 28]), torch.Size([1024]))"
      ]
     },
     "execution_count": 146,
     "metadata": {},
     "output_type": "execute_result"
    }
   ],
   "source": [
    "#image, label = ep.astensors(*samples(fmodel_1, dataset='mnist', batchsize=1024))\n",
    "#image.shape, label.shape"
   ]
  },
  {
   "cell_type": "markdown",
   "metadata": {},
   "source": [
    "Save the real images to file: real_images.pt"
   ]
  },
  {
   "cell_type": "code",
   "execution_count": 55,
   "metadata": {},
   "outputs": [],
   "source": [
    "torch.save(image.raw.view(image.shape[0], -1), \"real_images.pt\")"
   ]
  },
  {
   "cell_type": "markdown",
   "metadata": {},
   "source": [
    "## Attack the model with the choice of an attack"
   ]
  },
  {
   "cell_type": "code",
   "execution_count": 169,
   "metadata": {},
   "outputs": [],
   "source": [
    "raw_adv, clip_adv, adv_ = attack0(fmodel_1, images, labels, epsilons=epsilon)"
   ]
  },
  {
   "cell_type": "code",
   "execution_count": 33,
   "metadata": {},
   "outputs": [],
   "source": [
    "torch_arr = []\n",
    "for i in range(len(clip_adv)):\n",
    "    torch_arr.append(clip_adv[i].raw.view(clip_adv[i].shape[0], -1))\n",
    "torch_arr = np.array(torch_arr)\n",
    "np.save(\"adv_samples_new.npy\", torch_arr)"
   ]
  },
  {
   "cell_type": "code",
   "execution_count": 174,
   "metadata": {},
   "outputs": [
    {
     "data": {
      "image/png": "[encoded data removed]",
      "text/plain": [
       "<Figure size 432x288 with 1 Axes>"
      ]
     },
     "metadata": {
      "needs_background": "light"
     },
     "output_type": "display_data"
    }
   ],
   "source": [
    "import matplotlib.pyplot as plt\n",
    "fig, ax = plt.subplots()\n",
    "for i in range(100):\n",
    "    robust_accuracy = 1 - adv_[i, :].raw.cpu().numpy().astype(np.float32).mean(axis=-1)\n",
    "    ax.plot(epsilon[i], robust_accuracy, 'r*')\n",
    "    ax.set_xlabel(\"Epsilons\")\n",
    "    ax.set_ylabel(\"Accuracy\")\n",
    "    ax.set_title(\"The NewNet Model with FGSM attack\")\n",
    "    #ax.legend()\n"
   ]
  },
  {
   "cell_type": "markdown",
   "metadata": {},
   "source": [
    "Plot the results:"
   ]
  },
  {
   "cell_type": "code",
   "execution_count": 115,
   "metadata": {},
   "outputs": [],
   "source": [
    "#import matplotlib.pyplot as plt\n",
    "#fig, ax = plt.subplots()\n",
    "#for success, labels in zip(succes_rates_1, batches):\n",
    "#    robust_accuracy = 1 - success.cpu().numpy().astype(np.float32).mean(axis=-1)\n",
    "#    ax.plot(epsilon, robust_accuracy, label=labels)\n",
    "#    ax.set_xlabel(\"Epsilons\")\n",
    "#    ax.set_ylabel(\"Accuracy\")\n",
    "#    ax.set_title(\"The CNet Model with FGSM attack\")\n",
    "#    ax.legend()\n",
    "#plt.savefig(\"CNet_FGSM_attack.png\")"
   ]
  },
  {
   "cell_type": "code",
   "execution_count": 29,
   "metadata": {},
   "outputs": [],
   "source": [
    "succes_rates_1 = []\n",
    "succes_rates_2 = []\n",
    "\n",
    "for attacking in attack:\n",
    "    raw, clipped, is_adv_1 = attacking(fmodel_1, images_1, labels_1, epsilons=epsilon)\n",
    "    raw1, clipped1, is_adv_2 = attacking(fmodel_2, images_2, labels_2, epsilons=epsilon)\n",
    "    succes_rates_1.append(is_adv_1)\n",
    "    succes_rates_2.append(is_adv_2)\n"
   ]
  },
  {
   "cell_type": "code",
   "execution_count": 116,
   "metadata": {},
   "outputs": [],
   "source": [
    "#import matplotlib.pyplot as plt\n",
    "#fig, ax = plt.subplots()\n",
    "#label = ['LinfPGD', 'Boundary_Attack', 'FGSM']\n",
    "#for success, labels in zip(succes_rates_1, label):\n",
    "#    robust_accuracy = 1 - success.cpu().numpy().astype(np.float32).mean(axis=-1)\n",
    "#    ax.plot(epsilon, robust_accuracy, label=labels)\n",
    "#    ax.set_xlabel(\"Epsilons\")\n",
    "#    ax.set_ylabel(\"Accuracy\")\n",
    "#    ax.set_title(\"The NewNet Model\")\n",
    "#    ax.legend()   "
   ]
  },
  {
   "cell_type": "code",
   "execution_count": 31,
   "metadata": {},
   "outputs": [
    {
     "data": {
      "image/png": "[encoded data removed]",
      "text/plain": [
       "<Figure size 432x288 with 1 Axes>"
      ]
     },
     "metadata": {
      "needs_background": "light"
     },
     "output_type": "display_data"
    }
   ],
   "source": [
    "for success, labels in zip(succes_rates_2, label):\n",
    "    robust_accuracy = 1 - success.cpu().numpy().astype(np.float32).mean(axis=-1)\n",
    "    plt.plot(epsilon, robust_accuracy, label=labels)\n",
    "    plt.xlabel(\"Epsilons\")\n",
    "    plt.ylabel(\"Accuracy\")\n",
    "    plt.title(\"The CNet Model\")\n",
    "    plt.legend()   \n",
    "plt.show()"
   ]
  },
  {
   "cell_type": "markdown",
   "metadata": {},
   "source": [
    "## Analysis on NewNet model after attack\n",
    "- adv_samples.npy - the adversarial samples for epsilons ranging from 0 - 1 , 100 values\n",
    "- real_images.pt - the real images as torch tensors"
   ]
  },
  {
   "cell_type": "code",
   "execution_count": 56,
   "metadata": {},
   "outputs": [],
   "source": [
    "gen = np.load(\"adv_samples_new.npy\", allow_pickle=True)\n",
    "real = torch.load(\"real_images.pt\", map_location='cpu')"
   ]
  },
  {
   "cell_type": "markdown",
   "metadata": {},
   "source": [
    "Plot a real & adversarial sample"
   ]
  },
  {
   "cell_type": "code",
   "execution_count": 109,
   "metadata": {},
   "outputs": [
    {
     "data": {
      "text/plain": [
       "<matplotlib.image.AxesImage at 0x2aabd70bb7c0>"
      ]
     },
     "execution_count": 109,
     "metadata": {},
     "output_type": "execute_result"
    },
    {
     "data": {
      "image/png": "[encoded data removed]",
      "text/plain": [
       "<Figure size 432x288 with 1 Axes>"
      ]
     },
     "metadata": {
      "needs_background": "light"
     },
     "output_type": "display_data"
    }
   ],
   "source": [
    "plt.imshow(real.numpy().reshape(real.shape[0], 28, 28)[798,:,:])"
   ]
  },
  {
   "cell_type": "code",
   "execution_count": 111,
   "metadata": {},
   "outputs": [
    {
     "data": {
      "text/plain": [
       "<matplotlib.image.AxesImage at 0x2aabd6d6f580>"
      ]
     },
     "execution_count": 111,
     "metadata": {},
     "output_type": "execute_result"
    },
    {
     "data": {
      "image/png": "[encoded data removed]",
      "text/plain": [
       "<Figure size 432x288 with 1 Axes>"
      ]
     },
     "metadata": {
      "needs_background": "light"
     },
     "output_type": "display_data"
    }
   ],
   "source": [
    "plt.imshow(gen[34].cpu().numpy().reshape(real.shape[0], 28, 28)[798,:,:])"
   ]
  },
  {
   "cell_type": "code",
   "execution_count": 114,
   "metadata": {},
   "outputs": [
    {
     "name": "stdout",
     "output_type": "stream",
     "text": [
      "PyTorchTensor(tensor(True, device='cuda:0'))\n",
      "epsilon value:  0.3434343434343435\n"
     ]
    }
   ],
   "source": [
    "#np.where(adv_.raw.cpu().numpy()[65, :]==True)[0]\n",
    "print(adv_[34, 798])\n",
    "print(\"epsilon value: \",epsilon[34])"
   ]
  },
  {
   "cell_type": "markdown",
   "metadata": {},
   "source": [
    "- Check the density & coverage between the adv samples and real samples"
   ]
  },
  {
   "cell_type": "code",
   "execution_count": 57,
   "metadata": {},
   "outputs": [],
   "source": [
    "from n2gem import metrics"
   ]
  },
  {
   "cell_type": "code",
   "execution_count": 58,
   "metadata": {},
   "outputs": [
    {
     "name": "stdout",
     "output_type": "stream",
     "text": [
      "The tree is created on the dataset of shape torch.Size([1024, 784]) using cuda\n",
      "Creating the tree by indexflatl2 took 0.00125 sec\n",
      "The tree is created on the dataset of shape torch.Size([1024, 784]) using cuda\n",
      "Creating the tree by indexflatl2 took 0.00124 sec\n",
      "The tree is created on the dataset of shape torch.Size([1024, 784]) using cuda\n",
      "Creating the tree by indexflatl2 took 0.00130 sec\n",
      "[tensor(5.1136), tensor(0.5413), tensor(0.)]\n"
     ]
    }
   ],
   "source": [
    "den = []\n",
    "for i in range(3):\n",
    "    density_value = metrics.gem_build_density(real, real.shape[0], gen[i].cpu(), 'indexflatl2', nk=3)\n",
    "    den.append(density_value)\n",
    "#coverage_value = metrics.gem_build_coverage(real, real.shape[0], gen[i].cpu(), 'indexflatl2', nk=3)\n",
    "print(den)"
   ]
  },
  {
   "cell_type": "code",
   "execution_count": 59,
   "metadata": {},
   "outputs": [],
   "source": [
    "from sklearn.manifold import TSNE"
   ]
  },
  {
   "cell_type": "code",
   "execution_count": 60,
   "metadata": {},
   "outputs": [],
   "source": [
    "x1 = real.cpu().numpy()\n",
    "x2 = gen[0].cpu().numpy()"
   ]
  },
  {
   "cell_type": "code",
   "execution_count": 65,
   "metadata": {},
   "outputs": [],
   "source": [
    "x1 = (x1 - np.min(x1))/(np.max(x1) - np.min(x1))"
   ]
  },
  {
   "cell_type": "code",
   "execution_count": 66,
   "metadata": {},
   "outputs": [],
   "source": [
    "real_x = TSNE(n_components=2).fit_transform(x1)\n",
    "gen_x = TSNE(n_components=2).fit_transform(x2)"
   ]
  }
 ],
 "metadata": {
  "kernelspec": {
   "display_name": "conda-n2gem",
   "language": "python",
   "name": "n2gem"
  },
  "language_info": {
   "codemirror_mode": {
    "name": "ipython",
    "version": 3
   },
   "file_extension": ".py",
   "mimetype": "text/x-python",
   "name": "python",
   "nbconvert_exporter": "python",
   "pygments_lexer": "ipython3",
   "version": "3.8.5"
  }
 },
 "nbformat": 4,
 "nbformat_minor": 4
}
