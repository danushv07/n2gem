{
 "cells": [
  {
   "cell_type": "markdown",
   "metadata": {},
   "source": [
    "# Adversarial Attack \n",
    "\n",
    "- develop a model for mnist dataset using fastai\n",
    "- attack the model using foolbox (black box attack)\n",
    "- check the density & coverage metrics"
   ]
  },
  {
   "cell_type": "code",
   "execution_count": 1,
   "metadata": {},
   "outputs": [],
   "source": [
    "# dependencies\n",
    "import os \n",
    "os.environ[\"GIT_PYTHON_REFRESH\"] = \"quiet\" \n",
    "#!module load git\n",
    "import foolbox as fb\n",
    "import torch\n",
    "import eagerpy as ep\n",
    "from foolbox import PyTorchModel, accuracy, samples\n",
    "import numpy as np\n",
    "from n2gem.metrics import gem_build_coverage, gem_build_density\n",
    "from sklearn.model_selection import train_test_split\n",
    "import matplotlib.pyplot as plt"
   ]
  },
  {
   "cell_type": "code",
   "execution_count": 2,
   "metadata": {},
   "outputs": [],
   "source": [
    "import torchvision\n",
    "from fastai.vision.all import *\n",
    "from fastai.vision import *"
   ]
  },
  {
   "cell_type": "code",
   "execution_count": 3,
   "metadata": {},
   "outputs": [],
   "source": [
    "import medmnist\n",
    "from medmnist import INFO, Evaluator"
   ]
  },
  {
   "cell_type": "markdown",
   "metadata": {},
   "source": [
    "Fix the seed generator"
   ]
  },
  {
   "cell_type": "code",
   "execution_count": 4,
   "metadata": {},
   "outputs": [],
   "source": [
    "torch.manual_seed(42) \n",
    "if torch.cuda.is_available():\n",
    "    torch.cuda.manual_seed_all(42)\n",
    "np.random.seed(42)"
   ]
  },
  {
   "cell_type": "code",
   "execution_count": 5,
   "metadata": {},
   "outputs": [
    {
     "name": "stdout",
     "output_type": "stream",
     "text": [
      "cuda\n",
      "0\n"
     ]
    },
    {
     "data": {
      "text/plain": [
       "1"
      ]
     },
     "execution_count": 5,
     "metadata": {},
     "output_type": "execute_result"
    }
   ],
   "source": [
    "device = 'cuda' if torch.cuda.is_available() else 'cpu'\n",
    "print(device); print(torch.cuda.memory_allocated())\n",
    "torch.cuda.device_count()"
   ]
  },
  {
   "cell_type": "markdown",
   "metadata": {},
   "source": [
    "### Import the MNIST dataset "
   ]
  },
  {
   "cell_type": "code",
   "execution_count": 30,
   "metadata": {},
   "outputs": [],
   "source": [
    "def load_mnist():\n",
    "    \"\"\"Function to load the mnist\n",
    "        The following transform is aaplied: Normalize:(0.1307,)(0.3081,)\n",
    "    \n",
    "    \"\"\"\n",
    "    transforms = torchvision.transforms.Compose([\n",
    "        torchvision.transforms.ToTensor()\n",
    "        #torchvision.transforms.Normalize((0.1307,), (0.3081))\n",
    "    ])\n",
    "    train_set = torchvision.datasets.MNIST('./files/', train=True, download=True, transform=transforms)\n",
    "    test_set = torchvision.datasets.MNIST('./files/', train=False, download=True, transform=transforms)\n",
    "    \n",
    "    return train_set, test_set\n",
    "\n",
    "train_set, test_set = load_mnist()"
   ]
  },
  {
   "cell_type": "markdown",
   "metadata": {},
   "source": [
    "### Import the MEDMNIST dataset "
   ]
  },
  {
   "cell_type": "code",
   "execution_count": 115,
   "metadata": {},
   "outputs": [],
   "source": [
    "#from torch.utils.data import Dataset\n",
    "data_transform = torchvision.transforms.Compose([\n",
    "    #torchvision.transforms.ToPILImage(),\n",
    "    torchvision.transforms.ToTensor(),\n",
    "    torchvision.transforms.Normalize((0.74,0.53,0.71), (0.12,0.18,0.13))\n",
    "    #torchvision.transforms.Normalize((0.5,0.5, 0.5), (0.5,0.5,0.5))\n",
    "])\n",
    "\n",
    "class LoadMed(torch.utils.data.Dataset):\n",
    "    \n",
    "    def __init__(self, imgs, labels, transform):\n",
    "        \n",
    "        self.images = imgs\n",
    "        self.labels = labels\n",
    "        self.transform = transform\n",
    "        \n",
    "    def __len__(self):\n",
    "        return self.images.shape[0]\n",
    "    \n",
    "    def __getitem__(self, idx):\n",
    "        \n",
    "        img, target = self.images[idx], self.labels[idx].astype(int)\n",
    "        img = Image.fromarray(img)\n",
    "\n",
    "        if self.transform is not None:\n",
    "            img = self.transform(img)\n",
    "\n",
    "        return img, target\n",
    "        \n",
    "        \n",
    "\n",
    "npz_file = np.load('/home/venkat31/.medmnist/pathmnist.npz')\n",
    "\n",
    "train_imgs = npz_file['train_images']\n",
    "test_imgs = npz_file['test_images']\n",
    "val_imgs = npz_file['val_images']\n",
    "\n",
    "train_labels = npz_file['train_labels']\n",
    "test_labels = npz_file['test_labels']\n",
    "val_labels = npz_file['val_labels']"
   ]
  },
  {
   "cell_type": "code",
   "execution_count": 116,
   "metadata": {},
   "outputs": [],
   "source": [
    "arr_X_dataset = np.concatenate([train_imgs, test_imgs, val_imgs])\n",
    "arr_Y_dataset = np.concatenate([train_labels, test_labels, val_labels])"
   ]
  },
  {
   "cell_type": "code",
   "execution_count": 117,
   "metadata": {},
   "outputs": [],
   "source": [
    "dataset = LoadMed(arr_X_dataset, arr_Y_dataset, data_transform)"
   ]
  },
  {
   "cell_type": "markdown",
   "metadata": {},
   "source": [
    "-------------------------------------------------------------------------------------------------------\n",
    "-------------------------------------------------------------------------------------------------------"
   ]
  },
  {
   "cell_type": "markdown",
   "metadata": {},
   "source": [
    "### Combine the datasets and stratify split \n",
    "- Combine train and test\n",
    "- form the model_dataset[training+ test] and validation set\n",
    "- obtain training & test set to train on the model from model_dataset"
   ]
  },
  {
   "cell_type": "code",
   "execution_count": 31,
   "metadata": {},
   "outputs": [
    {
     "name": "stdout",
     "output_type": "stream",
     "text": [
      "X_validation_set size:  (2100, 1, 28, 28)\n",
      "Y_validation_set size:  2100\n",
      "X_train_set size:  (54320, 1, 28, 28)\n",
      "Y_train_set size:  54320\n",
      "X_test_set size:  (13580, 1, 28, 28)\n",
      "Y_test_set size:  13580\n"
     ]
    }
   ],
   "source": [
    "from torch.utils.data import ConcatDataset\n",
    "from sklearn.model_selection import train_test_split\n",
    "\n",
    "def create_dataset(dataset, vali_split, test_split, train_set=None, test_set=None):\n",
    "    \"\"\"Function to split the dataset and form the training, test and validation datasets\n",
    "        \n",
    "        Parameters\n",
    "        ----------------------\n",
    "        train_set: torch.utils.mnist.dataset\n",
    "        test_set: torch.utils.mnist.dataset\n",
    "        vali_split: the size for the validation set \n",
    "        test_split: the size of the test set\n",
    "        \n",
    "        Return\n",
    "        ----------------------\n",
    "        X_trainset: list, size: train_size, 1, 28, 28\n",
    "        X_testset: list, size: test_size, 1, 28, 28\n",
    "        X_validation: list, size: vali_size, 1, 28, 28\n",
    "        y_trainset: list, size: train_size\n",
    "        y_testset: list, size: test_size\n",
    "        y_valiset: list, size: vali_size\n",
    "        \n",
    "    \"\"\"\n",
    "    # combine the datasets\n",
    "    if not dataset:\n",
    "        dataset = ConcatDataset([train_set, test_set])\n",
    "    \n",
    "    X=[]; Y=[];\n",
    "    for i in range(len(dataset)):\n",
    "        x, y = dataset[i]\n",
    "        X.append(x.numpy())  #.detach().cpu().numpy())\n",
    "        Y.append(y)\n",
    "    \n",
    "    # split the dataset into train and validation set\n",
    "    X_model, X_validation, y_model, y_validation = train_test_split(X, Y, test_size=vali_split, random_state=42, stratify=np.array(Y))\n",
    "\n",
    "    print(\"X_validation_set size: \", np.array(X_validation).shape)\n",
    "    print(\"Y_validation_set size: \", len(y_validation))\n",
    "    \n",
    "    # split the X_model, y_model into training set & test set\n",
    "    X_trainset, X_testset, y_trainset, y_testset = train_test_split(X_model, y_model, test_size=test_split, random_state=42, stratify=np.array(y_model))\n",
    "    print(\"X_train_set size: \", np.array(X_trainset).shape)\n",
    "    print(\"Y_train_set size: \", len(y_trainset))\n",
    "    print(\"X_test_set size: \", np.array(X_testset).shape)\n",
    "    print(\"Y_test_set size: \", len(y_testset))\n",
    "    \n",
    "    #X = np.array(X); Y = np.array(Y)\n",
    "    \n",
    "    return X_trainset, X_testset, X_validation, y_trainset, y_testset, y_validation\n",
    "\n",
    "X_trainset, X_testset, X_validation, y_trainset, y_testset, y_validation = create_dataset(False, 0.03, 0.2, train_set=train_set, test_set=test_set)"
   ]
  },
  {
   "cell_type": "markdown",
   "metadata": {},
   "source": [
    "### Convert the datasets to Torch.TensorDataset"
   ]
  },
  {
   "cell_type": "code",
   "execution_count": 32,
   "metadata": {},
   "outputs": [],
   "source": [
    "def convert_tensor(X_trainset, X_testset, X_validation, y_trainset, y_testset, y_validation):\n",
    "    \"\"\"\n",
    "    Function to convert the split datasets into torch Tensor dataset\n",
    "    \n",
    "    Parameters\n",
    "    ----------------------\n",
    "    X_trainset: list, size: train_size, 1, 28, 28\n",
    "    X_testset: list, size: test_size, 1, 28, 28\n",
    "    X_validation: list, size: vali_size, 1, 28, 28\n",
    "    y_trainset: list, size: train_size\n",
    "    y_testset: list, size: test_size\n",
    "    y_valiset: list, size: vali_size\n",
    "    \n",
    "    Return\n",
    "    -------------------\n",
    "    train_set: TensorDataset, consists of training images and labels\n",
    "    test_set: TensorDataset, consists of test images and labels\n",
    "    validation_set: TensorDataset, consists of validation images and labels\n",
    "    \n",
    "    # for the adversarial attack\n",
    "    model_dataset_images: Tensor, size: (training + test) size, only the images\n",
    "    model_dataset_images: Tensor, size: (training + test) size, only the labels\n",
    "    \"\"\"\n",
    "    X_trainset = torch.Tensor(X_trainset); \n",
    "    y_trainset = torch.Tensor(y_trainset).type(torch.LongTensor).view(-1) #dtype = torch.long);\n",
    "    X_testset = torch.Tensor(X_testset); \n",
    "    y_testset = torch.Tensor(y_testset).type(torch.LongTensor).view(-1);\n",
    "    X_validation = torch.Tensor(X_validation); \n",
    "    y_validation = torch.Tensor(y_validation).type(torch.LongTensor).view(-1)\n",
    "    # y - label should be longTensor for fastai training\n",
    "    \n",
    "    # form model_dataset\n",
    "    model_dataset_images = torch.vstack((X_trainset, X_testset))\n",
    "    model_dataset_labels = torch.cat((y_trainset, y_testset))\n",
    "    \n",
    "    # form the Tensor dataset\n",
    "    train_set = torch.utils.data.TensorDataset(X_trainset, y_trainset)\n",
    "    test_set = torch.utils.data.TensorDataset(X_testset, y_testset)\n",
    "    validation_set = torch.utils.data.TensorDataset(X_validation, y_validation)\n",
    "    \n",
    "    return train_set, test_set, validation_set, model_dataset_images, model_dataset_labels\n",
    "\n",
    "train_set, test_set, validation_set, model_images, model_labels = convert_tensor(X_trainset, X_testset, X_validation, y_trainset, y_testset, y_validation)"
   ]
  },
  {
   "cell_type": "code",
   "execution_count": 150,
   "metadata": {},
   "outputs": [],
   "source": [
    "torch.save(model_images, 'pathmnist_model_images.pt')\n",
    "torch.save(model_labels, 'pathmnist_model_labels.pt')"
   ]
  },
  {
   "cell_type": "code",
   "execution_count": 151,
   "metadata": {},
   "outputs": [],
   "source": [
    "torch.save(X_validation, 'pathmnist_validation_images.pt')\n",
    "torch.save(y_validation, 'pathmnist_validation_labels.pt')"
   ]
  },
  {
   "cell_type": "markdown",
   "metadata": {},
   "source": [
    "### The Dataloader for the CNN models"
   ]
  },
  {
   "cell_type": "code",
   "execution_count": 33,
   "metadata": {},
   "outputs": [],
   "source": [
    "train_loader = torch.utils.data.DataLoader(train_set, batch_size=64, shuffle=True)\n",
    "test_loader = torch.utils.data.DataLoader(test_set, batch_size=128, shuffle=True)"
   ]
  },
  {
   "cell_type": "markdown",
   "metadata": {},
   "source": [
    "### Define the CNN model"
   ]
  },
  {
   "cell_type": "code",
   "execution_count": 48,
   "metadata": {},
   "outputs": [],
   "source": [
    "import torch.nn as nn\n",
    "import torch.nn.functional as F\n",
    "\n",
    "class CNet(nn.Module):\n",
    "    def __init__(self):\n",
    "        super(CNet, self).__init__()\n",
    "        self.conv1 = nn.Conv2d(1, 4, kernel_size=7)\n",
    "        #self.conv2 = nn.Conv2d(16, 32, kernel_size=4)\n",
    "        #self.drop = nn.Dropout(0.5)\n",
    "        self.fc1 = nn.Linear(4*11*11, 128)\n",
    "        #self.fc3 = nn.Linear(512, 32)\n",
    "        self.fc4 = nn.Linear(128, 10)\n",
    "    \n",
    "    def forward(self, x):\n",
    "        x = F.max_pool2d(self.conv1(x), 2)\n",
    "        x = F.relu(x)\n",
    "        #x = self.drop(self.conv2(x))\n",
    "        #x = self.conv2(x)\n",
    "        #x = F.relu(F.max_pool2d(x, 2))\n",
    "        #print(x.shape)\n",
    "        x = x.view(-1, 4*11*11)\n",
    "        x = F.relu(self.fc1(x))\n",
    "        #x = self.drop(x)\n",
    "        #x = F.relu(self.fc3(x))\n",
    "        #x = self.drop(x)\n",
    "        x = self.fc4(x)\n",
    "        output = F.log_softmax(x, dim=1)\n",
    "        return output\n",
    "        "
   ]
  },
  {
   "cell_type": "code",
   "execution_count": 194,
   "metadata": {},
   "outputs": [],
   "source": [
    "import torch.nn as nn\n",
    "# for overfit model: dropout is removed and trained for 50 epochs\n",
    "class NewNet(nn.Module):\n",
    "    def __init__(self):\n",
    "        super(NewNet, self).__init__()\n",
    "        self.conv1 = nn.Sequential(\n",
    "            nn.Conv2d(3, 32, kernel_size=3),\n",
    "            nn.BatchNorm2d(32),\n",
    "            nn.ReLU())\n",
    "\n",
    "        self.conv2 = nn.Sequential(\n",
    "            nn.Conv2d(32, 32, kernel_size=3),\n",
    "            nn.BatchNorm2d(32),\n",
    "            nn.ReLU(),\n",
    "            nn.MaxPool2d(kernel_size=2, stride=2))\n",
    "\n",
    "        self.conv3 = nn.Sequential(\n",
    "            nn.Conv2d(32, 64, kernel_size=3),\n",
    "            nn.BatchNorm2d(64),\n",
    "            nn.ReLU())\n",
    "        \n",
    "        self.conv4 = nn.Sequential(\n",
    "            nn.Conv2d(64, 64, kernel_size=3),\n",
    "            nn.BatchNorm2d(64),\n",
    "            nn.ReLU())\n",
    "\n",
    "        self.conv5 = nn.Sequential(\n",
    "            nn.Conv2d(64, 64, kernel_size=3, padding=1),\n",
    "            nn.BatchNorm2d(64),\n",
    "            nn.ReLU(),\n",
    "            nn.MaxPool2d(kernel_size=2, stride=2))\n",
    "\n",
    "        self.fc = nn.Sequential(\n",
    "            nn.Linear(64 * 4 * 4, 128),\n",
    "            nn.ReLU(),\n",
    "            nn.Linear(128, 64),\n",
    "            nn.ReLU(),\n",
    "            nn.Linear(64, 9))\n",
    "\n",
    "    def forward(self, x):\n",
    "        x = self.conv1(x)\n",
    "        x = self.conv2(x)\n",
    "        x = self.conv3(x)\n",
    "        x = self.conv4(x)\n",
    "        x = self.conv5(x)\n",
    "        x = x.view(x.size(0), -1)\n",
    "        x = self.fc(x)\n",
    "        output = F.log_softmax(x, dim=1)\n",
    "        return output"
   ]
  },
  {
   "cell_type": "markdown",
   "metadata": {},
   "source": [
    "Get the parameteres from the model"
   ]
  },
  {
   "cell_type": "code",
   "execution_count": 195,
   "metadata": {},
   "outputs": [
    {
     "name": "stdout",
     "output_type": "stream",
     "text": [
      "243049\n",
      "243049\n"
     ]
    }
   ],
   "source": [
    "model = NewNet()\n",
    "#model1 = CNet()\n",
    "param = [p for p in list(model.parameters()) if p.requires_grad]\n",
    "uniq = {p.data_ptr(): p for p in list(model.parameters())}.values()\n",
    "print(sum(p.numel() for p in uniq))\n",
    "print(sum(p.numel() for p in model.parameters() if p.requires_grad))\n",
    "#print(sum(p.numel() for p in model1.parameters() if p.requires_grad))"
   ]
  },
  {
   "cell_type": "markdown",
   "metadata": {},
   "source": [
    "### Fastai classifier\n",
    "- Fastai takes the available device by default"
   ]
  },
  {
   "cell_type": "code",
   "execution_count": 202,
   "metadata": {},
   "outputs": [],
   "source": [
    "data = DataLoaders(train_loader, test_loader)\n",
    "path_learn = Learner(data, NewNet(), loss_func=F.nll_loss, opt_func=Adam, metrics=accuracy)\n",
    "#learn = Learner(data, NewNet(), loss_func=F.nll_loss, opt_func=Adam, metrics=accuracy)\n",
    "#learn1 = Learner(data, CNet(), loss_func=F.nll_loss, opt_func=Adam, metrics=accuracy)"
   ]
  },
  {
   "cell_type": "code",
   "execution_count": 203,
   "metadata": {},
   "outputs": [
    {
     "data": {
      "text/html": [
       "<table border=\"1\" class=\"dataframe\">\n",
       "  <thead>\n",
       "    <tr style=\"text-align: left;\">\n",
       "      <th>epoch</th>\n",
       "      <th>train_loss</th>\n",
       "      <th>valid_loss</th>\n",
       "      <th>accuracy</th>\n",
       "      <th>time</th>\n",
       "    </tr>\n",
       "  </thead>\n",
       "  <tbody>\n",
       "    <tr>\n",
       "      <td>0</td>\n",
       "      <td>0.467670</td>\n",
       "      <td>0.800099</td>\n",
       "      <td>0.735576</td>\n",
       "      <td>00:08</td>\n",
       "    </tr>\n",
       "    <tr>\n",
       "      <td>1</td>\n",
       "      <td>0.259533</td>\n",
       "      <td>0.346553</td>\n",
       "      <td>0.881660</td>\n",
       "      <td>00:09</td>\n",
       "    </tr>\n",
       "    <tr>\n",
       "      <td>2</td>\n",
       "      <td>0.158161</td>\n",
       "      <td>0.147844</td>\n",
       "      <td>0.950012</td>\n",
       "      <td>00:09</td>\n",
       "    </tr>\n",
       "  </tbody>\n",
       "</table>"
      ],
      "text/plain": [
       "<IPython.core.display.HTML object>"
      ]
     },
     "metadata": {},
     "output_type": "display_data"
    }
   ],
   "source": [
    "path_learn.fit_one_cycle(3)"
   ]
  },
  {
   "cell_type": "code",
   "execution_count": 204,
   "metadata": {},
   "outputs": [
    {
     "data": {
      "text/html": [],
      "text/plain": [
       "<IPython.core.display.HTML object>"
      ]
     },
     "metadata": {},
     "output_type": "display_data"
    },
    {
     "data": {
      "text/plain": [
       "SuggestedLRs(valley=tensor(0.0003))"
      ]
     },
     "execution_count": 204,
     "metadata": {},
     "output_type": "execute_result"
    },
    {
     "data": {
      "image/png": "[encoded data removed]",
      "text/plain": [
       "<Figure size 432x288 with 1 Axes>"
      ]
     },
     "metadata": {
      "needs_background": "light"
     },
     "output_type": "display_data"
    }
   ],
   "source": [
    "path_learn.unfreeze()\n",
    "path_learn.lr_find()"
   ]
  },
  {
   "cell_type": "code",
   "execution_count": 205,
   "metadata": {},
   "outputs": [
    {
     "data": {
      "text/html": [
       "<table border=\"1\" class=\"dataframe\">\n",
       "  <thead>\n",
       "    <tr style=\"text-align: left;\">\n",
       "      <th>epoch</th>\n",
       "      <th>train_loss</th>\n",
       "      <th>valid_loss</th>\n",
       "      <th>accuracy</th>\n",
       "      <th>time</th>\n",
       "    </tr>\n",
       "  </thead>\n",
       "  <tbody>\n",
       "    <tr>\n",
       "      <td>0</td>\n",
       "      <td>0.156346</td>\n",
       "      <td>0.146273</td>\n",
       "      <td>0.951142</td>\n",
       "      <td>00:08</td>\n",
       "    </tr>\n",
       "    <tr>\n",
       "      <td>1</td>\n",
       "      <td>0.153720</td>\n",
       "      <td>0.142372</td>\n",
       "      <td>0.951780</td>\n",
       "      <td>00:09</td>\n",
       "    </tr>\n",
       "    <tr>\n",
       "      <td>2</td>\n",
       "      <td>0.148023</td>\n",
       "      <td>0.142497</td>\n",
       "      <td>0.951731</td>\n",
       "      <td>00:08</td>\n",
       "    </tr>\n",
       "    <tr>\n",
       "      <td>3</td>\n",
       "      <td>0.125648</td>\n",
       "      <td>0.143216</td>\n",
       "      <td>0.952369</td>\n",
       "      <td>00:09</td>\n",
       "    </tr>\n",
       "    <tr>\n",
       "      <td>4</td>\n",
       "      <td>0.120111</td>\n",
       "      <td>0.128908</td>\n",
       "      <td>0.958704</td>\n",
       "      <td>00:09</td>\n",
       "    </tr>\n",
       "    <tr>\n",
       "      <td>5</td>\n",
       "      <td>0.112172</td>\n",
       "      <td>0.128107</td>\n",
       "      <td>0.957722</td>\n",
       "      <td>00:09</td>\n",
       "    </tr>\n",
       "    <tr>\n",
       "      <td>6</td>\n",
       "      <td>0.100891</td>\n",
       "      <td>0.122415</td>\n",
       "      <td>0.960962</td>\n",
       "      <td>00:09</td>\n",
       "    </tr>\n",
       "    <tr>\n",
       "      <td>7</td>\n",
       "      <td>0.099023</td>\n",
       "      <td>0.121271</td>\n",
       "      <td>0.961208</td>\n",
       "      <td>00:09</td>\n",
       "    </tr>\n",
       "    <tr>\n",
       "      <td>8</td>\n",
       "      <td>0.097881</td>\n",
       "      <td>0.117555</td>\n",
       "      <td>0.962043</td>\n",
       "      <td>00:09</td>\n",
       "    </tr>\n",
       "    <tr>\n",
       "      <td>9</td>\n",
       "      <td>0.087523</td>\n",
       "      <td>0.117352</td>\n",
       "      <td>0.962632</td>\n",
       "      <td>00:09</td>\n",
       "    </tr>\n",
       "  </tbody>\n",
       "</table>"
      ],
      "text/plain": [
       "<IPython.core.display.HTML object>"
      ]
     },
     "metadata": {},
     "output_type": "display_data"
    }
   ],
   "source": [
    "path_learn.fit_one_cycle(10, lr_max=1e-4)"
   ]
  },
  {
   "cell_type": "code",
   "execution_count": 207,
   "metadata": {},
   "outputs": [
    {
     "data": {
      "text/html": [
       "<table border=\"1\" class=\"dataframe\">\n",
       "  <thead>\n",
       "    <tr style=\"text-align: left;\">\n",
       "      <th>epoch</th>\n",
       "      <th>train_loss</th>\n",
       "      <th>valid_loss</th>\n",
       "      <th>accuracy</th>\n",
       "      <th>time</th>\n",
       "    </tr>\n",
       "  </thead>\n",
       "  <tbody>\n",
       "    <tr>\n",
       "      <td>0</td>\n",
       "      <td>0.330774</td>\n",
       "      <td>0.301458</td>\n",
       "      <td>0.898748</td>\n",
       "      <td>00:09</td>\n",
       "    </tr>\n",
       "  </tbody>\n",
       "</table>"
      ],
      "text/plain": [
       "<IPython.core.display.HTML object>"
      ]
     },
     "metadata": {},
     "output_type": "display_data"
    },
    {
     "data": {
      "text/html": [
       "<table border=\"1\" class=\"dataframe\">\n",
       "  <thead>\n",
       "    <tr style=\"text-align: left;\">\n",
       "      <th>epoch</th>\n",
       "      <th>train_loss</th>\n",
       "      <th>valid_loss</th>\n",
       "      <th>accuracy</th>\n",
       "      <th>time</th>\n",
       "    </tr>\n",
       "  </thead>\n",
       "  <tbody>\n",
       "    <tr>\n",
       "      <td>0</td>\n",
       "      <td>0.209868</td>\n",
       "      <td>0.267495</td>\n",
       "      <td>0.909403</td>\n",
       "      <td>00:08</td>\n",
       "    </tr>\n",
       "    <tr>\n",
       "      <td>1</td>\n",
       "      <td>0.201216</td>\n",
       "      <td>0.202667</td>\n",
       "      <td>0.932188</td>\n",
       "      <td>00:09</td>\n",
       "    </tr>\n",
       "    <tr>\n",
       "      <td>2</td>\n",
       "      <td>0.136318</td>\n",
       "      <td>0.153114</td>\n",
       "      <td>0.950012</td>\n",
       "      <td>00:09</td>\n",
       "    </tr>\n",
       "    <tr>\n",
       "      <td>3</td>\n",
       "      <td>0.099699</td>\n",
       "      <td>0.114648</td>\n",
       "      <td>0.961650</td>\n",
       "      <td>00:09</td>\n",
       "    </tr>\n",
       "    <tr>\n",
       "      <td>4</td>\n",
       "      <td>0.068727</td>\n",
       "      <td>0.098741</td>\n",
       "      <td>0.969015</td>\n",
       "      <td>00:09</td>\n",
       "    </tr>\n",
       "  </tbody>\n",
       "</table>"
      ],
      "text/plain": [
       "<IPython.core.display.HTML object>"
      ]
     },
     "metadata": {},
     "output_type": "display_data"
    }
   ],
   "source": [
    "path_learn.fine_tune(5)"
   ]
  },
  {
   "cell_type": "code",
   "execution_count": 208,
   "metadata": {},
   "outputs": [
    {
     "data": {
      "image/png": "[encoded data removed]",
      "text/plain": [
       "<Figure size 432x288 with 1 Axes>"
      ]
     },
     "metadata": {
      "needs_background": "light"
     },
     "output_type": "display_data"
    }
   ],
   "source": [
    "path_learn.recorder.plot_loss()"
   ]
  },
  {
   "cell_type": "markdown",
   "metadata": {},
   "source": [
    "## ResNet models "
   ]
  },
  {
   "cell_type": "code",
   "execution_count": 86,
   "metadata": {},
   "outputs": [],
   "source": [
    "data = DataLoaders(train_loader, test_loader)\n",
    "resmodel = models.resnet34(num_classes=10)\n",
    "resmodel.conv1 = torch.nn.Conv2d(1, 64, kernel_size=7)\n",
    "#model.fc = torch.nn.Linear(512, 10)\n",
    "#print(model)"
   ]
  },
  {
   "cell_type": "code",
   "execution_count": 87,
   "metadata": {},
   "outputs": [
    {
     "name": "stdout",
     "output_type": "stream",
     "text": [
      "21283594\n"
     ]
    }
   ],
   "source": [
    "print(sum(p.numel() for p in resmodel.parameters() if p.requires_grad))"
   ]
  },
  {
   "cell_type": "code",
   "execution_count": 88,
   "metadata": {},
   "outputs": [],
   "source": [
    "# resnet model for training \n",
    "learn = Learner(data, resmodel, loss_func=CrossEntropyLossFlat(), opt_func=Adam, metrics=accuracy)"
   ]
  },
  {
   "cell_type": "code",
   "execution_count": 89,
   "metadata": {},
   "outputs": [
    {
     "data": {
      "text/html": [
       "<table border=\"1\" class=\"dataframe\">\n",
       "  <thead>\n",
       "    <tr style=\"text-align: left;\">\n",
       "      <th>epoch</th>\n",
       "      <th>train_loss</th>\n",
       "      <th>valid_loss</th>\n",
       "      <th>accuracy</th>\n",
       "      <th>time</th>\n",
       "    </tr>\n",
       "  </thead>\n",
       "  <tbody>\n",
       "    <tr>\n",
       "      <td>0</td>\n",
       "      <td>0.140998</td>\n",
       "      <td>0.131412</td>\n",
       "      <td>0.962887</td>\n",
       "      <td>00:18</td>\n",
       "    </tr>\n",
       "    <tr>\n",
       "      <td>1</td>\n",
       "      <td>0.049633</td>\n",
       "      <td>0.111233</td>\n",
       "      <td>0.970250</td>\n",
       "      <td>00:18</td>\n",
       "    </tr>\n",
       "    <tr>\n",
       "      <td>2</td>\n",
       "      <td>0.038401</td>\n",
       "      <td>0.037470</td>\n",
       "      <td>0.989323</td>\n",
       "      <td>00:18</td>\n",
       "    </tr>\n",
       "    <tr>\n",
       "      <td>3</td>\n",
       "      <td>0.016291</td>\n",
       "      <td>0.019641</td>\n",
       "      <td>0.993888</td>\n",
       "      <td>00:18</td>\n",
       "    </tr>\n",
       "    <tr>\n",
       "      <td>4</td>\n",
       "      <td>0.008047</td>\n",
       "      <td>0.016746</td>\n",
       "      <td>0.994845</td>\n",
       "      <td>00:18</td>\n",
       "    </tr>\n",
       "  </tbody>\n",
       "</table>"
      ],
      "text/plain": [
       "<IPython.core.display.HTML object>"
      ]
     },
     "metadata": {},
     "output_type": "display_data"
    }
   ],
   "source": [
    "learn.fit_one_cycle(5)"
   ]
  },
  {
   "cell_type": "code",
   "execution_count": 92,
   "metadata": {},
   "outputs": [],
   "source": [
    "learn.save('./fastai_resnet34')\n",
    "model_new = learn.load('fastai_resnet34')\n",
    "torch.save(model_new.model.state_dict(), 'fastai_resnet34_weights.pt')"
   ]
  },
  {
   "cell_type": "code",
   "execution_count": 111,
   "metadata": {},
   "outputs": [],
   "source": [
    "#learn.fit(30)"
   ]
  },
  {
   "cell_type": "markdown",
   "metadata": {},
   "source": [
    "- Initial fit for the model"
   ]
  },
  {
   "cell_type": "code",
   "execution_count": 114,
   "metadata": {
    "collapsed": true,
    "jupyter": {
     "outputs_hidden": true
    }
   },
   "outputs": [
    {
     "data": {
      "text/html": [
       "<table border=\"1\" class=\"dataframe\">\n",
       "  <thead>\n",
       "    <tr style=\"text-align: left;\">\n",
       "      <th>epoch</th>\n",
       "      <th>train_loss</th>\n",
       "      <th>valid_loss</th>\n",
       "      <th>accuracy</th>\n",
       "      <th>time</th>\n",
       "    </tr>\n",
       "  </thead>\n",
       "  <tbody>\n",
       "    <tr>\n",
       "      <td>0</td>\n",
       "      <td>0.315950</td>\n",
       "      <td>0.306789</td>\n",
       "      <td>0.912297</td>\n",
       "      <td>00:03</td>\n",
       "    </tr>\n",
       "    <tr>\n",
       "      <td>1</td>\n",
       "      <td>0.165154</td>\n",
       "      <td>0.159734</td>\n",
       "      <td>0.953093</td>\n",
       "      <td>00:03</td>\n",
       "    </tr>\n",
       "    <tr>\n",
       "      <td>2</td>\n",
       "      <td>0.097478</td>\n",
       "      <td>0.092330</td>\n",
       "      <td>0.972018</td>\n",
       "      <td>00:03</td>\n",
       "    </tr>\n",
       "    <tr>\n",
       "      <td>3</td>\n",
       "      <td>0.068718</td>\n",
       "      <td>0.060984</td>\n",
       "      <td>0.981885</td>\n",
       "      <td>00:03</td>\n",
       "    </tr>\n",
       "    <tr>\n",
       "      <td>4</td>\n",
       "      <td>0.052096</td>\n",
       "      <td>0.051989</td>\n",
       "      <td>0.983505</td>\n",
       "      <td>00:04</td>\n",
       "    </tr>\n",
       "    <tr>\n",
       "      <td>5</td>\n",
       "      <td>0.052169</td>\n",
       "      <td>0.047056</td>\n",
       "      <td>0.985272</td>\n",
       "      <td>00:03</td>\n",
       "    </tr>\n",
       "    <tr>\n",
       "      <td>6</td>\n",
       "      <td>0.035102</td>\n",
       "      <td>0.036929</td>\n",
       "      <td>0.988513</td>\n",
       "      <td>00:03</td>\n",
       "    </tr>\n",
       "    <tr>\n",
       "      <td>7</td>\n",
       "      <td>0.028907</td>\n",
       "      <td>0.033353</td>\n",
       "      <td>0.990133</td>\n",
       "      <td>00:03</td>\n",
       "    </tr>\n",
       "    <tr>\n",
       "      <td>8</td>\n",
       "      <td>0.025092</td>\n",
       "      <td>0.038318</td>\n",
       "      <td>0.988365</td>\n",
       "      <td>00:03</td>\n",
       "    </tr>\n",
       "    <tr>\n",
       "      <td>9</td>\n",
       "      <td>0.020819</td>\n",
       "      <td>0.041170</td>\n",
       "      <td>0.988144</td>\n",
       "      <td>00:03</td>\n",
       "    </tr>\n",
       "    <tr>\n",
       "      <td>10</td>\n",
       "      <td>0.013639</td>\n",
       "      <td>0.037647</td>\n",
       "      <td>0.989543</td>\n",
       "      <td>00:03</td>\n",
       "    </tr>\n",
       "    <tr>\n",
       "      <td>11</td>\n",
       "      <td>0.017581</td>\n",
       "      <td>0.042444</td>\n",
       "      <td>0.987776</td>\n",
       "      <td>00:03</td>\n",
       "    </tr>\n",
       "    <tr>\n",
       "      <td>12</td>\n",
       "      <td>0.020066</td>\n",
       "      <td>0.040807</td>\n",
       "      <td>0.988439</td>\n",
       "      <td>00:03</td>\n",
       "    </tr>\n",
       "    <tr>\n",
       "      <td>13</td>\n",
       "      <td>0.013227</td>\n",
       "      <td>0.053474</td>\n",
       "      <td>0.987334</td>\n",
       "      <td>00:03</td>\n",
       "    </tr>\n",
       "    <tr>\n",
       "      <td>14</td>\n",
       "      <td>0.008386</td>\n",
       "      <td>0.048145</td>\n",
       "      <td>0.988954</td>\n",
       "      <td>00:03</td>\n",
       "    </tr>\n",
       "    <tr>\n",
       "      <td>15</td>\n",
       "      <td>0.008982</td>\n",
       "      <td>0.059904</td>\n",
       "      <td>0.987040</td>\n",
       "      <td>00:03</td>\n",
       "    </tr>\n",
       "    <tr>\n",
       "      <td>16</td>\n",
       "      <td>0.013637</td>\n",
       "      <td>0.045393</td>\n",
       "      <td>0.989543</td>\n",
       "      <td>00:03</td>\n",
       "    </tr>\n",
       "    <tr>\n",
       "      <td>17</td>\n",
       "      <td>0.004777</td>\n",
       "      <td>0.045585</td>\n",
       "      <td>0.991237</td>\n",
       "      <td>00:03</td>\n",
       "    </tr>\n",
       "    <tr>\n",
       "      <td>18</td>\n",
       "      <td>0.005573</td>\n",
       "      <td>0.054608</td>\n",
       "      <td>0.988954</td>\n",
       "      <td>00:03</td>\n",
       "    </tr>\n",
       "    <tr>\n",
       "      <td>19</td>\n",
       "      <td>0.001880</td>\n",
       "      <td>0.044047</td>\n",
       "      <td>0.991605</td>\n",
       "      <td>00:03</td>\n",
       "    </tr>\n",
       "    <tr>\n",
       "      <td>20</td>\n",
       "      <td>0.005810</td>\n",
       "      <td>0.069211</td>\n",
       "      <td>0.988071</td>\n",
       "      <td>00:03</td>\n",
       "    </tr>\n",
       "    <tr>\n",
       "      <td>21</td>\n",
       "      <td>0.003536</td>\n",
       "      <td>0.058397</td>\n",
       "      <td>0.989838</td>\n",
       "      <td>00:03</td>\n",
       "    </tr>\n",
       "    <tr>\n",
       "      <td>22</td>\n",
       "      <td>0.002156</td>\n",
       "      <td>0.051821</td>\n",
       "      <td>0.991458</td>\n",
       "      <td>00:03</td>\n",
       "    </tr>\n",
       "    <tr>\n",
       "      <td>23</td>\n",
       "      <td>0.002805</td>\n",
       "      <td>0.067629</td>\n",
       "      <td>0.989691</td>\n",
       "      <td>00:03</td>\n",
       "    </tr>\n",
       "    <tr>\n",
       "      <td>24</td>\n",
       "      <td>0.001685</td>\n",
       "      <td>0.054512</td>\n",
       "      <td>0.991605</td>\n",
       "      <td>00:03</td>\n",
       "    </tr>\n",
       "    <tr>\n",
       "      <td>25</td>\n",
       "      <td>0.001678</td>\n",
       "      <td>0.063094</td>\n",
       "      <td>0.990206</td>\n",
       "      <td>00:03</td>\n",
       "    </tr>\n",
       "    <tr>\n",
       "      <td>26</td>\n",
       "      <td>0.001397</td>\n",
       "      <td>0.063717</td>\n",
       "      <td>0.990427</td>\n",
       "      <td>00:03</td>\n",
       "    </tr>\n",
       "    <tr>\n",
       "      <td>27</td>\n",
       "      <td>0.000536</td>\n",
       "      <td>0.063950</td>\n",
       "      <td>0.991163</td>\n",
       "      <td>00:03</td>\n",
       "    </tr>\n",
       "    <tr>\n",
       "      <td>28</td>\n",
       "      <td>0.001835</td>\n",
       "      <td>0.065606</td>\n",
       "      <td>0.991163</td>\n",
       "      <td>00:03</td>\n",
       "    </tr>\n",
       "    <tr>\n",
       "      <td>29</td>\n",
       "      <td>0.000385</td>\n",
       "      <td>0.064478</td>\n",
       "      <td>0.991826</td>\n",
       "      <td>00:03</td>\n",
       "    </tr>\n",
       "    <tr>\n",
       "      <td>30</td>\n",
       "      <td>0.000010</td>\n",
       "      <td>0.060908</td>\n",
       "      <td>0.992047</td>\n",
       "      <td>00:03</td>\n",
       "    </tr>\n",
       "    <tr>\n",
       "      <td>31</td>\n",
       "      <td>0.000056</td>\n",
       "      <td>0.067719</td>\n",
       "      <td>0.992268</td>\n",
       "      <td>00:03</td>\n",
       "    </tr>\n",
       "    <tr>\n",
       "      <td>32</td>\n",
       "      <td>0.000001</td>\n",
       "      <td>0.063533</td>\n",
       "      <td>0.992636</td>\n",
       "      <td>00:03</td>\n",
       "    </tr>\n",
       "    <tr>\n",
       "      <td>33</td>\n",
       "      <td>0.000000</td>\n",
       "      <td>0.062883</td>\n",
       "      <td>0.992931</td>\n",
       "      <td>00:03</td>\n",
       "    </tr>\n",
       "    <tr>\n",
       "      <td>34</td>\n",
       "      <td>0.000000</td>\n",
       "      <td>0.064143</td>\n",
       "      <td>0.992931</td>\n",
       "      <td>00:03</td>\n",
       "    </tr>\n",
       "    <tr>\n",
       "      <td>35</td>\n",
       "      <td>0.000000</td>\n",
       "      <td>0.064638</td>\n",
       "      <td>0.992857</td>\n",
       "      <td>00:03</td>\n",
       "    </tr>\n",
       "    <tr>\n",
       "      <td>36</td>\n",
       "      <td>0.000000</td>\n",
       "      <td>0.064787</td>\n",
       "      <td>0.992857</td>\n",
       "      <td>00:03</td>\n",
       "    </tr>\n",
       "    <tr>\n",
       "      <td>37</td>\n",
       "      <td>0.000000</td>\n",
       "      <td>0.065128</td>\n",
       "      <td>0.992857</td>\n",
       "      <td>00:03</td>\n",
       "    </tr>\n",
       "    <tr>\n",
       "      <td>38</td>\n",
       "      <td>0.000000</td>\n",
       "      <td>0.065167</td>\n",
       "      <td>0.992857</td>\n",
       "      <td>00:03</td>\n",
       "    </tr>\n",
       "    <tr>\n",
       "      <td>39</td>\n",
       "      <td>0.000000</td>\n",
       "      <td>0.065090</td>\n",
       "      <td>0.992783</td>\n",
       "      <td>00:03</td>\n",
       "    </tr>\n",
       "    <tr>\n",
       "      <td>40</td>\n",
       "      <td>0.000000</td>\n",
       "      <td>0.065046</td>\n",
       "      <td>0.992857</td>\n",
       "      <td>00:03</td>\n",
       "    </tr>\n",
       "    <tr>\n",
       "      <td>41</td>\n",
       "      <td>0.000000</td>\n",
       "      <td>0.064949</td>\n",
       "      <td>0.992857</td>\n",
       "      <td>00:03</td>\n",
       "    </tr>\n",
       "    <tr>\n",
       "      <td>42</td>\n",
       "      <td>0.000000</td>\n",
       "      <td>0.064942</td>\n",
       "      <td>0.992857</td>\n",
       "      <td>00:03</td>\n",
       "    </tr>\n",
       "    <tr>\n",
       "      <td>43</td>\n",
       "      <td>0.000000</td>\n",
       "      <td>0.064893</td>\n",
       "      <td>0.992857</td>\n",
       "      <td>00:03</td>\n",
       "    </tr>\n",
       "    <tr>\n",
       "      <td>44</td>\n",
       "      <td>0.000000</td>\n",
       "      <td>0.064863</td>\n",
       "      <td>0.992857</td>\n",
       "      <td>00:03</td>\n",
       "    </tr>\n",
       "    <tr>\n",
       "      <td>45</td>\n",
       "      <td>0.000000</td>\n",
       "      <td>0.064839</td>\n",
       "      <td>0.992857</td>\n",
       "      <td>00:03</td>\n",
       "    </tr>\n",
       "    <tr>\n",
       "      <td>46</td>\n",
       "      <td>0.000000</td>\n",
       "      <td>0.064830</td>\n",
       "      <td>0.992857</td>\n",
       "      <td>00:03</td>\n",
       "    </tr>\n",
       "    <tr>\n",
       "      <td>47</td>\n",
       "      <td>0.000000</td>\n",
       "      <td>0.064824</td>\n",
       "      <td>0.992857</td>\n",
       "      <td>00:03</td>\n",
       "    </tr>\n",
       "    <tr>\n",
       "      <td>48</td>\n",
       "      <td>0.000000</td>\n",
       "      <td>0.064817</td>\n",
       "      <td>0.992857</td>\n",
       "      <td>00:03</td>\n",
       "    </tr>\n",
       "    <tr>\n",
       "      <td>49</td>\n",
       "      <td>0.000000</td>\n",
       "      <td>0.064817</td>\n",
       "      <td>0.992857</td>\n",
       "      <td>00:03</td>\n",
       "    </tr>\n",
       "  </tbody>\n",
       "</table>"
      ],
      "text/plain": [
       "<IPython.core.display.HTML object>"
      ]
     },
     "metadata": {},
     "output_type": "display_data"
    }
   ],
   "source": [
    "learn.fit_one_cycle(50)"
   ]
  },
  {
   "cell_type": "code",
   "execution_count": 119,
   "metadata": {},
   "outputs": [
    {
     "data": {
      "text/html": [
       "<table border=\"1\" class=\"dataframe\">\n",
       "  <thead>\n",
       "    <tr style=\"text-align: left;\">\n",
       "      <th>epoch</th>\n",
       "      <th>train_loss</th>\n",
       "      <th>valid_loss</th>\n",
       "      <th>accuracy</th>\n",
       "      <th>time</th>\n",
       "    </tr>\n",
       "  </thead>\n",
       "  <tbody>\n",
       "    <tr>\n",
       "      <td>0</td>\n",
       "      <td>-2010.893433</td>\n",
       "      <td>-2393.189697</td>\n",
       "      <td>0.980854</td>\n",
       "      <td>00:14</td>\n",
       "    </tr>\n",
       "  </tbody>\n",
       "</table>"
      ],
      "text/plain": [
       "<IPython.core.display.HTML object>"
      ]
     },
     "metadata": {},
     "output_type": "display_data"
    },
    {
     "data": {
      "text/html": [
       "<table border=\"1\" class=\"dataframe\">\n",
       "  <thead>\n",
       "    <tr style=\"text-align: left;\">\n",
       "      <th>epoch</th>\n",
       "      <th>train_loss</th>\n",
       "      <th>valid_loss</th>\n",
       "      <th>accuracy</th>\n",
       "      <th>time</th>\n",
       "    </tr>\n",
       "  </thead>\n",
       "  <tbody>\n",
       "    <tr>\n",
       "      <td>0</td>\n",
       "      <td>-4762.945312</td>\n",
       "      <td>-5056.454102</td>\n",
       "      <td>0.987408</td>\n",
       "      <td>00:14</td>\n",
       "    </tr>\n",
       "    <tr>\n",
       "      <td>1</td>\n",
       "      <td>-9382.788086</td>\n",
       "      <td>-9654.258789</td>\n",
       "      <td>0.989396</td>\n",
       "      <td>00:14</td>\n",
       "    </tr>\n",
       "    <tr>\n",
       "      <td>2</td>\n",
       "      <td>-10707.206055</td>\n",
       "      <td>-10771.859375</td>\n",
       "      <td>0.993962</td>\n",
       "      <td>00:14</td>\n",
       "    </tr>\n",
       "  </tbody>\n",
       "</table>"
      ],
      "text/plain": [
       "<IPython.core.display.HTML object>"
      ]
     },
     "metadata": {},
     "output_type": "display_data"
    }
   ],
   "source": [
    "learn.fine_tune(3)"
   ]
  },
  {
   "cell_type": "code",
   "execution_count": 91,
   "metadata": {},
   "outputs": [
    {
     "data": {
      "image/png": "[encoded data removed]",
      "text/plain": [
       "<Figure size 432x288 with 1 Axes>"
      ]
     },
     "metadata": {
      "needs_background": "light"
     },
     "output_type": "display_data"
    }
   ],
   "source": [
    "#lss = learn.recorder.losses\n",
    "#plt.plot(lss)\n",
    "learn.recorder.plot_loss()\n",
    "plt.savefig('resnet34_mnist.png')"
   ]
  },
  {
   "cell_type": "code",
   "execution_count": 97,
   "metadata": {},
   "outputs": [
    {
     "data": {
      "text/html": [
       "<table border=\"1\" class=\"dataframe\">\n",
       "  <thead>\n",
       "    <tr style=\"text-align: left;\">\n",
       "      <th>epoch</th>\n",
       "      <th>train_loss</th>\n",
       "      <th>valid_loss</th>\n",
       "      <th>accuracy</th>\n",
       "      <th>time</th>\n",
       "    </tr>\n",
       "  </thead>\n",
       "  <tbody>\n",
       "    <tr>\n",
       "      <td>0</td>\n",
       "      <td>2.089051</td>\n",
       "      <td>2.061274</td>\n",
       "      <td>0.600589</td>\n",
       "      <td>00:02</td>\n",
       "    </tr>\n",
       "    <tr>\n",
       "      <td>1</td>\n",
       "      <td>1.633292</td>\n",
       "      <td>1.615470</td>\n",
       "      <td>0.768851</td>\n",
       "      <td>00:02</td>\n",
       "    </tr>\n",
       "    <tr>\n",
       "      <td>2</td>\n",
       "      <td>1.520177</td>\n",
       "      <td>1.517953</td>\n",
       "      <td>0.777982</td>\n",
       "      <td>00:02</td>\n",
       "    </tr>\n",
       "  </tbody>\n",
       "</table>"
      ],
      "text/plain": [
       "<IPython.core.display.HTML object>"
      ]
     },
     "metadata": {},
     "output_type": "display_data"
    }
   ],
   "source": [
    "learn1.fit_one_cycle(3, lr_max=1e-5)"
   ]
  },
  {
   "cell_type": "code",
   "execution_count": 99,
   "metadata": {},
   "outputs": [
    {
     "data": {
      "image/png": "[encoded data removed]",
      "text/plain": [
       "<Figure size 432x288 with 1 Axes>"
      ]
     },
     "metadata": {
      "needs_background": "light"
     },
     "output_type": "display_data"
    }
   ],
   "source": [
    "learn1.recorder.plot_loss()\n",
    "plt.savefig('underfit_loss_3epochs.png')"
   ]
  },
  {
   "cell_type": "markdown",
   "metadata": {},
   "source": [
    "- Unfreeze and check the optimal learning rate"
   ]
  },
  {
   "cell_type": "code",
   "execution_count": 182,
   "metadata": {},
   "outputs": [
    {
     "data": {
      "text/html": [],
      "text/plain": [
       "<IPython.core.display.HTML object>"
      ]
     },
     "metadata": {},
     "output_type": "display_data"
    },
    {
     "data": {
      "text/plain": [
       "SuggestedLRs(valley=tensor(0.0044))"
      ]
     },
     "execution_count": 182,
     "metadata": {},
     "output_type": "execute_result"
    },
    {
     "data": {
      "image/png": "[encoded data removed]",
      "text/plain": [
       "<Figure size 432x288 with 1 Axes>"
      ]
     },
     "metadata": {
      "needs_background": "light"
     },
     "output_type": "display_data"
    }
   ],
   "source": [
    "learn.unfreeze()\n",
    "learn.lr_find()"
   ]
  },
  {
   "cell_type": "markdown",
   "metadata": {},
   "source": [
    "- Fit the model again"
   ]
  },
  {
   "cell_type": "code",
   "execution_count": 139,
   "metadata": {
    "collapsed": true,
    "jupyter": {
     "outputs_hidden": true
    }
   },
   "outputs": [
    {
     "data": {
      "text/html": [
       "<table border=\"1\" class=\"dataframe\">\n",
       "  <thead>\n",
       "    <tr style=\"text-align: left;\">\n",
       "      <th>epoch</th>\n",
       "      <th>train_loss</th>\n",
       "      <th>valid_loss</th>\n",
       "      <th>accuracy</th>\n",
       "      <th>time</th>\n",
       "    </tr>\n",
       "  </thead>\n",
       "  <tbody>\n",
       "    <tr>\n",
       "      <td>0</td>\n",
       "      <td>0.012687</td>\n",
       "      <td>0.029881</td>\n",
       "      <td>0.990427</td>\n",
       "      <td>00:03</td>\n",
       "    </tr>\n",
       "    <tr>\n",
       "      <td>1</td>\n",
       "      <td>0.015406</td>\n",
       "      <td>0.029705</td>\n",
       "      <td>0.990722</td>\n",
       "      <td>00:03</td>\n",
       "    </tr>\n",
       "    <tr>\n",
       "      <td>2</td>\n",
       "      <td>0.020524</td>\n",
       "      <td>0.029592</td>\n",
       "      <td>0.990648</td>\n",
       "      <td>00:03</td>\n",
       "    </tr>\n",
       "    <tr>\n",
       "      <td>3</td>\n",
       "      <td>0.013447</td>\n",
       "      <td>0.029669</td>\n",
       "      <td>0.990501</td>\n",
       "      <td>00:03</td>\n",
       "    </tr>\n",
       "    <tr>\n",
       "      <td>4</td>\n",
       "      <td>0.012682</td>\n",
       "      <td>0.029653</td>\n",
       "      <td>0.990353</td>\n",
       "      <td>00:02</td>\n",
       "    </tr>\n",
       "    <tr>\n",
       "      <td>5</td>\n",
       "      <td>0.013864</td>\n",
       "      <td>0.029601</td>\n",
       "      <td>0.990353</td>\n",
       "      <td>00:03</td>\n",
       "    </tr>\n",
       "    <tr>\n",
       "      <td>6</td>\n",
       "      <td>0.011523</td>\n",
       "      <td>0.029591</td>\n",
       "      <td>0.990427</td>\n",
       "      <td>00:02</td>\n",
       "    </tr>\n",
       "    <tr>\n",
       "      <td>7</td>\n",
       "      <td>0.017564</td>\n",
       "      <td>0.029678</td>\n",
       "      <td>0.990648</td>\n",
       "      <td>00:03</td>\n",
       "    </tr>\n",
       "    <tr>\n",
       "      <td>8</td>\n",
       "      <td>0.014337</td>\n",
       "      <td>0.029848</td>\n",
       "      <td>0.990059</td>\n",
       "      <td>00:03</td>\n",
       "    </tr>\n",
       "    <tr>\n",
       "      <td>9</td>\n",
       "      <td>0.011938</td>\n",
       "      <td>0.029618</td>\n",
       "      <td>0.990427</td>\n",
       "      <td>00:03</td>\n",
       "    </tr>\n",
       "    <tr>\n",
       "      <td>10</td>\n",
       "      <td>0.011187</td>\n",
       "      <td>0.029703</td>\n",
       "      <td>0.990427</td>\n",
       "      <td>00:02</td>\n",
       "    </tr>\n",
       "    <tr>\n",
       "      <td>11</td>\n",
       "      <td>0.012038</td>\n",
       "      <td>0.029351</td>\n",
       "      <td>0.990353</td>\n",
       "      <td>00:03</td>\n",
       "    </tr>\n",
       "    <tr>\n",
       "      <td>12</td>\n",
       "      <td>0.007398</td>\n",
       "      <td>0.029539</td>\n",
       "      <td>0.990353</td>\n",
       "      <td>00:03</td>\n",
       "    </tr>\n",
       "    <tr>\n",
       "      <td>13</td>\n",
       "      <td>0.008573</td>\n",
       "      <td>0.029385</td>\n",
       "      <td>0.990427</td>\n",
       "      <td>00:03</td>\n",
       "    </tr>\n",
       "    <tr>\n",
       "      <td>14</td>\n",
       "      <td>0.009213</td>\n",
       "      <td>0.029439</td>\n",
       "      <td>0.990280</td>\n",
       "      <td>00:03</td>\n",
       "    </tr>\n",
       "    <tr>\n",
       "      <td>15</td>\n",
       "      <td>0.009766</td>\n",
       "      <td>0.029541</td>\n",
       "      <td>0.990206</td>\n",
       "      <td>00:03</td>\n",
       "    </tr>\n",
       "    <tr>\n",
       "      <td>16</td>\n",
       "      <td>0.010921</td>\n",
       "      <td>0.029680</td>\n",
       "      <td>0.990133</td>\n",
       "      <td>00:03</td>\n",
       "    </tr>\n",
       "    <tr>\n",
       "      <td>17</td>\n",
       "      <td>0.012238</td>\n",
       "      <td>0.029572</td>\n",
       "      <td>0.990427</td>\n",
       "      <td>00:03</td>\n",
       "    </tr>\n",
       "    <tr>\n",
       "      <td>18</td>\n",
       "      <td>0.007652</td>\n",
       "      <td>0.029408</td>\n",
       "      <td>0.990574</td>\n",
       "      <td>00:03</td>\n",
       "    </tr>\n",
       "    <tr>\n",
       "      <td>19</td>\n",
       "      <td>0.014017</td>\n",
       "      <td>0.029706</td>\n",
       "      <td>0.990206</td>\n",
       "      <td>00:03</td>\n",
       "    </tr>\n",
       "    <tr>\n",
       "      <td>20</td>\n",
       "      <td>0.010631</td>\n",
       "      <td>0.029569</td>\n",
       "      <td>0.990280</td>\n",
       "      <td>00:03</td>\n",
       "    </tr>\n",
       "    <tr>\n",
       "      <td>21</td>\n",
       "      <td>0.012263</td>\n",
       "      <td>0.029507</td>\n",
       "      <td>0.990574</td>\n",
       "      <td>00:03</td>\n",
       "    </tr>\n",
       "    <tr>\n",
       "      <td>22</td>\n",
       "      <td>0.012706</td>\n",
       "      <td>0.029552</td>\n",
       "      <td>0.990353</td>\n",
       "      <td>00:03</td>\n",
       "    </tr>\n",
       "    <tr>\n",
       "      <td>23</td>\n",
       "      <td>0.008765</td>\n",
       "      <td>0.029604</td>\n",
       "      <td>0.990353</td>\n",
       "      <td>00:03</td>\n",
       "    </tr>\n",
       "    <tr>\n",
       "      <td>24</td>\n",
       "      <td>0.011497</td>\n",
       "      <td>0.029573</td>\n",
       "      <td>0.990353</td>\n",
       "      <td>00:03</td>\n",
       "    </tr>\n",
       "    <tr>\n",
       "      <td>25</td>\n",
       "      <td>0.010617</td>\n",
       "      <td>0.029568</td>\n",
       "      <td>0.990353</td>\n",
       "      <td>00:03</td>\n",
       "    </tr>\n",
       "    <tr>\n",
       "      <td>26</td>\n",
       "      <td>0.007916</td>\n",
       "      <td>0.029561</td>\n",
       "      <td>0.990354</td>\n",
       "      <td>00:02</td>\n",
       "    </tr>\n",
       "    <tr>\n",
       "      <td>27</td>\n",
       "      <td>0.008682</td>\n",
       "      <td>0.029563</td>\n",
       "      <td>0.990354</td>\n",
       "      <td>00:03</td>\n",
       "    </tr>\n",
       "    <tr>\n",
       "      <td>28</td>\n",
       "      <td>0.009628</td>\n",
       "      <td>0.029556</td>\n",
       "      <td>0.990353</td>\n",
       "      <td>00:03</td>\n",
       "    </tr>\n",
       "    <tr>\n",
       "      <td>29</td>\n",
       "      <td>0.010626</td>\n",
       "      <td>0.029558</td>\n",
       "      <td>0.990353</td>\n",
       "      <td>00:03</td>\n",
       "    </tr>\n",
       "  </tbody>\n",
       "</table>"
      ],
      "text/plain": [
       "<IPython.core.display.HTML object>"
      ]
     },
     "metadata": {},
     "output_type": "display_data"
    }
   ],
   "source": [
    "learn.fit_one_cycle(30, lr_max=1e-5)"
   ]
  },
  {
   "cell_type": "code",
   "execution_count": 56,
   "metadata": {},
   "outputs": [
    {
     "data": {
      "text/html": [],
      "text/plain": [
       "<IPython.core.display.HTML object>"
      ]
     },
     "metadata": {},
     "output_type": "display_data"
    },
    {
     "data": {
      "text/plain": [
       "(#2) [0.0669793039560318,0.9913107752799988]"
      ]
     },
     "execution_count": 56,
     "metadata": {},
     "output_type": "execute_result"
    }
   ],
   "source": [
    "learn.validate()"
   ]
  },
  {
   "cell_type": "code",
   "execution_count": 189,
   "metadata": {},
   "outputs": [
    {
     "data": {
      "image/png": "[encoded data removed]",
      "text/plain": [
       "<Figure size 432x288 with 1 Axes>"
      ]
     },
     "metadata": {
      "needs_background": "light"
     },
     "output_type": "display_data"
    }
   ],
   "source": [
    "learn.recorder.plot_loss()\n",
    "#plt.savefig('loss.png')"
   ]
  },
  {
   "cell_type": "markdown",
   "metadata": {},
   "source": [
    "- Fine tune the model "
   ]
  },
  {
   "cell_type": "code",
   "execution_count": 17,
   "metadata": {},
   "outputs": [
    {
     "data": {
      "text/html": [
       "<table border=\"1\" class=\"dataframe\">\n",
       "  <thead>\n",
       "    <tr style=\"text-align: left;\">\n",
       "      <th>epoch</th>\n",
       "      <th>train_loss</th>\n",
       "      <th>valid_loss</th>\n",
       "      <th>accuracy</th>\n",
       "      <th>time</th>\n",
       "    </tr>\n",
       "  </thead>\n",
       "  <tbody>\n",
       "    <tr>\n",
       "      <td>0</td>\n",
       "      <td>0.120263</td>\n",
       "      <td>0.065498</td>\n",
       "      <td>0.979750</td>\n",
       "      <td>00:03</td>\n",
       "    </tr>\n",
       "  </tbody>\n",
       "</table>"
      ],
      "text/plain": [
       "<IPython.core.display.HTML object>"
      ]
     },
     "metadata": {},
     "output_type": "display_data"
    },
    {
     "data": {
      "text/html": [
       "<table border=\"1\" class=\"dataframe\">\n",
       "  <thead>\n",
       "    <tr style=\"text-align: left;\">\n",
       "      <th>epoch</th>\n",
       "      <th>train_loss</th>\n",
       "      <th>valid_loss</th>\n",
       "      <th>accuracy</th>\n",
       "      <th>time</th>\n",
       "    </tr>\n",
       "  </thead>\n",
       "  <tbody>\n",
       "    <tr>\n",
       "      <td>0</td>\n",
       "      <td>0.064480</td>\n",
       "      <td>0.040627</td>\n",
       "      <td>0.987629</td>\n",
       "      <td>00:03</td>\n",
       "    </tr>\n",
       "    <tr>\n",
       "      <td>1</td>\n",
       "      <td>0.069494</td>\n",
       "      <td>0.044321</td>\n",
       "      <td>0.986230</td>\n",
       "      <td>00:03</td>\n",
       "    </tr>\n",
       "    <tr>\n",
       "      <td>2</td>\n",
       "      <td>0.051842</td>\n",
       "      <td>0.032422</td>\n",
       "      <td>0.989691</td>\n",
       "      <td>00:03</td>\n",
       "    </tr>\n",
       "    <tr>\n",
       "      <td>3</td>\n",
       "      <td>0.047426</td>\n",
       "      <td>0.030197</td>\n",
       "      <td>0.991090</td>\n",
       "      <td>00:03</td>\n",
       "    </tr>\n",
       "    <tr>\n",
       "      <td>4</td>\n",
       "      <td>0.035231</td>\n",
       "      <td>0.029030</td>\n",
       "      <td>0.991164</td>\n",
       "      <td>00:03</td>\n",
       "    </tr>\n",
       "  </tbody>\n",
       "</table>"
      ],
      "text/plain": [
       "<IPython.core.display.HTML object>"
      ]
     },
     "metadata": {},
     "output_type": "display_data"
    }
   ],
   "source": [
    "learn.fine_tune(5)"
   ]
  },
  {
   "cell_type": "code",
   "execution_count": 18,
   "metadata": {},
   "outputs": [
    {
     "data": {
      "image/png": "[encoded data removed]",
      "text/plain": [
       "<Figure size 432x288 with 1 Axes>"
      ]
     },
     "metadata": {
      "needs_background": "light"
     },
     "output_type": "display_data"
    }
   ],
   "source": [
    "learn.recorder.plot_loss()"
   ]
  },
  {
   "cell_type": "markdown",
   "metadata": {},
   "source": [
    "### - Save the fastai classifier\n",
    "- By default it is saved in the /models folder with .pth extension"
   ]
  },
  {
   "cell_type": "code",
   "execution_count": 173,
   "metadata": {},
   "outputs": [
    {
     "data": {
      "text/plain": [
       "Path('models/fastai_resnet50_splitDataset.pth')"
      ]
     },
     "execution_count": 173,
     "metadata": {},
     "output_type": "execute_result"
    }
   ],
   "source": [
    "learn.save('./fastai_resnet50_splitDataset')"
   ]
  },
  {
   "cell_type": "code",
   "execution_count": 209,
   "metadata": {},
   "outputs": [
    {
     "data": {
      "text/plain": [
       "Path('models/fastai_pathmnist_96_NewNet.pth')"
      ]
     },
     "execution_count": 209,
     "metadata": {},
     "output_type": "execute_result"
    }
   ],
   "source": [
    "path_learn.save('./fastai_pathmnist_96_NewNet')"
   ]
  },
  {
   "cell_type": "markdown",
   "metadata": {},
   "source": [
    "- Load the model(fastai) and save it as torch model for foolbox compatibility"
   ]
  },
  {
   "cell_type": "code",
   "execution_count": 24,
   "metadata": {},
   "outputs": [],
   "source": [
    "model_new = learn.load('fastai_cnn_NewNet_99_splitDataset')\n",
    "torch.save(model_new.model.state_dict(), 'fastai_cnn_NewNet_99_splitDataset_weights.pth')"
   ]
  },
  {
   "cell_type": "code",
   "execution_count": 210,
   "metadata": {},
   "outputs": [],
   "source": [
    "model_new1 = path_learn.load('fastai_pathmnist_96_NewNet')\n",
    "torch.save(model_new1.model.state_dict(), 'fastai_pathmnist_96_NewNet_weights.pt')"
   ]
  },
  {
   "cell_type": "markdown",
   "metadata": {},
   "source": [
    "---------------------------------------------------------------------------------------------------------------------------------\n",
    "---------------------------------------------------------------------------------------------------------------------------------"
   ]
  },
  {
   "cell_type": "markdown",
   "metadata": {},
   "source": [
    "### Load model for the attack"
   ]
  },
  {
   "cell_type": "code",
   "execution_count": 111,
   "metadata": {
    "collapsed": true,
    "jupyter": {
     "outputs_hidden": true
    }
   },
   "outputs": [
    {
     "data": {
      "text/plain": [
       "ResNet(\n",
       "  (conv1): Conv2d(1, 64, kernel_size=(7, 7), stride=(1, 1))\n",
       "  (bn1): BatchNorm2d(64, eps=1e-05, momentum=0.1, affine=True, track_running_stats=True)\n",
       "  (relu): ReLU(inplace=True)\n",
       "  (maxpool): MaxPool2d(kernel_size=3, stride=2, padding=1, dilation=1, ceil_mode=False)\n",
       "  (layer1): Sequential(\n",
       "    (0): Bottleneck(\n",
       "      (conv1): Conv2d(64, 64, kernel_size=(1, 1), stride=(1, 1), bias=False)\n",
       "      (bn1): BatchNorm2d(64, eps=1e-05, momentum=0.1, affine=True, track_running_stats=True)\n",
       "      (conv2): Conv2d(64, 64, kernel_size=(3, 3), stride=(1, 1), padding=(1, 1), bias=False)\n",
       "      (bn2): BatchNorm2d(64, eps=1e-05, momentum=0.1, affine=True, track_running_stats=True)\n",
       "      (conv3): Conv2d(64, 256, kernel_size=(1, 1), stride=(1, 1), bias=False)\n",
       "      (bn3): BatchNorm2d(256, eps=1e-05, momentum=0.1, affine=True, track_running_stats=True)\n",
       "      (relu): ReLU(inplace=True)\n",
       "      (downsample): Sequential(\n",
       "        (0): Conv2d(64, 256, kernel_size=(1, 1), stride=(1, 1), bias=False)\n",
       "        (1): BatchNorm2d(256, eps=1e-05, momentum=0.1, affine=True, track_running_stats=True)\n",
       "      )\n",
       "    )\n",
       "    (1): Bottleneck(\n",
       "      (conv1): Conv2d(256, 64, kernel_size=(1, 1), stride=(1, 1), bias=False)\n",
       "      (bn1): BatchNorm2d(64, eps=1e-05, momentum=0.1, affine=True, track_running_stats=True)\n",
       "      (conv2): Conv2d(64, 64, kernel_size=(3, 3), stride=(1, 1), padding=(1, 1), bias=False)\n",
       "      (bn2): BatchNorm2d(64, eps=1e-05, momentum=0.1, affine=True, track_running_stats=True)\n",
       "      (conv3): Conv2d(64, 256, kernel_size=(1, 1), stride=(1, 1), bias=False)\n",
       "      (bn3): BatchNorm2d(256, eps=1e-05, momentum=0.1, affine=True, track_running_stats=True)\n",
       "      (relu): ReLU(inplace=True)\n",
       "    )\n",
       "    (2): Bottleneck(\n",
       "      (conv1): Conv2d(256, 64, kernel_size=(1, 1), stride=(1, 1), bias=False)\n",
       "      (bn1): BatchNorm2d(64, eps=1e-05, momentum=0.1, affine=True, track_running_stats=True)\n",
       "      (conv2): Conv2d(64, 64, kernel_size=(3, 3), stride=(1, 1), padding=(1, 1), bias=False)\n",
       "      (bn2): BatchNorm2d(64, eps=1e-05, momentum=0.1, affine=True, track_running_stats=True)\n",
       "      (conv3): Conv2d(64, 256, kernel_size=(1, 1), stride=(1, 1), bias=False)\n",
       "      (bn3): BatchNorm2d(256, eps=1e-05, momentum=0.1, affine=True, track_running_stats=True)\n",
       "      (relu): ReLU(inplace=True)\n",
       "    )\n",
       "  )\n",
       "  (layer2): Sequential(\n",
       "    (0): Bottleneck(\n",
       "      (conv1): Conv2d(256, 128, kernel_size=(1, 1), stride=(1, 1), bias=False)\n",
       "      (bn1): BatchNorm2d(128, eps=1e-05, momentum=0.1, affine=True, track_running_stats=True)\n",
       "      (conv2): Conv2d(128, 128, kernel_size=(3, 3), stride=(2, 2), padding=(1, 1), bias=False)\n",
       "      (bn2): BatchNorm2d(128, eps=1e-05, momentum=0.1, affine=True, track_running_stats=True)\n",
       "      (conv3): Conv2d(128, 512, kernel_size=(1, 1), stride=(1, 1), bias=False)\n",
       "      (bn3): BatchNorm2d(512, eps=1e-05, momentum=0.1, affine=True, track_running_stats=True)\n",
       "      (relu): ReLU(inplace=True)\n",
       "      (downsample): Sequential(\n",
       "        (0): Conv2d(256, 512, kernel_size=(1, 1), stride=(2, 2), bias=False)\n",
       "        (1): BatchNorm2d(512, eps=1e-05, momentum=0.1, affine=True, track_running_stats=True)\n",
       "      )\n",
       "    )\n",
       "    (1): Bottleneck(\n",
       "      (conv1): Conv2d(512, 128, kernel_size=(1, 1), stride=(1, 1), bias=False)\n",
       "      (bn1): BatchNorm2d(128, eps=1e-05, momentum=0.1, affine=True, track_running_stats=True)\n",
       "      (conv2): Conv2d(128, 128, kernel_size=(3, 3), stride=(1, 1), padding=(1, 1), bias=False)\n",
       "      (bn2): BatchNorm2d(128, eps=1e-05, momentum=0.1, affine=True, track_running_stats=True)\n",
       "      (conv3): Conv2d(128, 512, kernel_size=(1, 1), stride=(1, 1), bias=False)\n",
       "      (bn3): BatchNorm2d(512, eps=1e-05, momentum=0.1, affine=True, track_running_stats=True)\n",
       "      (relu): ReLU(inplace=True)\n",
       "    )\n",
       "    (2): Bottleneck(\n",
       "      (conv1): Conv2d(512, 128, kernel_size=(1, 1), stride=(1, 1), bias=False)\n",
       "      (bn1): BatchNorm2d(128, eps=1e-05, momentum=0.1, affine=True, track_running_stats=True)\n",
       "      (conv2): Conv2d(128, 128, kernel_size=(3, 3), stride=(1, 1), padding=(1, 1), bias=False)\n",
       "      (bn2): BatchNorm2d(128, eps=1e-05, momentum=0.1, affine=True, track_running_stats=True)\n",
       "      (conv3): Conv2d(128, 512, kernel_size=(1, 1), stride=(1, 1), bias=False)\n",
       "      (bn3): BatchNorm2d(512, eps=1e-05, momentum=0.1, affine=True, track_running_stats=True)\n",
       "      (relu): ReLU(inplace=True)\n",
       "    )\n",
       "    (3): Bottleneck(\n",
       "      (conv1): Conv2d(512, 128, kernel_size=(1, 1), stride=(1, 1), bias=False)\n",
       "      (bn1): BatchNorm2d(128, eps=1e-05, momentum=0.1, affine=True, track_running_stats=True)\n",
       "      (conv2): Conv2d(128, 128, kernel_size=(3, 3), stride=(1, 1), padding=(1, 1), bias=False)\n",
       "      (bn2): BatchNorm2d(128, eps=1e-05, momentum=0.1, affine=True, track_running_stats=True)\n",
       "      (conv3): Conv2d(128, 512, kernel_size=(1, 1), stride=(1, 1), bias=False)\n",
       "      (bn3): BatchNorm2d(512, eps=1e-05, momentum=0.1, affine=True, track_running_stats=True)\n",
       "      (relu): ReLU(inplace=True)\n",
       "    )\n",
       "  )\n",
       "  (layer3): Sequential(\n",
       "    (0): Bottleneck(\n",
       "      (conv1): Conv2d(512, 256, kernel_size=(1, 1), stride=(1, 1), bias=False)\n",
       "      (bn1): BatchNorm2d(256, eps=1e-05, momentum=0.1, affine=True, track_running_stats=True)\n",
       "      (conv2): Conv2d(256, 256, kernel_size=(3, 3), stride=(2, 2), padding=(1, 1), bias=False)\n",
       "      (bn2): BatchNorm2d(256, eps=1e-05, momentum=0.1, affine=True, track_running_stats=True)\n",
       "      (conv3): Conv2d(256, 1024, kernel_size=(1, 1), stride=(1, 1), bias=False)\n",
       "      (bn3): BatchNorm2d(1024, eps=1e-05, momentum=0.1, affine=True, track_running_stats=True)\n",
       "      (relu): ReLU(inplace=True)\n",
       "      (downsample): Sequential(\n",
       "        (0): Conv2d(512, 1024, kernel_size=(1, 1), stride=(2, 2), bias=False)\n",
       "        (1): BatchNorm2d(1024, eps=1e-05, momentum=0.1, affine=True, track_running_stats=True)\n",
       "      )\n",
       "    )\n",
       "    (1): Bottleneck(\n",
       "      (conv1): Conv2d(1024, 256, kernel_size=(1, 1), stride=(1, 1), bias=False)\n",
       "      (bn1): BatchNorm2d(256, eps=1e-05, momentum=0.1, affine=True, track_running_stats=True)\n",
       "      (conv2): Conv2d(256, 256, kernel_size=(3, 3), stride=(1, 1), padding=(1, 1), bias=False)\n",
       "      (bn2): BatchNorm2d(256, eps=1e-05, momentum=0.1, affine=True, track_running_stats=True)\n",
       "      (conv3): Conv2d(256, 1024, kernel_size=(1, 1), stride=(1, 1), bias=False)\n",
       "      (bn3): BatchNorm2d(1024, eps=1e-05, momentum=0.1, affine=True, track_running_stats=True)\n",
       "      (relu): ReLU(inplace=True)\n",
       "    )\n",
       "    (2): Bottleneck(\n",
       "      (conv1): Conv2d(1024, 256, kernel_size=(1, 1), stride=(1, 1), bias=False)\n",
       "      (bn1): BatchNorm2d(256, eps=1e-05, momentum=0.1, affine=True, track_running_stats=True)\n",
       "      (conv2): Conv2d(256, 256, kernel_size=(3, 3), stride=(1, 1), padding=(1, 1), bias=False)\n",
       "      (bn2): BatchNorm2d(256, eps=1e-05, momentum=0.1, affine=True, track_running_stats=True)\n",
       "      (conv3): Conv2d(256, 1024, kernel_size=(1, 1), stride=(1, 1), bias=False)\n",
       "      (bn3): BatchNorm2d(1024, eps=1e-05, momentum=0.1, affine=True, track_running_stats=True)\n",
       "      (relu): ReLU(inplace=True)\n",
       "    )\n",
       "    (3): Bottleneck(\n",
       "      (conv1): Conv2d(1024, 256, kernel_size=(1, 1), stride=(1, 1), bias=False)\n",
       "      (bn1): BatchNorm2d(256, eps=1e-05, momentum=0.1, affine=True, track_running_stats=True)\n",
       "      (conv2): Conv2d(256, 256, kernel_size=(3, 3), stride=(1, 1), padding=(1, 1), bias=False)\n",
       "      (bn2): BatchNorm2d(256, eps=1e-05, momentum=0.1, affine=True, track_running_stats=True)\n",
       "      (conv3): Conv2d(256, 1024, kernel_size=(1, 1), stride=(1, 1), bias=False)\n",
       "      (bn3): BatchNorm2d(1024, eps=1e-05, momentum=0.1, affine=True, track_running_stats=True)\n",
       "      (relu): ReLU(inplace=True)\n",
       "    )\n",
       "    (4): Bottleneck(\n",
       "      (conv1): Conv2d(1024, 256, kernel_size=(1, 1), stride=(1, 1), bias=False)\n",
       "      (bn1): BatchNorm2d(256, eps=1e-05, momentum=0.1, affine=True, track_running_stats=True)\n",
       "      (conv2): Conv2d(256, 256, kernel_size=(3, 3), stride=(1, 1), padding=(1, 1), bias=False)\n",
       "      (bn2): BatchNorm2d(256, eps=1e-05, momentum=0.1, affine=True, track_running_stats=True)\n",
       "      (conv3): Conv2d(256, 1024, kernel_size=(1, 1), stride=(1, 1), bias=False)\n",
       "      (bn3): BatchNorm2d(1024, eps=1e-05, momentum=0.1, affine=True, track_running_stats=True)\n",
       "      (relu): ReLU(inplace=True)\n",
       "    )\n",
       "    (5): Bottleneck(\n",
       "      (conv1): Conv2d(1024, 256, kernel_size=(1, 1), stride=(1, 1), bias=False)\n",
       "      (bn1): BatchNorm2d(256, eps=1e-05, momentum=0.1, affine=True, track_running_stats=True)\n",
       "      (conv2): Conv2d(256, 256, kernel_size=(3, 3), stride=(1, 1), padding=(1, 1), bias=False)\n",
       "      (bn2): BatchNorm2d(256, eps=1e-05, momentum=0.1, affine=True, track_running_stats=True)\n",
       "      (conv3): Conv2d(256, 1024, kernel_size=(1, 1), stride=(1, 1), bias=False)\n",
       "      (bn3): BatchNorm2d(1024, eps=1e-05, momentum=0.1, affine=True, track_running_stats=True)\n",
       "      (relu): ReLU(inplace=True)\n",
       "    )\n",
       "  )\n",
       "  (layer4): Sequential(\n",
       "    (0): Bottleneck(\n",
       "      (conv1): Conv2d(1024, 512, kernel_size=(1, 1), stride=(1, 1), bias=False)\n",
       "      (bn1): BatchNorm2d(512, eps=1e-05, momentum=0.1, affine=True, track_running_stats=True)\n",
       "      (conv2): Conv2d(512, 512, kernel_size=(3, 3), stride=(2, 2), padding=(1, 1), bias=False)\n",
       "      (bn2): BatchNorm2d(512, eps=1e-05, momentum=0.1, affine=True, track_running_stats=True)\n",
       "      (conv3): Conv2d(512, 2048, kernel_size=(1, 1), stride=(1, 1), bias=False)\n",
       "      (bn3): BatchNorm2d(2048, eps=1e-05, momentum=0.1, affine=True, track_running_stats=True)\n",
       "      (relu): ReLU(inplace=True)\n",
       "      (downsample): Sequential(\n",
       "        (0): Conv2d(1024, 2048, kernel_size=(1, 1), stride=(2, 2), bias=False)\n",
       "        (1): BatchNorm2d(2048, eps=1e-05, momentum=0.1, affine=True, track_running_stats=True)\n",
       "      )\n",
       "    )\n",
       "    (1): Bottleneck(\n",
       "      (conv1): Conv2d(2048, 512, kernel_size=(1, 1), stride=(1, 1), bias=False)\n",
       "      (bn1): BatchNorm2d(512, eps=1e-05, momentum=0.1, affine=True, track_running_stats=True)\n",
       "      (conv2): Conv2d(512, 512, kernel_size=(3, 3), stride=(1, 1), padding=(1, 1), bias=False)\n",
       "      (bn2): BatchNorm2d(512, eps=1e-05, momentum=0.1, affine=True, track_running_stats=True)\n",
       "      (conv3): Conv2d(512, 2048, kernel_size=(1, 1), stride=(1, 1), bias=False)\n",
       "      (bn3): BatchNorm2d(2048, eps=1e-05, momentum=0.1, affine=True, track_running_stats=True)\n",
       "      (relu): ReLU(inplace=True)\n",
       "    )\n",
       "    (2): Bottleneck(\n",
       "      (conv1): Conv2d(2048, 512, kernel_size=(1, 1), stride=(1, 1), bias=False)\n",
       "      (bn1): BatchNorm2d(512, eps=1e-05, momentum=0.1, affine=True, track_running_stats=True)\n",
       "      (conv2): Conv2d(512, 512, kernel_size=(3, 3), stride=(1, 1), padding=(1, 1), bias=False)\n",
       "      (bn2): BatchNorm2d(512, eps=1e-05, momentum=0.1, affine=True, track_running_stats=True)\n",
       "      (conv3): Conv2d(512, 2048, kernel_size=(1, 1), stride=(1, 1), bias=False)\n",
       "      (bn3): BatchNorm2d(2048, eps=1e-05, momentum=0.1, affine=True, track_running_stats=True)\n",
       "      (relu): ReLU(inplace=True)\n",
       "    )\n",
       "  )\n",
       "  (avgpool): AdaptiveAvgPool2d(output_size=(1, 1))\n",
       "  (fc): Linear(in_features=2048, out_features=10, bias=True)\n",
       ")"
      ]
     },
     "execution_count": 111,
     "metadata": {},
     "output_type": "execute_result"
    }
   ],
   "source": [
    "# load the NewNet model\n",
    "#MyModel = NewNet()\n",
    "#MyModel = CNet()\n",
    "MyModel = models.resnet50(num_classes=10)\n",
    "MyModel.conv1 = torch.nn.Conv2d(1, 64, kernel_size=7)\n",
    "MyModel.load_state_dict(torch.load('./fastai_resnet50_weights.pt', map_location=device))\n",
    "MyModel.eval()\n",
    "#print(torch.cuda.memory_allocated())\n",
    "#print(MyModel)\n",
    "# load the CNet model\n",
    "#MyModel_1 = CNet()\n",
    "#MyModel_1.load_state_dict(torch.load('fastai_cnn_weights.pth'))\n",
    "#MyModel_1.eval()"
   ]
  },
  {
   "cell_type": "markdown",
   "metadata": {},
   "source": [
    "### Create a Pytorch model for foolbox attack"
   ]
  },
  {
   "cell_type": "code",
   "execution_count": 94,
   "metadata": {},
   "outputs": [],
   "source": [
    "preprocess = dict(mean=0.1307, std=0.3081)\n",
    "bound = (0, 1)\n",
    "original_model = fb.PyTorchModel(MyModel, bounds=bound, preprocessing=preprocess)"
   ]
  },
  {
   "cell_type": "markdown",
   "metadata": {},
   "source": [
    "- Three different attacks with 100 values of epsilons"
   ]
  },
  {
   "cell_type": "code",
   "execution_count": 41,
   "metadata": {},
   "outputs": [],
   "source": [
    "#attack0 = fb.attacks.LinfPGD()\n",
    "#attack1 = fb.attacks.BoundaryAttack()\n",
    "attack2 = fb.attacks.FGSM()\n",
    "#attack = [attack0, attack1, attack2]\n",
    "epsilon = np.linspace(0.0, 1, num=20)"
   ]
  },
  {
   "cell_type": "markdown",
   "metadata": {},
   "source": [
    "- Attack the ```trained network``` with model_dataset"
   ]
  },
  {
   "cell_type": "code",
   "execution_count": 42,
   "metadata": {},
   "outputs": [],
   "source": [
    "def model_attack(attk, model, images, labels, epsilon):\n",
    "    \"\"\"\n",
    "    Function to perform the adv attack on the pytorch model\n",
    "    \n",
    "    Parameters\n",
    "    --------------------\n",
    "    attk: type of foolbox attack\n",
    "    model: foolbox Pytorch model\n",
    "    image: the images used for the attack, either as ep.tensor or torch.tensor\n",
    "            size:(no_of_samples x dims)\n",
    "    labels: corresponding labels for the images, either as ep.tensor or torch.tensor\n",
    "            size:(no_of_samples \n",
    "    epsilon: the pertubation\n",
    "    \n",
    "    Return\n",
    "    -------------\n",
    "    clip_adv: list, the actual adversarial examples generated for the given model\n",
    "                size: similar to the input images\n",
    "    adv_ : boolean list, indicating whether a given image is adversarial example or not,\n",
    "            True - adversarial sample\n",
    "            False - not an adversarial sample\n",
    "    \"\"\"\n",
    "    raw_adv, clip_adv, adv_ = attk(model, images, labels, epsilons=epsilon)\n",
    "    \n",
    "    return clip_adv, adv_\n"
   ]
  },
  {
   "cell_type": "markdown",
   "metadata": {},
   "source": [
    "## Attack the model using 20 epsilon & ```FGSM attack```"
   ]
  },
  {
   "cell_type": "markdown",
   "metadata": {},
   "source": [
    "- Attack the model using validation_dataset (2100 images)\n",
    "- The model_dataset has 20000 images, selected using stratify split"
   ]
  },
  {
   "cell_type": "markdown",
   "metadata": {},
   "source": [
    "#### Load the the images"
   ]
  },
  {
   "cell_type": "code",
   "execution_count": 14,
   "metadata": {},
   "outputs": [],
   "source": [
    "md_images = torch.load('images/model_dataset_images.pt', map_location='cpu').cpu()\n",
    "md_labels = torch.load('images/model_dataset_labels.pt', map_location='cpu').cpu()\n",
    "\n",
    "vali_images = torch.load('images/validation_images.pt', map_location='cpu')\n",
    "vali_labels = torch.load('images/validation_labels.pt', map_location='cpu')"
   ]
  },
  {
   "cell_type": "code",
   "execution_count": 15,
   "metadata": {},
   "outputs": [
    {
     "name": "stdout",
     "output_type": "stream",
     "text": [
      "(array([0, 1, 2, 3, 4, 5, 6, 7, 8, 9]), array([6696, 7641, 6780, 6927, 6619, 6124, 6670, 7074, 6620, 6749]))\n",
      "(array([0, 1, 2, 3, 4, 5, 6, 7, 8, 9]), array([207, 236, 210, 214, 205, 189, 206, 219, 205, 209]))\n"
     ]
    }
   ],
   "source": [
    "print(np.unique(md_labels.cpu().numpy(), return_counts=True))\n",
    "print(np.unique(np.array(vali_labels), return_counts=True))"
   ]
  },
  {
   "cell_type": "markdown",
   "metadata": {},
   "source": [
    "- split the model_dataset to obtain 20000 images"
   ]
  },
  {
   "cell_type": "code",
   "execution_count": 16,
   "metadata": {},
   "outputs": [],
   "source": [
    "# split the model_dataset to obtain 20000 images for the attack\n",
    "_, X_images, _, y_labels = train_test_split(md_images.numpy(), md_labels.numpy(), test_size=0.29455, random_state=42, stratify=md_labels.numpy())"
   ]
  },
  {
   "cell_type": "code",
   "execution_count": 17,
   "metadata": {},
   "outputs": [
    {
     "name": "stdout",
     "output_type": "stream",
     "text": [
      "(array([0, 1, 2, 3, 4, 5, 6, 7, 8, 9]), array([1972, 2251, 1997, 2040, 1949, 1804, 1965, 2084, 1950, 1988]))\n"
     ]
    }
   ],
   "source": [
    "print(np.unique(np.array(y_labels), return_counts=True))"
   ]
  },
  {
   "cell_type": "code",
   "execution_count": 18,
   "metadata": {},
   "outputs": [],
   "source": [
    "images = ep.astensor(torch.from_numpy(np.array(X_images)).to(device))\n",
    "#labels = ep.astensor(torch.from_numpy(np.array(y_labels)).to(device))"
   ]
  },
  {
   "cell_type": "markdown",
   "metadata": {},
   "source": [
    "### Metrics"
   ]
  },
  {
   "cell_type": "code",
   "execution_count": 19,
   "metadata": {},
   "outputs": [],
   "source": [
    "def model_metrics(adv_imgs, real_imgs, epi_len):\n",
    "    \"\"\"\n",
    "    Function to compute density & coverage for the between the \n",
    "    real & adversarial samples\n",
    "    \n",
    "    Parameters\n",
    "    ---------------\n",
    "    adv_imgs: ep.tensor, the generated adversarial samples, size: no_of_images x image_dims\n",
    "    real_imgs: torch.tensor, size: no_of_images x dims\n",
    "    epi_len: integer, the length or number of epsilons used for the attack\n",
    "    \"\"\"\n",
    "    density = []\n",
    "    coverage = []\n",
    "    if not epi_len==1:\n",
    "        for i in range(epi_len):\n",
    "            # generated adversarial for each epsilon(convert from eagerpy --> torch and reshape)\n",
    "            gen = adv_imgs[i].raw.view(adv_imgs[i].shape[0], -1).cpu()\n",
    "\n",
    "            # density\n",
    "            density.append(gem_build_density(real_imgs, real_imgs.shape[0], gen, 'indexflatl2'))\n",
    "\n",
    "            # coverage\n",
    "            coverage.append(gem_build_coverage(real_imgs, real_imgs.shape[0], gen, 'indexflatl2'))\n",
    "    else:\n",
    "        gen = adv_imgs.raw.view(adv_imgs.shape[0], -1).cpu()\n",
    "\n",
    "        # density\n",
    "        density.append(gem_build_density(real_imgs, real_imgs.shape[0], gen, 'indexflatl2'))\n",
    "\n",
    "        # coverage\n",
    "        coverage.append(gem_build_coverage(real_imgs, real_imgs.shape[0], gen, 'indexflatl2'))\n",
    "        \n",
    "    return density, coverage"
   ]
  },
  {
   "cell_type": "markdown",
   "metadata": {},
   "source": [
    "### - density & coverage for\n",
    "\n",
    "#### --> model_dataset & adversarial samples "
   ]
  },
  {
   "cell_type": "code",
   "execution_count": 20,
   "metadata": {},
   "outputs": [],
   "source": [
    "# resize the real images\n",
    "real = images.raw.view(images.shape[0], -1)\n",
    "\n",
    "# 20 values of epsilons were considered\n",
    "# find the density & coverage for each vgalue of epsilons\n",
    "#density = []\n",
    "#coverage = []\n",
    "#for i in range(len(epsilon)):\n",
    "    \n",
    "    # generated adversarial for each epsilon(convert from eagerpy --> torch and reshape)\n",
    "    #gen = adv_images[i].raw.view(adv_images[i].shape[0], -1)\n",
    "    \n",
    "    # density\n",
    "    #density.append(gem_build_density(real, real.shape[0], gen, 'indexflatl2'))\n",
    "    \n",
    "    # coverage\n",
    "    #coverage.append(gem_build_coverage(real, real.shape[0], gen, 'indexflatl2'))"
   ]
  },
  {
   "cell_type": "markdown",
   "metadata": {},
   "source": [
    "#### --> model_dataset & validation set"
   ]
  },
  {
   "cell_type": "code",
   "execution_count": 95,
   "metadata": {},
   "outputs": [
    {
     "name": "stdout",
     "output_type": "stream",
     "text": [
      "tensor(0.9972, device='cuda:0') tensor(0.3916, device='cuda:0')\n"
     ]
    }
   ],
   "source": [
    "# images from the validation set\n",
    "gen_validate = torch.from_numpy(np.array(vali_images).reshape(len(vali_images), -1)).to(device)\n",
    "gen_labels = torch.from_numpy(np.array(vali_labels)).to(device)\n",
    "density_validate = gem_build_density(real, real.shape[0], gen_validate, 'indexflatl2')\n",
    "coverage_validate = gem_build_coverage(real, real.shape[0], gen_validate, 'indexflatl2')\n",
    "print(density_validate, coverage_validate)"
   ]
  },
  {
   "cell_type": "markdown",
   "metadata": {},
   "source": [
    "#### Attack the model using validation dataset"
   ]
  },
  {
   "cell_type": "code",
   "execution_count": 22,
   "metadata": {},
   "outputs": [
    {
     "name": "stdout",
     "output_type": "stream",
     "text": [
      "torch.Size([2100, 1, 28, 28]) torch.Size([2100])\n"
     ]
    }
   ],
   "source": [
    "vali_imagesx = ep.astensor(torch.from_numpy(np.array(vali_images)).to(device))\n",
    "vali_labelsx = ep.astensor(torch.from_numpy(np.array(vali_labels)).to(device))\n",
    "print(vali_imagesx.shape, vali_labelsx.shape)"
   ]
  },
  {
   "cell_type": "code",
   "execution_count": 112,
   "metadata": {},
   "outputs": [],
   "source": [
    "adv_vali, adv_info_vali = model_attack(attack2, original_model, vali_imagesx, vali_labelsx, epsilon)"
   ]
  },
  {
   "cell_type": "markdown",
   "metadata": {},
   "source": [
    "#### --> model_dataset and validation adversarial samples"
   ]
  },
  {
   "cell_type": "code",
   "execution_count": 113,
   "metadata": {},
   "outputs": [],
   "source": [
    "vali_den = []\n",
    "vali_cov = []\n",
    "for i in range(len(epsilon)):\n",
    "    \n",
    "    # generated adversarial for each epsilon(convert from eagerpy --> torch and reshape)\n",
    "    gen = adv_vali[i].raw.view(adv_vali[i].shape[0], -1)\n",
    "    \n",
    "    # density\n",
    "    vali_den.append(gem_build_density(real, real.shape[0], gen, 'indexflatl2'))\n",
    "    \n",
    "    # coverage\n",
    "    vali_cov.append(gem_build_coverage(real, real.shape[0], gen, 'indexflatl2'))"
   ]
  },
  {
   "cell_type": "code",
   "execution_count": 114,
   "metadata": {},
   "outputs": [],
   "source": [
    "robust_accuracy = []\n",
    "for i in range(20):\n",
    "    acc = 1 - adv_info_vali[i, :].raw.cpu().numpy().astype(np.float32).mean(axis=-1)\n",
    "    robust_accuracy.append(acc)"
   ]
  },
  {
   "cell_type": "code",
   "execution_count": 115,
   "metadata": {},
   "outputs": [
    {
     "name": "stdout",
     "output_type": "stream",
     "text": [
      "Density\n",
      "Model_dataset & validation set: density: 0.99724\n",
      "Epsilon: 0.00000, Accuracy: 0.53%, Vali_adv_density: 0.99724\n",
      "Epsilon: 0.05263, Accuracy: 0.55%, Vali_adv_density: 1.19229\n",
      "Epsilon: 0.10526, Accuracy: 0.57%, Vali_adv_density: 1.29952\n",
      "Epsilon: 0.15789, Accuracy: 0.60%, Vali_adv_density: 1.30505\n",
      "Epsilon: 0.21053, Accuracy: 0.61%, Vali_adv_density: 1.21933\n",
      "Epsilon: 0.26316, Accuracy: 0.63%, Vali_adv_density: 1.04752\n",
      "Epsilon: 0.31579, Accuracy: 0.65%, Vali_adv_density: 0.81562\n",
      "Epsilon: 0.36842, Accuracy: 0.66%, Vali_adv_density: 0.56486\n",
      "Epsilon: 0.42105, Accuracy: 0.66%, Vali_adv_density: 0.35352\n",
      "Epsilon: 0.47368, Accuracy: 0.62%, Vali_adv_density: 0.28962\n",
      "Epsilon: 0.52632, Accuracy: 0.56%, Vali_adv_density: 0.22876\n",
      "Epsilon: 0.57895, Accuracy: 0.49%, Vali_adv_density: 0.17838\n",
      "Epsilon: 0.63158, Accuracy: 0.43%, Vali_adv_density: 0.13448\n",
      "Epsilon: 0.68421, Accuracy: 0.39%, Vali_adv_density: 0.10486\n",
      "Epsilon: 0.73684, Accuracy: 0.35%, Vali_adv_density: 0.08152\n",
      "Epsilon: 0.78947, Accuracy: 0.31%, Vali_adv_density: 0.06800\n",
      "Epsilon: 0.84211, Accuracy: 0.27%, Vali_adv_density: 0.06086\n",
      "Epsilon: 0.89474, Accuracy: 0.24%, Vali_adv_density: 0.05724\n",
      "Epsilon: 0.94737, Accuracy: 0.20%, Vali_adv_density: 0.05762\n",
      "Epsilon: 1.00000, Accuracy: 0.18%, Vali_adv_density: 0.05943\n"
     ]
    }
   ],
   "source": [
    "print(\"Density\")\n",
    "print(f\"Model_dataset & validation set: density: {density_validate:.5f}\")\n",
    "#print(f\"Model_dataset & adversarial samples\")\n",
    "density_data = []\n",
    "for i in range(len(epsilon)):\n",
    "    print(\"Epsilon: {:.5f}, Accuracy: {:.2f}%, Vali_adv_density: {:.5f}\".format(epsilon[i], robust_accuracy[i], vali_den[i]))\n",
    "    density_data.append([epsilon[i], robust_accuracy[i], vali_den[i].cpu().numpy()])\n",
    "\n",
    "density_data = np.array(density_data)"
   ]
  },
  {
   "cell_type": "code",
   "execution_count": 109,
   "metadata": {},
   "outputs": [
    {
     "data": {
      "image/png": "[encoded data removed]",
      "text/plain": [
       "<Figure size 720x360 with 2 Axes>"
      ]
     },
     "metadata": {
      "needs_background": "light"
     },
     "output_type": "display_data"
    }
   ],
   "source": [
    "fig, ax = plt.subplots(nrows=1, ncols=2, figsize=(10,5))\n",
    "ax[0].plot(epsilon, vali_den, c='b', label='model_vali_adv')\n",
    "ax[0].plot(epsilon, np.repeat(density_validate.cpu().numpy(), len(epsilon)), ls='--', c='r', label='model_vali')\n",
    "ax[0].set_xlabel(\"Epsilons\")\n",
    "ax[0].set_ylabel(\"Density\")\n",
    "ax[0].set_title(\"FGSM attack(validation samples)\")\n",
    "ax[0].legend()\n",
    "ax[1].plot(epsilon, vali_cov, c='g', label='model_vali_adv')\n",
    "ax[1].plot(epsilon, np.repeat(coverage_validate.cpu().numpy(), len(epsilon)), ls='--', c='k', label='model_vali')\n",
    "ax[1].set_xlabel(\"Epsilons\")\n",
    "ax[1].set_ylabel(\"Coverage\")\n",
    "ax[1].set_title(\"FGSM attack(validation samples)\")\n",
    "ax[1].legend()\n",
    "fig.tight_layout()\n",
    "#plt.savefig(\"FGSM_attack_vali_samples.png\")"
   ]
  },
  {
   "cell_type": "code",
   "execution_count": 116,
   "metadata": {},
   "outputs": [
    {
     "name": "stdout",
     "output_type": "stream",
     "text": [
      "Coverage\n",
      "Model_dataset & validation set: coverage: 0.39159998297691345\n",
      "Model_dataset & adversarial samples\n",
      "Epsilon: 0.00000, Accuracy: 0.53%, Vali_adv_coverage: 0.39160\n",
      "Epsilon: 0.05263, Accuracy: 0.55%, Vali_adv_coverage: 0.44280\n",
      "Epsilon: 0.10526, Accuracy: 0.57%, Vali_adv_coverage: 0.46225\n",
      "Epsilon: 0.15789, Accuracy: 0.60%, Vali_adv_coverage: 0.44665\n",
      "Epsilon: 0.21053, Accuracy: 0.61%, Vali_adv_coverage: 0.41300\n",
      "Epsilon: 0.26316, Accuracy: 0.63%, Vali_adv_coverage: 0.35770\n",
      "Epsilon: 0.31579, Accuracy: 0.65%, Vali_adv_coverage: 0.28285\n",
      "Epsilon: 0.36842, Accuracy: 0.66%, Vali_adv_coverage: 0.20020\n",
      "Epsilon: 0.42105, Accuracy: 0.66%, Vali_adv_coverage: 0.12890\n",
      "Epsilon: 0.47368, Accuracy: 0.62%, Vali_adv_coverage: 0.10425\n",
      "Epsilon: 0.52632, Accuracy: 0.56%, Vali_adv_coverage: 0.08150\n",
      "Epsilon: 0.57895, Accuracy: 0.49%, Vali_adv_coverage: 0.06325\n",
      "Epsilon: 0.63158, Accuracy: 0.43%, Vali_adv_coverage: 0.04695\n",
      "Epsilon: 0.68421, Accuracy: 0.39%, Vali_adv_coverage: 0.03680\n",
      "Epsilon: 0.73684, Accuracy: 0.35%, Vali_adv_coverage: 0.02880\n",
      "Epsilon: 0.78947, Accuracy: 0.31%, Vali_adv_coverage: 0.02325\n",
      "Epsilon: 0.84211, Accuracy: 0.27%, Vali_adv_coverage: 0.02005\n",
      "Epsilon: 0.89474, Accuracy: 0.24%, Vali_adv_coverage: 0.01820\n",
      "Epsilon: 0.94737, Accuracy: 0.20%, Vali_adv_coverage: 0.01730\n",
      "Epsilon: 1.00000, Accuracy: 0.18%, Vali_adv_coverage: 0.01700\n"
     ]
    }
   ],
   "source": [
    "print(\"Coverage\")\n",
    "print(f\"Model_dataset & validation set: coverage: {coverage_validate}\")\n",
    "print(f\"Model_dataset & adversarial samples\")\n",
    "coverage_data = []\n",
    "for i in range(len(epsilon)):\n",
    "    print(\"Epsilon: {:.5f}, Accuracy: {:.2f}%, Vali_adv_coverage: {:.5f}\".format(epsilon[i], robust_accuracy[i], vali_cov[i]))\n",
    "    coverage_data.append([epsilon[i], robust_accuracy[i], vali_cov[i].cpu().numpy()])\n",
    "\n",
    "coverage_data = np.array(coverage_data)"
   ]
  },
  {
   "cell_type": "markdown",
   "metadata": {},
   "source": [
    "- save/write the density_data & coverage_data\n",
    "- info: attack model with model_dataset -> model_dataset & adversarial samples\n",
    "- attack model validataion_dataset -> model_dataset & vali_adv samples\n",
    "- model_dataset & vali_dataset"
   ]
  },
  {
   "cell_type": "code",
   "execution_count": 117,
   "metadata": {},
   "outputs": [],
   "source": [
    "with open('FGSM_attack_resnet50_density.dat', 'w') as newfile:\n",
    "    newfile.write(\"# FGSM attack resnet50 model with model_dataset(22000 images)\" + \"\\n\" +\n",
    "                 \"# and validation_images(2100) 20 epsilon\" + \"\\n\" +\n",
    "                 \"# Epsilon Model_accuracy Vali_adv_density\" + \"\\n\" +\n",
    "                 \"# Model_dataset & validation set: \" + str(density_validate.cpu().numpy()) + \"\\n\" )\n",
    "\n",
    "with open('FGSM_attack_resnet50_coverage.dat', 'w') as newfile:\n",
    "    newfile.write(\"# FGSM attack resnet50 model with model_dataset(22000 images)\" + \"\\n\" +\n",
    "                 \"# and validation_images(2100) 20 epsilon\" + \"\\n\" +\n",
    "                 \"# Epsilon Model_accuracy  Vali_adv_coverage\" + \"\\n\" +\n",
    "                 \"# Model_dataset & validation set: \" + str(coverage_validate.cpu().numpy()) + \"\\n\")\n",
    "with open('FGSM_attack_resnet50_density.dat', 'a') as addfile:\n",
    "    np.savetxt(addfile, density_data)\n",
    "    \n",
    "with open('FGSM_attack_resnet50_coverage.dat', 'a') as addfile:\n",
    "    np.savetxt(addfile, coverage_data)"
   ]
  },
  {
   "cell_type": "markdown",
   "metadata": {},
   "source": [
    "### Metrics for FGSM Attack - stats\n",
    "\n",
    "- ```Batch_modelvali_metrics``` - density & coverage between model_dataset(20000) & validation_dataset(2100) in batches of 100 samples\n",
    "- ```Batch_modelvali_adv_metrics``` - attack the model in batches using validation_dataset. Computed density & coverage between model_dataset & validation_adv samples"
   ]
  },
  {
   "cell_type": "code",
   "execution_count": 20,
   "metadata": {},
   "outputs": [],
   "source": [
    "def model_validation_metrics_batches(real, images, labels):\n",
    "    \"\"\"\n",
    "    Function to obtain density and coverage between model_dataset & \n",
    "    validation_dataset in batches (100 images)\n",
    "    \n",
    "    Parameters\n",
    "    ---------------\n",
    "    real: the model_dataset of (20000 images) using stratify split, torch.Tensor\n",
    "    images: the validation_dataset fo (2100 images) , torch.Tensor\n",
    "    labels: the labels for the validation_dataset, torch.Tensor\n",
    "    \n",
    "    Return\n",
    "    -----------------\n",
    "    bacth_model_vali_metrics: list containing density & coverage\n",
    "    \"\"\"\n",
    "    batches = np.arange(0, 2101, 42)\n",
    "    \n",
    "\n",
    "    bacth_model_vali_metrics = []\n",
    "    images = images.view(images.shape[0], -1)\n",
    "    for i in range(len(batches)-1):\n",
    "\n",
    "        # model_dataset & validation_dataset in batches\n",
    "        start = batches[i]; end= batches[i+1]\n",
    "        gen_validatex = images[start:end,...]\n",
    "        gen_labelsx = labels[start:end]\n",
    "        density_validatex = gem_build_density(real, real.shape[0], gen_validatex, 'indexflatl2')\n",
    "        coverage_validatex = gem_build_coverage(real, real.shape[0], gen_validatex, 'indexflatl2')\n",
    "        bacth_model_vali_metrics.append([density_validatex.cpu().numpy(), coverage_validatex.cpu().numpy()])\n",
    "   \n",
    "    return bacth_model_vali_metrics\n",
    "        "
   ]
  },
  {
   "cell_type": "code",
   "execution_count": 17,
   "metadata": {},
   "outputs": [],
   "source": [
    "def batch_validation_attack(real, images, labels, epi):\n",
    "    \"\"\"\n",
    "    Function to obtain the density & coverage between model_dataset & validation_adv dataset\n",
    "    \n",
    "    - attack the model in batches of validation dataset(100 images)\n",
    "    - for each epsilon value, compute the density & coverage for model_dataset & adv batch\n",
    "    \n",
    "    Parameters\n",
    "    -------------\n",
    "    real: real: the model_dataset of (20000 images) using stratify split, torch.Tensor\n",
    "    images: images: the validation_dataset fo (2100 images) , torch.Tensor\n",
    "    labels: the labels for the validation_dataset, torch.Tensor\n",
    "    epi: np.array, epsilons for the attack\n",
    "    \n",
    "    Return\n",
    "    -------------\n",
    "    batch_model_vali_adv_metrics: list containing density & coverage\n",
    "    \"\"\"\n",
    "    advs = []\n",
    "    batch_model_vali_adv_metrics = []\n",
    "    batches = np.arange(0, 2101, 42)\n",
    "    images = ep.astensor(images)\n",
    "    labels = ep.astensor(labels)\n",
    "    for i in range(len(batches)-1):\n",
    "        start = batches[i]; end= batches[i+1]\n",
    "        imagesx = images[start:end,...]\n",
    "        labelsx = labels[start:end]\n",
    "        adv_fgsm_batch, adv_fgsm_batch_info = model_attack(attack2, original_model, imagesx, labelsx, epi)\n",
    "        #advs.append(adv_fgsm_batch)\n",
    "    #print(adv_fgsm_batch[0].shape)\n",
    "    #print(len(advs[0]))\n",
    "        for i in range(len(adv_fgsm_batch)):\n",
    "            gen = adv_fgsm_batch[i].raw.view(len(adv_fgsm_batch[i]), -1)\n",
    "            densityx = gem_build_density(real, real.shape[0], gen, 'indexflatl2')\n",
    "            coveragex = gem_build_coverage(real, real.shape[0], gen, 'indexflatl2')\n",
    "            batch_model_vali_adv_metrics.append([densityx.cpu().numpy(), coveragex.cpu().numpy()])\n",
    "    \n",
    "    return batch_model_vali_adv_metrics"
   ]
  },
  {
   "cell_type": "code",
   "execution_count": 22,
   "metadata": {},
   "outputs": [],
   "source": [
    "realx = torch.from_numpy(np.array(X_images)).view(len(X_images), -1).to(device)\n",
    "vali_attk_images = torch.from_numpy(np.array(vali_images)).to(device)\n",
    "vali_attk_labels = torch.from_numpy(np.array(vali_labels)).to(device)\n",
    "epsilon = np.linspace(0.0, 1, num=20)\n"
   ]
  },
  {
   "cell_type": "code",
   "execution_count": 23,
   "metadata": {},
   "outputs": [],
   "source": [
    "Batch_modelvali_metrics = model_validation_metrics_batches(realx, vali_attk_images, vali_attk_labels)"
   ]
  },
  {
   "cell_type": "code",
   "execution_count": 25,
   "metadata": {},
   "outputs": [],
   "source": [
    "with open('FGSM_attack_42batch_metrics.dat', 'w') as newfile:\n",
    "    newfile.write(\"# FGSM attack with model_dataset(22000 images)\" + \"\\n\" +\n",
    "                 \"# and validation_images(2100) 20 epsilon in batches of 42 images\" + \"\\n\" +\n",
    "                 \"# metrics between model_dataset & validation dataset\" + \"\\n\" +\n",
    "                 \"# Model_vali_density Model_vali_coverage\" + \"\\n\" )\n",
    "with open('FGSM_attack_42batch_metrics.dat', 'a') as newfile:\n",
    "    np.savetxt(newfile, np.array(Batch_modelvali_metrics))"
   ]
  },
  {
   "cell_type": "code",
   "execution_count": 26,
   "metadata": {},
   "outputs": [],
   "source": [
    "Batch_modelvali_adv_metrics = batch_validation_attack(realx, vali_attk_images, vali_attk_labels, epsilon)"
   ]
  },
  {
   "cell_type": "code",
   "execution_count": 37,
   "metadata": {},
   "outputs": [],
   "source": [
    "with open('FGSM_attack_42batch_adv_metrics.dat', 'w') as newfile:\n",
    "    newfile.write(\"# FGSM attack with model_dataset(22000 images)\" + \"\\n\" +\n",
    "                 \"# and validation_images(2100) 20 epsilon in batches of 42 images\" + \"\\n\" +\n",
    "                 \"# metrics between model_dataset & adv validation dataset\" + \"\\n\" +\n",
    "                 \"# Model_vali_adv_density Model_vali_adv_coverage\" + \"\\n\" )\n",
    "with open('FGSM_attack_42batch_adv_metrics.dat', 'a') as newfile:\n",
    "    np.savetxt(newfile, np.array(Batch_modelvali_adv_metrics))"
   ]
  },
  {
   "cell_type": "markdown",
   "metadata": {},
   "source": [
    "## Attack the model using ```Boundary attack```"
   ]
  },
  {
   "cell_type": "markdown",
   "metadata": {},
   "source": [
    "This attack works fine i.e, adversarial samples are created if epsilon is assigned as None"
   ]
  },
  {
   "cell_type": "code",
   "execution_count": 88,
   "metadata": {},
   "outputs": [],
   "source": [
    "# manage memory\n",
    "#del md_images; del md_labels; del images; del labels\n",
    "#torch.cuda.empty_cache()\n",
    "#print(torch.cuda.memory_allocated())"
   ]
  },
  {
   "cell_type": "code",
   "execution_count": 41,
   "metadata": {},
   "outputs": [],
   "source": [
    "BdyAttack = fb.attacks.BoundaryAttack()"
   ]
  },
  {
   "cell_type": "markdown",
   "metadata": {},
   "source": [
    "#### Test attack using images & labels from foolbox\n",
    "\n",
    "This step is done to make sure adversarial samples are generated with the current version of foolbox"
   ]
  },
  {
   "cell_type": "code",
   "execution_count": 66,
   "metadata": {},
   "outputs": [],
   "source": [
    "test_imgs, test_labels = ep.astensors(*samples(original_model, dataset='mnist', batchsize=16))\n",
    "raw_advs, clipped_advs, success = BdyAttack(original_model, test_imgs, test_labels, epsilons=None)"
   ]
  },
  {
   "cell_type": "code",
   "execution_count": 67,
   "metadata": {},
   "outputs": [
    {
     "name": "stdout",
     "output_type": "stream",
     "text": [
      "robust accuracy:  PyTorchTensor(tensor(0., device='cuda:0'))\n"
     ]
    }
   ],
   "source": [
    "robust_accuracy = 1 - success.float32().mean(axis=-1)\n",
    "print(\"robust accuracy: \", robust_accuracy)"
   ]
  },
  {
   "cell_type": "markdown",
   "metadata": {},
   "source": [
    "#### Test attack using validation images\n",
    "\n",
    "A subset of 10 images from the validation_set is used for the attack"
   ]
  },
  {
   "cell_type": "code",
   "execution_count": 42,
   "metadata": {},
   "outputs": [],
   "source": [
    "vali_attk_images = ep.astensor(torch.from_numpy(np.array(vali_images)).to(device))\n",
    "vali_attk_labels = ep.astensor(torch.from_numpy(np.array(vali_labels)).to(device))"
   ]
  },
  {
   "cell_type": "code",
   "execution_count": 69,
   "metadata": {},
   "outputs": [],
   "source": [
    "attak = fb.attacks.BoundaryAttack()\n",
    "_, _, newsuccess = BdyAttack(original_model, vali_attk_images[:10,...], vali_attk_labels[:10], epsilons=None)"
   ]
  },
  {
   "cell_type": "code",
   "execution_count": 70,
   "metadata": {},
   "outputs": [
    {
     "name": "stdout",
     "output_type": "stream",
     "text": [
      "robust accuracy:  PyTorchTensor(tensor(0., device='cuda:0'))\n"
     ]
    }
   ],
   "source": [
    "robust_acc = 1 - newsuccess.float32().mean(axis=-1)\n",
    "print(\"robust accuracy: \", robust_accuracy)"
   ]
  },
  {
   "cell_type": "markdown",
   "metadata": {},
   "source": [
    "### Attack the model using entire validation_dataset\n",
    "\n",
    "- the Boundary Attack cannot be implemented if the starting images are not adversaries\n",
    "- to create these adversarial samples, ```init_attack``` needs to be specified\n",
    "- any of the attacks inherited from ```Minimization Attack``` can be used for this purpose\n",
    "- all the initial samples should be strictly adversarial samples\n",
    "\n",
    "##### Two different attacks were experimented\n",
    "- ```SaltandPepper```, ```LinearSearchBlendedUniformNoiseAttack```\n",
    "- modify the hyperparameters within these attacks to generate the adversarial samples\n",
    "- the generated samples are given as the starting points for the ```BoundaryAttack```\n",
    "- time complexity increases with changing these hyperparameters"
   ]
  },
  {
   "cell_type": "code",
   "execution_count": 46,
   "metadata": {},
   "outputs": [],
   "source": [
    "s_attack = fb.attacks.SaltAndPepperNoiseAttack()\n",
    "n_attack = fb.attacks.LinearSearchBlendedUniformNoiseAttack(directions=2500, steps=5000)\n",
    "#_, adv_lsbu, _ = n_attack(original_model, vali_attk_images, vali_attk_labels, epsilons=None)"
   ]
  },
  {
   "cell_type": "code",
   "execution_count": 12,
   "metadata": {},
   "outputs": [],
   "source": [
    "_, adv_bdy, adv_bdy_info = BdyAttack(original_model, vali_attk_images, vali_attk_labels, starting_points=adv_lsbu, epsilons=None)"
   ]
  },
  {
   "cell_type": "code",
   "execution_count": 32,
   "metadata": {},
   "outputs": [],
   "source": [
    "print(f\"acc: {1 - adv_bdy_info.float32().mean(axis=-1)}\")"
   ]
  },
  {
   "cell_type": "markdown",
   "metadata": {},
   "source": [
    "### Metrics"
   ]
  },
  {
   "cell_type": "markdown",
   "metadata": {},
   "source": [
    "#### - entire model_dataset (67000) & validation_dataset (2100)"
   ]
  },
  {
   "cell_type": "code",
   "execution_count": 43,
   "metadata": {},
   "outputs": [
    {
     "name": "stdout",
     "output_type": "stream",
     "text": [
      "tensor(1.0072, device='cuda:0') tensor(0.1424, device='cuda:0')\n"
     ]
    }
   ],
   "source": [
    "real = md_images.view(md_images.shape[0], -1).to(device)\n",
    "# images from the validation set\n",
    "gen_validate = vali_attk_images.raw.view(vali_attk_images.shape[0], -1)\n",
    "gen_labels = vali_attk_labels\n",
    "density_validate = gem_build_density(real, real.shape[0], gen_validate, 'indexflatl2')\n",
    "coverage_validate = gem_build_coverage(real, real.shape[0], gen_validate, 'indexflatl2')\n",
    "print(density_validate, coverage_validate)"
   ]
  },
  {
   "cell_type": "markdown",
   "metadata": {},
   "source": [
    "#### - model_dataset & validation_dataset adversarials"
   ]
  },
  {
   "cell_type": "code",
   "execution_count": 16,
   "metadata": {},
   "outputs": [
    {
     "name": "stdout",
     "output_type": "stream",
     "text": [
      "tensor(0.1557, device='cuda:0') tensor(0.0048, device='cuda:0')\n"
     ]
    }
   ],
   "source": [
    "gen_adv_val = adv_bdy.raw.view(adv_bdy.shape[0], -1)\n",
    "model_density_val = gem_build_density(real, real.shape[0], gen_adv_val, 'indexflatl2')\n",
    "model_coverage_val = gem_build_coverage(real, real.shape[0], gen_adv_val, 'indexflatl2')\n",
    "print(model_density_val, model_coverage_val)"
   ]
  },
  {
   "cell_type": "code",
   "execution_count": 21,
   "metadata": {},
   "outputs": [
    {
     "name": "stdout",
     "output_type": "stream",
     "text": [
      "Density\n",
      "Model_dataset & validation set: density: 1.00724\n",
      "Model_dataset & validation adv(2100): density: 0.15571\n"
     ]
    }
   ],
   "source": [
    "print(\"Density\")\n",
    "print(f\"Model_dataset & validation set: density: {density_validate:.5f}\")\n",
    "print(f\"Model_dataset & validation adv (2100): density: {model_density_val:.5f}\")"
   ]
  },
  {
   "cell_type": "markdown",
   "metadata": {},
   "source": [
    "### Attack the model with validation_dataset in batches"
   ]
  },
  {
   "cell_type": "markdown",
   "metadata": {},
   "source": [
    "- create the adversarial samples for each batch exclusively\n",
    "- use these images as starting_points for boundary attack"
   ]
  },
  {
   "cell_type": "markdown",
   "metadata": {},
   "source": [
    "#### Get the adversarial starting points for each Batch\n",
    "- load the 100Batch_Vali_Adv_LSBU.pt file for the saved LSBU adversarials( batch size of 100 images)\n",
    "- load the 42Batch_Vali_Adv_LSBU.pt file for the saved LSBU adversarials( batch size of 42 images)"
   ]
  },
  {
   "cell_type": "code",
   "execution_count": 89,
   "metadata": {
    "collapsed": true,
    "jupyter": {
     "outputs_hidden": true
    }
   },
   "outputs": [
    {
     "name": "stdout",
     "output_type": "stream",
     "text": [
      "acc: 0.0\n",
      "acc: 0.0\n",
      "acc: 0.0\n",
      "acc: 0.0\n",
      "acc: 0.0\n",
      "acc: 0.0\n",
      "acc: 0.0\n",
      "acc: 0.0\n",
      "acc: 0.0\n",
      "acc: 0.0\n",
      "acc: 0.0\n",
      "acc: 0.0\n",
      "acc: 0.0\n",
      "acc: 0.0\n",
      "acc: 0.0\n"
     ]
    }
   ],
   "source": [
    "batches = np.arange(0, 2101, 140)\n",
    "success = []\n",
    "batch_adv_samples = []\n",
    "for i in range(len(batches)-1):\n",
    "    start = batches[i]; end= batches[i+1]\n",
    "    _, batch_adv_lsbu, adv_bdy_info = n_attack(original_model, vali_attk_images[start:end,...], vali_attk_labels[start:end], epsilons=None)\n",
    "    print(f\"acc: {1 - adv_bdy_info.float32().mean(axis=-1)}\")\n",
    "    success.append(adv_bdy_info); batch_adv_samples.append(batch_adv_lsbu.raw)"
   ]
  },
  {
   "cell_type": "code",
   "execution_count": 88,
   "metadata": {},
   "outputs": [
    {
     "data": {
      "text/plain": [
       "16"
      ]
     },
     "execution_count": 88,
     "metadata": {},
     "output_type": "execute_result"
    }
   ],
   "source": [
    "len(np.arange(0, 2101, 140))"
   ]
  },
  {
   "cell_type": "code",
   "execution_count": 90,
   "metadata": {},
   "outputs": [],
   "source": [
    "batch_adv_lsbu_samples = torch.stack(batch_adv_samples)\n",
    "torch.save(batch_adv_lsbu_samples, '140Batch_Vali_Adv_LSBU.pt')"
   ]
  },
  {
   "cell_type": "code",
   "execution_count": 91,
   "metadata": {},
   "outputs": [],
   "source": [
    "#batch_lsbu_adv = torch.load('100Batch_Vali_Adv_LSBU.pt', map_location='cpu').to(device)\n",
    "batch_lsbu_adv = torch.load('140Batch_Vali_Adv_LSBU.pt', map_location='cpu').to(device)"
   ]
  },
  {
   "cell_type": "markdown",
   "metadata": {},
   "source": [
    "### BoundaryAttack on the model using batches of validation_dataset"
   ]
  },
  {
   "cell_type": "code",
   "execution_count": 92,
   "metadata": {},
   "outputs": [],
   "source": [
    "batch_bdy_adv = []\n",
    "batch_bdy_info = []\n",
    "for i in range(len(batches)-1):\n",
    "    start = batches[i]; end= batches[i+1]\n",
    "    _, adv_bdy, adv_bdy_info = BdyAttack(original_model, vali_attk_images[start:end,...], vali_attk_labels[start:end], \n",
    "                                         starting_points=batch_lsbu_adv[i], epsilons=None)\n",
    "    batch_bdy_adv.append(adv_bdy); batch_bdy_info.append(adv_bdy_info)"
   ]
  },
  {
   "cell_type": "markdown",
   "metadata": {},
   "source": [
    "### Metrics"
   ]
  },
  {
   "cell_type": "markdown",
   "metadata": {},
   "source": [
    "- #### model_dataset & validation_dataset in batches\n",
    "- #### model_deataset & validation adv in batches"
   ]
  },
  {
   "cell_type": "code",
   "execution_count": 93,
   "metadata": {},
   "outputs": [],
   "source": [
    "batch_density_validate = []\n",
    "batch_coverage_validate = []\n",
    "batch_model_density = []\n",
    "batch_model_coverage = []\n",
    "\n",
    "for i in range(len(batches)-1):\n",
    "    # model_dataset & validation_dataset in batches\n",
    "    start = batches[i]; end= batches[i+1]\n",
    "    bth_val_imgs = vali_attk_images[start:end,...]\n",
    "    gen_validatex = bth_val_imgs.raw.view(bth_val_imgs.shape[0], -1)\n",
    "    gen_labelsx = vali_attk_labels[start:end].raw\n",
    "    density_validatex = gem_build_density(real, real.shape[0], gen_validatex, 'indexflatl2')\n",
    "    coverage_validatex = gem_build_coverage(real, real.shape[0], gen_validatex, 'indexflatl2')\n",
    "    \n",
    "    # model_dataset & validation_dataset adversarials in batches\n",
    "    gen_adv_valx = batch_bdy_adv[i].raw.view(batch_bdy_adv[i].shape[0], -1)\n",
    "    model_density_valx = gem_build_density(real, real.shape[0], gen_adv_valx, 'indexflatl2')\n",
    "    model_coverage_valx = gem_build_coverage(real, real.shape[0], gen_adv_valx, 'indexflatl2')\n",
    "    \n",
    "    batch_density_validate.append(density_validatex)\n",
    "    batch_coverage_validate.append(coverage_validatex)\n",
    "    batch_model_density.append(model_density_valx)\n",
    "    batch_model_coverage.append(model_coverage_valx)\n"
   ]
  },
  {
   "cell_type": "code",
   "execution_count": 95,
   "metadata": {},
   "outputs": [],
   "source": [
    "with open('Boundary_attack_140batch_metrics.dat', 'w') as newfile:\n",
    "    newfile.write(\"# Boundary attack with validation_dataset(2100 images)\" + \"\\n\" +\n",
    "                 \"# and metrics using model_dataset(67000)\" + \"\\n\" +\n",
    "                 \"# Model_dataset & validation set: density: \" + str(density_validate.cpu().numpy()) + \"\\n\" +\n",
    "                 \"# Model_dataset & validation adv (2100): density: \" + str(0.15571429) + \"\\n\" +\n",
    "                 \"# Model_dataset & validation set: coverage: \" + str(coverage_validate.cpu().numpy()) + \"\\n\" +\n",
    "                 \"# Model_dataset & validation adv (2100): coverage: \" + str(0.0047275405) + \"\\n\" + \n",
    "                 \"# batch_no model_val_density model_val_adv_density model_val_coverage model_val_adv_coverage\" + \"\\n\")\n",
    "    \n",
    "with open('Boundary_attack_140batch_metrics.dat', 'a') as nefile:\n",
    "    for i in range (len(batch_density_validate)):\n",
    "        nefile.write(str(i)+ \" \" + str(batch_density_validate[i].cpu().numpy())+ \" \" + str(batch_model_density[i].cpu().numpy())+ \" \" +\n",
    "                    str(batch_coverage_validate[i].cpu().numpy()) + \" \" + str(batch_model_coverage[i].cpu().numpy()) + \"\\n\")"
   ]
  },
  {
   "cell_type": "markdown",
   "metadata": {},
   "source": [
    "## The End"
   ]
  },
  {
   "cell_type": "code",
   "execution_count": 1,
   "metadata": {},
   "outputs": [],
   "source": [
    "import medmnist"
   ]
  },
  {
   "cell_type": "code",
   "execution_count": null,
   "metadata": {},
   "outputs": [],
   "source": []
  }
 ],
 "metadata": {
  "kernelspec": {
   "display_name": "conda-n2gem",
   "language": "python",
   "name": "n2gem"
  },
  "language_info": {
   "codemirror_mode": {
    "name": "ipython",
    "version": 3
   },
   "file_extension": ".py",
   "mimetype": "text/x-python",
   "name": "python",
   "nbconvert_exporter": "python",
   "pygments_lexer": "ipython3",
   "version": "3.8.5"
  }
 },
 "nbformat": 4,
 "nbformat_minor": 4
}
