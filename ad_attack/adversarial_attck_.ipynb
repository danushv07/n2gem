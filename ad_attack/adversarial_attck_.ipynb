{
 "cells": [
  {
   "cell_type": "markdown",
   "metadata": {},
   "source": [
    "# Adversarial Attack \n",
    "\n",
    "- develop a model for mnist dataset using fastai\n",
    "- attack the model using foolbox (black box attack)\n",
    "- check the density & coverage metrics"
   ]
  },
  {
   "cell_type": "code",
   "execution_count": 1,
   "metadata": {},
   "outputs": [],
   "source": [
    "# dependencies\n",
    "import os \n",
    "os.environ[\"GIT_PYTHON_REFRESH\"] = \"quiet\" \n",
    "#!module load git\n",
    "import foolbox as fb\n",
    "import torch\n",
    "import eagerpy as ep\n",
    "from foolbox import PyTorchModel, accuracy, samples\n",
    "import numpy as np\n",
    "from n2gem.metrics import gem_build_coverage, gem_build_density\n",
    "from sklearn.model_selection import train_test_split\n",
    "import matplotlib.pyplot as plt"
   ]
  },
  {
   "cell_type": "code",
   "execution_count": 2,
   "metadata": {},
   "outputs": [],
   "source": [
    "import torchvision\n",
    "from fastai.vision.all import *\n",
    "from fastai.vision import *"
   ]
  },
  {
   "cell_type": "code",
   "execution_count": 3,
   "metadata": {},
   "outputs": [],
   "source": [
    "import medmnist\n",
    "from medmnist import INFO, Evaluator"
   ]
  },
  {
   "cell_type": "markdown",
   "metadata": {},
   "source": [
    "Fix the seed generator"
   ]
  },
  {
   "cell_type": "code",
   "execution_count": 4,
   "metadata": {},
   "outputs": [],
   "source": [
    "torch.manual_seed(42) \n",
    "if torch.cuda.is_available():\n",
    "    torch.cuda.manual_seed_all(42)\n",
    "np.random.seed(42)"
   ]
  },
  {
   "cell_type": "code",
   "execution_count": 5,
   "metadata": {},
   "outputs": [
    {
     "name": "stdout",
     "output_type": "stream",
     "text": [
      "cuda\n",
      "0\n"
     ]
    },
    {
     "data": {
      "text/plain": [
       "1"
      ]
     },
     "execution_count": 5,
     "metadata": {},
     "output_type": "execute_result"
    }
   ],
   "source": [
    "device = 'cuda' if torch.cuda.is_available() else 'cpu'\n",
    "print(device); print(torch.cuda.memory_allocated())\n",
    "torch.cuda.device_count()"
   ]
  },
  {
   "cell_type": "code",
   "execution_count": 6,
   "metadata": {},
   "outputs": [],
   "source": [
    "from skmultilearn.model_selection import iterative_train_test_split"
   ]
  },
  {
   "cell_type": "markdown",
   "metadata": {},
   "source": [
    "### Import the MNIST dataset "
   ]
  },
  {
   "cell_type": "code",
   "execution_count": 101,
   "metadata": {},
   "outputs": [],
   "source": [
    "def load_mnist():\n",
    "    \"\"\"Function to load the mnist\n",
    "        The following transform is aaplied: Normalize:(0.1307,)(0.3081,)\n",
    "    \n",
    "    \"\"\"\n",
    "    transforms = torchvision.transforms.Compose([\n",
    "        torchvision.transforms.ToTensor()\n",
    "        #torchvision.transforms.Normalize((0.1307,), (0.3081))\n",
    "    ])\n",
    "    train_set = torchvision.datasets.MNIST('./files/', train=True, download=True, transform=transforms)\n",
    "    test_set = torchvision.datasets.MNIST('./files/', train=False, download=True, transform=transforms)\n",
    "    \n",
    "    return train_set, test_set\n",
    "\n",
    "train_set, test_set = load_mnist()"
   ]
  },
  {
   "cell_type": "code",
   "execution_count": 102,
   "metadata": {},
   "outputs": [],
   "source": [
    "dataset = torch.utils.data.ConcatDataset([train_set, test_set])\n",
    "X=[]; Y=[];\n",
    "for i in range(len(dataset)):\n",
    "    x, y = dataset[i]\n",
    "    X.append(x.numpy())  #.detach().cpu().numpy())\n",
    "    Y.append(y)"
   ]
  },
  {
   "cell_type": "code",
   "execution_count": 164,
   "metadata": {},
   "outputs": [
    {
     "data": {
      "text/plain": [
       "(2.8175676, -0.42446432)"
      ]
     },
     "execution_count": 164,
     "metadata": {},
     "output_type": "execute_result"
    }
   ],
   "source": [
    "xx = np.array(X)\n",
    "zz = (xx - np.mean(xx)) / np.std(xx)\n",
    "zz.max(), zz.min()"
   ]
  },
  {
   "cell_type": "markdown",
   "metadata": {},
   "source": [
    "### Import the MEDMNIST dataset "
   ]
  },
  {
   "cell_type": "code",
   "execution_count": 15,
   "metadata": {},
   "outputs": [],
   "source": [
    "#from torch.utils.data import Dataset\n",
    "data_transform = torchvision.transforms.Compose([\n",
    "    #torchvision.transforms.ToPILImage(),\n",
    "    torchvision.transforms.ToTensor(),\n",
    "    torchvision.transforms.Grayscale(),\n",
    "    torchvision.transforms.Normalize((0.6146,),(0.1537,)) # pathmnist grayscale-normalize values\n",
    "    #torchvision.transforms.Normalize((0.74,0.53,0.71), (0.12,0.18,0.13)) # pathmnist RGB normalize values\n",
    "    #torchvision.transforms.Normalize((0.5,0.5, 0.5), (0.5,0.5,0.5)) \n",
    "    #torchvision.transforms.Normalize((0.4938), (0.2381))  # chestmnist\n",
    "    #torchvision.transforms.Normalize((0.4657), (0.2936))  # organmnist\n",
    "    \n",
    "])\n",
    "tar_transform = torchvision.transforms.Compose([\n",
    "    torchvision.transforms.ToTensor()])\n",
    "class LoadMed(torch.utils.data.Dataset):\n",
    "    \n",
    "    def __init__(self, imgs, labels, transform):\n",
    "        \n",
    "        self.images = imgs\n",
    "        self.labels = labels\n",
    "        self.transform = transform\n",
    "        \n",
    "        \n",
    "    def __len__(self):\n",
    "        return self.images.shape[0]\n",
    "    \n",
    "    def __getitem__(self, idx):\n",
    "        \n",
    "        img, target = self.images[idx], self.labels[idx].astype(int)\n",
    "        img = Image.fromarray(img)\n",
    "\n",
    "        if self.transform is not None:\n",
    "            img = self.transform(img)\n",
    "        \n",
    "\n",
    "        return img, target\n",
    "        \n",
    "        \n",
    "        \n",
    "\n",
    "npz_file = np.load('/home/venkat31/.medmnist/pathmnist.npz')\n",
    "\n",
    "train_imgs = npz_file['train_images']\n",
    "test_imgs = npz_file['test_images']\n",
    "val_imgs = npz_file['val_images']\n",
    "\n",
    "train_labels = npz_file['train_labels']\n",
    "test_labels = npz_file['test_labels']\n",
    "val_labels = npz_file['val_labels']"
   ]
  },
  {
   "cell_type": "code",
   "execution_count": 32,
   "metadata": {},
   "outputs": [
    {
     "name": "stdout",
     "output_type": "stream",
     "text": [
      "14\n"
     ]
    }
   ],
   "source": [
    "data_flag = 'chestmnist'\n",
    "# data_flag = 'breastmnist'\n",
    "#download = True\n",
    "\n",
    "NUM_EPOCHS = 3\n",
    "BATCH_SIZE = 128\n",
    "lr = 0.001\n",
    "\n",
    "info = INFO[data_flag]\n",
    "task = info['task']\n",
    "n_channels = info['n_channels']\n",
    "n_classes = len(info['label'])\n",
    "\n",
    "DataClass = getattr(medmnist, info['python_class'])\n",
    "print(n_classes)"
   ]
  },
  {
   "cell_type": "code",
   "execution_count": 16,
   "metadata": {},
   "outputs": [],
   "source": [
    "arr_X_dataset = np.concatenate([train_imgs, test_imgs, val_imgs])\n",
    "arr_Y_dataset = np.concatenate([train_labels, test_labels, val_labels])"
   ]
  },
  {
   "cell_type": "code",
   "execution_count": 17,
   "metadata": {},
   "outputs": [
    {
     "data": {
      "text/plain": [
       "(107180, 28, 28, 3)"
      ]
     },
     "execution_count": 17,
     "metadata": {},
     "output_type": "execute_result"
    }
   ],
   "source": [
    "arr_X_dataset.shape"
   ]
  },
  {
   "cell_type": "code",
   "execution_count": 40,
   "metadata": {},
   "outputs": [
    {
     "name": "stdout",
     "output_type": "stream",
     "text": [
      "(58850, 1)\n"
     ]
    },
    {
     "data": {
      "text/plain": [
       "(array([ 0,  1,  2,  3,  4,  5,  6,  7,  8,  9, 10], dtype=uint8),\n",
       " array([ 3313,  2425,  2377,  2651,  6595,  6419, 10482,  6699,  6751,\n",
       "         5182,  5956]))"
      ]
     },
     "execution_count": 40,
     "metadata": {},
     "output_type": "execute_result"
    }
   ],
   "source": [
    "print(arr_Y_dataset.shape)\n",
    "np.unique(arr_Y_dataset, return_counts=True)"
   ]
  },
  {
   "cell_type": "code",
   "execution_count": 30,
   "metadata": {},
   "outputs": [
    {
     "data": {
      "image/png": "[encoded data removed]",
      "text/plain": [
       "<Figure size 432x288 with 1 Axes>"
      ]
     },
     "metadata": {
      "needs_background": "light"
     },
     "output_type": "display_data"
    }
   ],
   "source": [
    "plt.hist(arr_Y_dataset.ravel(),  rwidth=0.96, bins=11)\n",
    "plt.xticks(np.arange(0,11,1), np.arange(0,11,1))\n",
    "plt.xlabel('Class')\n",
    "plt.ylabel('frequency')\n",
    "plt.title('Organ mnist dataset')\n",
    "plt.savefig('Organmnist_lables_hist.png')"
   ]
  },
  {
   "cell_type": "code",
   "execution_count": 18,
   "metadata": {},
   "outputs": [],
   "source": [
    "dataset = LoadMed(arr_X_dataset, arr_Y_dataset, data_transform)"
   ]
  },
  {
   "cell_type": "code",
   "execution_count": 11,
   "metadata": {},
   "outputs": [],
   "source": [
    "model_imgs=[]; model_labels=[]\n",
    "for i in range(len(dataset)):\n",
    "    x,y = dataset[i]\n",
    "    model_imgs.append(x)\n",
    "    model_labels.append(torch.from_numpy(y))"
   ]
  },
  {
   "cell_type": "code",
   "execution_count": 12,
   "metadata": {},
   "outputs": [
    {
     "data": {
      "text/plain": [
       "torch.Size([1, 28, 28])"
      ]
     },
     "execution_count": 12,
     "metadata": {},
     "output_type": "execute_result"
    }
   ],
   "source": [
    "model_imgs[0].shape"
   ]
  },
  {
   "cell_type": "code",
   "execution_count": 14,
   "metadata": {},
   "outputs": [
    {
     "data": {
      "text/plain": [
       "tensor(0.1537)"
      ]
     },
     "execution_count": 14,
     "metadata": {},
     "output_type": "execute_result"
    }
   ],
   "source": [
    "new_modelimgs = torch.stack(model_imgs)\n",
    "new_modelimgs.std()"
   ]
  },
  {
   "cell_type": "markdown",
   "metadata": {},
   "source": [
    "### Chestmnist startify split"
   ]
  },
  {
   "cell_type": "code",
   "execution_count": 10,
   "metadata": {},
   "outputs": [],
   "source": [
    "X_train, y_train, X_test, y_test = iterative_train_test_split(arr_X_dataset, arr_Y_dataset, test_size = 0.03)"
   ]
  },
  {
   "cell_type": "code",
   "execution_count": 11,
   "metadata": {},
   "outputs": [],
   "source": [
    "x_train, yy_train, x_test, yy_test = iterative_train_test_split(X_train, y_train, test_size = 0.3)"
   ]
  },
  {
   "cell_type": "code",
   "execution_count": 22,
   "metadata": {},
   "outputs": [
    {
     "data": {
      "text/plain": [
       "((76129, 28, 28), (32627, 28, 28))"
      ]
     },
     "execution_count": 22,
     "metadata": {},
     "output_type": "execute_result"
    }
   ],
   "source": [
    "x_train.shape, x_test.shape"
   ]
  },
  {
   "cell_type": "code",
   "execution_count": 12,
   "metadata": {},
   "outputs": [
    {
     "name": "stdout",
     "output_type": "stream",
     "text": [
      "108756 108756\n"
     ]
    }
   ],
   "source": [
    "model_dataset = LoadMed(X_train, y_train, data_transform)\n",
    "model_imgs=[]; model_labels=[]\n",
    "for i in range(len(model_dataset)):\n",
    "    x,y = model_dataset[i]\n",
    "    model_imgs.append(x)\n",
    "    model_labels.append(torch.from_numpy(y))\n",
    "    \n",
    "print(len(model_imgs), len(model_labels))\n"
   ]
  },
  {
   "cell_type": "code",
   "execution_count": 68,
   "metadata": {},
   "outputs": [
    {
     "data": {
      "text/plain": [
       "torch.Tensor"
      ]
     },
     "execution_count": 68,
     "metadata": {},
     "output_type": "execute_result"
    }
   ],
   "source": [
    "type(model_labels[0])"
   ]
  },
  {
   "cell_type": "code",
   "execution_count": 14,
   "metadata": {},
   "outputs": [
    {
     "data": {
      "text/plain": [
       "tensor(-0.0003)"
      ]
     },
     "execution_count": 14,
     "metadata": {},
     "output_type": "execute_result"
    }
   ],
   "source": [
    "new_modelimgs = torch.stack(model_imgs)\n",
    "new_modellab = torch.stack(model_labels)\n",
    "\n",
    "new_modelimgs.mean()"
   ]
  },
  {
   "cell_type": "code",
   "execution_count": 15,
   "metadata": {},
   "outputs": [],
   "source": [
    "torch.save(new_modelimgs, 'chestmnist_model_images.pt')\n",
    "torch.save(new_modellab, 'chestmnist_model_labels.pt')"
   ]
  },
  {
   "cell_type": "code",
   "execution_count": 23,
   "metadata": {},
   "outputs": [],
   "source": [
    "train_set = LoadMed(x_train, yy_train, data_transform)\n",
    "test_set = LoadMed(x_test, yy_test, data_transform)"
   ]
  },
  {
   "cell_type": "code",
   "execution_count": 7,
   "metadata": {},
   "outputs": [],
   "source": [
    "train_set = LoadMed(train_imgs, train_labels, data_transform)\n",
    "test_set = LoadMed(test_imgs, test_labels, data_transform)"
   ]
  },
  {
   "cell_type": "code",
   "execution_count": 16,
   "metadata": {},
   "outputs": [],
   "source": [
    "val_set = LoadMed(X_test, y_test, data_transform)"
   ]
  },
  {
   "cell_type": "code",
   "execution_count": 17,
   "metadata": {},
   "outputs": [
    {
     "data": {
      "text/plain": [
       "(tensor(0.9869), 3364)"
      ]
     },
     "execution_count": 17,
     "metadata": {},
     "output_type": "execute_result"
    }
   ],
   "source": [
    "val_set[0][0].std(), len(val_set)"
   ]
  },
  {
   "cell_type": "code",
   "execution_count": 18,
   "metadata": {},
   "outputs": [],
   "source": [
    "val_imgs = []; val_labels=[]\n",
    "for i in range(len(val_set)):\n",
    "    x, y = val_set[i]\n",
    "    val_imgs.append(x.numpy())\n",
    "    val_labels.append(torch.from_numpy(y))"
   ]
  },
  {
   "cell_type": "code",
   "execution_count": 19,
   "metadata": {},
   "outputs": [
    {
     "data": {
      "text/plain": [
       "3364"
      ]
     },
     "execution_count": 19,
     "metadata": {},
     "output_type": "execute_result"
    }
   ],
   "source": [
    "len(val_labels)"
   ]
  },
  {
   "cell_type": "code",
   "execution_count": 20,
   "metadata": {},
   "outputs": [],
   "source": [
    "torch.save(val_imgs, 'chestmnist_validation_images.pt')\n",
    "torch.save(val_labels, 'chestmnist_validation_labels.pt')"
   ]
  },
  {
   "cell_type": "code",
   "execution_count": 20,
   "metadata": {},
   "outputs": [
    {
     "data": {
      "text/plain": [
       "(torch.Size([1, 28, 28]), (14,))"
      ]
     },
     "execution_count": 20,
     "metadata": {},
     "output_type": "execute_result"
    }
   ],
   "source": [
    "x, y = train_set[0]\n",
    "x.shape, y.shape"
   ]
  },
  {
   "cell_type": "code",
   "execution_count": 43,
   "metadata": {
    "collapsed": true,
    "jupyter": {
     "outputs_hidden": true
    }
   },
   "outputs": [
    {
     "ename": "ValueError",
     "evalue": "pic should be 2/3 dimensional. Got 1 dimensions.",
     "output_type": "error",
     "traceback": [
      "\u001b[0;31m---------------------------------------------------------------------------\u001b[0m",
      "\u001b[0;31mValueError\u001b[0m                                Traceback (most recent call last)",
      "\u001b[0;32m<ipython-input-43-0792b82eb62c>\u001b[0m in \u001b[0;36m<module>\u001b[0;34m\u001b[0m\n\u001b[0;32m----> 1\u001b[0;31m \u001b[0mimgs\u001b[0m \u001b[0;34m=\u001b[0m \u001b[0mtorch\u001b[0m\u001b[0;34m.\u001b[0m\u001b[0mstack\u001b[0m\u001b[0;34m(\u001b[0m\u001b[0;34m[\u001b[0m\u001b[0mimg\u001b[0m \u001b[0;32mfor\u001b[0m \u001b[0mimg\u001b[0m\u001b[0;34m,\u001b[0m\u001b[0m_\u001b[0m \u001b[0;32min\u001b[0m \u001b[0mtrain_set\u001b[0m\u001b[0;34m]\u001b[0m\u001b[0;34m)\u001b[0m\u001b[0;34m\u001b[0m\u001b[0;34m\u001b[0m\u001b[0m\n\u001b[0m\u001b[1;32m      2\u001b[0m \u001b[0mimgs\u001b[0m\u001b[0;34m.\u001b[0m\u001b[0mshape\u001b[0m\u001b[0;34m\u001b[0m\u001b[0;34m\u001b[0m\u001b[0m\n",
      "\u001b[0;32m<ipython-input-43-0792b82eb62c>\u001b[0m in \u001b[0;36m<listcomp>\u001b[0;34m(.0)\u001b[0m\n\u001b[0;32m----> 1\u001b[0;31m \u001b[0mimgs\u001b[0m \u001b[0;34m=\u001b[0m \u001b[0mtorch\u001b[0m\u001b[0;34m.\u001b[0m\u001b[0mstack\u001b[0m\u001b[0;34m(\u001b[0m\u001b[0;34m[\u001b[0m\u001b[0mimg\u001b[0m \u001b[0;32mfor\u001b[0m \u001b[0mimg\u001b[0m\u001b[0;34m,\u001b[0m\u001b[0m_\u001b[0m \u001b[0;32min\u001b[0m \u001b[0mtrain_set\u001b[0m\u001b[0;34m]\u001b[0m\u001b[0;34m)\u001b[0m\u001b[0;34m\u001b[0m\u001b[0;34m\u001b[0m\u001b[0m\n\u001b[0m\u001b[1;32m      2\u001b[0m \u001b[0mimgs\u001b[0m\u001b[0;34m.\u001b[0m\u001b[0mshape\u001b[0m\u001b[0;34m\u001b[0m\u001b[0;34m\u001b[0m\u001b[0m\n",
      "\u001b[0;32m<ipython-input-40-3dfb732cc018>\u001b[0m in \u001b[0;36m__getitem__\u001b[0;34m(self, idx)\u001b[0m\n\u001b[1;32m     31\u001b[0m \u001b[0;34m\u001b[0m\u001b[0m\n\u001b[1;32m     32\u001b[0m         \u001b[0;32mif\u001b[0m \u001b[0mself\u001b[0m\u001b[0;34m.\u001b[0m\u001b[0mtarget_transform\u001b[0m \u001b[0;32mis\u001b[0m \u001b[0;32mnot\u001b[0m \u001b[0;32mNone\u001b[0m\u001b[0;34m:\u001b[0m\u001b[0;34m\u001b[0m\u001b[0;34m\u001b[0m\u001b[0m\n\u001b[0;32m---> 33\u001b[0;31m             \u001b[0mtarget\u001b[0m \u001b[0;34m=\u001b[0m \u001b[0mself\u001b[0m\u001b[0;34m.\u001b[0m\u001b[0mtarget_transform\u001b[0m\u001b[0;34m(\u001b[0m\u001b[0mtarget\u001b[0m\u001b[0;34m)\u001b[0m\u001b[0;34m\u001b[0m\u001b[0;34m\u001b[0m\u001b[0m\n\u001b[0m\u001b[1;32m     34\u001b[0m \u001b[0;34m\u001b[0m\u001b[0m\n\u001b[1;32m     35\u001b[0m         \u001b[0mtarget\u001b[0m \u001b[0;34m=\u001b[0m \u001b[0mtarget\u001b[0m\u001b[0;34m.\u001b[0m\u001b[0mtype\u001b[0m\u001b[0;34m(\u001b[0m\u001b[0mtorch\u001b[0m\u001b[0;34m.\u001b[0m\u001b[0mLongTensor\u001b[0m\u001b[0;34m(\u001b[0m\u001b[0;34m)\u001b[0m\u001b[0;34m)\u001b[0m\u001b[0;34m\u001b[0m\u001b[0;34m\u001b[0m\u001b[0m\n",
      "\u001b[0;32m~/.conda/envs/n2gem/lib/python3.8/site-packages/torchvision/transforms/transforms.py\u001b[0m in \u001b[0;36m__call__\u001b[0;34m(self, img)\u001b[0m\n\u001b[1;32m     58\u001b[0m     \u001b[0;32mdef\u001b[0m \u001b[0m__call__\u001b[0m\u001b[0;34m(\u001b[0m\u001b[0mself\u001b[0m\u001b[0;34m,\u001b[0m \u001b[0mimg\u001b[0m\u001b[0;34m)\u001b[0m\u001b[0;34m:\u001b[0m\u001b[0;34m\u001b[0m\u001b[0;34m\u001b[0m\u001b[0m\n\u001b[1;32m     59\u001b[0m         \u001b[0;32mfor\u001b[0m \u001b[0mt\u001b[0m \u001b[0;32min\u001b[0m \u001b[0mself\u001b[0m\u001b[0;34m.\u001b[0m\u001b[0mtransforms\u001b[0m\u001b[0;34m:\u001b[0m\u001b[0;34m\u001b[0m\u001b[0;34m\u001b[0m\u001b[0m\n\u001b[0;32m---> 60\u001b[0;31m             \u001b[0mimg\u001b[0m \u001b[0;34m=\u001b[0m \u001b[0mt\u001b[0m\u001b[0;34m(\u001b[0m\u001b[0mimg\u001b[0m\u001b[0;34m)\u001b[0m\u001b[0;34m\u001b[0m\u001b[0;34m\u001b[0m\u001b[0m\n\u001b[0m\u001b[1;32m     61\u001b[0m         \u001b[0;32mreturn\u001b[0m \u001b[0mimg\u001b[0m\u001b[0;34m\u001b[0m\u001b[0;34m\u001b[0m\u001b[0m\n\u001b[1;32m     62\u001b[0m \u001b[0;34m\u001b[0m\u001b[0m\n",
      "\u001b[0;32m~/.conda/envs/n2gem/lib/python3.8/site-packages/torchvision/transforms/transforms.py\u001b[0m in \u001b[0;36m__call__\u001b[0;34m(self, pic)\u001b[0m\n\u001b[1;32m     95\u001b[0m             \u001b[0mTensor\u001b[0m\u001b[0;34m:\u001b[0m \u001b[0mConverted\u001b[0m \u001b[0mimage\u001b[0m\u001b[0;34m.\u001b[0m\u001b[0;34m\u001b[0m\u001b[0;34m\u001b[0m\u001b[0m\n\u001b[1;32m     96\u001b[0m         \"\"\"\n\u001b[0;32m---> 97\u001b[0;31m         \u001b[0;32mreturn\u001b[0m \u001b[0mF\u001b[0m\u001b[0;34m.\u001b[0m\u001b[0mto_tensor\u001b[0m\u001b[0;34m(\u001b[0m\u001b[0mpic\u001b[0m\u001b[0;34m)\u001b[0m\u001b[0;34m\u001b[0m\u001b[0;34m\u001b[0m\u001b[0m\n\u001b[0m\u001b[1;32m     98\u001b[0m \u001b[0;34m\u001b[0m\u001b[0m\n\u001b[1;32m     99\u001b[0m     \u001b[0;32mdef\u001b[0m \u001b[0m__repr__\u001b[0m\u001b[0;34m(\u001b[0m\u001b[0mself\u001b[0m\u001b[0;34m)\u001b[0m\u001b[0;34m:\u001b[0m\u001b[0;34m\u001b[0m\u001b[0;34m\u001b[0m\u001b[0m\n",
      "\u001b[0;32m~/.conda/envs/n2gem/lib/python3.8/site-packages/torchvision/transforms/functional.py\u001b[0m in \u001b[0;36mto_tensor\u001b[0;34m(pic)\u001b[0m\n\u001b[1;32m    103\u001b[0m \u001b[0;34m\u001b[0m\u001b[0m\n\u001b[1;32m    104\u001b[0m     \u001b[0;32mif\u001b[0m \u001b[0m_is_numpy\u001b[0m\u001b[0;34m(\u001b[0m\u001b[0mpic\u001b[0m\u001b[0;34m)\u001b[0m \u001b[0;32mand\u001b[0m \u001b[0;32mnot\u001b[0m \u001b[0m_is_numpy_image\u001b[0m\u001b[0;34m(\u001b[0m\u001b[0mpic\u001b[0m\u001b[0;34m)\u001b[0m\u001b[0;34m:\u001b[0m\u001b[0;34m\u001b[0m\u001b[0;34m\u001b[0m\u001b[0m\n\u001b[0;32m--> 105\u001b[0;31m         \u001b[0;32mraise\u001b[0m \u001b[0mValueError\u001b[0m\u001b[0;34m(\u001b[0m\u001b[0;34m'pic should be 2/3 dimensional. Got {} dimensions.'\u001b[0m\u001b[0;34m.\u001b[0m\u001b[0mformat\u001b[0m\u001b[0;34m(\u001b[0m\u001b[0mpic\u001b[0m\u001b[0;34m.\u001b[0m\u001b[0mndim\u001b[0m\u001b[0;34m)\u001b[0m\u001b[0;34m)\u001b[0m\u001b[0;34m\u001b[0m\u001b[0;34m\u001b[0m\u001b[0m\n\u001b[0m\u001b[1;32m    106\u001b[0m \u001b[0;34m\u001b[0m\u001b[0m\n\u001b[1;32m    107\u001b[0m     \u001b[0mdefault_float_dtype\u001b[0m \u001b[0;34m=\u001b[0m \u001b[0mtorch\u001b[0m\u001b[0;34m.\u001b[0m\u001b[0mget_default_dtype\u001b[0m\u001b[0;34m(\u001b[0m\u001b[0;34m)\u001b[0m\u001b[0;34m\u001b[0m\u001b[0;34m\u001b[0m\u001b[0m\n",
      "\u001b[0;31mValueError\u001b[0m: pic should be 2/3 dimensional. Got 1 dimensions."
     ]
    }
   ],
   "source": [
    "imgs = torch.stack([img for img,_ in train_set])\n",
    "imgs.shape"
   ]
  },
  {
   "cell_type": "code",
   "execution_count": 19,
   "metadata": {},
   "outputs": [
    {
     "data": {
      "text/plain": [
       "(tensor(-9.0690e-05), tensor(1.0001))"
      ]
     },
     "execution_count": 19,
     "metadata": {},
     "output_type": "execute_result"
    }
   ],
   "source": [
    "g = imgs.reshape(imgs.shape[0], -1)\n",
    "g.mean(), g.std()"
   ]
  },
  {
   "cell_type": "markdown",
   "metadata": {},
   "source": [
    "-------------------------------------------------------------------------------------------------------\n",
    "-------------------------------------------------------------------------------------------------------"
   ]
  },
  {
   "cell_type": "markdown",
   "metadata": {},
   "source": [
    "### Combine the datasets and stratify split \n",
    "- Combine train and test\n",
    "- form the model_dataset[training+ test] and validation set\n",
    "- obtain training & test set to train on the model from model_dataset"
   ]
  },
  {
   "cell_type": "code",
   "execution_count": 19,
   "metadata": {},
   "outputs": [
    {
     "name": "stdout",
     "output_type": "stream",
     "text": [
      "X_validation_set size:  (5359, 1, 28, 28)\n",
      "Y_validation_set size:  5359\n",
      "X_train_set size:  (81456, 1, 28, 28)\n",
      "Y_train_set size:  81456\n",
      "X_test_set size:  (20365, 1, 28, 28)\n",
      "Y_test_set size:  20365\n"
     ]
    }
   ],
   "source": [
    "from torch.utils.data import ConcatDataset\n",
    "from sklearn.model_selection import train_test_split\n",
    "\n",
    "def create_dataset(dataset, vali_split, test_split, train_set=None, test_set=None):\n",
    "    \"\"\"Function to split the dataset and form the training, test and validation datasets\n",
    "        \n",
    "        Parameters\n",
    "        ----------------------\n",
    "        train_set: torch.utils.mnist.dataset\n",
    "        test_set: torch.utils.mnist.dataset\n",
    "        vali_split: the size for the validation set \n",
    "        test_split: the size of the test set\n",
    "        \n",
    "        Return\n",
    "        ----------------------\n",
    "        X_trainset: list, size: train_size, 1, 28, 28\n",
    "        X_testset: list, size: test_size, 1, 28, 28\n",
    "        X_validation: list, size: vali_size, 1, 28, 28\n",
    "        y_trainset: list, size: train_size\n",
    "        y_testset: list, size: test_size\n",
    "        y_valiset: list, size: vali_size\n",
    "        \n",
    "    \"\"\"\n",
    "    # combine the datasets\n",
    "    if not dataset:\n",
    "        dataset = ConcatDataset([train_set, test_set])\n",
    "    \n",
    "    X=[]; Y=[];\n",
    "    for i in range(len(dataset)):\n",
    "        x, y = dataset[i]\n",
    "        X.append(x.numpy())  #.detach().cpu().numpy())\n",
    "        Y.append(y)\n",
    "    \n",
    "    # split the dataset into train and validation set\n",
    "    X_model, X_validation, y_model, y_validation = train_test_split(X, Y, test_size=vali_split, random_state=42, stratify=np.array(Y))\n",
    "\n",
    "    print(\"X_validation_set size: \", np.array(X_validation).shape)\n",
    "    print(\"Y_validation_set size: \", len(y_validation))\n",
    "    \n",
    "    # split the X_model, y_model into training set & test set\n",
    "    X_trainset, X_testset, y_trainset, y_testset = train_test_split(X_model, y_model, test_size=test_split, random_state=42, stratify=np.array(y_model))\n",
    "    print(\"X_train_set size: \", np.array(X_trainset).shape)\n",
    "    print(\"Y_train_set size: \", len(y_trainset))\n",
    "    print(\"X_test_set size: \", np.array(X_testset).shape)\n",
    "    print(\"Y_test_set size: \", len(y_testset))\n",
    "    \n",
    "    #X = np.array(X); Y = np.array(Y)\n",
    "    \n",
    "    return X_trainset, X_testset, X_validation, y_trainset, y_testset, y_validation\n",
    "\n",
    "# mnist\n",
    "#X_trainset, X_testset, X_validation, y_trainset, y_testset, y_validation = create_dataset(False, 0.03, 0.2, train_set=train_set, test_set=test_set)\n",
    "\n",
    "# pathmnist\n",
    "X_trainset, X_testset, X_validation, y_trainset, y_testset, y_validation = create_dataset(dataset, 0.05, 0.2)\n",
    "\n",
    "# organmnist\n",
    "#X_trainset, X_testset, X_validation, y_trainset, y_testset, y_validation = create_dataset(dataset, 0.08, 0.2)"
   ]
  },
  {
   "cell_type": "code",
   "execution_count": 62,
   "metadata": {},
   "outputs": [
    {
     "data": {
      "text/plain": [
       "array([5])"
      ]
     },
     "execution_count": 62,
     "metadata": {},
     "output_type": "execute_result"
    }
   ],
   "source": [
    "y_trainset[0]"
   ]
  },
  {
   "cell_type": "code",
   "execution_count": 47,
   "metadata": {},
   "outputs": [],
   "source": [
    "model_set = np.vstack((y_trainset, y_testset))"
   ]
  },
  {
   "cell_type": "code",
   "execution_count": 48,
   "metadata": {},
   "outputs": [],
   "source": [
    "model_set2 = np.array(y_validation)"
   ]
  },
  {
   "cell_type": "code",
   "execution_count": 55,
   "metadata": {},
   "outputs": [
    {
     "data": {
      "image/png": "[encoded data removed]",
      "text/plain": [
       "<Figure size 432x288 with 1 Axes>"
      ]
     },
     "metadata": {
      "needs_background": "light"
     },
     "output_type": "display_data"
    }
   ],
   "source": [
    "plt.hist(model_set, rwidth=0.96, bins=11, color='g')\n",
    "plt.xticks(np.arange(0,11,1), np.arange(0,11,1))\n",
    "plt.xlabel('Class')\n",
    "plt.ylabel('frequency')\n",
    "plt.title('Organ mnist model dataset')\n",
    "plt.savefig('Organmnist_modeldatasetlables_hist.png')"
   ]
  },
  {
   "cell_type": "code",
   "execution_count": 57,
   "metadata": {},
   "outputs": [
    {
     "data": {
      "image/png": "[encoded data removed]",
      "text/plain": [
       "<Figure size 432x288 with 1 Axes>"
      ]
     },
     "metadata": {
      "needs_background": "light"
     },
     "output_type": "display_data"
    }
   ],
   "source": [
    "plt.hist(model_set2, rwidth=0.96, bins=11, color='m')\n",
    "plt.xticks(np.arange(0,11,1), np.arange(0,11,1))\n",
    "plt.xlabel('Class')\n",
    "plt.ylabel('frequency')\n",
    "plt.title('Organ mnist vali dataset')\n",
    "plt.savefig('Organmnist_valdatasetlables_hist.png')"
   ]
  },
  {
   "cell_type": "markdown",
   "metadata": {},
   "source": [
    "### Convert the datasets to Torch.TensorDataset"
   ]
  },
  {
   "cell_type": "code",
   "execution_count": 20,
   "metadata": {},
   "outputs": [
    {
     "name": "stdout",
     "output_type": "stream",
     "text": [
      "torch.Size([81456, 1, 28, 28]) torch.Size([81456])\n"
     ]
    }
   ],
   "source": [
    "def convert_tensor(X_trainset, X_testset, y_trainset, y_testset, X_validation, y_validation):\n",
    "    \"\"\"\n",
    "    Function to convert the split datasets into torch Tensor dataset\n",
    "    \n",
    "    Parameters\n",
    "    ----------------------\n",
    "    X_trainset: list, size: train_size, 1, 28, 28\n",
    "    X_testset: list, size: test_size, 1, 28, 28\n",
    "    X_validation: list, size: vali_size, 1, 28, 28\n",
    "    y_trainset: list, size: train_size\n",
    "    y_testset: list, size: test_size\n",
    "    y_valiset: list, size: vali_size\n",
    "    \n",
    "    Return\n",
    "    -------------------\n",
    "    train_set: TensorDataset, consists of training images and labels\n",
    "    test_set: TensorDataset, consists of test images and labels\n",
    "    validation_set: TensorDataset, consists of validation images and labels\n",
    "    \n",
    "    # for the adversarial attack\n",
    "    model_dataset_images: Tensor, size: (training + test) size, only the images\n",
    "    model_dataset_images: Tensor, size: (training + test) size, only the labels\n",
    "    \"\"\"\n",
    "    X_trainset = torch.Tensor(X_trainset); \n",
    "    y_trainset = torch.Tensor(y_trainset).type(torch.LongTensor).view(-1) #dtype = torch.long);\n",
    "    X_testset = torch.Tensor(X_testset); \n",
    "    y_testset = torch.Tensor(y_testset).type(torch.LongTensor).view(-1);\n",
    "    X_validation = torch.Tensor(X_validation); \n",
    "    y_validation = torch.Tensor(y_validation).type(torch.LongTensor).view(-1)\n",
    "    \n",
    "    print(X_trainset.shape, y_trainset.shape)\n",
    "    # y - label should be longTensor for fastai training\n",
    "    \n",
    "    # form model_dataset\n",
    "    model_dataset_images = torch.vstack((X_trainset, X_testset))\n",
    "    model_dataset_labels = torch.cat((y_trainset, y_testset))\n",
    "    #model_dataset_labels = torch.vstack((y_trainset, y_testset))\n",
    "    \n",
    "    # form the Tensor dataset\n",
    "    train_set = torch.utils.data.TensorDataset(X_trainset, y_trainset)\n",
    "    test_set = torch.utils.data.TensorDataset(X_testset, y_testset)\n",
    "    validation_set = torch.utils.data.TensorDataset(X_validation, y_validation)\n",
    "    \n",
    "    return train_set, test_set,  model_dataset_images, model_dataset_labels , validation_set,\n",
    "\n",
    "train_set, test_set,  model_images, model_labels, validation_set = convert_tensor(X_trainset, X_testset, y_trainset, y_testset, X_validation,  y_validation)"
   ]
  },
  {
   "cell_type": "code",
   "execution_count": 7,
   "metadata": {},
   "outputs": [],
   "source": [
    "test_imgs_mean = (test_imgs/255).mean()\n",
    "test_imgs_std = (test_imgs/255).std()\n",
    "test_imgs = ((test_imgs/255) - test_imgs_mean) / test_imgs_std"
   ]
  },
  {
   "cell_type": "code",
   "execution_count": 8,
   "metadata": {},
   "outputs": [],
   "source": [
    "train_imgs_mean = (train_imgs/255).mean()\n",
    "train_imgs_std = (train_imgs/255).std()\n",
    "train_imgs = ((train_imgs/255) - train_imgs_mean) / train_imgs_std"
   ]
  },
  {
   "cell_type": "code",
   "execution_count": 9,
   "metadata": {},
   "outputs": [
    {
     "data": {
      "text/plain": [
       "(78468, 14)"
      ]
     },
     "execution_count": 9,
     "metadata": {},
     "output_type": "execute_result"
    }
   ],
   "source": [
    "train_labels.shape"
   ]
  },
  {
   "cell_type": "code",
   "execution_count": 10,
   "metadata": {},
   "outputs": [
    {
     "data": {
      "text/plain": [
       "(22433, 1, 28, 28)"
      ]
     },
     "execution_count": 10,
     "metadata": {},
     "output_type": "execute_result"
    }
   ],
   "source": [
    "train_imgs_new = train_imgs[:, np.newaxis,:,:]\n",
    "train_imgs_new.shape\n",
    "test_imgs_new = test_imgs[:, np.newaxis,:,:]\n",
    "test_imgs_new.shape"
   ]
  },
  {
   "cell_type": "code",
   "execution_count": 11,
   "metadata": {},
   "outputs": [],
   "source": [
    "x_train_imgs = torch.from_numpy(train_imgs_new).type(torch.float)\n",
    "x_test_imgs = torch.from_numpy(test_imgs_new).type(torch.float)\n",
    "\n",
    "y_train_labels = torch.from_numpy(train_labels).type(torch.float)\n",
    "y_test_labels = torch.from_numpy(test_labels).type(torch.float)"
   ]
  },
  {
   "cell_type": "code",
   "execution_count": 12,
   "metadata": {},
   "outputs": [
    {
     "data": {
      "text/plain": [
       "torch.Size([78468, 14])"
      ]
     },
     "execution_count": 12,
     "metadata": {},
     "output_type": "execute_result"
    }
   ],
   "source": [
    "y_train_labels.shape"
   ]
  },
  {
   "cell_type": "code",
   "execution_count": 13,
   "metadata": {},
   "outputs": [],
   "source": [
    "train_set = torch.utils.data.TensorDataset(x_train_imgs, y_train_labels)\n",
    "test_set = torch.utils.data.TensorDataset(x_test_imgs, y_test_labels)"
   ]
  },
  {
   "cell_type": "code",
   "execution_count": 74,
   "metadata": {},
   "outputs": [
    {
     "data": {
      "text/plain": [
       "(4708, list)"
      ]
     },
     "execution_count": 74,
     "metadata": {},
     "output_type": "execute_result"
    }
   ],
   "source": [
    "len(y_validation), type(X_validation)"
   ]
  },
  {
   "cell_type": "code",
   "execution_count": 71,
   "metadata": {},
   "outputs": [],
   "source": [
    "torch.save(model_images, 'organmnist_model_images.pt')\n",
    "torch.save(model_labels, 'organmnist_model_labels.pt')"
   ]
  },
  {
   "cell_type": "code",
   "execution_count": 75,
   "metadata": {},
   "outputs": [],
   "source": [
    "torch.save(X_validation, 'organmnist_validation_images.pt')\n",
    "torch.save(y_validation, 'organmnist_validation_labels.pt')"
   ]
  },
  {
   "cell_type": "markdown",
   "metadata": {},
   "source": [
    "### The Dataloader for the CNN models"
   ]
  },
  {
   "cell_type": "code",
   "execution_count": 28,
   "metadata": {},
   "outputs": [],
   "source": [
    "train_loader = torch.utils.data.DataLoader(train_set, batch_size=64, shuffle=True)\n",
    "test_loader = torch.utils.data.DataLoader(test_set, batch_size=128, shuffle=True)"
   ]
  },
  {
   "cell_type": "markdown",
   "metadata": {},
   "source": [
    "### Define the CNN model"
   ]
  },
  {
   "cell_type": "code",
   "execution_count": 48,
   "metadata": {},
   "outputs": [],
   "source": [
    "import torch.nn as nn\n",
    "import torch.nn.functional as F\n",
    "\n",
    "class CNet(nn.Module):\n",
    "    def __init__(self):\n",
    "        super(CNet, self).__init__()\n",
    "        self.conv1 = nn.Conv2d(1, 4, kernel_size=7)\n",
    "        #self.conv2 = nn.Conv2d(16, 32, kernel_size=4)\n",
    "        #self.drop = nn.Dropout(0.5)\n",
    "        self.fc1 = nn.Linear(4*11*11, 128)\n",
    "        #self.fc3 = nn.Linear(512, 32)\n",
    "        self.fc4 = nn.Linear(128, 10)\n",
    "    \n",
    "    def forward(self, x):\n",
    "        x = F.max_pool2d(self.conv1(x), 2)\n",
    "        x = F.relu(x)\n",
    "        #x = self.drop(self.conv2(x))\n",
    "        #x = self.conv2(x)\n",
    "        #x = F.relu(F.max_pool2d(x, 2))\n",
    "        #print(x.shape)\n",
    "        x = x.view(-1, 4*11*11)\n",
    "        x = F.relu(self.fc1(x))\n",
    "        #x = self.drop(x)\n",
    "        #x = F.relu(self.fc3(x))\n",
    "        #x = self.drop(x)\n",
    "        x = self.fc4(x)\n",
    "        output = F.log_softmax(x, dim=1)\n",
    "        return output\n",
    "        "
   ]
  },
  {
   "cell_type": "code",
   "execution_count": 40,
   "metadata": {},
   "outputs": [],
   "source": [
    "import torch.nn as nn\n",
    "# for overfit model: dropout is removed and trained for 50 epochs\n",
    "class NewNet(nn.Module):\n",
    "    def __init__(self):\n",
    "        super(NewNet, self).__init__()\n",
    "        self.conv1 = nn.Sequential(\n",
    "            nn.Conv2d(1, 32, kernel_size=3),\n",
    "            nn.BatchNorm2d(32),\n",
    "            nn.ReLU())\n",
    "\n",
    "        self.conv2 = nn.Sequential(\n",
    "            nn.Conv2d(32, 32, kernel_size=3),\n",
    "            nn.BatchNorm2d(32),\n",
    "            nn.ReLU(),\n",
    "            nn.MaxPool2d(kernel_size=2, stride=2))\n",
    "\n",
    "        \"\"\"self.conv3 = nn.Sequential(\n",
    "            nn.Conv2d(32, 64, kernel_size=3),\n",
    "            nn.BatchNorm2d(64),\n",
    "            nn.ReLU())\n",
    "        \n",
    "        self.conv4 = nn.Sequential(\n",
    "            nn.Conv2d(64, 64, kernel_size=3),\n",
    "            nn.BatchNorm2d(64),\n",
    "            nn.ReLU())\n",
    "\n",
    "        self.conv5 = nn.Sequential(\n",
    "            nn.Conv2d(64, 64, kernel_size=3, padding=1),\n",
    "            nn.BatchNorm2d(64),\n",
    "            nn.ReLU(),\n",
    "            nn.MaxPool2d(kernel_size=2, stride=2))\n",
    "            \n",
    "        self.fc = nn.Sequential(\n",
    "            nn.Linear(64 * 2 * 2, 128), # b4- conv5 output 64*4*4\n",
    "            nn.ReLU(),\n",
    "            nn.Linear(128, 64),\n",
    "            nn.ReLU(),\n",
    "            nn.Linear(64, 9))\"\"\"\n",
    "        \n",
    "        # pathmnist Grayscale modifications\n",
    "        self.conv3 = nn.Sequential(\n",
    "            nn.Conv2d(32, 64, kernel_size=3),\n",
    "            nn.BatchNorm2d(64),\n",
    "            nn.ReLU(),\n",
    "            nn.MaxPool2d(kernel_size=2, stride=2))\n",
    "        \n",
    "        self.fc = nn.Sequential(\n",
    "            nn.Linear(64 * 5 * 5, 1024), # b4- conv5 output 64*4*4\n",
    "            nn.ReLU(),\n",
    "            nn.Dropout(0.5),\n",
    "            nn.Linear(1024, 128),\n",
    "            nn.ReLU(),\n",
    "            nn.Linear(128, 64),\n",
    "            nn.ReLU(),\n",
    "            nn.Linear(64, 9))\n",
    "        \n",
    "        #self.conv6 = nn.Sequential(\n",
    "        #    nn.Conv2d(64, 64, kernel_size=3),\n",
    "        #    nn.BatchNorm2d(64),\n",
    "        #    nn.ReLU()) # added extra for Grayscale pathmnist\n",
    "\n",
    "        \n",
    "\n",
    "    def forward(self, x):\n",
    "        x = self.conv1(x)\n",
    "        x = self.conv2(x)\n",
    "        x = self.conv3(x)\n",
    "        #x = self.conv4(x)\n",
    "        #x = self.conv5(x)\n",
    "        #x = self.conv6(x) # added extra for Grayscale pathmnist\n",
    "        x = x.view(x.size(0), -1)\n",
    "        x = self.fc(x)\n",
    "        output = F.log_softmax(x, dim=1)\n",
    "        return output"
   ]
  },
  {
   "cell_type": "code",
   "execution_count": 6,
   "metadata": {},
   "outputs": [],
   "source": [
    "class NewNet(nn.Module):\n",
    "    def __init__(self):\n",
    "        super(NewNet, self).__init__()\n",
    "        self.conv1 = nn.Conv2d(1, 16, kernel_size=3)\n",
    "        self.conv2 = nn.Conv2d(16, 32, kernel_size=3)\n",
    "        self.drop = nn.Dropout(0.5)\n",
    "        self.fc1 = nn.Linear(800, 512)\n",
    "        self.fc2 = nn.Linear(512, 64)\n",
    "        self.fc3 = nn.Linear(64, 10)\n",
    "    \n",
    "    def forward(self, x):\n",
    "        x = F.relu(self.conv1(x))\n",
    "        x = self.drop(F.max_pool2d(x, 2))\n",
    "        #x = F.max_pool2d(x, 2)\n",
    "        x = F.relu(self.conv2(x))\n",
    "        x = F.max_pool2d(x, 2)\n",
    "        x = x.view(-1, 800)\n",
    "        x = self.drop(F.relu(self.fc1(x)))\n",
    "        #x = F.relu(self.fc1(x))\n",
    "        x = F.relu(self.fc2(x))\n",
    "        x = self.fc3(x)\n",
    "        output = F.log_softmax(x, dim=1)\n",
    "        return output\n",
    "        #return x"
   ]
  },
  {
   "cell_type": "code",
   "execution_count": 25,
   "metadata": {},
   "outputs": [],
   "source": [
    "class New(nn.Module):\n",
    "    def __init__(self):\n",
    "        super(New, self).__init__()\n",
    "        self.layer1 = nn.Sequential(\n",
    "            nn.Conv2d(1, 32, kernel_size=3),\n",
    "            nn.ReLU(),\n",
    "            nn.MaxPool2d(kernel_size=2)\n",
    "        )\n",
    "        \n",
    "        self.layer2 = nn.Sequential(\n",
    "            nn.Linear(32*13*13, 2048),\n",
    "            nn.ReLU(),\n",
    "            nn.Linear(2048, 128),\n",
    "            nn.ReLU(),\n",
    "            nn.Linear(128, 14)\n",
    "        )\n",
    "        \n",
    "    def forward(self, x):\n",
    "        x = self.layer1(x)\n",
    "        x = x.view(x.size(0), -1)\n",
    "        \n",
    "        x = self.layer2(x)\n",
    "        return x"
   ]
  },
  {
   "cell_type": "markdown",
   "metadata": {},
   "source": [
    "Get the parameteres from the model"
   ]
  },
  {
   "cell_type": "code",
   "execution_count": 47,
   "metadata": {},
   "outputs": [
    {
     "name": "stdout",
     "output_type": "stream",
     "text": [
      "448654\n",
      "448654\n"
     ]
    }
   ],
   "source": [
    "model = NewNet()\n",
    "#model = New()\n",
    "#model = CNet()\n",
    "param = [p for p in list(model.parameters()) if p.requires_grad]\n",
    "uniq = {p.data_ptr(): p for p in list(model.parameters())}.values()\n",
    "print(sum(p.numel() for p in uniq))\n",
    "print(sum(p.numel() for p in model.parameters() if p.requires_grad))\n",
    "#print(sum(p.numel() for p in model1.parameters() if p.requires_grad))"
   ]
  },
  {
   "cell_type": "markdown",
   "metadata": {},
   "source": [
    "### Fastai classifier\n",
    "- Fastai takes the available device by default"
   ]
  },
  {
   "cell_type": "code",
   "execution_count": 41,
   "metadata": {},
   "outputs": [],
   "source": [
    "data = DataLoaders(train_loader, test_loader)\n",
    "path_learn = Learner(data, NewNet(), loss_func=F.nll_loss, opt_func=Adam, metrics=accuracy)\n",
    "#learn = Learner(data, NewNet(), loss_func=F.nll_loss, opt_func=Adam, metrics=accuracy)\n",
    "#learn1 = Learner(data, CNet(), loss_func=F.nll_loss, opt_func=Adam, metrics=accuracy)\n",
    "#chest_learn = Learner(data, NewNet(), loss_func=torch.nn.BCEWithLogitsLoss(), opt_func=Adam, metrics=accuracy_multi)\n",
    "#chest_learn = Learner(data, NewNet(), loss_func=BCEWithLogitsLossFlat(), opt_func=Adam, metrics=[accuracy_multi])\n",
    "#f1score = F1Score(average='macro')\n",
    "#organ_learn = Learner(data, NewNet(), loss_func=F.nll_loss, opt_func=Adam, metrics=[accuracy, f1score])"
   ]
  },
  {
   "cell_type": "code",
   "execution_count": 112,
   "metadata": {},
   "outputs": [
    {
     "data": {
      "text/html": [
       "<table border=\"1\" class=\"dataframe\">\n",
       "  <thead>\n",
       "    <tr style=\"text-align: left;\">\n",
       "      <th>epoch</th>\n",
       "      <th>train_loss</th>\n",
       "      <th>valid_loss</th>\n",
       "      <th>accuracy</th>\n",
       "      <th>f1_score</th>\n",
       "      <th>time</th>\n",
       "    </tr>\n",
       "  </thead>\n",
       "  <tbody>\n",
       "    <tr>\n",
       "      <td>0</td>\n",
       "      <td>0.226268</td>\n",
       "      <td>0.259486</td>\n",
       "      <td>0.908856</td>\n",
       "      <td>0.902710</td>\n",
       "      <td>00:04</td>\n",
       "    </tr>\n",
       "    <tr>\n",
       "      <td>1</td>\n",
       "      <td>0.085762</td>\n",
       "      <td>0.077813</td>\n",
       "      <td>0.974328</td>\n",
       "      <td>0.972682</td>\n",
       "      <td>00:04</td>\n",
       "    </tr>\n",
       "  </tbody>\n",
       "</table>"
      ],
      "text/plain": [
       "<IPython.core.display.HTML object>"
      ]
     },
     "metadata": {},
     "output_type": "display_data"
    }
   ],
   "source": [
    "organ_learn.fit_one_cycle(2)"
   ]
  },
  {
   "cell_type": "code",
   "execution_count": 109,
   "metadata": {},
   "outputs": [
    {
     "data": {
      "text/html": [],
      "text/plain": [
       "<IPython.core.display.HTML object>"
      ]
     },
     "metadata": {},
     "output_type": "display_data"
    },
    {
     "data": {
      "text/plain": [
       "SuggestedLRs(valley=tensor(0.0002))"
      ]
     },
     "execution_count": 109,
     "metadata": {},
     "output_type": "execute_result"
    },
    {
     "data": {
      "image/png": "[encoded data removed]",
      "text/plain": [
       "<Figure size 432x288 with 1 Axes>"
      ]
     },
     "metadata": {
      "needs_background": "light"
     },
     "output_type": "display_data"
    }
   ],
   "source": [
    "organ_learn.unfreeze()\n",
    "organ_learn.lr_find()"
   ]
  },
  {
   "cell_type": "code",
   "execution_count": 113,
   "metadata": {},
   "outputs": [
    {
     "data": {
      "text/html": [
       "<table border=\"1\" class=\"dataframe\">\n",
       "  <thead>\n",
       "    <tr style=\"text-align: left;\">\n",
       "      <th>epoch</th>\n",
       "      <th>train_loss</th>\n",
       "      <th>valid_loss</th>\n",
       "      <th>accuracy</th>\n",
       "      <th>f1_score</th>\n",
       "      <th>time</th>\n",
       "    </tr>\n",
       "  </thead>\n",
       "  <tbody>\n",
       "    <tr>\n",
       "      <td>0</td>\n",
       "      <td>0.073704</td>\n",
       "      <td>0.070860</td>\n",
       "      <td>0.977099</td>\n",
       "      <td>0.974867</td>\n",
       "      <td>00:04</td>\n",
       "    </tr>\n",
       "    <tr>\n",
       "      <td>1</td>\n",
       "      <td>0.055526</td>\n",
       "      <td>0.060227</td>\n",
       "      <td>0.979500</td>\n",
       "      <td>0.977010</td>\n",
       "      <td>00:04</td>\n",
       "    </tr>\n",
       "    <tr>\n",
       "      <td>2</td>\n",
       "      <td>0.039655</td>\n",
       "      <td>0.051474</td>\n",
       "      <td>0.983286</td>\n",
       "      <td>0.982421</td>\n",
       "      <td>00:04</td>\n",
       "    </tr>\n",
       "    <tr>\n",
       "      <td>3</td>\n",
       "      <td>0.037482</td>\n",
       "      <td>0.040635</td>\n",
       "      <td>0.986333</td>\n",
       "      <td>0.985162</td>\n",
       "      <td>00:04</td>\n",
       "    </tr>\n",
       "    <tr>\n",
       "      <td>4</td>\n",
       "      <td>0.028681</td>\n",
       "      <td>0.039144</td>\n",
       "      <td>0.986425</td>\n",
       "      <td>0.985212</td>\n",
       "      <td>00:04</td>\n",
       "    </tr>\n",
       "    <tr>\n",
       "      <td>5</td>\n",
       "      <td>0.020967</td>\n",
       "      <td>0.035160</td>\n",
       "      <td>0.988180</td>\n",
       "      <td>0.986964</td>\n",
       "      <td>00:04</td>\n",
       "    </tr>\n",
       "    <tr>\n",
       "      <td>6</td>\n",
       "      <td>0.014825</td>\n",
       "      <td>0.033181</td>\n",
       "      <td>0.989288</td>\n",
       "      <td>0.988341</td>\n",
       "      <td>00:04</td>\n",
       "    </tr>\n",
       "    <tr>\n",
       "      <td>7</td>\n",
       "      <td>0.015440</td>\n",
       "      <td>0.033093</td>\n",
       "      <td>0.988919</td>\n",
       "      <td>0.987576</td>\n",
       "      <td>00:04</td>\n",
       "    </tr>\n",
       "  </tbody>\n",
       "</table>"
      ],
      "text/plain": [
       "<IPython.core.display.HTML object>"
      ]
     },
     "metadata": {},
     "output_type": "display_data"
    }
   ],
   "source": [
    "organ_learn.fit_one_cycle(8, lr_max=1e-4)"
   ]
  },
  {
   "cell_type": "code",
   "execution_count": 114,
   "metadata": {},
   "outputs": [
    {
     "data": {
      "image/png": "[encoded data removed]",
      "text/plain": [
       "<Figure size 432x288 with 1 Axes>"
      ]
     },
     "metadata": {
      "needs_background": "light"
     },
     "output_type": "display_data"
    }
   ],
   "source": [
    "organ_learn.recorder.plot_loss()"
   ]
  },
  {
   "cell_type": "code",
   "execution_count": 42,
   "metadata": {},
   "outputs": [
    {
     "data": {
      "text/html": [
       "<table border=\"1\" class=\"dataframe\">\n",
       "  <thead>\n",
       "    <tr style=\"text-align: left;\">\n",
       "      <th>epoch</th>\n",
       "      <th>train_loss</th>\n",
       "      <th>valid_loss</th>\n",
       "      <th>accuracy</th>\n",
       "      <th>time</th>\n",
       "    </tr>\n",
       "  </thead>\n",
       "  <tbody>\n",
       "    <tr>\n",
       "      <td>0</td>\n",
       "      <td>0.814224</td>\n",
       "      <td>0.754302</td>\n",
       "      <td>0.727179</td>\n",
       "      <td>00:06</td>\n",
       "    </tr>\n",
       "    <tr>\n",
       "      <td>1</td>\n",
       "      <td>0.558663</td>\n",
       "      <td>0.495626</td>\n",
       "      <td>0.817137</td>\n",
       "      <td>00:06</td>\n",
       "    </tr>\n",
       "    <tr>\n",
       "      <td>2</td>\n",
       "      <td>0.450383</td>\n",
       "      <td>0.417708</td>\n",
       "      <td>0.847140</td>\n",
       "      <td>00:06</td>\n",
       "    </tr>\n",
       "  </tbody>\n",
       "</table>"
      ],
      "text/plain": [
       "<IPython.core.display.HTML object>"
      ]
     },
     "metadata": {},
     "output_type": "display_data"
    }
   ],
   "source": [
    "path_learn.fit_one_cycle(3)"
   ]
  },
  {
   "cell_type": "code",
   "execution_count": 43,
   "metadata": {},
   "outputs": [
    {
     "data": {
      "text/html": [],
      "text/plain": [
       "<IPython.core.display.HTML object>"
      ]
     },
     "metadata": {},
     "output_type": "display_data"
    },
    {
     "data": {
      "text/plain": [
       "SuggestedLRs(valley=tensor(4.3652e-05))"
      ]
     },
     "execution_count": 43,
     "metadata": {},
     "output_type": "execute_result"
    },
    {
     "data": {
      "image/png": "[encoded data removed]",
      "text/plain": [
       "<Figure size 432x288 with 1 Axes>"
      ]
     },
     "metadata": {
      "needs_background": "light"
     },
     "output_type": "display_data"
    }
   ],
   "source": [
    "path_learn.unfreeze()\n",
    "path_learn.lr_find()"
   ]
  },
  {
   "cell_type": "code",
   "execution_count": 44,
   "metadata": {},
   "outputs": [
    {
     "data": {
      "text/html": [
       "<table border=\"1\" class=\"dataframe\">\n",
       "  <thead>\n",
       "    <tr style=\"text-align: left;\">\n",
       "      <th>epoch</th>\n",
       "      <th>train_loss</th>\n",
       "      <th>valid_loss</th>\n",
       "      <th>accuracy</th>\n",
       "      <th>time</th>\n",
       "    </tr>\n",
       "  </thead>\n",
       "  <tbody>\n",
       "    <tr>\n",
       "      <td>0</td>\n",
       "      <td>0.439177</td>\n",
       "      <td>0.414963</td>\n",
       "      <td>0.848760</td>\n",
       "      <td>00:06</td>\n",
       "    </tr>\n",
       "    <tr>\n",
       "      <td>1</td>\n",
       "      <td>0.424374</td>\n",
       "      <td>0.415229</td>\n",
       "      <td>0.848760</td>\n",
       "      <td>00:06</td>\n",
       "    </tr>\n",
       "    <tr>\n",
       "      <td>2</td>\n",
       "      <td>0.449803</td>\n",
       "      <td>0.411164</td>\n",
       "      <td>0.848515</td>\n",
       "      <td>00:06</td>\n",
       "    </tr>\n",
       "    <tr>\n",
       "      <td>3</td>\n",
       "      <td>0.415755</td>\n",
       "      <td>0.410941</td>\n",
       "      <td>0.851019</td>\n",
       "      <td>00:06</td>\n",
       "    </tr>\n",
       "    <tr>\n",
       "      <td>4</td>\n",
       "      <td>0.410901</td>\n",
       "      <td>0.407971</td>\n",
       "      <td>0.850773</td>\n",
       "      <td>00:06</td>\n",
       "    </tr>\n",
       "    <tr>\n",
       "      <td>5</td>\n",
       "      <td>0.439275</td>\n",
       "      <td>0.408837</td>\n",
       "      <td>0.851019</td>\n",
       "      <td>00:06</td>\n",
       "    </tr>\n",
       "    <tr>\n",
       "      <td>6</td>\n",
       "      <td>0.419964</td>\n",
       "      <td>0.405629</td>\n",
       "      <td>0.852296</td>\n",
       "      <td>00:06</td>\n",
       "    </tr>\n",
       "    <tr>\n",
       "      <td>7</td>\n",
       "      <td>0.399746</td>\n",
       "      <td>0.405654</td>\n",
       "      <td>0.852050</td>\n",
       "      <td>00:06</td>\n",
       "    </tr>\n",
       "    <tr>\n",
       "      <td>8</td>\n",
       "      <td>0.422901</td>\n",
       "      <td>0.404507</td>\n",
       "      <td>0.852296</td>\n",
       "      <td>00:06</td>\n",
       "    </tr>\n",
       "    <tr>\n",
       "      <td>9</td>\n",
       "      <td>0.412956</td>\n",
       "      <td>0.403730</td>\n",
       "      <td>0.853032</td>\n",
       "      <td>00:06</td>\n",
       "    </tr>\n",
       "  </tbody>\n",
       "</table>"
      ],
      "text/plain": [
       "<IPython.core.display.HTML object>"
      ]
     },
     "metadata": {},
     "output_type": "display_data"
    }
   ],
   "source": [
    "path_learn.fit_one_cycle(10, lr_max=1e-5)"
   ]
  },
  {
   "cell_type": "code",
   "execution_count": 115,
   "metadata": {},
   "outputs": [
    {
     "data": {
      "text/html": [
       "<table border=\"1\" class=\"dataframe\">\n",
       "  <thead>\n",
       "    <tr style=\"text-align: left;\">\n",
       "      <th>epoch</th>\n",
       "      <th>train_loss</th>\n",
       "      <th>valid_loss</th>\n",
       "      <th>accuracy</th>\n",
       "      <th>f1_score</th>\n",
       "      <th>time</th>\n",
       "    </tr>\n",
       "  </thead>\n",
       "  <tbody>\n",
       "    <tr>\n",
       "      <td>0</td>\n",
       "      <td>0.193925</td>\n",
       "      <td>0.200708</td>\n",
       "      <td>0.935636</td>\n",
       "      <td>0.927127</td>\n",
       "      <td>00:04</td>\n",
       "    </tr>\n",
       "  </tbody>\n",
       "</table>"
      ],
      "text/plain": [
       "<IPython.core.display.HTML object>"
      ]
     },
     "metadata": {},
     "output_type": "display_data"
    },
    {
     "data": {
      "text/html": [
       "<table border=\"1\" class=\"dataframe\">\n",
       "  <thead>\n",
       "    <tr style=\"text-align: left;\">\n",
       "      <th>epoch</th>\n",
       "      <th>train_loss</th>\n",
       "      <th>valid_loss</th>\n",
       "      <th>accuracy</th>\n",
       "      <th>f1_score</th>\n",
       "      <th>time</th>\n",
       "    </tr>\n",
       "  </thead>\n",
       "  <tbody>\n",
       "    <tr>\n",
       "      <td>0</td>\n",
       "      <td>0.086230</td>\n",
       "      <td>0.089530</td>\n",
       "      <td>0.969526</td>\n",
       "      <td>0.967524</td>\n",
       "      <td>00:04</td>\n",
       "    </tr>\n",
       "    <tr>\n",
       "      <td>1</td>\n",
       "      <td>0.072496</td>\n",
       "      <td>0.094234</td>\n",
       "      <td>0.968603</td>\n",
       "      <td>0.966817</td>\n",
       "      <td>00:04</td>\n",
       "    </tr>\n",
       "    <tr>\n",
       "      <td>2</td>\n",
       "      <td>0.040987</td>\n",
       "      <td>0.039734</td>\n",
       "      <td>0.986887</td>\n",
       "      <td>0.985020</td>\n",
       "      <td>00:04</td>\n",
       "    </tr>\n",
       "    <tr>\n",
       "      <td>3</td>\n",
       "      <td>0.011477</td>\n",
       "      <td>0.022079</td>\n",
       "      <td>0.991874</td>\n",
       "      <td>0.990951</td>\n",
       "      <td>00:04</td>\n",
       "    </tr>\n",
       "    <tr>\n",
       "      <td>4</td>\n",
       "      <td>0.005267</td>\n",
       "      <td>0.017702</td>\n",
       "      <td>0.993351</td>\n",
       "      <td>0.992281</td>\n",
       "      <td>00:04</td>\n",
       "    </tr>\n",
       "  </tbody>\n",
       "</table>"
      ],
      "text/plain": [
       "<IPython.core.display.HTML object>"
      ]
     },
     "metadata": {},
     "output_type": "display_data"
    }
   ],
   "source": [
    "organ_learn.fine_tune(5)"
   ]
  },
  {
   "cell_type": "code",
   "execution_count": 34,
   "metadata": {},
   "outputs": [
    {
     "data": {
      "image/png": "[encoded data removed]",
      "text/plain": [
       "<Figure size 432x288 with 1 Axes>"
      ]
     },
     "metadata": {
      "needs_background": "light"
     },
     "output_type": "display_data"
    }
   ],
   "source": [
    "path_learn.recorder.plot_loss()"
   ]
  },
  {
   "cell_type": "markdown",
   "metadata": {},
   "source": [
    "## ResNet models "
   ]
  },
  {
   "cell_type": "code",
   "execution_count": 47,
   "metadata": {},
   "outputs": [],
   "source": [
    "data = DataLoaders(train_loader, test_loader)\n",
    "resmodel = models.resnet18(num_classes=14)\n",
    "resmodel.conv1 = torch.nn.Conv2d(1, 64, kernel_size=7)\n",
    "#model.fc = torch.nn.Linear(512, 10)\n",
    "#print(model)"
   ]
  },
  {
   "cell_type": "code",
   "execution_count": 48,
   "metadata": {},
   "outputs": [
    {
     "name": "stdout",
     "output_type": "stream",
     "text": [
      "11177486\n"
     ]
    }
   ],
   "source": [
    "print(sum(p.numel() for p in resmodel.parameters() if p.requires_grad))"
   ]
  },
  {
   "cell_type": "code",
   "execution_count": 49,
   "metadata": {},
   "outputs": [],
   "source": [
    "# resnet model for training \n",
    "learn = Learner(data, resmodel, loss_func=BCEWithLogitsLossFlat(), opt_func=Adam, metrics=accuracy_multi)"
   ]
  },
  {
   "cell_type": "code",
   "execution_count": 50,
   "metadata": {},
   "outputs": [
    {
     "data": {
      "text/html": [
       "<table border=\"1\" class=\"dataframe\">\n",
       "  <thead>\n",
       "    <tr style=\"text-align: left;\">\n",
       "      <th>epoch</th>\n",
       "      <th>train_loss</th>\n",
       "      <th>valid_loss</th>\n",
       "      <th>accuracy_multi</th>\n",
       "      <th>time</th>\n",
       "    </tr>\n",
       "  </thead>\n",
       "  <tbody>\n",
       "    <tr>\n",
       "      <td>0</td>\n",
       "      <td>0.168366</td>\n",
       "      <td>0.183845</td>\n",
       "      <td>0.947619</td>\n",
       "      <td>00:22</td>\n",
       "    </tr>\n",
       "    <tr>\n",
       "      <td>1</td>\n",
       "      <td>0.160792</td>\n",
       "      <td>0.166119</td>\n",
       "      <td>0.947682</td>\n",
       "      <td>00:21</td>\n",
       "    </tr>\n",
       "    <tr>\n",
       "      <td>2</td>\n",
       "      <td>0.158954</td>\n",
       "      <td>0.162964</td>\n",
       "      <td>0.947902</td>\n",
       "      <td>00:21</td>\n",
       "    </tr>\n",
       "  </tbody>\n",
       "</table>"
      ],
      "text/plain": [
       "<IPython.core.display.HTML object>"
      ]
     },
     "metadata": {},
     "output_type": "display_data"
    }
   ],
   "source": [
    "learn.fit_one_cycle(3)"
   ]
  },
  {
   "cell_type": "code",
   "execution_count": 92,
   "metadata": {},
   "outputs": [],
   "source": [
    "learn.save('./fastai_resnet34')\n",
    "model_new = learn.load('fastai_resnet34')\n",
    "torch.save(model_new.model.state_dict(), 'fastai_resnet34_weights.pt')"
   ]
  },
  {
   "cell_type": "code",
   "execution_count": 111,
   "metadata": {},
   "outputs": [],
   "source": [
    "#learn.fit(30)"
   ]
  },
  {
   "cell_type": "markdown",
   "metadata": {},
   "source": [
    "- Initial fit for the model"
   ]
  },
  {
   "cell_type": "code",
   "execution_count": 114,
   "metadata": {
    "collapsed": true,
    "jupyter": {
     "outputs_hidden": true
    }
   },
   "outputs": [
    {
     "data": {
      "text/html": [
       "<table border=\"1\" class=\"dataframe\">\n",
       "  <thead>\n",
       "    <tr style=\"text-align: left;\">\n",
       "      <th>epoch</th>\n",
       "      <th>train_loss</th>\n",
       "      <th>valid_loss</th>\n",
       "      <th>accuracy</th>\n",
       "      <th>time</th>\n",
       "    </tr>\n",
       "  </thead>\n",
       "  <tbody>\n",
       "    <tr>\n",
       "      <td>0</td>\n",
       "      <td>0.315950</td>\n",
       "      <td>0.306789</td>\n",
       "      <td>0.912297</td>\n",
       "      <td>00:03</td>\n",
       "    </tr>\n",
       "    <tr>\n",
       "      <td>1</td>\n",
       "      <td>0.165154</td>\n",
       "      <td>0.159734</td>\n",
       "      <td>0.953093</td>\n",
       "      <td>00:03</td>\n",
       "    </tr>\n",
       "    <tr>\n",
       "      <td>2</td>\n",
       "      <td>0.097478</td>\n",
       "      <td>0.092330</td>\n",
       "      <td>0.972018</td>\n",
       "      <td>00:03</td>\n",
       "    </tr>\n",
       "    <tr>\n",
       "      <td>3</td>\n",
       "      <td>0.068718</td>\n",
       "      <td>0.060984</td>\n",
       "      <td>0.981885</td>\n",
       "      <td>00:03</td>\n",
       "    </tr>\n",
       "    <tr>\n",
       "      <td>4</td>\n",
       "      <td>0.052096</td>\n",
       "      <td>0.051989</td>\n",
       "      <td>0.983505</td>\n",
       "      <td>00:04</td>\n",
       "    </tr>\n",
       "    <tr>\n",
       "      <td>5</td>\n",
       "      <td>0.052169</td>\n",
       "      <td>0.047056</td>\n",
       "      <td>0.985272</td>\n",
       "      <td>00:03</td>\n",
       "    </tr>\n",
       "    <tr>\n",
       "      <td>6</td>\n",
       "      <td>0.035102</td>\n",
       "      <td>0.036929</td>\n",
       "      <td>0.988513</td>\n",
       "      <td>00:03</td>\n",
       "    </tr>\n",
       "    <tr>\n",
       "      <td>7</td>\n",
       "      <td>0.028907</td>\n",
       "      <td>0.033353</td>\n",
       "      <td>0.990133</td>\n",
       "      <td>00:03</td>\n",
       "    </tr>\n",
       "    <tr>\n",
       "      <td>8</td>\n",
       "      <td>0.025092</td>\n",
       "      <td>0.038318</td>\n",
       "      <td>0.988365</td>\n",
       "      <td>00:03</td>\n",
       "    </tr>\n",
       "    <tr>\n",
       "      <td>9</td>\n",
       "      <td>0.020819</td>\n",
       "      <td>0.041170</td>\n",
       "      <td>0.988144</td>\n",
       "      <td>00:03</td>\n",
       "    </tr>\n",
       "    <tr>\n",
       "      <td>10</td>\n",
       "      <td>0.013639</td>\n",
       "      <td>0.037647</td>\n",
       "      <td>0.989543</td>\n",
       "      <td>00:03</td>\n",
       "    </tr>\n",
       "    <tr>\n",
       "      <td>11</td>\n",
       "      <td>0.017581</td>\n",
       "      <td>0.042444</td>\n",
       "      <td>0.987776</td>\n",
       "      <td>00:03</td>\n",
       "    </tr>\n",
       "    <tr>\n",
       "      <td>12</td>\n",
       "      <td>0.020066</td>\n",
       "      <td>0.040807</td>\n",
       "      <td>0.988439</td>\n",
       "      <td>00:03</td>\n",
       "    </tr>\n",
       "    <tr>\n",
       "      <td>13</td>\n",
       "      <td>0.013227</td>\n",
       "      <td>0.053474</td>\n",
       "      <td>0.987334</td>\n",
       "      <td>00:03</td>\n",
       "    </tr>\n",
       "    <tr>\n",
       "      <td>14</td>\n",
       "      <td>0.008386</td>\n",
       "      <td>0.048145</td>\n",
       "      <td>0.988954</td>\n",
       "      <td>00:03</td>\n",
       "    </tr>\n",
       "    <tr>\n",
       "      <td>15</td>\n",
       "      <td>0.008982</td>\n",
       "      <td>0.059904</td>\n",
       "      <td>0.987040</td>\n",
       "      <td>00:03</td>\n",
       "    </tr>\n",
       "    <tr>\n",
       "      <td>16</td>\n",
       "      <td>0.013637</td>\n",
       "      <td>0.045393</td>\n",
       "      <td>0.989543</td>\n",
       "      <td>00:03</td>\n",
       "    </tr>\n",
       "    <tr>\n",
       "      <td>17</td>\n",
       "      <td>0.004777</td>\n",
       "      <td>0.045585</td>\n",
       "      <td>0.991237</td>\n",
       "      <td>00:03</td>\n",
       "    </tr>\n",
       "    <tr>\n",
       "      <td>18</td>\n",
       "      <td>0.005573</td>\n",
       "      <td>0.054608</td>\n",
       "      <td>0.988954</td>\n",
       "      <td>00:03</td>\n",
       "    </tr>\n",
       "    <tr>\n",
       "      <td>19</td>\n",
       "      <td>0.001880</td>\n",
       "      <td>0.044047</td>\n",
       "      <td>0.991605</td>\n",
       "      <td>00:03</td>\n",
       "    </tr>\n",
       "    <tr>\n",
       "      <td>20</td>\n",
       "      <td>0.005810</td>\n",
       "      <td>0.069211</td>\n",
       "      <td>0.988071</td>\n",
       "      <td>00:03</td>\n",
       "    </tr>\n",
       "    <tr>\n",
       "      <td>21</td>\n",
       "      <td>0.003536</td>\n",
       "      <td>0.058397</td>\n",
       "      <td>0.989838</td>\n",
       "      <td>00:03</td>\n",
       "    </tr>\n",
       "    <tr>\n",
       "      <td>22</td>\n",
       "      <td>0.002156</td>\n",
       "      <td>0.051821</td>\n",
       "      <td>0.991458</td>\n",
       "      <td>00:03</td>\n",
       "    </tr>\n",
       "    <tr>\n",
       "      <td>23</td>\n",
       "      <td>0.002805</td>\n",
       "      <td>0.067629</td>\n",
       "      <td>0.989691</td>\n",
       "      <td>00:03</td>\n",
       "    </tr>\n",
       "    <tr>\n",
       "      <td>24</td>\n",
       "      <td>0.001685</td>\n",
       "      <td>0.054512</td>\n",
       "      <td>0.991605</td>\n",
       "      <td>00:03</td>\n",
       "    </tr>\n",
       "    <tr>\n",
       "      <td>25</td>\n",
       "      <td>0.001678</td>\n",
       "      <td>0.063094</td>\n",
       "      <td>0.990206</td>\n",
       "      <td>00:03</td>\n",
       "    </tr>\n",
       "    <tr>\n",
       "      <td>26</td>\n",
       "      <td>0.001397</td>\n",
       "      <td>0.063717</td>\n",
       "      <td>0.990427</td>\n",
       "      <td>00:03</td>\n",
       "    </tr>\n",
       "    <tr>\n",
       "      <td>27</td>\n",
       "      <td>0.000536</td>\n",
       "      <td>0.063950</td>\n",
       "      <td>0.991163</td>\n",
       "      <td>00:03</td>\n",
       "    </tr>\n",
       "    <tr>\n",
       "      <td>28</td>\n",
       "      <td>0.001835</td>\n",
       "      <td>0.065606</td>\n",
       "      <td>0.991163</td>\n",
       "      <td>00:03</td>\n",
       "    </tr>\n",
       "    <tr>\n",
       "      <td>29</td>\n",
       "      <td>0.000385</td>\n",
       "      <td>0.064478</td>\n",
       "      <td>0.991826</td>\n",
       "      <td>00:03</td>\n",
       "    </tr>\n",
       "    <tr>\n",
       "      <td>30</td>\n",
       "      <td>0.000010</td>\n",
       "      <td>0.060908</td>\n",
       "      <td>0.992047</td>\n",
       "      <td>00:03</td>\n",
       "    </tr>\n",
       "    <tr>\n",
       "      <td>31</td>\n",
       "      <td>0.000056</td>\n",
       "      <td>0.067719</td>\n",
       "      <td>0.992268</td>\n",
       "      <td>00:03</td>\n",
       "    </tr>\n",
       "    <tr>\n",
       "      <td>32</td>\n",
       "      <td>0.000001</td>\n",
       "      <td>0.063533</td>\n",
       "      <td>0.992636</td>\n",
       "      <td>00:03</td>\n",
       "    </tr>\n",
       "    <tr>\n",
       "      <td>33</td>\n",
       "      <td>0.000000</td>\n",
       "      <td>0.062883</td>\n",
       "      <td>0.992931</td>\n",
       "      <td>00:03</td>\n",
       "    </tr>\n",
       "    <tr>\n",
       "      <td>34</td>\n",
       "      <td>0.000000</td>\n",
       "      <td>0.064143</td>\n",
       "      <td>0.992931</td>\n",
       "      <td>00:03</td>\n",
       "    </tr>\n",
       "    <tr>\n",
       "      <td>35</td>\n",
       "      <td>0.000000</td>\n",
       "      <td>0.064638</td>\n",
       "      <td>0.992857</td>\n",
       "      <td>00:03</td>\n",
       "    </tr>\n",
       "    <tr>\n",
       "      <td>36</td>\n",
       "      <td>0.000000</td>\n",
       "      <td>0.064787</td>\n",
       "      <td>0.992857</td>\n",
       "      <td>00:03</td>\n",
       "    </tr>\n",
       "    <tr>\n",
       "      <td>37</td>\n",
       "      <td>0.000000</td>\n",
       "      <td>0.065128</td>\n",
       "      <td>0.992857</td>\n",
       "      <td>00:03</td>\n",
       "    </tr>\n",
       "    <tr>\n",
       "      <td>38</td>\n",
       "      <td>0.000000</td>\n",
       "      <td>0.065167</td>\n",
       "      <td>0.992857</td>\n",
       "      <td>00:03</td>\n",
       "    </tr>\n",
       "    <tr>\n",
       "      <td>39</td>\n",
       "      <td>0.000000</td>\n",
       "      <td>0.065090</td>\n",
       "      <td>0.992783</td>\n",
       "      <td>00:03</td>\n",
       "    </tr>\n",
       "    <tr>\n",
       "      <td>40</td>\n",
       "      <td>0.000000</td>\n",
       "      <td>0.065046</td>\n",
       "      <td>0.992857</td>\n",
       "      <td>00:03</td>\n",
       "    </tr>\n",
       "    <tr>\n",
       "      <td>41</td>\n",
       "      <td>0.000000</td>\n",
       "      <td>0.064949</td>\n",
       "      <td>0.992857</td>\n",
       "      <td>00:03</td>\n",
       "    </tr>\n",
       "    <tr>\n",
       "      <td>42</td>\n",
       "      <td>0.000000</td>\n",
       "      <td>0.064942</td>\n",
       "      <td>0.992857</td>\n",
       "      <td>00:03</td>\n",
       "    </tr>\n",
       "    <tr>\n",
       "      <td>43</td>\n",
       "      <td>0.000000</td>\n",
       "      <td>0.064893</td>\n",
       "      <td>0.992857</td>\n",
       "      <td>00:03</td>\n",
       "    </tr>\n",
       "    <tr>\n",
       "      <td>44</td>\n",
       "      <td>0.000000</td>\n",
       "      <td>0.064863</td>\n",
       "      <td>0.992857</td>\n",
       "      <td>00:03</td>\n",
       "    </tr>\n",
       "    <tr>\n",
       "      <td>45</td>\n",
       "      <td>0.000000</td>\n",
       "      <td>0.064839</td>\n",
       "      <td>0.992857</td>\n",
       "      <td>00:03</td>\n",
       "    </tr>\n",
       "    <tr>\n",
       "      <td>46</td>\n",
       "      <td>0.000000</td>\n",
       "      <td>0.064830</td>\n",
       "      <td>0.992857</td>\n",
       "      <td>00:03</td>\n",
       "    </tr>\n",
       "    <tr>\n",
       "      <td>47</td>\n",
       "      <td>0.000000</td>\n",
       "      <td>0.064824</td>\n",
       "      <td>0.992857</td>\n",
       "      <td>00:03</td>\n",
       "    </tr>\n",
       "    <tr>\n",
       "      <td>48</td>\n",
       "      <td>0.000000</td>\n",
       "      <td>0.064817</td>\n",
       "      <td>0.992857</td>\n",
       "      <td>00:03</td>\n",
       "    </tr>\n",
       "    <tr>\n",
       "      <td>49</td>\n",
       "      <td>0.000000</td>\n",
       "      <td>0.064817</td>\n",
       "      <td>0.992857</td>\n",
       "      <td>00:03</td>\n",
       "    </tr>\n",
       "  </tbody>\n",
       "</table>"
      ],
      "text/plain": [
       "<IPython.core.display.HTML object>"
      ]
     },
     "metadata": {},
     "output_type": "display_data"
    }
   ],
   "source": [
    "learn.fit_one_cycle(50)"
   ]
  },
  {
   "cell_type": "code",
   "execution_count": 119,
   "metadata": {},
   "outputs": [
    {
     "data": {
      "text/html": [
       "<table border=\"1\" class=\"dataframe\">\n",
       "  <thead>\n",
       "    <tr style=\"text-align: left;\">\n",
       "      <th>epoch</th>\n",
       "      <th>train_loss</th>\n",
       "      <th>valid_loss</th>\n",
       "      <th>accuracy</th>\n",
       "      <th>time</th>\n",
       "    </tr>\n",
       "  </thead>\n",
       "  <tbody>\n",
       "    <tr>\n",
       "      <td>0</td>\n",
       "      <td>-2010.893433</td>\n",
       "      <td>-2393.189697</td>\n",
       "      <td>0.980854</td>\n",
       "      <td>00:14</td>\n",
       "    </tr>\n",
       "  </tbody>\n",
       "</table>"
      ],
      "text/plain": [
       "<IPython.core.display.HTML object>"
      ]
     },
     "metadata": {},
     "output_type": "display_data"
    },
    {
     "data": {
      "text/html": [
       "<table border=\"1\" class=\"dataframe\">\n",
       "  <thead>\n",
       "    <tr style=\"text-align: left;\">\n",
       "      <th>epoch</th>\n",
       "      <th>train_loss</th>\n",
       "      <th>valid_loss</th>\n",
       "      <th>accuracy</th>\n",
       "      <th>time</th>\n",
       "    </tr>\n",
       "  </thead>\n",
       "  <tbody>\n",
       "    <tr>\n",
       "      <td>0</td>\n",
       "      <td>-4762.945312</td>\n",
       "      <td>-5056.454102</td>\n",
       "      <td>0.987408</td>\n",
       "      <td>00:14</td>\n",
       "    </tr>\n",
       "    <tr>\n",
       "      <td>1</td>\n",
       "      <td>-9382.788086</td>\n",
       "      <td>-9654.258789</td>\n",
       "      <td>0.989396</td>\n",
       "      <td>00:14</td>\n",
       "    </tr>\n",
       "    <tr>\n",
       "      <td>2</td>\n",
       "      <td>-10707.206055</td>\n",
       "      <td>-10771.859375</td>\n",
       "      <td>0.993962</td>\n",
       "      <td>00:14</td>\n",
       "    </tr>\n",
       "  </tbody>\n",
       "</table>"
      ],
      "text/plain": [
       "<IPython.core.display.HTML object>"
      ]
     },
     "metadata": {},
     "output_type": "display_data"
    }
   ],
   "source": [
    "learn.fine_tune(3)"
   ]
  },
  {
   "cell_type": "code",
   "execution_count": 91,
   "metadata": {},
   "outputs": [
    {
     "data": {
      "image/png": "[encoded data removed]",
      "text/plain": [
       "<Figure size 432x288 with 1 Axes>"
      ]
     },
     "metadata": {
      "needs_background": "light"
     },
     "output_type": "display_data"
    }
   ],
   "source": [
    "#lss = learn.recorder.losses\n",
    "#plt.plot(lss)\n",
    "learn.recorder.plot_loss()\n",
    "plt.savefig('resnet34_mnist.png')"
   ]
  },
  {
   "cell_type": "code",
   "execution_count": 97,
   "metadata": {},
   "outputs": [
    {
     "data": {
      "text/html": [
       "<table border=\"1\" class=\"dataframe\">\n",
       "  <thead>\n",
       "    <tr style=\"text-align: left;\">\n",
       "      <th>epoch</th>\n",
       "      <th>train_loss</th>\n",
       "      <th>valid_loss</th>\n",
       "      <th>accuracy</th>\n",
       "      <th>time</th>\n",
       "    </tr>\n",
       "  </thead>\n",
       "  <tbody>\n",
       "    <tr>\n",
       "      <td>0</td>\n",
       "      <td>2.089051</td>\n",
       "      <td>2.061274</td>\n",
       "      <td>0.600589</td>\n",
       "      <td>00:02</td>\n",
       "    </tr>\n",
       "    <tr>\n",
       "      <td>1</td>\n",
       "      <td>1.633292</td>\n",
       "      <td>1.615470</td>\n",
       "      <td>0.768851</td>\n",
       "      <td>00:02</td>\n",
       "    </tr>\n",
       "    <tr>\n",
       "      <td>2</td>\n",
       "      <td>1.520177</td>\n",
       "      <td>1.517953</td>\n",
       "      <td>0.777982</td>\n",
       "      <td>00:02</td>\n",
       "    </tr>\n",
       "  </tbody>\n",
       "</table>"
      ],
      "text/plain": [
       "<IPython.core.display.HTML object>"
      ]
     },
     "metadata": {},
     "output_type": "display_data"
    }
   ],
   "source": [
    "learn1.fit_one_cycle(3, lr_max=1e-5)"
   ]
  },
  {
   "cell_type": "code",
   "execution_count": 99,
   "metadata": {},
   "outputs": [
    {
     "data": {
      "image/png": "[encoded data removed]",
      "text/plain": [
       "<Figure size 432x288 with 1 Axes>"
      ]
     },
     "metadata": {
      "needs_background": "light"
     },
     "output_type": "display_data"
    }
   ],
   "source": [
    "learn1.recorder.plot_loss()\n",
    "plt.savefig('underfit_loss_3epochs.png')"
   ]
  },
  {
   "cell_type": "markdown",
   "metadata": {},
   "source": [
    "- Unfreeze and check the optimal learning rate"
   ]
  },
  {
   "cell_type": "code",
   "execution_count": 182,
   "metadata": {},
   "outputs": [
    {
     "data": {
      "text/html": [],
      "text/plain": [
       "<IPython.core.display.HTML object>"
      ]
     },
     "metadata": {},
     "output_type": "display_data"
    },
    {
     "data": {
      "text/plain": [
       "SuggestedLRs(valley=tensor(0.0044))"
      ]
     },
     "execution_count": 182,
     "metadata": {},
     "output_type": "execute_result"
    },
    {
     "data": {
      "image/png": "[encoded data removed]",
      "text/plain": [
       "<Figure size 432x288 with 1 Axes>"
      ]
     },
     "metadata": {
      "needs_background": "light"
     },
     "output_type": "display_data"
    }
   ],
   "source": [
    "learn.unfreeze()\n",
    "learn.lr_find()"
   ]
  },
  {
   "cell_type": "markdown",
   "metadata": {},
   "source": [
    "- Fit the model again"
   ]
  },
  {
   "cell_type": "code",
   "execution_count": 139,
   "metadata": {
    "collapsed": true,
    "jupyter": {
     "outputs_hidden": true
    }
   },
   "outputs": [
    {
     "data": {
      "text/html": [
       "<table border=\"1\" class=\"dataframe\">\n",
       "  <thead>\n",
       "    <tr style=\"text-align: left;\">\n",
       "      <th>epoch</th>\n",
       "      <th>train_loss</th>\n",
       "      <th>valid_loss</th>\n",
       "      <th>accuracy</th>\n",
       "      <th>time</th>\n",
       "    </tr>\n",
       "  </thead>\n",
       "  <tbody>\n",
       "    <tr>\n",
       "      <td>0</td>\n",
       "      <td>0.012687</td>\n",
       "      <td>0.029881</td>\n",
       "      <td>0.990427</td>\n",
       "      <td>00:03</td>\n",
       "    </tr>\n",
       "    <tr>\n",
       "      <td>1</td>\n",
       "      <td>0.015406</td>\n",
       "      <td>0.029705</td>\n",
       "      <td>0.990722</td>\n",
       "      <td>00:03</td>\n",
       "    </tr>\n",
       "    <tr>\n",
       "      <td>2</td>\n",
       "      <td>0.020524</td>\n",
       "      <td>0.029592</td>\n",
       "      <td>0.990648</td>\n",
       "      <td>00:03</td>\n",
       "    </tr>\n",
       "    <tr>\n",
       "      <td>3</td>\n",
       "      <td>0.013447</td>\n",
       "      <td>0.029669</td>\n",
       "      <td>0.990501</td>\n",
       "      <td>00:03</td>\n",
       "    </tr>\n",
       "    <tr>\n",
       "      <td>4</td>\n",
       "      <td>0.012682</td>\n",
       "      <td>0.029653</td>\n",
       "      <td>0.990353</td>\n",
       "      <td>00:02</td>\n",
       "    </tr>\n",
       "    <tr>\n",
       "      <td>5</td>\n",
       "      <td>0.013864</td>\n",
       "      <td>0.029601</td>\n",
       "      <td>0.990353</td>\n",
       "      <td>00:03</td>\n",
       "    </tr>\n",
       "    <tr>\n",
       "      <td>6</td>\n",
       "      <td>0.011523</td>\n",
       "      <td>0.029591</td>\n",
       "      <td>0.990427</td>\n",
       "      <td>00:02</td>\n",
       "    </tr>\n",
       "    <tr>\n",
       "      <td>7</td>\n",
       "      <td>0.017564</td>\n",
       "      <td>0.029678</td>\n",
       "      <td>0.990648</td>\n",
       "      <td>00:03</td>\n",
       "    </tr>\n",
       "    <tr>\n",
       "      <td>8</td>\n",
       "      <td>0.014337</td>\n",
       "      <td>0.029848</td>\n",
       "      <td>0.990059</td>\n",
       "      <td>00:03</td>\n",
       "    </tr>\n",
       "    <tr>\n",
       "      <td>9</td>\n",
       "      <td>0.011938</td>\n",
       "      <td>0.029618</td>\n",
       "      <td>0.990427</td>\n",
       "      <td>00:03</td>\n",
       "    </tr>\n",
       "    <tr>\n",
       "      <td>10</td>\n",
       "      <td>0.011187</td>\n",
       "      <td>0.029703</td>\n",
       "      <td>0.990427</td>\n",
       "      <td>00:02</td>\n",
       "    </tr>\n",
       "    <tr>\n",
       "      <td>11</td>\n",
       "      <td>0.012038</td>\n",
       "      <td>0.029351</td>\n",
       "      <td>0.990353</td>\n",
       "      <td>00:03</td>\n",
       "    </tr>\n",
       "    <tr>\n",
       "      <td>12</td>\n",
       "      <td>0.007398</td>\n",
       "      <td>0.029539</td>\n",
       "      <td>0.990353</td>\n",
       "      <td>00:03</td>\n",
       "    </tr>\n",
       "    <tr>\n",
       "      <td>13</td>\n",
       "      <td>0.008573</td>\n",
       "      <td>0.029385</td>\n",
       "      <td>0.990427</td>\n",
       "      <td>00:03</td>\n",
       "    </tr>\n",
       "    <tr>\n",
       "      <td>14</td>\n",
       "      <td>0.009213</td>\n",
       "      <td>0.029439</td>\n",
       "      <td>0.990280</td>\n",
       "      <td>00:03</td>\n",
       "    </tr>\n",
       "    <tr>\n",
       "      <td>15</td>\n",
       "      <td>0.009766</td>\n",
       "      <td>0.029541</td>\n",
       "      <td>0.990206</td>\n",
       "      <td>00:03</td>\n",
       "    </tr>\n",
       "    <tr>\n",
       "      <td>16</td>\n",
       "      <td>0.010921</td>\n",
       "      <td>0.029680</td>\n",
       "      <td>0.990133</td>\n",
       "      <td>00:03</td>\n",
       "    </tr>\n",
       "    <tr>\n",
       "      <td>17</td>\n",
       "      <td>0.012238</td>\n",
       "      <td>0.029572</td>\n",
       "      <td>0.990427</td>\n",
       "      <td>00:03</td>\n",
       "    </tr>\n",
       "    <tr>\n",
       "      <td>18</td>\n",
       "      <td>0.007652</td>\n",
       "      <td>0.029408</td>\n",
       "      <td>0.990574</td>\n",
       "      <td>00:03</td>\n",
       "    </tr>\n",
       "    <tr>\n",
       "      <td>19</td>\n",
       "      <td>0.014017</td>\n",
       "      <td>0.029706</td>\n",
       "      <td>0.990206</td>\n",
       "      <td>00:03</td>\n",
       "    </tr>\n",
       "    <tr>\n",
       "      <td>20</td>\n",
       "      <td>0.010631</td>\n",
       "      <td>0.029569</td>\n",
       "      <td>0.990280</td>\n",
       "      <td>00:03</td>\n",
       "    </tr>\n",
       "    <tr>\n",
       "      <td>21</td>\n",
       "      <td>0.012263</td>\n",
       "      <td>0.029507</td>\n",
       "      <td>0.990574</td>\n",
       "      <td>00:03</td>\n",
       "    </tr>\n",
       "    <tr>\n",
       "      <td>22</td>\n",
       "      <td>0.012706</td>\n",
       "      <td>0.029552</td>\n",
       "      <td>0.990353</td>\n",
       "      <td>00:03</td>\n",
       "    </tr>\n",
       "    <tr>\n",
       "      <td>23</td>\n",
       "      <td>0.008765</td>\n",
       "      <td>0.029604</td>\n",
       "      <td>0.990353</td>\n",
       "      <td>00:03</td>\n",
       "    </tr>\n",
       "    <tr>\n",
       "      <td>24</td>\n",
       "      <td>0.011497</td>\n",
       "      <td>0.029573</td>\n",
       "      <td>0.990353</td>\n",
       "      <td>00:03</td>\n",
       "    </tr>\n",
       "    <tr>\n",
       "      <td>25</td>\n",
       "      <td>0.010617</td>\n",
       "      <td>0.029568</td>\n",
       "      <td>0.990353</td>\n",
       "      <td>00:03</td>\n",
       "    </tr>\n",
       "    <tr>\n",
       "      <td>26</td>\n",
       "      <td>0.007916</td>\n",
       "      <td>0.029561</td>\n",
       "      <td>0.990354</td>\n",
       "      <td>00:02</td>\n",
       "    </tr>\n",
       "    <tr>\n",
       "      <td>27</td>\n",
       "      <td>0.008682</td>\n",
       "      <td>0.029563</td>\n",
       "      <td>0.990354</td>\n",
       "      <td>00:03</td>\n",
       "    </tr>\n",
       "    <tr>\n",
       "      <td>28</td>\n",
       "      <td>0.009628</td>\n",
       "      <td>0.029556</td>\n",
       "      <td>0.990353</td>\n",
       "      <td>00:03</td>\n",
       "    </tr>\n",
       "    <tr>\n",
       "      <td>29</td>\n",
       "      <td>0.010626</td>\n",
       "      <td>0.029558</td>\n",
       "      <td>0.990353</td>\n",
       "      <td>00:03</td>\n",
       "    </tr>\n",
       "  </tbody>\n",
       "</table>"
      ],
      "text/plain": [
       "<IPython.core.display.HTML object>"
      ]
     },
     "metadata": {},
     "output_type": "display_data"
    }
   ],
   "source": [
    "learn.fit_one_cycle(30, lr_max=1e-5)"
   ]
  },
  {
   "cell_type": "code",
   "execution_count": 56,
   "metadata": {},
   "outputs": [
    {
     "data": {
      "text/html": [],
      "text/plain": [
       "<IPython.core.display.HTML object>"
      ]
     },
     "metadata": {},
     "output_type": "display_data"
    },
    {
     "data": {
      "text/plain": [
       "(#2) [0.0669793039560318,0.9913107752799988]"
      ]
     },
     "execution_count": 56,
     "metadata": {},
     "output_type": "execute_result"
    }
   ],
   "source": [
    "learn.validate()"
   ]
  },
  {
   "cell_type": "code",
   "execution_count": 189,
   "metadata": {},
   "outputs": [
    {
     "data": {
      "image/png": "[encoded data removed]",
      "text/plain": [
       "<Figure size 432x288 with 1 Axes>"
      ]
     },
     "metadata": {
      "needs_background": "light"
     },
     "output_type": "display_data"
    }
   ],
   "source": [
    "learn.recorder.plot_loss()\n",
    "#plt.savefig('loss.png')"
   ]
  },
  {
   "cell_type": "markdown",
   "metadata": {},
   "source": [
    "- Fine tune the model "
   ]
  },
  {
   "cell_type": "code",
   "execution_count": 17,
   "metadata": {},
   "outputs": [
    {
     "data": {
      "text/html": [
       "<table border=\"1\" class=\"dataframe\">\n",
       "  <thead>\n",
       "    <tr style=\"text-align: left;\">\n",
       "      <th>epoch</th>\n",
       "      <th>train_loss</th>\n",
       "      <th>valid_loss</th>\n",
       "      <th>accuracy</th>\n",
       "      <th>time</th>\n",
       "    </tr>\n",
       "  </thead>\n",
       "  <tbody>\n",
       "    <tr>\n",
       "      <td>0</td>\n",
       "      <td>0.120263</td>\n",
       "      <td>0.065498</td>\n",
       "      <td>0.979750</td>\n",
       "      <td>00:03</td>\n",
       "    </tr>\n",
       "  </tbody>\n",
       "</table>"
      ],
      "text/plain": [
       "<IPython.core.display.HTML object>"
      ]
     },
     "metadata": {},
     "output_type": "display_data"
    },
    {
     "data": {
      "text/html": [
       "<table border=\"1\" class=\"dataframe\">\n",
       "  <thead>\n",
       "    <tr style=\"text-align: left;\">\n",
       "      <th>epoch</th>\n",
       "      <th>train_loss</th>\n",
       "      <th>valid_loss</th>\n",
       "      <th>accuracy</th>\n",
       "      <th>time</th>\n",
       "    </tr>\n",
       "  </thead>\n",
       "  <tbody>\n",
       "    <tr>\n",
       "      <td>0</td>\n",
       "      <td>0.064480</td>\n",
       "      <td>0.040627</td>\n",
       "      <td>0.987629</td>\n",
       "      <td>00:03</td>\n",
       "    </tr>\n",
       "    <tr>\n",
       "      <td>1</td>\n",
       "      <td>0.069494</td>\n",
       "      <td>0.044321</td>\n",
       "      <td>0.986230</td>\n",
       "      <td>00:03</td>\n",
       "    </tr>\n",
       "    <tr>\n",
       "      <td>2</td>\n",
       "      <td>0.051842</td>\n",
       "      <td>0.032422</td>\n",
       "      <td>0.989691</td>\n",
       "      <td>00:03</td>\n",
       "    </tr>\n",
       "    <tr>\n",
       "      <td>3</td>\n",
       "      <td>0.047426</td>\n",
       "      <td>0.030197</td>\n",
       "      <td>0.991090</td>\n",
       "      <td>00:03</td>\n",
       "    </tr>\n",
       "    <tr>\n",
       "      <td>4</td>\n",
       "      <td>0.035231</td>\n",
       "      <td>0.029030</td>\n",
       "      <td>0.991164</td>\n",
       "      <td>00:03</td>\n",
       "    </tr>\n",
       "  </tbody>\n",
       "</table>"
      ],
      "text/plain": [
       "<IPython.core.display.HTML object>"
      ]
     },
     "metadata": {},
     "output_type": "display_data"
    }
   ],
   "source": [
    "learn.fine_tune(5)"
   ]
  },
  {
   "cell_type": "code",
   "execution_count": 18,
   "metadata": {},
   "outputs": [
    {
     "data": {
      "image/png": "[encoded data removed]",
      "text/plain": [
       "<Figure size 432x288 with 1 Axes>"
      ]
     },
     "metadata": {
      "needs_background": "light"
     },
     "output_type": "display_data"
    }
   ],
   "source": [
    "learn.recorder.plot_loss()"
   ]
  },
  {
   "cell_type": "markdown",
   "metadata": {},
   "source": [
    "### - Save the fastai classifier\n",
    "- By default it is saved in the /models folder with .pth extension"
   ]
  },
  {
   "cell_type": "code",
   "execution_count": 173,
   "metadata": {},
   "outputs": [
    {
     "data": {
      "text/plain": [
       "Path('models/fastai_resnet50_splitDataset.pth')"
      ]
     },
     "execution_count": 173,
     "metadata": {},
     "output_type": "execute_result"
    }
   ],
   "source": [
    "learn.save('./fastai_resnet50_splitDataset')"
   ]
  },
  {
   "cell_type": "code",
   "execution_count": 45,
   "metadata": {},
   "outputs": [
    {
     "data": {
      "text/plain": [
       "Path('models/fastai_pathmnist_1C_85_NewNet.pth')"
      ]
     },
     "execution_count": 45,
     "metadata": {},
     "output_type": "execute_result"
    }
   ],
   "source": [
    "path_learn.save('./fastai_pathmnist_1C_85_NewNet')"
   ]
  },
  {
   "cell_type": "code",
   "execution_count": 117,
   "metadata": {},
   "outputs": [
    {
     "data": {
      "text/plain": [
       "Path('models/fastai_organmnist_99_NewNet.pth')"
      ]
     },
     "execution_count": 117,
     "metadata": {},
     "output_type": "execute_result"
    }
   ],
   "source": [
    "organ_learn.save('./fastai_organmnist_99_NewNet')"
   ]
  },
  {
   "cell_type": "markdown",
   "metadata": {},
   "source": [
    "- Load the model(fastai) and save it as torch model for foolbox compatibility"
   ]
  },
  {
   "cell_type": "code",
   "execution_count": 24,
   "metadata": {},
   "outputs": [],
   "source": [
    "model_new = learn.load('fastai_cnn_NewNet_99_splitDataset')\n",
    "torch.save(model_new.model.state_dict(), 'fastai_cnn_NewNet_99_splitDataset_weights.pth')"
   ]
  },
  {
   "cell_type": "code",
   "execution_count": 46,
   "metadata": {},
   "outputs": [],
   "source": [
    "model_new1 = path_learn.load('fastai_pathmnist_1C_85_NewNet')\n",
    "torch.save(model_new1.model.state_dict(), 'fastai_pathmnist_1C_85_NewNet_weights.pt')"
   ]
  },
  {
   "cell_type": "code",
   "execution_count": 118,
   "metadata": {},
   "outputs": [],
   "source": [
    "model_new1 = organ_learn.load('fastai_organmnist_99_NewNet')\n",
    "torch.save(model_new1.model.state_dict(), 'fastai_organmnist_99_NewNet_weights.pt')"
   ]
  },
  {
   "cell_type": "markdown",
   "metadata": {},
   "source": [
    "---------------------------------------------------------------------------------------------------------------------------------\n",
    "---------------------------------------------------------------------------------------------------------------------------------"
   ]
  },
  {
   "cell_type": "markdown",
   "metadata": {},
   "source": [
    "### Load model for the attack"
   ]
  },
  {
   "cell_type": "code",
   "execution_count": 47,
   "metadata": {
    "collapsed": true,
    "jupyter": {
     "outputs_hidden": true
    }
   },
   "outputs": [
    {
     "data": {
      "text/plain": [
       "NewNet(\n",
       "  (conv1): Sequential(\n",
       "    (0): Conv2d(1, 32, kernel_size=(3, 3), stride=(1, 1))\n",
       "    (1): BatchNorm2d(32, eps=1e-05, momentum=0.1, affine=True, track_running_stats=True)\n",
       "    (2): ReLU()\n",
       "  )\n",
       "  (conv2): Sequential(\n",
       "    (0): Conv2d(32, 32, kernel_size=(3, 3), stride=(1, 1))\n",
       "    (1): BatchNorm2d(32, eps=1e-05, momentum=0.1, affine=True, track_running_stats=True)\n",
       "    (2): ReLU()\n",
       "    (3): MaxPool2d(kernel_size=2, stride=2, padding=0, dilation=1, ceil_mode=False)\n",
       "  )\n",
       "  (conv3): Sequential(\n",
       "    (0): Conv2d(32, 64, kernel_size=(3, 3), stride=(1, 1))\n",
       "    (1): BatchNorm2d(64, eps=1e-05, momentum=0.1, affine=True, track_running_stats=True)\n",
       "    (2): ReLU()\n",
       "    (3): MaxPool2d(kernel_size=2, stride=2, padding=0, dilation=1, ceil_mode=False)\n",
       "  )\n",
       "  (fc): Sequential(\n",
       "    (0): Linear(in_features=1600, out_features=1024, bias=True)\n",
       "    (1): ReLU()\n",
       "    (2): Dropout(p=0.5, inplace=False)\n",
       "    (3): Linear(in_features=1024, out_features=128, bias=True)\n",
       "    (4): ReLU()\n",
       "    (5): Linear(in_features=128, out_features=64, bias=True)\n",
       "    (6): ReLU()\n",
       "    (7): Linear(in_features=64, out_features=9, bias=True)\n",
       "  )\n",
       ")"
      ]
     },
     "execution_count": 47,
     "metadata": {},
     "output_type": "execute_result"
    }
   ],
   "source": [
    "# load the NewNet model\n",
    "MyModel = NewNet()\n",
    "\n",
    "# CNet\n",
    "#MyModel = CNet()\n",
    "\n",
    "# Resnet models\n",
    "#MyModel = models.resnet50(num_classes=10)\n",
    "#MyModel.conv1 = torch.nn.Conv2d(1, 64, kernel_size=7)\n",
    "\n",
    "# mnist, pathmnist, organmnist\n",
    "#MyModel.load_state_dict(torch.load('chkpt_files/fastai_organmnist_99_NewNet_weights.pt', map_location=device))\n",
    "#MyModel.load_state_dict(torch.load('chkpt_files/fastai_cnn_NewNet_99_splitDataset_weights.pth', map_location=device))\n",
    "MyModel.load_state_dict(torch.load('./fastai_pathmnist_1C_85_NewNet_weights.pt', map_location=device))\n",
    "MyModel.eval()\n",
    "#print(torch.cuda.memory_allocated())\n",
    "#print(MyModel)\n",
    "\n",
    "\n",
    "# load the CNet model\n",
    "#MyModel_1 = CNet()\n",
    "#MyModel_1.load_state_dict(torch.load('fastai_cnn_weights.pth'))\n",
    "#MyModel_1.eval()"
   ]
  },
  {
   "cell_type": "markdown",
   "metadata": {},
   "source": [
    "### Create a Pytorch model for foolbox attack"
   ]
  },
  {
   "cell_type": "code",
   "execution_count": 48,
   "metadata": {},
   "outputs": [],
   "source": [
    "# mnist\n",
    "#preprocess = dict(mean=0.1307, std=0.3081)\n",
    "\n",
    "# pathmnist RGB normalize values\n",
    "#preprocess = dict(mean=[0.74,0.53,0.71], std=[0.12,0.18,0.13], axis=-3)\n",
    "\n",
    "# pathmnist Grayscale normalize values\n",
    "preprocess = dict(mean=0.6146, std=0.1537)\n",
    "\n",
    "# chestmnist\n",
    "#preprocess = dict(mean=0.4938, std=0.2381)\n",
    "\n",
    "# organmnist\n",
    "#preprocess = dict(mean=0.4657, std=0.2936)\n",
    "bound = (0, 1)\n",
    "original_model = fb.PyTorchModel(MyModel, bounds=bound, preprocessing=preprocess)"
   ]
  },
  {
   "cell_type": "markdown",
   "metadata": {},
   "source": [
    "- Three different attacks with 100 values of epsilons"
   ]
  },
  {
   "cell_type": "code",
   "execution_count": 49,
   "metadata": {},
   "outputs": [],
   "source": [
    "#attack0 = fb.attacks.LinfPGD()\n",
    "#attack1 = fb.attacks.BoundaryAttack()\n",
    "attack2 = fb.attacks.FGSM()\n",
    "#attack = [attack0, attack1, attack2]\n",
    "epsilon = np.linspace(0.0, 1, num=20)"
   ]
  },
  {
   "cell_type": "markdown",
   "metadata": {},
   "source": [
    "- Attack the ```trained network``` with model_dataset"
   ]
  },
  {
   "cell_type": "code",
   "execution_count": 50,
   "metadata": {},
   "outputs": [],
   "source": [
    "def model_attack(attk, model, images, labels, epsilon):\n",
    "    \"\"\"\n",
    "    Function to perform the adv attack on the pytorch model\n",
    "    \n",
    "    Parameters\n",
    "    --------------------\n",
    "    attk: type of foolbox attack\n",
    "    model: foolbox Pytorch model\n",
    "    image: the images used for the attack, either as ep.tensor or torch.tensor\n",
    "            size:(no_of_samples x dims)\n",
    "    labels: corresponding labels for the images, either as ep.tensor or torch.tensor\n",
    "            size:(no_of_samples \n",
    "    epsilon: the pertubation\n",
    "    \n",
    "    Return\n",
    "    -------------\n",
    "    clip_adv: list, the actual adversarial examples generated for the given model\n",
    "                size: similar to the input images\n",
    "    adv_ : boolean list, indicating whether a given image is adversarial example or not,\n",
    "            True - adversarial sample\n",
    "            False - not an adversarial sample\n",
    "    \"\"\"\n",
    "    raw_adv, clip_adv, adv_ = attk(model, images, labels, epsilons=epsilon)\n",
    "    \n",
    "    return clip_adv, adv_\n"
   ]
  },
  {
   "cell_type": "markdown",
   "metadata": {},
   "source": [
    "## Attack the model using 20 epsilon & ```FGSM attack```"
   ]
  },
  {
   "cell_type": "markdown",
   "metadata": {},
   "source": [
    "- Attack the model using validation_dataset (2100 images)\n",
    "- The model_dataset has 20000 images, selected using stratify split"
   ]
  },
  {
   "cell_type": "markdown",
   "metadata": {},
   "source": [
    "#### Load the the images"
   ]
  },
  {
   "cell_type": "markdown",
   "metadata": {},
   "source": [
    " mnist"
   ]
  },
  {
   "cell_type": "code",
   "execution_count": 8,
   "metadata": {},
   "outputs": [],
   "source": [
    "md_images = torch.load('images/model_dataset_images.pt', map_location='cpu').cpu()\n",
    "md_labels = torch.load('images/model_dataset_labels.pt', map_location='cpu').cpu()\n",
    "\n",
    "vali_images = torch.load('images/validation_images.pt', map_location='cpu')\n",
    "vali_labels = torch.load('images/validation_labels.pt', map_location='cpu')"
   ]
  },
  {
   "cell_type": "markdown",
   "metadata": {},
   "source": [
    "pathmnist RGB images"
   ]
  },
  {
   "cell_type": "code",
   "execution_count": 11,
   "metadata": {},
   "outputs": [],
   "source": [
    "md_images = torch.load('images/pathmnist_model_images.pt', map_location='cpu').cpu()\n",
    "md_labels = torch.load('images/pathmnist_model_labels.pt', map_location='cpu').cpu()\n",
    "\n",
    "vali_images = torch.load('images/pathmnist_validation_images.pt', map_location='cpu')\n",
    "vali_labels = torch.load('images/pathmnist_validation_labels.pt', map_location='cpu')"
   ]
  },
  {
   "cell_type": "code",
   "execution_count": null,
   "metadata": {},
   "outputs": [],
   "source": [
    "print(np.unique(md_labels.cpu().numpy(), return_counts=True))\n",
    "print(np.unique(np.array(vali_labels), return_counts=True))"
   ]
  },
  {
   "cell_type": "markdown",
   "metadata": {},
   "source": [
    "pathmnist grayscale images"
   ]
  },
  {
   "cell_type": "code",
   "execution_count": 51,
   "metadata": {},
   "outputs": [],
   "source": [
    "md_images = torch.load('./pathmnist_1C_model_images.pt', map_location='cpu').cpu()\n",
    "md_labels = torch.load('./pathmnist_1C_model_labels.pt', map_location='cpu').cpu()\n",
    "\n",
    "vali_images = torch.load('./pathmnist_1C_validation_images.pt', map_location='cpu')\n",
    "vali_labels = torch.load('./pathmnist_1C_validation_labels.pt', map_location='cpu')"
   ]
  },
  {
   "cell_type": "markdown",
   "metadata": {},
   "source": [
    "chestmnist"
   ]
  },
  {
   "cell_type": "code",
   "execution_count": 9,
   "metadata": {},
   "outputs": [],
   "source": [
    "md_images = torch.load('images/chestmnist_model_images.pt', map_location='cpu').cpu()\n",
    "md_labels = torch.load('images/chestmnist_model_labels.pt', map_location='cpu').cpu()\n",
    "\n",
    "vali_images = torch.load('images/chestmnist_validation_images.pt', map_location='cpu')\n",
    "vali_labels = torch.load('images/chestmnist_validation_labels.pt', map_location='cpu')"
   ]
  },
  {
   "cell_type": "code",
   "execution_count": 85,
   "metadata": {},
   "outputs": [
    {
     "name": "stdout",
     "output_type": "stream",
     "text": [
      "(array([0, 1]), array([1444026,   78558]))\n"
     ]
    }
   ],
   "source": [
    "print(np.unique(md_labels.cpu().numpy(), return_counts=True))\n",
    "#print(np.unique(np.array(vali_labels), return_counts=True))"
   ]
  },
  {
   "cell_type": "markdown",
   "metadata": {},
   "source": [
    "organmnist"
   ]
  },
  {
   "cell_type": "code",
   "execution_count": 9,
   "metadata": {},
   "outputs": [],
   "source": [
    "md_images = torch.load('images/organmnist_model_images.pt', map_location='cpu').cpu()\n",
    "md_labels = torch.load('images/organmnist_model_labels.pt', map_location='cpu').cpu()\n",
    "\n",
    "vali_images = torch.load('images/organmnist_validation_images.pt', map_location='cpu')\n",
    "vali_labels = torch.load('images/organmnist_validation_labels.pt', map_location='cpu')"
   ]
  },
  {
   "cell_type": "markdown",
   "metadata": {},
   "source": [
    "- split the model_dataset to obtain 20000 images"
   ]
  },
  {
   "cell_type": "code",
   "execution_count": 52,
   "metadata": {},
   "outputs": [],
   "source": [
    "# split the model_dataset to obtain 20000 images for the attack\n",
    "#_, X_images, _, y_labels = train_test_split(md_images.numpy(), md_labels.numpy(), test_size=0.29455, random_state=42, stratify=md_labels.numpy())\n",
    "\n",
    "# pathmnist\n",
    "_, X_images,_, y_labels = train_test_split(md_images.numpy(), md_labels.numpy(), test_size=0.3, random_state=42, stratify=md_labels.numpy())"
   ]
  },
  {
   "cell_type": "code",
   "execution_count": 12,
   "metadata": {},
   "outputs": [],
   "source": [
    "# chestmnist\n",
    "\n",
    "_,_,X_images, y_labels = iterative_train_test_split(md_images.numpy(), md_labels.numpy(), test_size=0.32)"
   ]
  },
  {
   "cell_type": "code",
   "execution_count": 88,
   "metadata": {},
   "outputs": [
    {
     "name": "stdout",
     "output_type": "stream",
     "text": [
      "(array([0, 1]), array([462089,  25139]))\n"
     ]
    }
   ],
   "source": [
    "print(np.unique(np.array(y_labels), return_counts=True))"
   ]
  },
  {
   "cell_type": "code",
   "execution_count": 125,
   "metadata": {},
   "outputs": [
    {
     "data": {
      "text/plain": [
       "Text(0.5, 1.0, 'Model_dataset_stratify(30000 images)')"
      ]
     },
     "execution_count": 125,
     "metadata": {},
     "output_type": "execute_result"
    },
    {
     "data": {
      "image/png": "[encoded data removed]",
      "text/plain": [
       "<Figure size 432x288 with 1 Axes>"
      ]
     },
     "metadata": {
      "needs_background": "light"
     },
     "output_type": "display_data"
    }
   ],
   "source": [
    "plt.hist(np.array(vali_labels), rwidth=0.97, bins=11)\n",
    "plt.ylabel('frequency')\n",
    "plt.xlabel('class')\n",
    "plt.title('Model_dataset_stratify(30000 images)')\n",
    "#plt.savefig('pathmnist_vali_labels_hist.png')"
   ]
  },
  {
   "cell_type": "code",
   "execution_count": 53,
   "metadata": {},
   "outputs": [
    {
     "data": {
      "text/plain": [
       "torch.Size([30547, 1, 28, 28])"
      ]
     },
     "execution_count": 53,
     "metadata": {},
     "output_type": "execute_result"
    }
   ],
   "source": [
    "# mnist\n",
    "#images = ep.astensor(torch.from_numpy(np.array(X_images)).to(device))\n",
    "#images.shape\n",
    "# pathmnist\n",
    "#images = ep.astensor(md_images.to(device))\n",
    "images = ep.astensor(torch.from_numpy(np.array(X_images)).to(device)) # 30000 model dataset images\n",
    "labels = ep.astensor(torch.from_numpy(np.array(y_labels)).to(device))\n",
    "images.shape\n",
    "# chestmnist\n",
    "#images = ep.astensor(torch.from_numpy(X_images).to(device))\n",
    "\n",
    "# organmnist\n",
    "#images = ep.astensor(md_images.to(device))"
   ]
  },
  {
   "cell_type": "markdown",
   "metadata": {},
   "source": [
    "### Metrics"
   ]
  },
  {
   "cell_type": "code",
   "execution_count": 54,
   "metadata": {},
   "outputs": [],
   "source": [
    "def model_metrics(adv_imgs, real_imgs, epi_len):\n",
    "    \"\"\"\n",
    "    Function to compute density & coverage for the between the \n",
    "    real & adversarial samples\n",
    "    \n",
    "    Parameters\n",
    "    ---------------\n",
    "    adv_imgs: ep.tensor, the generated adversarial samples, size: no_of_images x image_dims\n",
    "    real_imgs: torch.tensor, size: no_of_images x dims\n",
    "    epi_len: integer, the length or number of epsilons used for the attack\n",
    "    \"\"\"\n",
    "    density = []\n",
    "    coverage = []\n",
    "    if not epi_len==1:\n",
    "        for i in range(epi_len):\n",
    "            # generated adversarial for each epsilon(convert from eagerpy --> torch and reshape)\n",
    "            gen = adv_imgs[i].raw.view(adv_imgs[i].shape[0], -1).cpu()\n",
    "\n",
    "            # density\n",
    "            density.append(gem_build_density(real_imgs, real_imgs.shape[0], gen, 'indexflatl2'))\n",
    "\n",
    "            # coverage\n",
    "            coverage.append(gem_build_coverage(real_imgs, real_imgs.shape[0], gen, 'indexflatl2'))\n",
    "    else:\n",
    "        gen = adv_imgs.raw.view(adv_imgs.shape[0], -1).cpu()\n",
    "\n",
    "        # density\n",
    "        density.append(gem_build_density(real_imgs, real_imgs.shape[0], gen, 'indexflatl2'))\n",
    "\n",
    "        # coverage\n",
    "        coverage.append(gem_build_coverage(real_imgs, real_imgs.shape[0], gen, 'indexflatl2'))\n",
    "        \n",
    "    return density, coverage"
   ]
  },
  {
   "cell_type": "markdown",
   "metadata": {},
   "source": [
    "### - density & coverage for\n",
    "\n",
    "#### --> model_dataset & adversarial samples "
   ]
  },
  {
   "cell_type": "code",
   "execution_count": 55,
   "metadata": {},
   "outputs": [],
   "source": [
    "# resize the real images\n",
    "real = images.raw.view(images.shape[0], -1)\n",
    "\n",
    "# 20 values of epsilons were considered\n",
    "# find the density & coverage for each vgalue of epsilons\n",
    "#density = []\n",
    "#coverage = []\n",
    "#for i in range(len(epsilon)):\n",
    "    \n",
    "    # generated adversarial for each epsilon(convert from eagerpy --> torch and reshape)\n",
    "    #gen = adv_images[i].raw.view(adv_images[i].shape[0], -1)\n",
    "    \n",
    "    # density\n",
    "    #density.append(gem_build_density(real, real.shape[0], gen, 'indexflatl2'))\n",
    "    \n",
    "    # coverage\n",
    "    #coverage.append(gem_build_coverage(real, real.shape[0], gen, 'indexflatl2'))"
   ]
  },
  {
   "cell_type": "code",
   "execution_count": 103,
   "metadata": {},
   "outputs": [
    {
     "data": {
      "text/plain": [
       "(47096,)"
      ]
     },
     "execution_count": 103,
     "metadata": {},
     "output_type": "execute_result"
    }
   ],
   "source": [
    "real.shape\n",
    "labells = []\n",
    "for i in range(len(vali_labels)):\n",
    "    labells.append(vali_labels[i].numpy())\n",
    "labells = np.array(labells)\n",
    "labells.reshape(-1).shape"
   ]
  },
  {
   "cell_type": "markdown",
   "metadata": {},
   "source": [
    "#### --> model_dataset & validation set"
   ]
  },
  {
   "cell_type": "code",
   "execution_count": 57,
   "metadata": {},
   "outputs": [
    {
     "name": "stdout",
     "output_type": "stream",
     "text": [
      "torch.Size([5359, 784])\n",
      "tensor(1.0050, device='cuda:0') tensor(0.5686, device='cuda:0')\n"
     ]
    }
   ],
   "source": [
    "# images from the validation set\n",
    "gen_validate = torch.from_numpy(np.array(vali_images).reshape(len(vali_images), -1)).to(device)\n",
    "gen_labels = torch.from_numpy(np.array(vali_labels).reshape(-1)).to(device)\n",
    "print(gen_validate.shape)\n",
    "density_validate = gem_build_density(real, real.shape[0], gen_validate, 'indexflatl2')\n",
    "coverage_validate = gem_build_coverage(real, real.shape[0], gen_validate, 'indexflatl2')\n",
    "print(density_validate, coverage_validate)"
   ]
  },
  {
   "cell_type": "markdown",
   "metadata": {},
   "source": [
    "chestmnist"
   ]
  },
  {
   "cell_type": "code",
   "execution_count": 104,
   "metadata": {},
   "outputs": [
    {
     "name": "stdout",
     "output_type": "stream",
     "text": [
      "tensor(0.9848, device='cuda:0') tensor(0.3652, device='cuda:0')\n"
     ]
    }
   ],
   "source": [
    "# images from the validation set\n",
    "gen_validate = torch.from_numpy(np.array(vali_images).reshape(len(vali_images), -1)).to(device)\n",
    "gen_labels = torch.from_numpy((labells)).to(device)\n",
    "density_validate = gem_build_density(real, real.shape[0], gen_validate, 'indexflatl2')\n",
    "coverage_validate = gem_build_coverage(real, real.shape[0], gen_validate, 'indexflatl2')\n",
    "print(density_validate, coverage_validate)"
   ]
  },
  {
   "cell_type": "markdown",
   "metadata": {},
   "source": [
    "#### Attack the model using validation dataset"
   ]
  },
  {
   "cell_type": "code",
   "execution_count": 58,
   "metadata": {},
   "outputs": [
    {
     "name": "stdout",
     "output_type": "stream",
     "text": [
      "torch.Size([5359, 1, 28, 28]) torch.Size([5359])\n"
     ]
    }
   ],
   "source": [
    "vali_imagesx = ep.astensor(torch.from_numpy(np.array(vali_images)).to(device))\n",
    "vali_labelsx = ep.astensor(torch.from_numpy(np.array(vali_labels).reshape(-1)).to(device))\n",
    "print(vali_imagesx.shape, vali_labelsx.shape)"
   ]
  },
  {
   "cell_type": "code",
   "execution_count": 112,
   "metadata": {},
   "outputs": [
    {
     "name": "stdout",
     "output_type": "stream",
     "text": [
      "torch.Size([3364, 1, 28, 28]) torch.Size([3364, 14])\n",
      "<class 'eagerpy.tensor.pytorch.PyTorchTensor'> <class 'eagerpy.tensor.pytorch.PyTorchTensor'>\n"
     ]
    }
   ],
   "source": [
    "# chestmnist\n",
    "vali_imagesx = ep.astensor(torch.from_numpy(np.array(vali_images)).to(device))\n",
    "vali_labelsx = ep.astensor(torch.from_numpy(labells).to(device))\n",
    "print(vali_imagesx.shape, vali_labelsx.shape)\n",
    "print(type(vali_imagesx), type(vali_labelsx))"
   ]
  },
  {
   "cell_type": "code",
   "execution_count": 59,
   "metadata": {},
   "outputs": [],
   "source": [
    "adv_vali, adv_info_vali = model_attack(attack2, original_model, vali_imagesx, vali_labelsx, epsilon)"
   ]
  },
  {
   "cell_type": "code",
   "execution_count": 60,
   "metadata": {},
   "outputs": [
    {
     "data": {
      "text/plain": [
       "torch.Size([30547, 784])"
      ]
     },
     "execution_count": 60,
     "metadata": {},
     "output_type": "execute_result"
    }
   ],
   "source": [
    "real.shape"
   ]
  },
  {
   "cell_type": "markdown",
   "metadata": {},
   "source": [
    "#### --> model_dataset and validation adversarial samples"
   ]
  },
  {
   "cell_type": "code",
   "execution_count": 61,
   "metadata": {},
   "outputs": [],
   "source": [
    "vali_den = []\n",
    "vali_cov = []\n",
    "for i in range(len(epsilon)):\n",
    "    \n",
    "    # generated adversarial for each epsilon(convert from eagerpy --> torch and reshape)\n",
    "    gen = adv_vali[i].raw.view(adv_vali[i].shape[0], -1)\n",
    "    \n",
    "    # density\n",
    "    vali_den.append(gem_build_density(real, real.shape[0], gen, 'indexflatl2'))\n",
    "    \n",
    "    # coverage\n",
    "    vali_cov.append(gem_build_coverage(real, real.shape[0], gen, 'indexflatl2'))"
   ]
  },
  {
   "cell_type": "code",
   "execution_count": 62,
   "metadata": {},
   "outputs": [],
   "source": [
    "robust_accuracy = []\n",
    "for i in range(20):\n",
    "    acc = 1 - adv_info_vali[i, :].raw.cpu().numpy().astype(np.float32).mean(axis=-1)\n",
    "    robust_accuracy.append(acc)"
   ]
  },
  {
   "cell_type": "code",
   "execution_count": 63,
   "metadata": {},
   "outputs": [
    {
     "name": "stdout",
     "output_type": "stream",
     "text": [
      "Density\n",
      "Model_dataset & validation set: density: 1.00496\n",
      "Epsilon: 0.00000, Accuracy: 0.16%, Vali_adv_density: 1.00496\n",
      "Epsilon: 0.05263, Accuracy: 0.14%, Vali_adv_density: 1.14924\n",
      "Epsilon: 0.10526, Accuracy: 0.13%, Vali_adv_density: 1.24325\n",
      "Epsilon: 0.15789, Accuracy: 0.12%, Vali_adv_density: 1.31775\n",
      "Epsilon: 0.21053, Accuracy: 0.11%, Vali_adv_density: 1.45546\n",
      "Epsilon: 0.26316, Accuracy: 0.10%, Vali_adv_density: 1.55824\n",
      "Epsilon: 0.31579, Accuracy: 0.10%, Vali_adv_density: 1.72178\n",
      "Epsilon: 0.36842, Accuracy: 0.11%, Vali_adv_density: 1.84788\n",
      "Epsilon: 0.42105, Accuracy: 0.11%, Vali_adv_density: 2.49770\n",
      "Epsilon: 0.47368, Accuracy: 0.12%, Vali_adv_density: 3.14103\n",
      "Epsilon: 0.52632, Accuracy: 0.12%, Vali_adv_density: 3.73794\n",
      "Epsilon: 0.57895, Accuracy: 0.13%, Vali_adv_density: 4.52439\n",
      "Epsilon: 0.63158, Accuracy: 0.13%, Vali_adv_density: 5.48162\n",
      "Epsilon: 0.68421, Accuracy: 0.13%, Vali_adv_density: 6.66643\n",
      "Epsilon: 0.73684, Accuracy: 0.14%, Vali_adv_density: 7.79328\n",
      "Epsilon: 0.78947, Accuracy: 0.14%, Vali_adv_density: 9.15055\n",
      "Epsilon: 0.84211, Accuracy: 0.14%, Vali_adv_density: 10.39373\n",
      "Epsilon: 0.89474, Accuracy: 0.14%, Vali_adv_density: 11.45941\n",
      "Epsilon: 0.94737, Accuracy: 0.15%, Vali_adv_density: 12.15850\n",
      "Epsilon: 1.00000, Accuracy: 0.15%, Vali_adv_density: 12.90689\n"
     ]
    }
   ],
   "source": [
    "print(\"Density\")\n",
    "print(f\"Model_dataset & validation set: density: {density_validate:.5f}\")\n",
    "#print(f\"Model_dataset & adversarial samples\")\n",
    "density_data = []\n",
    "for i in range(len(epsilon)):\n",
    "    print(\"Epsilon: {:.5f}, Accuracy: {:.2f}%, Vali_adv_density: {:.5f}\".format(epsilon[i], robust_accuracy[i], vali_den[i]))\n",
    "    density_data.append([epsilon[i], robust_accuracy[i], vali_den[i].cpu().numpy()])\n",
    "\n",
    "density_data = np.array(density_data)"
   ]
  },
  {
   "cell_type": "code",
   "execution_count": 65,
   "metadata": {},
   "outputs": [
    {
     "data": {
      "image/png": "[encoded data removed]",
      "text/plain": [
       "<Figure size 720x360 with 2 Axes>"
      ]
     },
     "metadata": {
      "needs_background": "light"
     },
     "output_type": "display_data"
    }
   ],
   "source": [
    "fig, ax = plt.subplots(nrows=1, ncols=2, figsize=(10,5))\n",
    "ax[0].plot(epsilon, vali_den, c='b', label='model_vali_adv')\n",
    "ax[0].plot(epsilon, np.repeat(density_validate.cpu().numpy(), len(epsilon)), ls='--', c='r', label='model_vali')\n",
    "ax[0].set_xlabel(\"Epsilons\")\n",
    "ax[0].set_ylabel(\"Density\")\n",
    "ax[0].set_title(\"FGSM attack(validation samples)\")\n",
    "ax[0].legend()\n",
    "ax[1].plot(epsilon, vali_cov, c='g', label='model_vali_adv')\n",
    "ax[1].plot(epsilon, np.repeat(coverage_validate.cpu().numpy(), len(epsilon)), ls='--', c='k', label='model_vali')\n",
    "ax[1].set_xlabel(\"Epsilons\")\n",
    "ax[1].set_ylabel(\"Coverage\")\n",
    "ax[1].set_title(\"FGSM attack(validation samples)\")\n",
    "ax[1].legend()\n",
    "fig.tight_layout()\n",
    "#plt.savefig(\"FGSM_attack_vali_samples_30model_pathmnist.png\")"
   ]
  },
  {
   "cell_type": "code",
   "execution_count": 66,
   "metadata": {},
   "outputs": [
    {
     "name": "stdout",
     "output_type": "stream",
     "text": [
      "Coverage\n",
      "Model_dataset & validation set: coverage: 0.5686319470405579\n",
      "Model_dataset & adversarial samples\n",
      "Epsilon: 0.00000, Accuracy: 0.16%, Vali_adv_coverage: 0.56863\n",
      "Epsilon: 0.05263, Accuracy: 0.14%, Vali_adv_coverage: 0.51838\n",
      "Epsilon: 0.10526, Accuracy: 0.13%, Vali_adv_coverage: 0.44446\n",
      "Epsilon: 0.15789, Accuracy: 0.12%, Vali_adv_coverage: 0.39480\n",
      "Epsilon: 0.21053, Accuracy: 0.11%, Vali_adv_coverage: 0.36596\n",
      "Epsilon: 0.26316, Accuracy: 0.10%, Vali_adv_coverage: 0.34881\n",
      "Epsilon: 0.31579, Accuracy: 0.10%, Vali_adv_coverage: 0.34537\n",
      "Epsilon: 0.36842, Accuracy: 0.11%, Vali_adv_coverage: 0.34845\n",
      "Epsilon: 0.42105, Accuracy: 0.11%, Vali_adv_coverage: 0.34507\n",
      "Epsilon: 0.47368, Accuracy: 0.12%, Vali_adv_coverage: 0.35133\n",
      "Epsilon: 0.52632, Accuracy: 0.12%, Vali_adv_coverage: 0.35499\n",
      "Epsilon: 0.57895, Accuracy: 0.13%, Vali_adv_coverage: 0.35918\n",
      "Epsilon: 0.63158, Accuracy: 0.13%, Vali_adv_coverage: 0.36560\n",
      "Epsilon: 0.68421, Accuracy: 0.13%, Vali_adv_coverage: 0.37234\n",
      "Epsilon: 0.73684, Accuracy: 0.14%, Vali_adv_coverage: 0.37509\n",
      "Epsilon: 0.78947, Accuracy: 0.14%, Vali_adv_coverage: 0.37948\n",
      "Epsilon: 0.84211, Accuracy: 0.14%, Vali_adv_coverage: 0.39071\n",
      "Epsilon: 0.89474, Accuracy: 0.14%, Vali_adv_coverage: 0.38783\n",
      "Epsilon: 0.94737, Accuracy: 0.15%, Vali_adv_coverage: 0.38397\n",
      "Epsilon: 1.00000, Accuracy: 0.15%, Vali_adv_coverage: 0.38564\n"
     ]
    }
   ],
   "source": [
    "print(\"Coverage\")\n",
    "print(f\"Model_dataset & validation set: coverage: {coverage_validate}\")\n",
    "print(f\"Model_dataset & adversarial samples\")\n",
    "coverage_data = []\n",
    "for i in range(len(epsilon)):\n",
    "    print(\"Epsilon: {:.5f}, Accuracy: {:.2f}%, Vali_adv_coverage: {:.5f}\".format(epsilon[i], robust_accuracy[i], vali_cov[i]))\n",
    "    coverage_data.append([epsilon[i], robust_accuracy[i], vali_cov[i].cpu().numpy()])\n",
    "\n",
    "coverage_data = np.array(coverage_data)"
   ]
  },
  {
   "cell_type": "markdown",
   "metadata": {},
   "source": [
    "- save/write the density_data & coverage_data\n",
    "- info: attack model with model_dataset -> model_dataset & adversarial samples\n",
    "- attack model validataion_dataset -> model_dataset & vali_adv samples\n",
    "- model_dataset & vali_dataset"
   ]
  },
  {
   "cell_type": "code",
   "execution_count": 141,
   "metadata": {},
   "outputs": [
    {
     "data": {
      "text/plain": [
       "torch.Size([54142, 784])"
      ]
     },
     "execution_count": 141,
     "metadata": {},
     "output_type": "execute_result"
    }
   ],
   "source": [
    "real.shape"
   ]
  },
  {
   "cell_type": "code",
   "execution_count": 67,
   "metadata": {},
   "outputs": [],
   "source": [
    "with open('FGSM_attack_pathmnist_1C_NewNet_density.dat', 'w') as newfile:\n",
    "    newfile.write(\"# FGSM attack NewNet model with model_dataset(30547 images)\" + \"\\n\" +\n",
    "                 \"# and validation_images(5359) 20 epsilon\" + \"\\n\" +\n",
    "                 \"# Epsilon Model_accuracy Vali_adv_density\" + \"\\n\" +\n",
    "                 \"# Model_dataset & validation set: \" + str(density_validate.cpu().numpy()) + \"\\n\" )\n",
    "\n",
    "with open('FGSM_attack_pathmnist_1C_NewNet_coverage.dat', 'w') as newfile:\n",
    "    newfile.write(\"# FGSM attack NewNet model with model_dataset(30547 images)\" + \"\\n\" +\n",
    "                 \"# and validation_images(5359) 20 epsilon\" + \"\\n\" +\n",
    "                 \"# Epsilon Model_accuracy  Vali_adv_coverage\" + \"\\n\" +\n",
    "                 \"# Model_dataset & validation set: \" + str(coverage_validate.cpu().numpy()) + \"\\n\")\n",
    "with open('FGSM_attack_pathmnist_1C_NewNet_density.dat', 'a') as addfile:\n",
    "    np.savetxt(addfile, density_data)\n",
    "    \n",
    "with open('FGSM_attack_pathmnist_1C_NewNet_coverage.dat', 'a') as addfile:\n",
    "    np.savetxt(addfile, coverage_data)"
   ]
  },
  {
   "cell_type": "markdown",
   "metadata": {},
   "source": [
    "### FGSM attack mixing of adv validation samples into the validation set and then compute metrics "
   ]
  },
  {
   "cell_type": "code",
   "execution_count": 59,
   "metadata": {},
   "outputs": [],
   "source": [
    "xx = np.random.choice(np.arange(2100), size=int(0.50*2100), replace=False)\n",
    "yy = np.random.choice(np.arange(2100), size=int(0.50*2100), replace=False)"
   ]
  },
  {
   "cell_type": "code",
   "execution_count": 58,
   "metadata": {},
   "outputs": [],
   "source": [
    "new = vali_imagesx.raw[yy]\n",
    "nextt= adv_vali[0].raw[~yy]\n",
    "assert(np.array_equal(vali_imagesx.raw.numpy()[yy], vali_imagesx.raw.numpy()[~yy]))"
   ]
  },
  {
   "cell_type": "code",
   "execution_count": 21,
   "metadata": {},
   "outputs": [
    {
     "name": "stdout",
     "output_type": "stream",
     "text": [
      "(2100, 1, 28, 28) (2100,)\n"
     ]
    }
   ],
   "source": [
    "vali_imagesx = np.array(vali_images)\n",
    "vali_labelsx = np.array(vali_labels).reshape(-1)\n",
    "print(vali_imagesx.shape, vali_labelsx.shape)"
   ]
  },
  {
   "cell_type": "code",
   "execution_count": 30,
   "metadata": {},
   "outputs": [
    {
     "data": {
      "text/plain": [
       "(torch.Tensor, torch.Size([1575, 1, 28, 28]))"
      ]
     },
     "execution_count": 30,
     "metadata": {},
     "output_type": "execute_result"
    }
   ],
   "source": [
    "new = vali_imagesx.raw[yy]\n",
    "type(new), new.shape"
   ]
  },
  {
   "cell_type": "code",
   "execution_count": 27,
   "metadata": {},
   "outputs": [
    {
     "data": {
      "text/plain": [
       "torch.Size([525, 1, 28, 28])"
      ]
     },
     "execution_count": 27,
     "metadata": {},
     "output_type": "execute_result"
    }
   ],
   "source": [
    "nextt= adv_vali[0].raw[xx]\n",
    "nextt.shape"
   ]
  },
  {
   "cell_type": "code",
   "execution_count": 34,
   "metadata": {},
   "outputs": [
    {
     "data": {
      "text/plain": [
       "(torch.Size([2100, 1, 28, 28]), torch.Size([20000, 784]))"
      ]
     },
     "execution_count": 34,
     "metadata": {},
     "output_type": "execute_result"
    }
   ],
   "source": [
    "torch.cat([new, nextt]).shape, real.shape"
   ]
  },
  {
   "cell_type": "code",
   "execution_count": 60,
   "metadata": {},
   "outputs": [],
   "source": [
    "vali25_den=[]; vali25_cov=[]\n",
    "\n",
    "for i in range(len(epsilon)):\n",
    "    \n",
    "    # for normal mixing\n",
    "    #per_val = int(0.75*2100)\n",
    "    #adv_vali25_imgs = adv_vali[i].raw[:per_val,...]\n",
    "    #total_vali_set = torch.cat([vali_imagesx.raw[per_val:,...], adv_vali25_imgs])\n",
    "    \n",
    "    # for random mixing\n",
    "    adv_vali25_imgs = adv_vali[i].raw[yy]\n",
    "    total_vali_set = torch.cat([vali_imagesx.raw[xx], adv_vali25_imgs])\n",
    "    \n",
    "    gen = total_vali_set.view(total_vali_set.shape[0], -1)\n",
    "    \n",
    "    # density\n",
    "    vali25_den.append(gem_build_density(real, real.shape[0], gen, 'indexflatl2'))\n",
    "    \n",
    "    # coverage\n",
    "    vali25_cov.append(gem_build_coverage(real, real.shape[0], gen, 'indexflatl2'))\n",
    "    "
   ]
  },
  {
   "cell_type": "code",
   "execution_count": 61,
   "metadata": {},
   "outputs": [],
   "source": [
    "metrics25 = []\n",
    "for i in range(len(epsilon)):\n",
    "    metrics25.append([epsilon[i], robust_accuracy[i], vali25_den[i].cpu().numpy(), vali25_cov[i].cpu().numpy()])"
   ]
  },
  {
   "cell_type": "code",
   "execution_count": 62,
   "metadata": {},
   "outputs": [
    {
     "data": {
      "text/plain": [
       "array([[0.        , 0.98952381, 0.99657148, 0.31305   ],\n",
       "       [0.05263158, 0.98904762, 1.09542859, 0.34450001],\n",
       "       [0.10526316, 0.98761905, 1.14742863, 0.36094999],\n",
       "       [0.15789474, 0.98714286, 1.14895236, 0.36115   ],\n",
       "       [0.21052632, 0.98571429, 1.10790479, 0.35104999],\n",
       "       [0.26315789, 0.98333333, 1.02533329, 0.33149999],\n",
       "       [0.31578947, 0.98238095, 0.90333331, 0.3048    ],\n",
       "       [0.36842105, 0.97857143, 0.78476197, 0.28      ],\n",
       "       [0.42105263, 0.97571428, 0.67714286, 0.25885001],\n",
       "       [0.47368421, 0.96285714, 0.66142857, 0.25545001],\n",
       "       [0.52631579, 0.93285714, 0.64495242, 0.25150001],\n",
       "       [0.57894737, 0.88428571, 0.62571436, 0.24695   ],\n",
       "       [0.63157895, 0.78285715, 0.60895234, 0.24315   ],\n",
       "       [0.68421053, 0.68095237, 0.59028578, 0.23915   ],\n",
       "       [0.73684211, 0.56999999, 0.57590479, 0.2362    ],\n",
       "       [0.78947368, 0.47000003, 0.56304765, 0.2332    ],\n",
       "       [0.84210526, 0.40047622, 0.54980952, 0.23100001],\n",
       "       [0.89473684, 0.33190477, 0.54000002, 0.22955   ],\n",
       "       [0.94736842, 0.28714287, 0.53133333, 0.22830001],\n",
       "       [1.        , 0.24619049, 0.5252381 , 0.2277    ]])"
      ]
     },
     "execution_count": 62,
     "metadata": {},
     "output_type": "execute_result"
    }
   ],
   "source": [
    "metrics25 = np.array(metrics25)\n",
    "metrics25"
   ]
  },
  {
   "cell_type": "code",
   "execution_count": 63,
   "metadata": {},
   "outputs": [],
   "source": [
    "with open('FGSM_attack_mnist_NewNet_50randmix_valiadv.dat', 'w') as newfile:\n",
    "    newfile.write(\"# FGSM attack NewNet model with model_dataset(20000 images)\" + \"\\n\" +\n",
    "                 \"# and validation_images(2100) 20 epsilon\" + \"\\n\" +\n",
    "                 \"# 50% mix of adv vali samples random\" + \"\\n\" +\n",
    "                 \"# Epsilon Model_accuracy Vali25_adv_den Vali25_adv_cov\" + \"\\n\" )\n",
    "                 \n",
    "with open('FGSM_attack_mnist_NewNet_50randmix_valiadv.dat', 'a') as addfile:\n",
    "    np.savetxt(addfile, metrics25)"
   ]
  },
  {
   "cell_type": "markdown",
   "metadata": {},
   "source": [
    "### Metrics for FGSM Attack - stats\n",
    "\n",
    "- ```Batch_modelvali_metrics``` - density & coverage between model_dataset(20000) & validation_dataset(2100) in batches of 100 samples\n",
    "- ```Batch_modelvali_adv_metrics``` - attack the model in batches using validation_dataset. Computed density & coverage between model_dataset & validation_adv samples"
   ]
  },
  {
   "cell_type": "code",
   "execution_count": 68,
   "metadata": {},
   "outputs": [],
   "source": [
    "def model_validation_metrics_batches(real, images, labels):\n",
    "    \"\"\"\n",
    "    Function to obtain density and coverage between model_dataset & \n",
    "    validation_dataset in batches (100 images)\n",
    "    \n",
    "    Parameters\n",
    "    ---------------\n",
    "    real: the model_dataset of (20000 images) using stratify split, torch.Tensor\n",
    "    images: the validation_dataset fo (2100 images) , torch.Tensor\n",
    "    labels: the labels for the validation_dataset, torch.Tensor\n",
    "    \n",
    "    Return\n",
    "    -----------------\n",
    "    bacth_model_vali_metrics: list containing density & coverage\n",
    "    \"\"\"\n",
    "    batches = np.arange(0, 5359, 100)\n",
    "    \n",
    "\n",
    "    bacth_model_vali_metrics = []\n",
    "    images = images.view(images.shape[0], -1)\n",
    "    for i in range(len(batches)-1):\n",
    "\n",
    "        # model_dataset & validation_dataset in batches\n",
    "        start = batches[i]; end= batches[i+1]\n",
    "        gen_validatex = images[start:end,...]\n",
    "        gen_labelsx = labels[start:end]\n",
    "        density_validatex = gem_build_density(real, real.shape[0], gen_validatex, 'indexflatl2')\n",
    "        coverage_validatex = gem_build_coverage(real, real.shape[0], gen_validatex, 'indexflatl2')\n",
    "        bacth_model_vali_metrics.append([density_validatex.cpu().numpy(), coverage_validatex.cpu().numpy()])\n",
    "   \n",
    "    return bacth_model_vali_metrics\n",
    "        "
   ]
  },
  {
   "cell_type": "code",
   "execution_count": 69,
   "metadata": {},
   "outputs": [],
   "source": [
    "def batch_validation_attack(real, images, labels, epi):\n",
    "    \"\"\"\n",
    "    Function to obtain the density & coverage between model_dataset & validation_adv dataset\n",
    "    \n",
    "    - attack the model in batches of validation dataset(100 images)\n",
    "    - for each epsilon value, compute the density & coverage for model_dataset & adv batch\n",
    "    \n",
    "    Parameters\n",
    "    -------------\n",
    "    real: real: the model_dataset of (20000 images) using stratify split, torch.Tensor\n",
    "    images: images: the validation_dataset fo (2100 images) , torch.Tensor\n",
    "    labels: the labels for the validation_dataset, torch.Tensor\n",
    "    epi: np.array, epsilons for the attack\n",
    "    \n",
    "    Return\n",
    "    -------------\n",
    "    batch_model_vali_adv_metrics: list containing density & coverage\n",
    "    \"\"\"\n",
    "    advs = []\n",
    "    batch_model_vali_adv_metrics = []\n",
    "    batches = np.arange(0, 5359, 100)\n",
    "    images = ep.astensor(images)\n",
    "    labels = ep.astensor(labels)\n",
    "    for i in range(len(batches)-1):\n",
    "        start = batches[i]; end= batches[i+1]\n",
    "        imagesx = images[start:end,...]\n",
    "        labelsx = labels[start:end]\n",
    "        adv_fgsm_batch, adv_fgsm_batch_info = model_attack(attack2, original_model, imagesx, labelsx, epi)\n",
    "        if(i%5==0):print(f\"batch{i}!!!\")\n",
    "        #advs.append(adv_fgsm_batch)\n",
    "    #print(adv_fgsm_batch[0].shape)\n",
    "    #print(len(advs[0]))\n",
    "        for i in range(len(adv_fgsm_batch)):\n",
    "            gen = adv_fgsm_batch[i].raw.view(len(adv_fgsm_batch[i]), -1)\n",
    "            densityx = gem_build_density(real, real.shape[0], gen, 'indexflatl2')\n",
    "            coveragex = gem_build_coverage(real, real.shape[0], gen, 'indexflatl2')\n",
    "            batch_model_vali_adv_metrics.append([densityx.cpu().numpy(), coveragex.cpu().numpy()])\n",
    "    \n",
    "    return batch_model_vali_adv_metrics"
   ]
  },
  {
   "cell_type": "code",
   "execution_count": 70,
   "metadata": {},
   "outputs": [],
   "source": [
    "# mnist\n",
    "#realx = torch.from_numpy(np.array(X_images)).view(len(X_images), -1).to(device)\n",
    "\n",
    "# pathmnist\n",
    "#realx = md_images.reshape(md_images.shape[0], -1).to(device)\n",
    "vali_attk_images = torch.from_numpy(np.array(vali_images)).to(device)\n",
    "vali_attk_labels = torch.from_numpy(np.array(vali_labels).reshape(-1)).to(device)\n",
    "epsilon = np.linspace(0.0, 1, num=20)\n"
   ]
  },
  {
   "cell_type": "code",
   "execution_count": 71,
   "metadata": {},
   "outputs": [
    {
     "data": {
      "text/plain": [
       "(torch.Size([30547, 784]), torch.Size([5359, 1, 28, 28]), torch.Size([5359]))"
      ]
     },
     "execution_count": 71,
     "metadata": {},
     "output_type": "execute_result"
    }
   ],
   "source": [
    "real.shape, vali_attk_images.shape, vali_attk_labels.shape"
   ]
  },
  {
   "cell_type": "code",
   "execution_count": 72,
   "metadata": {},
   "outputs": [],
   "source": [
    "Batch_modelvali_metrics = model_validation_metrics_batches(real, vali_attk_images, vali_attk_labels)"
   ]
  },
  {
   "cell_type": "code",
   "execution_count": 78,
   "metadata": {},
   "outputs": [
    {
     "data": {
      "text/plain": [
       "53"
      ]
     },
     "execution_count": 78,
     "metadata": {},
     "output_type": "execute_result"
    }
   ],
   "source": [
    "len(Batch_modelvali_metrics)"
   ]
  },
  {
   "cell_type": "code",
   "execution_count": 79,
   "metadata": {},
   "outputs": [],
   "source": [
    "with open('FGSM_attack_pathmnist_1C_100batch_metrics.dat', 'w') as newfile:\n",
    "    newfile.write(\"# FGSM attack with model_dataset(30547 images)\" + \"\\n\" +\n",
    "                 \"# and validation_images(5359) 20 epsilon in batches of 100 images\" + \"\\n\" +\n",
    "                 \"# metrics between model_dataset & validation dataset\" + \"\\n\" +\n",
    "                 \"# Model_vali_density Model_vali_coverage\" + \"\\n\" )\n",
    "with open('FGSM_attack_pathmnist_1C_100batch_metrics.dat', 'a') as newfile:\n",
    "    np.savetxt(newfile, np.array(Batch_modelvali_metrics))"
   ]
  },
  {
   "cell_type": "code",
   "execution_count": 76,
   "metadata": {},
   "outputs": [
    {
     "name": "stdout",
     "output_type": "stream",
     "text": [
      "batch0!!!\n",
      "batch5!!!\n",
      "batch10!!!\n",
      "batch15!!!\n",
      "batch20!!!\n",
      "batch25!!!\n",
      "batch30!!!\n",
      "batch35!!!\n",
      "batch40!!!\n",
      "batch45!!!\n",
      "batch50!!!\n"
     ]
    }
   ],
   "source": [
    "Batch_modelvali_adv_metrics = batch_validation_attack(real, vali_attk_images, vali_attk_labels, epsilon)"
   ]
  },
  {
   "cell_type": "code",
   "execution_count": 77,
   "metadata": {},
   "outputs": [],
   "source": [
    "with open('FGSM_attack_pathmnist_1C_100batch_adv_metrics.dat', 'w') as newfile:\n",
    "    newfile.write(\"# FGSM attack with model_dataset(30547 images)\" + \"\\n\" +\n",
    "                 \"# and validation_images(5359) 20 epsilon in batches of 100 images\" + \"\\n\" +\n",
    "                 \"# metrics between model_dataset & adv validation dataset\" + \"\\n\" +\n",
    "                 \"# Model_vali_adv_density Model_vali_adv_coverage\" + \"\\n\" )\n",
    "with open('FGSM_attack_pathmnist_1C_100batch_adv_metrics.dat', 'a') as newfile:\n",
    "    np.savetxt(newfile, np.array(Batch_modelvali_adv_metrics))"
   ]
  },
  {
   "cell_type": "markdown",
   "metadata": {},
   "source": [
    "## Attack the model using ```Boundary attack```"
   ]
  },
  {
   "cell_type": "markdown",
   "metadata": {},
   "source": [
    "This attack works fine i.e, adversarial samples are created if epsilon is assigned as None"
   ]
  },
  {
   "cell_type": "code",
   "execution_count": 88,
   "metadata": {},
   "outputs": [],
   "source": [
    "# manage memory\n",
    "#del md_images; del md_labels; del images; del labels\n",
    "#torch.cuda.empty_cache()\n",
    "#print(torch.cuda.memory_allocated())"
   ]
  },
  {
   "cell_type": "code",
   "execution_count": 12,
   "metadata": {},
   "outputs": [],
   "source": [
    "BdyAttack = fb.attacks.BoundaryAttack()"
   ]
  },
  {
   "cell_type": "markdown",
   "metadata": {},
   "source": [
    "#### Test attack using images & labels from foolbox\n",
    "\n",
    "This step is done to make sure adversarial samples are generated with the current version of foolbox"
   ]
  },
  {
   "cell_type": "code",
   "execution_count": 66,
   "metadata": {},
   "outputs": [],
   "source": [
    "test_imgs, test_labels = ep.astensors(*samples(original_model, dataset='mnist', batchsize=16))\n",
    "raw_advs, clipped_advs, success = BdyAttack(original_model, test_imgs, test_labels, epsilons=None)"
   ]
  },
  {
   "cell_type": "code",
   "execution_count": 67,
   "metadata": {},
   "outputs": [
    {
     "name": "stdout",
     "output_type": "stream",
     "text": [
      "robust accuracy:  PyTorchTensor(tensor(0., device='cuda:0'))\n"
     ]
    }
   ],
   "source": [
    "robust_accuracy = 1 - success.float32().mean(axis=-1)\n",
    "print(\"robust accuracy: \", robust_accuracy)"
   ]
  },
  {
   "cell_type": "markdown",
   "metadata": {},
   "source": [
    "#### Test attack using validation images\n",
    "\n",
    "A subset of 10 images from the validation_set is used for the attack"
   ]
  },
  {
   "cell_type": "code",
   "execution_count": 10,
   "metadata": {},
   "outputs": [],
   "source": [
    "vali_attk_images = ep.astensor(torch.from_numpy(np.array(vali_images)).to(device))\n",
    "vali_attk_labels = ep.astensor(torch.from_numpy(np.array(vali_labels)).to(device))"
   ]
  },
  {
   "cell_type": "code",
   "execution_count": 11,
   "metadata": {},
   "outputs": [],
   "source": [
    "vali_attk_labels = vali_attk_labels.reshape(-1)"
   ]
  },
  {
   "cell_type": "code",
   "execution_count": 11,
   "metadata": {},
   "outputs": [
    {
     "data": {
      "text/plain": [
       "torch.Size([2100])"
      ]
     },
     "execution_count": 11,
     "metadata": {},
     "output_type": "execute_result"
    }
   ],
   "source": [
    "vali_attk_labels.shape"
   ]
  },
  {
   "cell_type": "code",
   "execution_count": 69,
   "metadata": {},
   "outputs": [],
   "source": [
    "attak = fb.attacks.BoundaryAttack()\n",
    "_, _, newsuccess = BdyAttack(original_model, vali_attk_images[:10,...], vali_attk_labels[:10], epsilons=None)"
   ]
  },
  {
   "cell_type": "code",
   "execution_count": 70,
   "metadata": {},
   "outputs": [
    {
     "name": "stdout",
     "output_type": "stream",
     "text": [
      "robust accuracy:  PyTorchTensor(tensor(0., device='cuda:0'))\n"
     ]
    }
   ],
   "source": [
    "robust_acc = 1 - newsuccess.float32().mean(axis=-1)\n",
    "print(\"robust accuracy: \", robust_accuracy)"
   ]
  },
  {
   "cell_type": "markdown",
   "metadata": {},
   "source": [
    "### Attack the model using entire validation_dataset\n",
    "\n",
    "- the Boundary Attack cannot be implemented if the starting images are not adversaries\n",
    "- to create these adversarial samples, ```init_attack``` needs to be specified\n",
    "- any of the attacks inherited from ```Minimization Attack``` can be used for this purpose\n",
    "- all the initial samples should be strictly adversarial samples\n",
    "\n",
    "##### Two different attacks were experimented\n",
    "- ```SaltandPepper```, ```LinearSearchBlendedUniformNoiseAttack```\n",
    "- modify the hyperparameters within these attacks to generate the adversarial samples\n",
    "- the generated samples are given as the starting points for the ```BoundaryAttack```\n",
    "- time complexity increases with changing these hyperparameters"
   ]
  },
  {
   "cell_type": "code",
   "execution_count": 20,
   "metadata": {},
   "outputs": [],
   "source": [
    "vali_images = np.array(vali_images)\n",
    "vali_labels = np.array(val_labels)"
   ]
  },
  {
   "cell_type": "code",
   "execution_count": 21,
   "metadata": {},
   "outputs": [],
   "source": [
    "new = []\n",
    "for i in range(len(vali_labels)):\n",
    "    new.append(vali_labels[0].numpy())"
   ]
  },
  {
   "cell_type": "code",
   "execution_count": 22,
   "metadata": {},
   "outputs": [],
   "source": [
    "vali_labels = np.array(new)"
   ]
  },
  {
   "cell_type": "code",
   "execution_count": 23,
   "metadata": {},
   "outputs": [
    {
     "data": {
      "text/plain": [
       "(3364, 1, 28, 28)"
      ]
     },
     "execution_count": 23,
     "metadata": {},
     "output_type": "execute_result"
    }
   ],
   "source": [
    "vali_images.shape"
   ]
  },
  {
   "cell_type": "code",
   "execution_count": 180,
   "metadata": {},
   "outputs": [],
   "source": [
    "# pathmnist\n",
    "_, X_images, _, y_labels = train_test_split(vali_images, vali_labels, test_size=0.3, random_state=42, stratify=vali_labels)"
   ]
  },
  {
   "cell_type": "code",
   "execution_count": 16,
   "metadata": {},
   "outputs": [
    {
     "data": {
      "text/plain": [
       "(torch.Size([4708, 1, 28, 28]), eagerpy.tensor.pytorch.PyTorchTensor)"
      ]
     },
     "execution_count": 16,
     "metadata": {},
     "output_type": "execute_result"
    }
   ],
   "source": [
    "vali_attk_images.shape, type(vali_attk_labels)"
   ]
  },
  {
   "cell_type": "code",
   "execution_count": 20,
   "metadata": {},
   "outputs": [],
   "source": [
    "s_attack = fb.attacks.SaltAndPepperNoiseAttack(steps=5000, across_channels=True)\n",
    "n_attack = fb.attacks.LinearSearchBlendedUniformNoiseAttack(steps=1000, directions=2000)\n",
    "l_attack = fb.attacks.LinfDeepFoolAttack()\n",
    "lb_attack = fb.attacks.L0BrendelBethgeAttack()\n",
    "criterion = fb.criteria.Misclassification(vali_attk_labels)\n",
    "_, adv_lsbu, adv_bdy_info = n_attack(original_model, vali_attk_images, vali_attk_labels, epsilons=None)"
   ]
  },
  {
   "cell_type": "code",
   "execution_count": 21,
   "metadata": {},
   "outputs": [
    {
     "data": {
      "text/plain": [
       "PyTorchTensor(tensor([1., 1., 1.,  ..., 1., 1., 1.]))"
      ]
     },
     "execution_count": 21,
     "metadata": {},
     "output_type": "execute_result"
    }
   ],
   "source": [
    "adv_bdy_info.float32()"
   ]
  },
  {
   "cell_type": "code",
   "execution_count": 77,
   "metadata": {},
   "outputs": [
    {
     "data": {
      "text/plain": [
       "torch.Size([5359, 3, 28, 28])"
      ]
     },
     "execution_count": 77,
     "metadata": {},
     "output_type": "execute_result"
    }
   ],
   "source": [
    "s = adv_bdy_info.float32().raw\n",
    "d = torch.where(s==1)\n",
    "adv_lsbu_new = adv_lsbu[d]\n",
    "adv_lsbu_new.shape\n",
    "#np.unique(vali_attk_labels[d].raw.numpy(), return_counts=unts=True)"
   ]
  },
  {
   "cell_type": "code",
   "execution_count": 22,
   "metadata": {},
   "outputs": [
    {
     "name": "stdout",
     "output_type": "stream",
     "text": [
      "acc: 0.0\n"
     ]
    }
   ],
   "source": [
    "print(f\"acc: {1 - adv_bdy_info.float32().mean(axis=-1)}\")"
   ]
  },
  {
   "cell_type": "code",
   "execution_count": 23,
   "metadata": {},
   "outputs": [],
   "source": [
    "_, adv_bdy, adv_bdy_info = BdyAttack(original_model, vali_attk_images, vali_attk_labels, starting_points=adv_lsbu, epsilons=None)"
   ]
  },
  {
   "cell_type": "markdown",
   "metadata": {},
   "source": [
    "## adv_bdy_info"
   ]
  },
  {
   "cell_type": "code",
   "execution_count": 24,
   "metadata": {},
   "outputs": [
    {
     "name": "stdout",
     "output_type": "stream",
     "text": [
      "acc: 0.0\n"
     ]
    }
   ],
   "source": [
    "print(f\"acc: {1 - adv_bdy_info.float32().mean(axis=-1)}\")"
   ]
  },
  {
   "cell_type": "markdown",
   "metadata": {},
   "source": [
    "### Metrics"
   ]
  },
  {
   "cell_type": "markdown",
   "metadata": {},
   "source": [
    "#### - entire model_dataset (67000) & validation_dataset (2100)"
   ]
  },
  {
   "cell_type": "code",
   "execution_count": 13,
   "metadata": {},
   "outputs": [
    {
     "data": {
      "text/plain": [
       "(torch.Size([4708, 1, 28, 28]),\n",
       " torch.Size([4708]),\n",
       " torch.Size([54142, 1, 28, 28]))"
      ]
     },
     "execution_count": 13,
     "metadata": {},
     "output_type": "execute_result"
    }
   ],
   "source": [
    "vali_attk_images.shape, vali_attk_labels.shape, md_images.shape#, real.shape"
   ]
  },
  {
   "cell_type": "code",
   "execution_count": 18,
   "metadata": {},
   "outputs": [],
   "source": [
    "real = md_images.reshape(md_images.shape[0], -1)"
   ]
  },
  {
   "cell_type": "code",
   "execution_count": 27,
   "metadata": {},
   "outputs": [
    {
     "name": "stdout",
     "output_type": "stream",
     "text": [
      "tensor(1.0071) tensor(0.1424)\n"
     ]
    }
   ],
   "source": [
    "#real = md_images.view(md_images.shape[0], -1).to(device)\n",
    "# images from the validation set\n",
    "# for pathmnist 30000 model_dataset images are used \n",
    "gen_validate = vali_attk_images.raw.view(vali_attk_images.shape[0], -1)\n",
    "gen_labels = vali_attk_labels\n",
    "density_validate = gem_build_density(real, real.shape[0], gen_validate, 'indexflatl2')\n",
    "coverage_validate = gem_build_coverage(real, real.shape[0], gen_validate, 'indexflatl2')\n",
    "print(density_validate, coverage_validate)"
   ]
  },
  {
   "cell_type": "markdown",
   "metadata": {},
   "source": [
    "#### - model_dataset & validation_dataset adversarials"
   ]
  },
  {
   "cell_type": "code",
   "execution_count": 28,
   "metadata": {},
   "outputs": [
    {
     "name": "stdout",
     "output_type": "stream",
     "text": [
      "torch.Size([2100, 784]) torch.Size([67900, 784])\n",
      "tensor(0.1581) tensor(0.0047)\n"
     ]
    }
   ],
   "source": [
    "gen_adv_val = adv_bdy.raw.view(adv_bdy.shape[0], -1)\n",
    "model_density_val = gem_build_density(real, real.shape[0], gen_adv_val, 'indexflatl2')\n",
    "model_coverage_val = gem_build_coverage(real, real.shape[0], gen_adv_val, 'indexflatl2')\n",
    "print(gen_adv_val.shape, real.shape)\n",
    "print(model_density_val, model_coverage_val)"
   ]
  },
  {
   "cell_type": "code",
   "execution_count": 29,
   "metadata": {},
   "outputs": [
    {
     "name": "stdout",
     "output_type": "stream",
     "text": [
      "Density\n",
      "Model_dataset & validation set: density: 1.00714\n",
      "Model_dataset & validation adv (2100): density: 0.15810\n"
     ]
    }
   ],
   "source": [
    "print(\"Density\")\n",
    "print(f\"Model_dataset & validation set: density: {density_validate:.5f}\")\n",
    "print(f\"Model_dataset & validation adv (2100): density: {model_density_val:.5f}\")"
   ]
  },
  {
   "cell_type": "markdown",
   "metadata": {},
   "source": [
    "### Attack the model with validation_dataset in batches"
   ]
  },
  {
   "cell_type": "markdown",
   "metadata": {},
   "source": [
    "- create the adversarial samples for each batch exclusively\n",
    "- use these images as starting_points for boundary attack"
   ]
  },
  {
   "cell_type": "markdown",
   "metadata": {},
   "source": [
    "#### Get the adversarial starting points for each Batch\n",
    "- load the 100Batch_Vali_Adv_LSBU.pt file for the saved LSBU adversarials( batch size of 100 images)\n",
    "- load the 42Batch_Vali_Adv_LSBU.pt file for the saved LSBU adversarials( batch size of 42 images)"
   ]
  },
  {
   "cell_type": "code",
   "execution_count": 225,
   "metadata": {
    "collapsed": true,
    "jupyter": {
     "outputs_hidden": true
    }
   },
   "outputs": [
    {
     "name": "stderr",
     "output_type": "stream",
     "text": [
      "/home/venkat31/.conda/envs/n2gem/lib/python3.8/site-packages/foolbox/attacks/blended_noise.py:82: UserWarning: LinearSearchBlendedUniformNoiseAttack failed to draw sufficient random inputs that are adversarial (92 / 100).\n",
      "  warnings.warn(\n"
     ]
    },
    {
     "name": "stdout",
     "output_type": "stream",
     "text": [
      "acc: 0.06999999284744263\n"
     ]
    },
    {
     "name": "stderr",
     "output_type": "stream",
     "text": [
      "/home/venkat31/.conda/envs/n2gem/lib/python3.8/site-packages/foolbox/attacks/blended_noise.py:82: UserWarning: LinearSearchBlendedUniformNoiseAttack failed to draw sufficient random inputs that are adversarial (93 / 100).\n",
      "  warnings.warn(\n"
     ]
    },
    {
     "name": "stdout",
     "output_type": "stream",
     "text": [
      "acc: 0.06999999284744263\n"
     ]
    },
    {
     "name": "stderr",
     "output_type": "stream",
     "text": [
      "/home/venkat31/.conda/envs/n2gem/lib/python3.8/site-packages/foolbox/attacks/blended_noise.py:82: UserWarning: LinearSearchBlendedUniformNoiseAttack failed to draw sufficient random inputs that are adversarial (86 / 100).\n",
      "  warnings.warn(\n"
     ]
    },
    {
     "name": "stdout",
     "output_type": "stream",
     "text": [
      "acc: 0.14000004529953003\n"
     ]
    },
    {
     "name": "stderr",
     "output_type": "stream",
     "text": [
      "/home/venkat31/.conda/envs/n2gem/lib/python3.8/site-packages/foolbox/attacks/blended_noise.py:82: UserWarning: LinearSearchBlendedUniformNoiseAttack failed to draw sufficient random inputs that are adversarial (87 / 100).\n",
      "  warnings.warn(\n"
     ]
    },
    {
     "ename": "KeyboardInterrupt",
     "evalue": "",
     "output_type": "error",
     "traceback": [
      "\u001b[0;31m---------------------------------------------------------------------------\u001b[0m",
      "\u001b[0;31mKeyboardInterrupt\u001b[0m                         Traceback (most recent call last)",
      "\u001b[0;32m<ipython-input-225-0c7c50bd4180>\u001b[0m in \u001b[0;36m<module>\u001b[0;34m\u001b[0m\n\u001b[1;32m      4\u001b[0m \u001b[0;32mfor\u001b[0m \u001b[0mi\u001b[0m \u001b[0;32min\u001b[0m \u001b[0mrange\u001b[0m\u001b[0;34m(\u001b[0m\u001b[0mlen\u001b[0m\u001b[0;34m(\u001b[0m\u001b[0mbatches\u001b[0m\u001b[0;34m)\u001b[0m\u001b[0;34m-\u001b[0m\u001b[0;36m1\u001b[0m\u001b[0;34m)\u001b[0m\u001b[0;34m:\u001b[0m\u001b[0;34m\u001b[0m\u001b[0;34m\u001b[0m\u001b[0m\n\u001b[1;32m      5\u001b[0m     \u001b[0mstart\u001b[0m \u001b[0;34m=\u001b[0m \u001b[0mbatches\u001b[0m\u001b[0;34m[\u001b[0m\u001b[0mi\u001b[0m\u001b[0;34m]\u001b[0m\u001b[0;34m;\u001b[0m \u001b[0mend\u001b[0m\u001b[0;34m=\u001b[0m \u001b[0mbatches\u001b[0m\u001b[0;34m[\u001b[0m\u001b[0mi\u001b[0m\u001b[0;34m+\u001b[0m\u001b[0;36m1\u001b[0m\u001b[0;34m]\u001b[0m\u001b[0;34m\u001b[0m\u001b[0;34m\u001b[0m\u001b[0m\n\u001b[0;32m----> 6\u001b[0;31m     \u001b[0m_\u001b[0m\u001b[0;34m,\u001b[0m \u001b[0mbatch_adv_lsbu\u001b[0m\u001b[0;34m,\u001b[0m \u001b[0madv_bdy_info\u001b[0m \u001b[0;34m=\u001b[0m \u001b[0mn_attack\u001b[0m\u001b[0;34m(\u001b[0m\u001b[0moriginal_model\u001b[0m\u001b[0;34m,\u001b[0m \u001b[0mvali_attk_images\u001b[0m\u001b[0;34m[\u001b[0m\u001b[0mstart\u001b[0m\u001b[0;34m:\u001b[0m\u001b[0mend\u001b[0m\u001b[0;34m,\u001b[0m\u001b[0;34m...\u001b[0m\u001b[0;34m]\u001b[0m\u001b[0;34m,\u001b[0m \u001b[0mvali_attk_labels\u001b[0m\u001b[0;34m[\u001b[0m\u001b[0mstart\u001b[0m\u001b[0;34m:\u001b[0m\u001b[0mend\u001b[0m\u001b[0;34m]\u001b[0m\u001b[0;34m,\u001b[0m \u001b[0mepsilons\u001b[0m\u001b[0;34m=\u001b[0m\u001b[0;32mNone\u001b[0m\u001b[0;34m)\u001b[0m\u001b[0;34m\u001b[0m\u001b[0;34m\u001b[0m\u001b[0m\n\u001b[0m\u001b[1;32m      7\u001b[0m     \u001b[0mprint\u001b[0m\u001b[0;34m(\u001b[0m\u001b[0;34mf\"acc: {1 - adv_bdy_info.float32().mean(axis=-1)}\"\u001b[0m\u001b[0;34m)\u001b[0m\u001b[0;34m\u001b[0m\u001b[0;34m\u001b[0m\u001b[0m\n\u001b[1;32m      8\u001b[0m     \u001b[0msuccess\u001b[0m\u001b[0;34m.\u001b[0m\u001b[0mappend\u001b[0m\u001b[0;34m(\u001b[0m\u001b[0madv_bdy_info\u001b[0m\u001b[0;34m)\u001b[0m\u001b[0;34m;\u001b[0m \u001b[0mbatch_adv_samples\u001b[0m\u001b[0;34m.\u001b[0m\u001b[0mappend\u001b[0m\u001b[0;34m(\u001b[0m\u001b[0mbatch_adv_lsbu\u001b[0m\u001b[0;34m.\u001b[0m\u001b[0mraw\u001b[0m\u001b[0;34m)\u001b[0m\u001b[0;34m\u001b[0m\u001b[0;34m\u001b[0m\u001b[0m\n",
      "\u001b[0;32m~/.conda/envs/n2gem/lib/python3.8/site-packages/foolbox/attacks/base.py\u001b[0m in \u001b[0;36m__call__\u001b[0;34m(***failed resolving arguments***)\u001b[0m\n\u001b[1;32m    408\u001b[0m \u001b[0;34m\u001b[0m\u001b[0m\n\u001b[1;32m    409\u001b[0m         \u001b[0;31m# run the actual attack\u001b[0m\u001b[0;34m\u001b[0m\u001b[0;34m\u001b[0m\u001b[0;34m\u001b[0m\u001b[0m\n\u001b[0;32m--> 410\u001b[0;31m         \u001b[0mxp\u001b[0m \u001b[0;34m=\u001b[0m \u001b[0mself\u001b[0m\u001b[0;34m.\u001b[0m\u001b[0mrun\u001b[0m\u001b[0;34m(\u001b[0m\u001b[0mmodel\u001b[0m\u001b[0;34m,\u001b[0m \u001b[0mx\u001b[0m\u001b[0;34m,\u001b[0m \u001b[0mcriterion\u001b[0m\u001b[0;34m,\u001b[0m \u001b[0mearly_stop\u001b[0m\u001b[0;34m=\u001b[0m\u001b[0mearly_stop\u001b[0m\u001b[0;34m,\u001b[0m \u001b[0;34m**\u001b[0m\u001b[0mkwargs\u001b[0m\u001b[0;34m)\u001b[0m\u001b[0;34m\u001b[0m\u001b[0;34m\u001b[0m\u001b[0m\n\u001b[0m\u001b[1;32m    411\u001b[0m \u001b[0;34m\u001b[0m\u001b[0m\n\u001b[1;32m    412\u001b[0m         \u001b[0mxpcs\u001b[0m \u001b[0;34m=\u001b[0m \u001b[0;34m[\u001b[0m\u001b[0;34m]\u001b[0m\u001b[0;34m\u001b[0m\u001b[0;34m\u001b[0m\u001b[0m\n",
      "\u001b[0;32m~/.conda/envs/n2gem/lib/python3.8/site-packages/foolbox/attacks/blended_noise.py\u001b[0m in \u001b[0;36mrun\u001b[0;34m(***failed resolving arguments***)\u001b[0m\n\u001b[1;32m     93\u001b[0m             \u001b[0mx\u001b[0m \u001b[0;34m=\u001b[0m \u001b[0;34m(\u001b[0m\u001b[0;36m1\u001b[0m \u001b[0;34m-\u001b[0m \u001b[0mepsilon\u001b[0m\u001b[0;34m)\u001b[0m \u001b[0;34m*\u001b[0m \u001b[0mx0\u001b[0m \u001b[0;34m+\u001b[0m \u001b[0mepsilon\u001b[0m \u001b[0;34m*\u001b[0m \u001b[0mrandom\u001b[0m\u001b[0;34m\u001b[0m\u001b[0;34m\u001b[0m\u001b[0m\n\u001b[1;32m     94\u001b[0m             \u001b[0;31m# TODO: due to limited floating point precision, clipping can be required\u001b[0m\u001b[0;34m\u001b[0m\u001b[0;34m\u001b[0m\u001b[0;34m\u001b[0m\u001b[0m\n\u001b[0;32m---> 95\u001b[0;31m             \u001b[0mis_adv\u001b[0m \u001b[0;34m=\u001b[0m \u001b[0mis_adversarial\u001b[0m\u001b[0;34m(\u001b[0m\u001b[0mx\u001b[0m\u001b[0;34m)\u001b[0m\u001b[0;34m\u001b[0m\u001b[0;34m\u001b[0m\u001b[0m\n\u001b[0m\u001b[1;32m     96\u001b[0m \u001b[0;34m\u001b[0m\u001b[0m\n\u001b[1;32m     97\u001b[0m             \u001b[0mepsilon\u001b[0m \u001b[0;34m=\u001b[0m \u001b[0mepsilon\u001b[0m\u001b[0;34m.\u001b[0m\u001b[0mitem\u001b[0m\u001b[0;34m(\u001b[0m\u001b[0;34m)\u001b[0m\u001b[0;34m\u001b[0m\u001b[0;34m\u001b[0m\u001b[0m\n",
      "\u001b[0;32m~/.conda/envs/n2gem/lib/python3.8/site-packages/foolbox/attacks/base.py\u001b[0m in \u001b[0;36mis_adversarial\u001b[0;34m(perturbed)\u001b[0m\n\u001b[1;32m    455\u001b[0m ) -> Callable[[ep.Tensor], ep.Tensor]:\n\u001b[1;32m    456\u001b[0m     \u001b[0;32mdef\u001b[0m \u001b[0mis_adversarial\u001b[0m\u001b[0;34m(\u001b[0m\u001b[0mperturbed\u001b[0m\u001b[0;34m:\u001b[0m \u001b[0mep\u001b[0m\u001b[0;34m.\u001b[0m\u001b[0mTensor\u001b[0m\u001b[0;34m)\u001b[0m \u001b[0;34m->\u001b[0m \u001b[0mep\u001b[0m\u001b[0;34m.\u001b[0m\u001b[0mTensor\u001b[0m\u001b[0;34m:\u001b[0m\u001b[0;34m\u001b[0m\u001b[0;34m\u001b[0m\u001b[0m\n\u001b[0;32m--> 457\u001b[0;31m         \u001b[0moutputs\u001b[0m \u001b[0;34m=\u001b[0m \u001b[0mmodel\u001b[0m\u001b[0;34m(\u001b[0m\u001b[0mperturbed\u001b[0m\u001b[0;34m)\u001b[0m\u001b[0;34m\u001b[0m\u001b[0;34m\u001b[0m\u001b[0m\n\u001b[0m\u001b[1;32m    458\u001b[0m         \u001b[0;32mreturn\u001b[0m \u001b[0mcriterion\u001b[0m\u001b[0;34m(\u001b[0m\u001b[0mperturbed\u001b[0m\u001b[0;34m,\u001b[0m \u001b[0moutputs\u001b[0m\u001b[0;34m)\u001b[0m\u001b[0;34m\u001b[0m\u001b[0;34m\u001b[0m\u001b[0m\n\u001b[1;32m    459\u001b[0m \u001b[0;34m\u001b[0m\u001b[0m\n",
      "\u001b[0;32m~/.conda/envs/n2gem/lib/python3.8/site-packages/foolbox/models/base.py\u001b[0m in \u001b[0;36m__call__\u001b[0;34m(self, inputs)\u001b[0m\n\u001b[1;32m    100\u001b[0m         \u001b[0mx\u001b[0m\u001b[0;34m,\u001b[0m \u001b[0mrestore_type\u001b[0m \u001b[0;34m=\u001b[0m \u001b[0mep\u001b[0m\u001b[0;34m.\u001b[0m\u001b[0mastensor_\u001b[0m\u001b[0;34m(\u001b[0m\u001b[0minputs\u001b[0m\u001b[0;34m)\u001b[0m\u001b[0;34m\u001b[0m\u001b[0;34m\u001b[0m\u001b[0m\n\u001b[1;32m    101\u001b[0m         \u001b[0my\u001b[0m \u001b[0;34m=\u001b[0m \u001b[0mself\u001b[0m\u001b[0;34m.\u001b[0m\u001b[0m_preprocess\u001b[0m\u001b[0;34m(\u001b[0m\u001b[0mx\u001b[0m\u001b[0;34m)\u001b[0m\u001b[0;34m\u001b[0m\u001b[0;34m\u001b[0m\u001b[0m\n\u001b[0;32m--> 102\u001b[0;31m         \u001b[0mz\u001b[0m \u001b[0;34m=\u001b[0m \u001b[0mep\u001b[0m\u001b[0;34m.\u001b[0m\u001b[0mastensor\u001b[0m\u001b[0;34m(\u001b[0m\u001b[0mself\u001b[0m\u001b[0;34m.\u001b[0m\u001b[0m_model\u001b[0m\u001b[0;34m(\u001b[0m\u001b[0my\u001b[0m\u001b[0;34m.\u001b[0m\u001b[0mraw\u001b[0m\u001b[0;34m)\u001b[0m\u001b[0;34m)\u001b[0m\u001b[0;34m\u001b[0m\u001b[0;34m\u001b[0m\u001b[0m\n\u001b[0m\u001b[1;32m    103\u001b[0m         \u001b[0;32mreturn\u001b[0m \u001b[0mrestore_type\u001b[0m\u001b[0;34m(\u001b[0m\u001b[0mz\u001b[0m\u001b[0;34m)\u001b[0m\u001b[0;34m\u001b[0m\u001b[0;34m\u001b[0m\u001b[0m\n\u001b[1;32m    104\u001b[0m \u001b[0;34m\u001b[0m\u001b[0m\n",
      "\u001b[0;32m~/.conda/envs/n2gem/lib/python3.8/site-packages/foolbox/models/pytorch.py\u001b[0m in \u001b[0;36m_model\u001b[0;34m(x)\u001b[0m\n\u001b[1;32m     47\u001b[0m         \u001b[0;32mdef\u001b[0m \u001b[0m_model\u001b[0m\u001b[0;34m(\u001b[0m\u001b[0mx\u001b[0m\u001b[0;34m:\u001b[0m \u001b[0mtorch\u001b[0m\u001b[0;34m.\u001b[0m\u001b[0mTensor\u001b[0m\u001b[0;34m)\u001b[0m \u001b[0;34m->\u001b[0m \u001b[0mtorch\u001b[0m\u001b[0;34m.\u001b[0m\u001b[0mTensor\u001b[0m\u001b[0;34m:\u001b[0m\u001b[0;34m\u001b[0m\u001b[0;34m\u001b[0m\u001b[0m\n\u001b[1;32m     48\u001b[0m             \u001b[0;32mwith\u001b[0m \u001b[0mtorch\u001b[0m\u001b[0;34m.\u001b[0m\u001b[0mset_grad_enabled\u001b[0m\u001b[0;34m(\u001b[0m\u001b[0mx\u001b[0m\u001b[0;34m.\u001b[0m\u001b[0mrequires_grad\u001b[0m\u001b[0;34m)\u001b[0m\u001b[0;34m:\u001b[0m\u001b[0;34m\u001b[0m\u001b[0;34m\u001b[0m\u001b[0m\n\u001b[0;32m---> 49\u001b[0;31m                 \u001b[0mresult\u001b[0m \u001b[0;34m=\u001b[0m \u001b[0mcast\u001b[0m\u001b[0;34m(\u001b[0m\u001b[0mtorch\u001b[0m\u001b[0;34m.\u001b[0m\u001b[0mTensor\u001b[0m\u001b[0;34m,\u001b[0m \u001b[0mmodel\u001b[0m\u001b[0;34m(\u001b[0m\u001b[0mx\u001b[0m\u001b[0;34m)\u001b[0m\u001b[0;34m)\u001b[0m\u001b[0;34m\u001b[0m\u001b[0;34m\u001b[0m\u001b[0m\n\u001b[0m\u001b[1;32m     50\u001b[0m             \u001b[0;32mreturn\u001b[0m \u001b[0mresult\u001b[0m\u001b[0;34m\u001b[0m\u001b[0;34m\u001b[0m\u001b[0m\n\u001b[1;32m     51\u001b[0m \u001b[0;34m\u001b[0m\u001b[0m\n",
      "\u001b[0;32m~/.conda/envs/n2gem/lib/python3.8/site-packages/torch/nn/modules/module.py\u001b[0m in \u001b[0;36m_call_impl\u001b[0;34m(self, *input, **kwargs)\u001b[0m\n\u001b[1;32m    887\u001b[0m             \u001b[0mresult\u001b[0m \u001b[0;34m=\u001b[0m \u001b[0mself\u001b[0m\u001b[0;34m.\u001b[0m\u001b[0m_slow_forward\u001b[0m\u001b[0;34m(\u001b[0m\u001b[0;34m*\u001b[0m\u001b[0minput\u001b[0m\u001b[0;34m,\u001b[0m \u001b[0;34m**\u001b[0m\u001b[0mkwargs\u001b[0m\u001b[0;34m)\u001b[0m\u001b[0;34m\u001b[0m\u001b[0;34m\u001b[0m\u001b[0m\n\u001b[1;32m    888\u001b[0m         \u001b[0;32melse\u001b[0m\u001b[0;34m:\u001b[0m\u001b[0;34m\u001b[0m\u001b[0;34m\u001b[0m\u001b[0m\n\u001b[0;32m--> 889\u001b[0;31m             \u001b[0mresult\u001b[0m \u001b[0;34m=\u001b[0m \u001b[0mself\u001b[0m\u001b[0;34m.\u001b[0m\u001b[0mforward\u001b[0m\u001b[0;34m(\u001b[0m\u001b[0;34m*\u001b[0m\u001b[0minput\u001b[0m\u001b[0;34m,\u001b[0m \u001b[0;34m**\u001b[0m\u001b[0mkwargs\u001b[0m\u001b[0;34m)\u001b[0m\u001b[0;34m\u001b[0m\u001b[0;34m\u001b[0m\u001b[0m\n\u001b[0m\u001b[1;32m    890\u001b[0m         for hook in itertools.chain(\n\u001b[1;32m    891\u001b[0m                 \u001b[0m_global_forward_hooks\u001b[0m\u001b[0;34m.\u001b[0m\u001b[0mvalues\u001b[0m\u001b[0;34m(\u001b[0m\u001b[0;34m)\u001b[0m\u001b[0;34m,\u001b[0m\u001b[0;34m\u001b[0m\u001b[0;34m\u001b[0m\u001b[0m\n",
      "\u001b[0;32m<ipython-input-6-4aabf66ce188>\u001b[0m in \u001b[0;36mforward\u001b[0;34m(self, x)\u001b[0m\n\u001b[1;32m     45\u001b[0m         \u001b[0mx\u001b[0m \u001b[0;34m=\u001b[0m \u001b[0mself\u001b[0m\u001b[0;34m.\u001b[0m\u001b[0mconv5\u001b[0m\u001b[0;34m(\u001b[0m\u001b[0mx\u001b[0m\u001b[0;34m)\u001b[0m\u001b[0;34m\u001b[0m\u001b[0;34m\u001b[0m\u001b[0m\n\u001b[1;32m     46\u001b[0m         \u001b[0mx\u001b[0m \u001b[0;34m=\u001b[0m \u001b[0mx\u001b[0m\u001b[0;34m.\u001b[0m\u001b[0mview\u001b[0m\u001b[0;34m(\u001b[0m\u001b[0mx\u001b[0m\u001b[0;34m.\u001b[0m\u001b[0msize\u001b[0m\u001b[0;34m(\u001b[0m\u001b[0;36m0\u001b[0m\u001b[0;34m)\u001b[0m\u001b[0;34m,\u001b[0m \u001b[0;34m-\u001b[0m\u001b[0;36m1\u001b[0m\u001b[0;34m)\u001b[0m\u001b[0;34m\u001b[0m\u001b[0;34m\u001b[0m\u001b[0m\n\u001b[0;32m---> 47\u001b[0;31m         \u001b[0mx\u001b[0m \u001b[0;34m=\u001b[0m \u001b[0mself\u001b[0m\u001b[0;34m.\u001b[0m\u001b[0mfc\u001b[0m\u001b[0;34m(\u001b[0m\u001b[0mx\u001b[0m\u001b[0;34m)\u001b[0m\u001b[0;34m\u001b[0m\u001b[0;34m\u001b[0m\u001b[0m\n\u001b[0m\u001b[1;32m     48\u001b[0m         \u001b[0moutput\u001b[0m \u001b[0;34m=\u001b[0m \u001b[0mF\u001b[0m\u001b[0;34m.\u001b[0m\u001b[0mlog_softmax\u001b[0m\u001b[0;34m(\u001b[0m\u001b[0mx\u001b[0m\u001b[0;34m,\u001b[0m \u001b[0mdim\u001b[0m\u001b[0;34m=\u001b[0m\u001b[0;36m1\u001b[0m\u001b[0;34m)\u001b[0m\u001b[0;34m\u001b[0m\u001b[0;34m\u001b[0m\u001b[0m\n\u001b[1;32m     49\u001b[0m         \u001b[0;32mreturn\u001b[0m \u001b[0moutput\u001b[0m\u001b[0;34m\u001b[0m\u001b[0;34m\u001b[0m\u001b[0m\n",
      "\u001b[0;32m~/.conda/envs/n2gem/lib/python3.8/site-packages/torch/nn/modules/module.py\u001b[0m in \u001b[0;36m_call_impl\u001b[0;34m(self, *input, **kwargs)\u001b[0m\n\u001b[1;32m    887\u001b[0m             \u001b[0mresult\u001b[0m \u001b[0;34m=\u001b[0m \u001b[0mself\u001b[0m\u001b[0;34m.\u001b[0m\u001b[0m_slow_forward\u001b[0m\u001b[0;34m(\u001b[0m\u001b[0;34m*\u001b[0m\u001b[0minput\u001b[0m\u001b[0;34m,\u001b[0m \u001b[0;34m**\u001b[0m\u001b[0mkwargs\u001b[0m\u001b[0;34m)\u001b[0m\u001b[0;34m\u001b[0m\u001b[0;34m\u001b[0m\u001b[0m\n\u001b[1;32m    888\u001b[0m         \u001b[0;32melse\u001b[0m\u001b[0;34m:\u001b[0m\u001b[0;34m\u001b[0m\u001b[0;34m\u001b[0m\u001b[0m\n\u001b[0;32m--> 889\u001b[0;31m             \u001b[0mresult\u001b[0m \u001b[0;34m=\u001b[0m \u001b[0mself\u001b[0m\u001b[0;34m.\u001b[0m\u001b[0mforward\u001b[0m\u001b[0;34m(\u001b[0m\u001b[0;34m*\u001b[0m\u001b[0minput\u001b[0m\u001b[0;34m,\u001b[0m \u001b[0;34m**\u001b[0m\u001b[0mkwargs\u001b[0m\u001b[0;34m)\u001b[0m\u001b[0;34m\u001b[0m\u001b[0;34m\u001b[0m\u001b[0m\n\u001b[0m\u001b[1;32m    890\u001b[0m         for hook in itertools.chain(\n\u001b[1;32m    891\u001b[0m                 \u001b[0m_global_forward_hooks\u001b[0m\u001b[0;34m.\u001b[0m\u001b[0mvalues\u001b[0m\u001b[0;34m(\u001b[0m\u001b[0;34m)\u001b[0m\u001b[0;34m,\u001b[0m\u001b[0;34m\u001b[0m\u001b[0;34m\u001b[0m\u001b[0m\n",
      "\u001b[0;32m~/.conda/envs/n2gem/lib/python3.8/site-packages/torch/nn/modules/container.py\u001b[0m in \u001b[0;36mforward\u001b[0;34m(self, input)\u001b[0m\n\u001b[1;32m    117\u001b[0m     \u001b[0;32mdef\u001b[0m \u001b[0mforward\u001b[0m\u001b[0;34m(\u001b[0m\u001b[0mself\u001b[0m\u001b[0;34m,\u001b[0m \u001b[0minput\u001b[0m\u001b[0;34m)\u001b[0m\u001b[0;34m:\u001b[0m\u001b[0;34m\u001b[0m\u001b[0;34m\u001b[0m\u001b[0m\n\u001b[1;32m    118\u001b[0m         \u001b[0;32mfor\u001b[0m \u001b[0mmodule\u001b[0m \u001b[0;32min\u001b[0m \u001b[0mself\u001b[0m\u001b[0;34m:\u001b[0m\u001b[0;34m\u001b[0m\u001b[0;34m\u001b[0m\u001b[0m\n\u001b[0;32m--> 119\u001b[0;31m             \u001b[0minput\u001b[0m \u001b[0;34m=\u001b[0m \u001b[0mmodule\u001b[0m\u001b[0;34m(\u001b[0m\u001b[0minput\u001b[0m\u001b[0;34m)\u001b[0m\u001b[0;34m\u001b[0m\u001b[0;34m\u001b[0m\u001b[0m\n\u001b[0m\u001b[1;32m    120\u001b[0m         \u001b[0;32mreturn\u001b[0m \u001b[0minput\u001b[0m\u001b[0;34m\u001b[0m\u001b[0;34m\u001b[0m\u001b[0m\n\u001b[1;32m    121\u001b[0m \u001b[0;34m\u001b[0m\u001b[0m\n",
      "\u001b[0;32m~/.conda/envs/n2gem/lib/python3.8/site-packages/torch/nn/modules/module.py\u001b[0m in \u001b[0;36m_call_impl\u001b[0;34m(self, *input, **kwargs)\u001b[0m\n\u001b[1;32m    887\u001b[0m             \u001b[0mresult\u001b[0m \u001b[0;34m=\u001b[0m \u001b[0mself\u001b[0m\u001b[0;34m.\u001b[0m\u001b[0m_slow_forward\u001b[0m\u001b[0;34m(\u001b[0m\u001b[0;34m*\u001b[0m\u001b[0minput\u001b[0m\u001b[0;34m,\u001b[0m \u001b[0;34m**\u001b[0m\u001b[0mkwargs\u001b[0m\u001b[0;34m)\u001b[0m\u001b[0;34m\u001b[0m\u001b[0;34m\u001b[0m\u001b[0m\n\u001b[1;32m    888\u001b[0m         \u001b[0;32melse\u001b[0m\u001b[0;34m:\u001b[0m\u001b[0;34m\u001b[0m\u001b[0;34m\u001b[0m\u001b[0m\n\u001b[0;32m--> 889\u001b[0;31m             \u001b[0mresult\u001b[0m \u001b[0;34m=\u001b[0m \u001b[0mself\u001b[0m\u001b[0;34m.\u001b[0m\u001b[0mforward\u001b[0m\u001b[0;34m(\u001b[0m\u001b[0;34m*\u001b[0m\u001b[0minput\u001b[0m\u001b[0;34m,\u001b[0m \u001b[0;34m**\u001b[0m\u001b[0mkwargs\u001b[0m\u001b[0;34m)\u001b[0m\u001b[0;34m\u001b[0m\u001b[0;34m\u001b[0m\u001b[0m\n\u001b[0m\u001b[1;32m    890\u001b[0m         for hook in itertools.chain(\n\u001b[1;32m    891\u001b[0m                 \u001b[0m_global_forward_hooks\u001b[0m\u001b[0;34m.\u001b[0m\u001b[0mvalues\u001b[0m\u001b[0;34m(\u001b[0m\u001b[0;34m)\u001b[0m\u001b[0;34m,\u001b[0m\u001b[0;34m\u001b[0m\u001b[0;34m\u001b[0m\u001b[0m\n",
      "\u001b[0;32m~/.conda/envs/n2gem/lib/python3.8/site-packages/torch/nn/modules/activation.py\u001b[0m in \u001b[0;36mforward\u001b[0;34m(self, input)\u001b[0m\n\u001b[1;32m    100\u001b[0m \u001b[0;34m\u001b[0m\u001b[0m\n\u001b[1;32m    101\u001b[0m     \u001b[0;32mdef\u001b[0m \u001b[0mforward\u001b[0m\u001b[0;34m(\u001b[0m\u001b[0mself\u001b[0m\u001b[0;34m,\u001b[0m \u001b[0minput\u001b[0m\u001b[0;34m:\u001b[0m \u001b[0mTensor\u001b[0m\u001b[0;34m)\u001b[0m \u001b[0;34m->\u001b[0m \u001b[0mTensor\u001b[0m\u001b[0;34m:\u001b[0m\u001b[0;34m\u001b[0m\u001b[0;34m\u001b[0m\u001b[0m\n\u001b[0;32m--> 102\u001b[0;31m         \u001b[0;32mreturn\u001b[0m \u001b[0mF\u001b[0m\u001b[0;34m.\u001b[0m\u001b[0mrelu\u001b[0m\u001b[0;34m(\u001b[0m\u001b[0minput\u001b[0m\u001b[0;34m,\u001b[0m \u001b[0minplace\u001b[0m\u001b[0;34m=\u001b[0m\u001b[0mself\u001b[0m\u001b[0;34m.\u001b[0m\u001b[0minplace\u001b[0m\u001b[0;34m)\u001b[0m\u001b[0;34m\u001b[0m\u001b[0;34m\u001b[0m\u001b[0m\n\u001b[0m\u001b[1;32m    103\u001b[0m \u001b[0;34m\u001b[0m\u001b[0m\n\u001b[1;32m    104\u001b[0m     \u001b[0;32mdef\u001b[0m \u001b[0mextra_repr\u001b[0m\u001b[0;34m(\u001b[0m\u001b[0mself\u001b[0m\u001b[0;34m)\u001b[0m \u001b[0;34m->\u001b[0m \u001b[0mstr\u001b[0m\u001b[0;34m:\u001b[0m\u001b[0;34m\u001b[0m\u001b[0;34m\u001b[0m\u001b[0m\n",
      "\u001b[0;32m~/.conda/envs/n2gem/lib/python3.8/site-packages/torch/nn/functional.py\u001b[0m in \u001b[0;36mrelu\u001b[0;34m(input, inplace)\u001b[0m\n\u001b[1;32m   1204\u001b[0m         \u001b[0mresult\u001b[0m \u001b[0;34m=\u001b[0m \u001b[0mtorch\u001b[0m\u001b[0;34m.\u001b[0m\u001b[0mrelu_\u001b[0m\u001b[0;34m(\u001b[0m\u001b[0minput\u001b[0m\u001b[0;34m)\u001b[0m\u001b[0;34m\u001b[0m\u001b[0;34m\u001b[0m\u001b[0m\n\u001b[1;32m   1205\u001b[0m     \u001b[0;32melse\u001b[0m\u001b[0;34m:\u001b[0m\u001b[0;34m\u001b[0m\u001b[0;34m\u001b[0m\u001b[0m\n\u001b[0;32m-> 1206\u001b[0;31m         \u001b[0mresult\u001b[0m \u001b[0;34m=\u001b[0m \u001b[0mtorch\u001b[0m\u001b[0;34m.\u001b[0m\u001b[0mrelu\u001b[0m\u001b[0;34m(\u001b[0m\u001b[0minput\u001b[0m\u001b[0;34m)\u001b[0m\u001b[0;34m\u001b[0m\u001b[0;34m\u001b[0m\u001b[0m\n\u001b[0m\u001b[1;32m   1207\u001b[0m     \u001b[0;32mreturn\u001b[0m \u001b[0mresult\u001b[0m\u001b[0;34m\u001b[0m\u001b[0;34m\u001b[0m\u001b[0m\n\u001b[1;32m   1208\u001b[0m \u001b[0;34m\u001b[0m\u001b[0m\n",
      "\u001b[0;31mKeyboardInterrupt\u001b[0m: "
     ]
    }
   ],
   "source": [
    "batches = np.arange(0, 4707, 100)\n",
    "success = []\n",
    "batch_adv_samples = []\n",
    "for i in range(len(batches)-1):\n",
    "    start = batches[i]; end= batches[i+1]\n",
    "    _, batch_adv_lsbu, adv_bdy_info = n_attack(original_model, vali_attk_images[start:end,...], vali_attk_labels[start:end], epsilons=None)\n",
    "    print(f\"acc: {1 - adv_bdy_info.float32().mean(axis=-1)}\")\n",
    "    success.append(adv_bdy_info); batch_adv_samples.append(batch_adv_lsbu.raw)"
   ]
  },
  {
   "cell_type": "code",
   "execution_count": 85,
   "metadata": {},
   "outputs": [
    {
     "data": {
      "text/plain": [
       "54"
      ]
     },
     "execution_count": 85,
     "metadata": {},
     "output_type": "execute_result"
    }
   ],
   "source": [
    "len(np.arange(0, 5359, 100))"
   ]
  },
  {
   "cell_type": "code",
   "execution_count": 90,
   "metadata": {},
   "outputs": [],
   "source": [
    "batch_adv_lsbu_samples = torch.stack(batch_adv_samples)\n",
    "torch.save(batch_adv_lsbu_samples, '140Batch_Vali_Adv_LSBU.pt')"
   ]
  },
  {
   "cell_type": "code",
   "execution_count": 91,
   "metadata": {},
   "outputs": [],
   "source": [
    "#batch_lsbu_adv = torch.load('100Batch_Vali_Adv_LSBU.pt', map_location='cpu').to(device)\n",
    "batch_lsbu_adv = torch.load('140Batch_Vali_Adv_LSBU.pt', map_location='cpu').to(device)"
   ]
  },
  {
   "cell_type": "markdown",
   "metadata": {},
   "source": [
    "### BoundaryAttack on the model using batches of validation_dataset"
   ]
  },
  {
   "cell_type": "code",
   "execution_count": 44,
   "metadata": {},
   "outputs": [
    {
     "data": {
      "text/plain": [
       "97"
      ]
     },
     "execution_count": 44,
     "metadata": {},
     "output_type": "execute_result"
    }
   ],
   "source": [
    "batches = np.arange(0, 4708, 49)\n",
    "len(batches)"
   ]
  },
  {
   "cell_type": "code",
   "execution_count": 45,
   "metadata": {},
   "outputs": [
    {
     "name": "stdout",
     "output_type": "stream",
     "text": [
      "batch0\n",
      "batch10\n",
      "batch20\n",
      "batch30\n",
      "batch40\n",
      "batch50\n",
      "batch60\n",
      "batch70\n",
      "batch80\n",
      "batch90\n"
     ]
    }
   ],
   "source": [
    "# 53, 100, 150, 200, 250, 300 \n",
    "batches = np.arange(0, 4707, 49)\n",
    "batch_bdy_adv = []\n",
    "batch_bdy_info = []\n",
    "for i in range(len(batches)-1):\n",
    "    start = batches[i]; end= batches[i+1]\n",
    "    _, adv_bdy, adv_bdy_info = BdyAttack(original_model, vali_attk_images[start:end,...], vali_attk_labels[start:end], \n",
    "                                          epsilons=None) #starting_points=batch_lsbu_adv[i],\n",
    "    batch_bdy_adv.append(adv_bdy); batch_bdy_info.append(adv_bdy_info)\n",
    "    if(i%10==0):print(f\"batch{i}\")"
   ]
  },
  {
   "cell_type": "markdown",
   "metadata": {},
   "source": [
    "### Metrics"
   ]
  },
  {
   "cell_type": "markdown",
   "metadata": {},
   "source": [
    "- #### model_dataset & validation_dataset in batches\n",
    "- #### model_deataset & validation adv in batches"
   ]
  },
  {
   "cell_type": "code",
   "execution_count": 24,
   "metadata": {},
   "outputs": [],
   "source": [
    "real = real.to(device)"
   ]
  },
  {
   "cell_type": "code",
   "execution_count": 46,
   "metadata": {},
   "outputs": [],
   "source": [
    "batch_density_validate = []\n",
    "batch_coverage_validate = []\n",
    "batch_model_density = []\n",
    "batch_model_coverage = []\n",
    "\n",
    "for i in range(len(batches)-1):\n",
    "    # model_dataset & validation_dataset in batches\n",
    "    start = batches[i]; end= batches[i+1]\n",
    "    bth_val_imgs = vali_attk_images[start:end,...]\n",
    "    gen_validatex = bth_val_imgs.raw.view(bth_val_imgs.shape[0], -1)\n",
    "    gen_labelsx = vali_attk_labels[start:end].raw\n",
    "    density_validatex = gem_build_density(real, real.shape[0], gen_validatex, 'indexflatl2')\n",
    "    coverage_validatex = gem_build_coverage(real, real.shape[0], gen_validatex, 'indexflatl2')\n",
    "    \n",
    "    # model_dataset & validation_dataset adversarials in batches\n",
    "    gen_adv_valx = batch_bdy_adv[i].raw.view(batch_bdy_adv[i].shape[0], -1)\n",
    "    model_density_valx = gem_build_density(real, real.shape[0], gen_adv_valx, 'indexflatl2')\n",
    "    model_coverage_valx = gem_build_coverage(real, real.shape[0], gen_adv_valx, 'indexflatl2')\n",
    "    \n",
    "    batch_density_validate.append(density_validatex)\n",
    "    batch_coverage_validate.append(coverage_validatex)\n",
    "    batch_model_density.append(model_density_valx)\n",
    "    batch_model_coverage.append(model_coverage_valx)\n"
   ]
  },
  {
   "cell_type": "code",
   "execution_count": 27,
   "metadata": {},
   "outputs": [
    {
     "data": {
      "text/plain": [
       "(torch.Size([54142, 784]), torch.Size([4708, 1, 28, 28]))"
      ]
     },
     "execution_count": 27,
     "metadata": {},
     "output_type": "execute_result"
    }
   ],
   "source": [
    "real.shape, vali_attk_images.shape"
   ]
  },
  {
   "cell_type": "code",
   "execution_count": 32,
   "metadata": {},
   "outputs": [],
   "source": [
    "with open('Boundary_attack_organmnist_100batch_metrics.dat', 'w') as newfile:\n",
    "    newfile.write(\"# Boundary attack with validation_dataset(4708 images)\" + \"\\n\" +\n",
    "                 \"# and metrics using model_dataset(54142)\" + \"\\n\" +\n",
    "                 \"# Model_dataset & validation set: density: \" + str(density_validate.cpu().numpy()) + \"\\n\" +\n",
    "                 \"# Model_dataset & validation adv (4708): density: \" + str(model_density_val.cpu().numpy()) + \"\\n\" +\n",
    "                 \"# Model_dataset & validation set: coverage: \" + str(coverage_validate.cpu().numpy()) + \"\\n\" +\n",
    "                 \"# Model_dataset & validation adv (4708): coverage: \" + str(model_coverage_val.cpu().numpy()) + \"\\n\" + \n",
    "                 \"# batch_no model_val_density model_val_adv_density model_val_coverage model_val_adv_coverage\" + \"\\n\")\n",
    "    \n",
    "with open('Boundary_attack_organmnist_100batch_metrics.dat', 'a') as nefile:\n",
    "    for i in range (len(batch_density_validate)):\n",
    "        nefile.write(str(i)+ \" \" + str(batch_density_validate[i].cpu().numpy())+ \" \" + str(batch_model_density[i].cpu().numpy())+ \" \" +\n",
    "                    str(batch_coverage_validate[i].cpu().numpy()) + \" \" + str(batch_model_coverage[i].cpu().numpy()) + \"\\n\")"
   ]
  },
  {
   "cell_type": "code",
   "execution_count": 47,
   "metadata": {},
   "outputs": [],
   "source": [
    "with open('Boundary_attack_organmnist_49batch_metrics.dat', 'w') as newfile:\n",
    "    newfile.write(\"# Boundary attack with validation_dataset(4708 images)\" + \"\\n\" +\n",
    "                 \"# and metrics using model_dataset(54142)\" + \"\\n\" +\n",
    "                 \"# Model_dataset & validation set: density: \" + str(1.0169499) + \"\\n\" +\n",
    "                 \"# Model_dataset & validation adv (4708): density: \" + str(2.7256584) + \"\\n\" +\n",
    "                 \"# Model_dataset & validation set: coverage: \" + str(0.34394738) + \"\\n\" +\n",
    "                 \"# Model_dataset & validation adv (4708): coverage: \" + str(0.2428983) + \"\\n\" + \n",
    "                 \"# batch_no model_val_density model_val_adv_density model_val_coverage model_val_adv_coverage\" + \"\\n\")\n",
    "    \n",
    "with open('Boundary_attack_organmnist_49batch_metrics.dat', 'a') as nefile:\n",
    "    for i in range (len(batch_density_validate)):\n",
    "        nefile.write(str(i)+ \" \" + str(batch_density_validate[i].cpu().numpy())+ \" \" + str(batch_model_density[i].cpu().numpy())+ \" \" +\n",
    "                    str(batch_coverage_validate[i].cpu().numpy()) + \" \" + str(batch_model_coverage[i].cpu().numpy()) + \"\\n\")"
   ]
  },
  {
   "cell_type": "markdown",
   "metadata": {},
   "source": [
    "## The End"
   ]
  },
  {
   "cell_type": "code",
   "execution_count": 1,
   "metadata": {},
   "outputs": [],
   "source": [
    "import medmnist"
   ]
  },
  {
   "cell_type": "code",
   "execution_count": null,
   "metadata": {},
   "outputs": [],
   "source": []
  }
 ],
 "metadata": {
  "kernelspec": {
   "display_name": "conda-n2gem",
   "language": "python",
   "name": "n2gem"
  },
  "language_info": {
   "codemirror_mode": {
    "name": "ipython",
    "version": 3
   },
   "file_extension": ".py",
   "mimetype": "text/x-python",
   "name": "python",
   "nbconvert_exporter": "python",
   "pygments_lexer": "ipython3",
   "version": "3.8.5"
  }
 },
 "nbformat": 4,
 "nbformat_minor": 4
}
