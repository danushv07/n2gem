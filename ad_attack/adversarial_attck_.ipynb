{
 "cells": [
  {
   "cell_type": "markdown",
   "metadata": {},
   "source": [
    "# Adversarial Attack \n",
    "\n",
    "- develop a model for mnist dataset using fastai\n",
    "- attack the model using foolbox (black box attack)\n",
    "- check the density & coverage metrics"
   ]
  },
  {
   "cell_type": "code",
   "execution_count": 24,
   "metadata": {},
   "outputs": [],
   "source": [
    "# dependencies\n",
    "import os \n",
    "os.environ[\"GIT_PYTHON_REFRESH\"] = \"quiet\" \n",
    "#!module load git\n",
    "import foolbox as fb\n",
    "import torch\n",
    "import eagerpy as ep\n",
    "from foolbox import PyTorchModel, accuracy, samples\n",
    "import numpy as np\n",
    "from n2gem.metrics import gem_build_coverage, gem_build_density\n",
    "from sklearn.model_selection import train_test_split"
   ]
  },
  {
   "cell_type": "code",
   "execution_count": 2,
   "metadata": {},
   "outputs": [],
   "source": [
    "import torchvision\n",
    "from fastai.vision.all import *"
   ]
  },
  {
   "cell_type": "markdown",
   "metadata": {},
   "source": [
    "Fix the seed generator"
   ]
  },
  {
   "cell_type": "code",
   "execution_count": 3,
   "metadata": {},
   "outputs": [],
   "source": [
    "torch.manual_seed(42) \n",
    "if torch.cuda.is_available():\n",
    "    torch.cuda.manual_seed_all(42)\n",
    "np.random.seed(42)"
   ]
  },
  {
   "cell_type": "code",
   "execution_count": 4,
   "metadata": {},
   "outputs": [
    {
     "name": "stdout",
     "output_type": "stream",
     "text": [
      "cuda\n",
      "0\n"
     ]
    },
    {
     "data": {
      "text/plain": [
       "1"
      ]
     },
     "execution_count": 4,
     "metadata": {},
     "output_type": "execute_result"
    }
   ],
   "source": [
    "device = 'cuda' if torch.cuda.is_available() else 'cpu'\n",
    "print(device); print(torch.cuda.memory_allocated())\n",
    "torch.cuda.device_count()"
   ]
  },
  {
   "cell_type": "markdown",
   "metadata": {},
   "source": [
    "### Import the MNIST dataset "
   ]
  },
  {
   "cell_type": "code",
   "execution_count": 5,
   "metadata": {},
   "outputs": [],
   "source": [
    "def load_mnist():\n",
    "    \"\"\"Function to load the mnist\n",
    "        The foolowing transform is aaplied: Normalize:(0.1307,)(0.3081,)\n",
    "    \n",
    "    \"\"\"\n",
    "    transforms = torchvision.transforms.Compose([\n",
    "        torchvision.transforms.ToTensor(),\n",
    "        torchvision.transforms.Normalize((0.1307,), (0.3081))\n",
    "    ])\n",
    "    train_set = torchvision.datasets.MNIST('./files/', train=True, download=True, transform=transforms)\n",
    "    test_set = torchvision.datasets.MNIST('./files/', train=False, download=True, transform=transforms)\n",
    "    \n",
    "    return train_set, test_set\n",
    "\n",
    "train_set, test_set = load_mnist()"
   ]
  },
  {
   "cell_type": "markdown",
   "metadata": {},
   "source": [
    "### Combine the datasets and stratify split \n",
    "- Combine train and test\n",
    "- form the model_dataset[training+ test] and validation set\n",
    "- obtain training & test set to train on the model from model_dataset"
   ]
  },
  {
   "cell_type": "code",
   "execution_count": 7,
   "metadata": {},
   "outputs": [
    {
     "name": "stdout",
     "output_type": "stream",
     "text": [
      "X_validation_set size:  (2100, 1, 28, 28)\n",
      "Y_validation_set size:  2100\n",
      "X_train_set size:  (54320, 1, 28, 28)\n",
      "Y_train_set size:  54320\n",
      "X_test_set size:  (13580, 1, 28, 28)\n",
      "Y_test_set size:  13580\n"
     ]
    }
   ],
   "source": [
    "from torch.utils.data import ConcatDataset\n",
    "from sklearn.model_selection import train_test_split\n",
    "\n",
    "def create_dataset(train_set, test_set, vali_split, test_split):\n",
    "    \"\"\"Function to split the dataset and form the training, test and validation datasets\n",
    "        \n",
    "        Parameters\n",
    "        ----------------------\n",
    "        train_set: torch.utils.mnist.dataset\n",
    "        test_set: torch.utils.mnist.dataset\n",
    "        vali_split: the size for the validation set \n",
    "        test_split: the size of the test set\n",
    "        \n",
    "        Return\n",
    "        ----------------------\n",
    "        X_trainset: list, size: train_size, 1, 28, 28\n",
    "        X_testset: list, size: test_size, 1, 28, 28\n",
    "        X_validation: list, size: vali_size, 1, 28, 28\n",
    "        y_trainset: list, size: train_size\n",
    "        y_testset: list, size: test_size\n",
    "        y_valiset: list, size: vali_size\n",
    "        \n",
    "    \"\"\"\n",
    "    # combine the datasets\n",
    "    dataset = ConcatDataset([train_set, test_set])\n",
    "    X=[]; Y=[];\n",
    "    for i in range(len(dataset)):\n",
    "        x, y = dataset[i]\n",
    "        X.append(x.numpy())  #.detach().cpu().numpy())\n",
    "        Y.append(y)\n",
    "    \n",
    "    # split the dataset into train and validation set\n",
    "    X_model, X_validation, y_model, y_validation = train_test_split(X, Y, test_size=vali_split, random_state=42, stratify=np.array(Y))\n",
    "\n",
    "    print(\"X_validation_set size: \", np.array(X_validation).shape)\n",
    "    print(\"Y_validation_set size: \", len(y_validation))\n",
    "\n",
    "    \n",
    "    # split the X_model, y_model into training set & test set\n",
    "    X_trainset, X_testset, y_trainset, y_testset = train_test_split(X_model, y_model, test_size=test_split, random_state=42, stratify=np.array(y_model))\n",
    "    print(\"X_train_set size: \", np.array(X_trainset).shape)\n",
    "    print(\"Y_train_set size: \", len(y_trainset))\n",
    "    print(\"X_test_set size: \", np.array(X_testset).shape)\n",
    "    print(\"Y_test_set size: \", len(y_testset))\n",
    "    \n",
    "    #X = np.array(X); Y = np.array(Y)\n",
    "    \n",
    "    return X_trainset, X_testset, X_validation, y_trainset, y_testset, y_validation\n",
    "\n",
    "X_trainset, X_testset, X_validation, y_trainset, y_testset, y_validation = create_dataset(train_set, test_set, 0.03, 0.2)"
   ]
  },
  {
   "cell_type": "markdown",
   "metadata": {},
   "source": [
    "### Convert the datasets to Torch.TensorDataset"
   ]
  },
  {
   "cell_type": "code",
   "execution_count": 8,
   "metadata": {},
   "outputs": [],
   "source": [
    "def convert_tensor(X_trainset, X_testset, X_validation, y_trainset, y_testset, y_validation):\n",
    "    \"\"\"\n",
    "    Function to convert the split datasets into torch Tensor dataset\n",
    "    \n",
    "    Parameters\n",
    "    ----------------------\n",
    "    X_trainset: list, size: train_size, 1, 28, 28\n",
    "    X_testset: list, size: test_size, 1, 28, 28\n",
    "    X_validation: list, size: vali_size, 1, 28, 28\n",
    "    y_trainset: list, size: train_size\n",
    "    y_testset: list, size: test_size\n",
    "    y_valiset: list, size: vali_size\n",
    "    \n",
    "    Return\n",
    "    -------------------\n",
    "    train_set: TensorDataset, consists of training images and labels\n",
    "    test_set: TensorDataset, consists of test images and labels\n",
    "    validation_set: TensorDataset, consists of validation images and labels\n",
    "    \n",
    "    # for the adversarial attack\n",
    "    model_dataset_images: Tensor, size: (training + test) size, only the images\n",
    "    model_dataset_images: Tensor, size: (training + test) size, only the labels\n",
    "    \"\"\"\n",
    "    X_trainset = torch.Tensor(X_trainset); \n",
    "    y_trainset = torch.Tensor(y_trainset).type(torch.LongTensor) #dtype = torch.long);\n",
    "    X_testset = torch.Tensor(X_testset); \n",
    "    y_testset = torch.Tensor(y_testset).type(torch.LongTensor);\n",
    "    X_validation = torch.Tensor(X_validation); \n",
    "    y_validation = torch.Tensor(y_validation).type(torch.LongTensor)\n",
    "    # y - label should be longTensor for fastai training\n",
    "    \n",
    "    # form model_dataset\n",
    "    model_dataset_images = torch.vstack((X_trainset, X_testset))\n",
    "    model_dataset_labels = torch.cat((y_trainset, y_testset))\n",
    "    \n",
    "    # form the Tensor dataset\n",
    "    train_set = torch.utils.data.TensorDataset(X_trainset, y_trainset)\n",
    "    test_set = torch.utils.data.TensorDataset(X_testset, y_testset)\n",
    "    validation_set = torch.utils.data.TensorDataset(X_validation, y_validation)\n",
    "    \n",
    "    return train_set, test_set, validation_set, model_dataset_images, model_dataset_labels\n",
    "\n",
    "train_set, test_set, validation_set, model_images, model_labels = convert_tensor(X_trainset, X_testset, X_validation, y_trainset, y_testset, y_validation)"
   ]
  },
  {
   "cell_type": "code",
   "execution_count": 21,
   "metadata": {},
   "outputs": [],
   "source": [
    "torch.save(model_images, 'model_dataset_images.pt')\n",
    "torch.save(model_labels, 'model_dataset_labels.pt')"
   ]
  },
  {
   "cell_type": "code",
   "execution_count": 22,
   "metadata": {},
   "outputs": [],
   "source": [
    "torch.save(X_validation, 'validation_images.pt')\n",
    "torch.save(y_validation, 'validation_labels.pt')"
   ]
  },
  {
   "cell_type": "markdown",
   "metadata": {},
   "source": [
    "### The Dataloader for the CNN models"
   ]
  },
  {
   "cell_type": "code",
   "execution_count": 9,
   "metadata": {},
   "outputs": [],
   "source": [
    "train_loader = torch.utils.data.DataLoader(train_set, batch_size=64, shuffle=True)\n",
    "test_loader = torch.utils.data.DataLoader(test_set, batch_size=1000, shuffle=True)"
   ]
  },
  {
   "cell_type": "markdown",
   "metadata": {},
   "source": [
    "### Define the CNN model"
   ]
  },
  {
   "cell_type": "code",
   "execution_count": 9,
   "metadata": {},
   "outputs": [],
   "source": [
    "import torch.nn as nn\n",
    "import torch.nn.functional as F\n",
    "\n",
    "class CNet(nn.Module):\n",
    "    def __init__(self):\n",
    "        super(CNet, self).__init__()\n",
    "        self.conv1 = nn.Conv2d(1, 10, kernel_size=5)\n",
    "        self.conv2 = nn.Conv2d(10, 20, kernel_size=5)\n",
    "        self.drop = nn.Dropout(0.5)\n",
    "        self.fc1 = nn.Linear(320, 50)\n",
    "        self.fc2 = nn.Linear(50, 10)\n",
    "    \n",
    "    def forward(self, x):\n",
    "        x = F.max_pool2d(self.conv1(x), 2)\n",
    "        x = F.relu(x)\n",
    "        x = self.drop(self.conv2(x))\n",
    "        x = F.relu(F.max_pool2d(x, 2))\n",
    "        x = x.view(-1, 320)\n",
    "        x = F.relu(self.fc1(x))\n",
    "        x = F.dropout(x)\n",
    "        x = self.fc2(x)\n",
    "        output = F.log_softmax(x, dim=1)\n",
    "        return output\n",
    "        "
   ]
  },
  {
   "cell_type": "code",
   "execution_count": 5,
   "metadata": {},
   "outputs": [],
   "source": [
    "class NewNet(nn.Module):\n",
    "    def __init__(self):\n",
    "        super(NewNet, self).__init__()\n",
    "        self.conv1 = nn.Conv2d(1, 16, kernel_size=3)\n",
    "        self.conv2 = nn.Conv2d(16, 32, kernel_size=3)\n",
    "        self.drop = nn.Dropout(0.5)\n",
    "        self.fc1 = nn.Linear(800, 512)\n",
    "        self.fc2 = nn.Linear(512, 64)\n",
    "        self.fc3 = nn.Linear(64, 10)\n",
    "    \n",
    "    def forward(self, x):\n",
    "        x = F.relu(self.conv1(x))\n",
    "        x = self.drop(F.max_pool2d(x, 2))\n",
    "        x = F.relu(self.conv2(x))\n",
    "        x = F.max_pool2d(x, 2)\n",
    "        x = x.view(-1, 800)\n",
    "        x = self.drop(F.relu(self.fc1(x)))\n",
    "        x = F.relu(self.fc2(x))\n",
    "        x = self.fc3(x)\n",
    "        output = F.log_softmax(x, dim=1)\n",
    "        return output"
   ]
  },
  {
   "cell_type": "markdown",
   "metadata": {},
   "source": [
    "### Fastai classifier\n",
    "- Fastai takes the available device by default"
   ]
  },
  {
   "cell_type": "code",
   "execution_count": 11,
   "metadata": {},
   "outputs": [],
   "source": [
    "data = DataLoaders(train_loader, test_loader)\n",
    "learn = Learner(data, NewNet(), loss_func=F.nll_loss, opt_func=Adam, metrics=accuracy)"
   ]
  },
  {
   "cell_type": "markdown",
   "metadata": {},
   "source": [
    "- Initial fit for the model"
   ]
  },
  {
   "cell_type": "code",
   "execution_count": 12,
   "metadata": {},
   "outputs": [
    {
     "data": {
      "text/html": [
       "<table border=\"1\" class=\"dataframe\">\n",
       "  <thead>\n",
       "    <tr style=\"text-align: left;\">\n",
       "      <th>epoch</th>\n",
       "      <th>train_loss</th>\n",
       "      <th>valid_loss</th>\n",
       "      <th>accuracy</th>\n",
       "      <th>time</th>\n",
       "    </tr>\n",
       "  </thead>\n",
       "  <tbody>\n",
       "    <tr>\n",
       "      <td>0</td>\n",
       "      <td>0.168212</td>\n",
       "      <td>0.113628</td>\n",
       "      <td>0.964065</td>\n",
       "      <td>00:05</td>\n",
       "    </tr>\n",
       "    <tr>\n",
       "      <td>1</td>\n",
       "      <td>0.095370</td>\n",
       "      <td>0.060073</td>\n",
       "      <td>0.981002</td>\n",
       "      <td>00:03</td>\n",
       "    </tr>\n",
       "    <tr>\n",
       "      <td>2</td>\n",
       "      <td>0.072611</td>\n",
       "      <td>0.048427</td>\n",
       "      <td>0.985125</td>\n",
       "      <td>00:03</td>\n",
       "    </tr>\n",
       "  </tbody>\n",
       "</table>"
      ],
      "text/plain": [
       "<IPython.core.display.HTML object>"
      ]
     },
     "metadata": {},
     "output_type": "display_data"
    }
   ],
   "source": [
    "learn.fit_one_cycle(3)"
   ]
  },
  {
   "cell_type": "markdown",
   "metadata": {},
   "source": [
    "- Unfreeze and check the optimal learning rate"
   ]
  },
  {
   "cell_type": "code",
   "execution_count": 13,
   "metadata": {},
   "outputs": [
    {
     "data": {
      "text/html": [],
      "text/plain": [
       "<IPython.core.display.HTML object>"
      ]
     },
     "metadata": {},
     "output_type": "display_data"
    },
    {
     "data": {
      "text/plain": [
       "SuggestedLRs(valley=tensor(3.3113e-06))"
      ]
     },
     "execution_count": 13,
     "metadata": {},
     "output_type": "execute_result"
    },
    {
     "data": {
      "image/png": "[encoded data removed]",
      "text/plain": [
       "<Figure size 432x288 with 1 Axes>"
      ]
     },
     "metadata": {
      "needs_background": "light"
     },
     "output_type": "display_data"
    }
   ],
   "source": [
    "learn.unfreeze()\n",
    "learn.lr_find()"
   ]
  },
  {
   "cell_type": "markdown",
   "metadata": {},
   "source": [
    "- Fit the model again"
   ]
  },
  {
   "cell_type": "code",
   "execution_count": 14,
   "metadata": {},
   "outputs": [
    {
     "data": {
      "text/html": [
       "<table border=\"1\" class=\"dataframe\">\n",
       "  <thead>\n",
       "    <tr style=\"text-align: left;\">\n",
       "      <th>epoch</th>\n",
       "      <th>train_loss</th>\n",
       "      <th>valid_loss</th>\n",
       "      <th>accuracy</th>\n",
       "      <th>time</th>\n",
       "    </tr>\n",
       "  </thead>\n",
       "  <tbody>\n",
       "    <tr>\n",
       "      <td>0</td>\n",
       "      <td>0.071336</td>\n",
       "      <td>0.048203</td>\n",
       "      <td>0.985125</td>\n",
       "      <td>00:03</td>\n",
       "    </tr>\n",
       "    <tr>\n",
       "      <td>1</td>\n",
       "      <td>0.061386</td>\n",
       "      <td>0.047559</td>\n",
       "      <td>0.984904</td>\n",
       "      <td>00:03</td>\n",
       "    </tr>\n",
       "    <tr>\n",
       "      <td>2</td>\n",
       "      <td>0.062562</td>\n",
       "      <td>0.046872</td>\n",
       "      <td>0.984904</td>\n",
       "      <td>00:03</td>\n",
       "    </tr>\n",
       "    <tr>\n",
       "      <td>3</td>\n",
       "      <td>0.071075</td>\n",
       "      <td>0.046369</td>\n",
       "      <td>0.985125</td>\n",
       "      <td>00:03</td>\n",
       "    </tr>\n",
       "    <tr>\n",
       "      <td>4</td>\n",
       "      <td>0.061507</td>\n",
       "      <td>0.046122</td>\n",
       "      <td>0.985346</td>\n",
       "      <td>00:03</td>\n",
       "    </tr>\n",
       "    <tr>\n",
       "      <td>5</td>\n",
       "      <td>0.065839</td>\n",
       "      <td>0.046019</td>\n",
       "      <td>0.985420</td>\n",
       "      <td>00:03</td>\n",
       "    </tr>\n",
       "    <tr>\n",
       "      <td>6</td>\n",
       "      <td>0.063768</td>\n",
       "      <td>0.046045</td>\n",
       "      <td>0.985641</td>\n",
       "      <td>00:03</td>\n",
       "    </tr>\n",
       "    <tr>\n",
       "      <td>7</td>\n",
       "      <td>0.062972</td>\n",
       "      <td>0.046035</td>\n",
       "      <td>0.985641</td>\n",
       "      <td>00:03</td>\n",
       "    </tr>\n",
       "  </tbody>\n",
       "</table>"
      ],
      "text/plain": [
       "<IPython.core.display.HTML object>"
      ]
     },
     "metadata": {},
     "output_type": "display_data"
    }
   ],
   "source": [
    "learn.fit_one_cycle(8, lr_max=1e-5)"
   ]
  },
  {
   "cell_type": "code",
   "execution_count": 16,
   "metadata": {},
   "outputs": [],
   "source": [
    "#learn.recorder.plot_loss()"
   ]
  },
  {
   "cell_type": "markdown",
   "metadata": {},
   "source": [
    "- Fine tune the model "
   ]
  },
  {
   "cell_type": "code",
   "execution_count": 17,
   "metadata": {},
   "outputs": [
    {
     "data": {
      "text/html": [
       "<table border=\"1\" class=\"dataframe\">\n",
       "  <thead>\n",
       "    <tr style=\"text-align: left;\">\n",
       "      <th>epoch</th>\n",
       "      <th>train_loss</th>\n",
       "      <th>valid_loss</th>\n",
       "      <th>accuracy</th>\n",
       "      <th>time</th>\n",
       "    </tr>\n",
       "  </thead>\n",
       "  <tbody>\n",
       "    <tr>\n",
       "      <td>0</td>\n",
       "      <td>0.120263</td>\n",
       "      <td>0.065498</td>\n",
       "      <td>0.979750</td>\n",
       "      <td>00:03</td>\n",
       "    </tr>\n",
       "  </tbody>\n",
       "</table>"
      ],
      "text/plain": [
       "<IPython.core.display.HTML object>"
      ]
     },
     "metadata": {},
     "output_type": "display_data"
    },
    {
     "data": {
      "text/html": [
       "<table border=\"1\" class=\"dataframe\">\n",
       "  <thead>\n",
       "    <tr style=\"text-align: left;\">\n",
       "      <th>epoch</th>\n",
       "      <th>train_loss</th>\n",
       "      <th>valid_loss</th>\n",
       "      <th>accuracy</th>\n",
       "      <th>time</th>\n",
       "    </tr>\n",
       "  </thead>\n",
       "  <tbody>\n",
       "    <tr>\n",
       "      <td>0</td>\n",
       "      <td>0.064480</td>\n",
       "      <td>0.040627</td>\n",
       "      <td>0.987629</td>\n",
       "      <td>00:03</td>\n",
       "    </tr>\n",
       "    <tr>\n",
       "      <td>1</td>\n",
       "      <td>0.069494</td>\n",
       "      <td>0.044321</td>\n",
       "      <td>0.986230</td>\n",
       "      <td>00:03</td>\n",
       "    </tr>\n",
       "    <tr>\n",
       "      <td>2</td>\n",
       "      <td>0.051842</td>\n",
       "      <td>0.032422</td>\n",
       "      <td>0.989691</td>\n",
       "      <td>00:03</td>\n",
       "    </tr>\n",
       "    <tr>\n",
       "      <td>3</td>\n",
       "      <td>0.047426</td>\n",
       "      <td>0.030197</td>\n",
       "      <td>0.991090</td>\n",
       "      <td>00:03</td>\n",
       "    </tr>\n",
       "    <tr>\n",
       "      <td>4</td>\n",
       "      <td>0.035231</td>\n",
       "      <td>0.029030</td>\n",
       "      <td>0.991164</td>\n",
       "      <td>00:03</td>\n",
       "    </tr>\n",
       "  </tbody>\n",
       "</table>"
      ],
      "text/plain": [
       "<IPython.core.display.HTML object>"
      ]
     },
     "metadata": {},
     "output_type": "display_data"
    }
   ],
   "source": [
    "learn.fine_tune(5)"
   ]
  },
  {
   "cell_type": "code",
   "execution_count": 18,
   "metadata": {},
   "outputs": [
    {
     "data": {
      "image/png": "[encoded data removed]",
      "text/plain": [
       "<Figure size 432x288 with 1 Axes>"
      ]
     },
     "metadata": {
      "needs_background": "light"
     },
     "output_type": "display_data"
    }
   ],
   "source": [
    "learn.recorder.plot_loss()"
   ]
  },
  {
   "cell_type": "markdown",
   "metadata": {},
   "source": [
    "### - Save the fastai classifier\n",
    "- By default it is saved in the /models folder with .pth extension"
   ]
  },
  {
   "cell_type": "code",
   "execution_count": 23,
   "metadata": {},
   "outputs": [
    {
     "data": {
      "text/plain": [
       "Path('models/fastai_cnn_NewNet_99_splitDataset.pth')"
      ]
     },
     "execution_count": 23,
     "metadata": {},
     "output_type": "execute_result"
    }
   ],
   "source": [
    "learn.save('./fastai_cnn_NewNet_99_splitDataset')"
   ]
  },
  {
   "cell_type": "markdown",
   "metadata": {},
   "source": [
    "- Load the model(fastai) and save it as torch model for foolbox compatibility"
   ]
  },
  {
   "cell_type": "code",
   "execution_count": 24,
   "metadata": {},
   "outputs": [],
   "source": [
    "model_new = learn.load('fastai_cnn_NewNet_99_splitDataset')\n",
    "torch.save(model_new.model.state_dict(), 'fastai_cnn_NewNet_99_splitDataset_weights.pth')"
   ]
  },
  {
   "cell_type": "markdown",
   "metadata": {},
   "source": [
    "### Load model for the attack"
   ]
  },
  {
   "cell_type": "code",
   "execution_count": 6,
   "metadata": {},
   "outputs": [
    {
     "name": "stdout",
     "output_type": "stream",
     "text": [
      "0\n"
     ]
    }
   ],
   "source": [
    "# load the NewNet model\n",
    "MyModel = NewNet()\n",
    "MyModel.load_state_dict(torch.load('chkpt_files/fastai_cnn_NewNet_99_splitDataset_weights.pth', map_location=device))\n",
    "MyModel.eval()\n",
    "print(torch.cuda.memory_allocated())\n",
    "# load the CNet model\n",
    "#MyModel_1 = CNet()\n",
    "#MyModel_1.load_state_dict(torch.load('fastai_cnn_weights.pth'))\n",
    "#MyModel_1.eval()"
   ]
  },
  {
   "cell_type": "markdown",
   "metadata": {},
   "source": [
    "### Create a Pytorch model for foolbox attack"
   ]
  },
  {
   "cell_type": "code",
   "execution_count": 7,
   "metadata": {},
   "outputs": [],
   "source": [
    "preprocess = dict(mean=0.1307, std=0.3081)\n",
    "bound = (0, 1)\n",
    "original_model = fb.PyTorchModel(MyModel, bounds=bound, preprocessing=preprocess)"
   ]
  },
  {
   "cell_type": "markdown",
   "metadata": {},
   "source": [
    "- Three different attacks with 100 values of epsilons"
   ]
  },
  {
   "cell_type": "code",
   "execution_count": 8,
   "metadata": {},
   "outputs": [],
   "source": [
    "attack0 = fb.attacks.LinfPGD()\n",
    "attack1 = fb.attacks.BoundaryAttack()\n",
    "attack2 = fb.attacks.FGSM()\n",
    "attack = [attack0, attack1, attack2]\n",
    "epsilon = np.linspace(0.0, 1, num=20)"
   ]
  },
  {
   "cell_type": "markdown",
   "metadata": {},
   "source": [
    "- Attack the ```trained network``` with model_dataset"
   ]
  },
  {
   "cell_type": "code",
   "execution_count": 9,
   "metadata": {},
   "outputs": [],
   "source": [
    "def model_attack(attk, model, image, label, epsilon):\n",
    "    \"\"\"\n",
    "    Function to perform the adv attack on the pytorch model\n",
    "    \n",
    "    Parameters\n",
    "    --------------------\n",
    "    attk: type of foolbox attack\n",
    "    model: foolbox Pytorch model\n",
    "    image: the images used for the attack, either as ep.tensor or torch.tensor\n",
    "            size:(no_of_samples x dims)\n",
    "    labels: corresponding labels for the images, either as ep.tensor or torch.tensor\n",
    "            size:(no_of_samples \n",
    "    epsilon: the pertubation\n",
    "    \n",
    "    Return\n",
    "    -------------\n",
    "    clip_adv: list, the actual adversarial examples generated for the given model\n",
    "                size: similar to the input images\n",
    "    adv_ : boolean list, indicating whether a given image is adversarial example or not,\n",
    "            True - adversarial sample\n",
    "            False - not an adversarial sample\n",
    "    \"\"\"\n",
    "    raw_adv, clip_adv, adv_ = attk(model, images, labels, epsilons=epsilon)\n",
    "    \n",
    "    return clip_adv, adv_\n"
   ]
  },
  {
   "cell_type": "markdown",
   "metadata": {},
   "source": [
    "## Attack the model using 20 epsilon & ```FGSM attack```"
   ]
  },
  {
   "cell_type": "markdown",
   "metadata": {},
   "source": [
    "- Attack the model using model_dataset, using only 20000 images\n",
    "- The 20000 images is selected using stratify split"
   ]
  },
  {
   "cell_type": "markdown",
   "metadata": {},
   "source": [
    "#### Load the the images"
   ]
  },
  {
   "cell_type": "code",
   "execution_count": 10,
   "metadata": {},
   "outputs": [],
   "source": [
    "md_images = torch.load('images/model_dataset_images.pt', map_location='cpu').cpu()\n",
    "md_labels = torch.load('images/model_dataset_labels.pt', map_location='cpu').cpu()\n",
    "\n",
    "vali_images = torch.load('images/validation_images.pt', map_location='cpu')\n",
    "vali_labels = torch.load('images/validation_labels.pt', map_location='cpu')"
   ]
  },
  {
   "cell_type": "code",
   "execution_count": 23,
   "metadata": {},
   "outputs": [
    {
     "name": "stdout",
     "output_type": "stream",
     "text": [
      "(array([0, 1, 2, 3, 4, 5, 6, 7, 8, 9]), array([6696, 7641, 6780, 6927, 6619, 6124, 6670, 7074, 6620, 6749]))\n",
      "(array([0, 1, 2, 3, 4, 5, 6, 7, 8, 9]), array([207, 236, 210, 214, 205, 189, 206, 219, 205, 209]))\n"
     ]
    }
   ],
   "source": [
    "print(np.unique(md_labels.cpu().numpy(), return_counts=True))\n",
    "print(np.unique(np.array(vali_labels), return_counts=True))"
   ]
  },
  {
   "cell_type": "markdown",
   "metadata": {},
   "source": [
    "- split the model_dataset to obtain 20000 images"
   ]
  },
  {
   "cell_type": "code",
   "execution_count": 27,
   "metadata": {},
   "outputs": [],
   "source": [
    "# split the model_dataset to obtain 20000 images for the attack\n",
    "_, X_images, _, y_labels = train_test_split(md_images.numpy(), md_labels.numpy(), test_size=0.29455, random_state=42, stratify=md_labels.numpy())"
   ]
  },
  {
   "cell_type": "code",
   "execution_count": 36,
   "metadata": {},
   "outputs": [
    {
     "name": "stdout",
     "output_type": "stream",
     "text": [
      "(array([0, 1, 2, 3, 4, 5, 6, 7, 8, 9]), array([1972, 2251, 1997, 2040, 1949, 1804, 1965, 2084, 1950, 1988]))\n"
     ]
    }
   ],
   "source": [
    "print(np.unique(np.array(y_labels), return_counts=True))"
   ]
  },
  {
   "cell_type": "code",
   "execution_count": 29,
   "metadata": {},
   "outputs": [],
   "source": [
    "images = ep.astensor(torch.from_numpy(np.array(X_images)).to(device))\n",
    "labels = ep.astensor(torch.from_numpy(np.array(y_labels)).to(device))"
   ]
  },
  {
   "cell_type": "code",
   "execution_count": 30,
   "metadata": {},
   "outputs": [],
   "source": [
    "adv_images, adv_info = model_attack(attack2, original_model, images, labels, epsilon)"
   ]
  },
  {
   "cell_type": "markdown",
   "metadata": {},
   "source": [
    "#### Plot the results"
   ]
  },
  {
   "cell_type": "code",
   "execution_count": 31,
   "metadata": {},
   "outputs": [
    {
     "data": {
      "text/plain": [
       "Text(0.5, 1.0, 'The NewNet Model with FGSM attack')"
      ]
     },
     "execution_count": 31,
     "metadata": {},
     "output_type": "execute_result"
    },
    {
     "data": {
      "image/png": "[encoded data removed]",
      "text/plain": [
       "<Figure size 432x288 with 1 Axes>"
      ]
     },
     "metadata": {
      "needs_background": "light"
     },
     "output_type": "display_data"
    }
   ],
   "source": [
    "import matplotlib.pyplot as plt\n",
    "fig, ax = plt.subplots()\n",
    "robust_accuracy = []\n",
    "for i in range(20):\n",
    "    acc = 1 - adv_info[i, :].raw.cpu().numpy().astype(np.float32).mean(axis=-1)\n",
    "    robust_accuracy.append(acc)\n",
    "ax.plot(epsilon, robust_accuracy)\n",
    "ax.set_xlabel(\"Epsilons\")\n",
    "ax.set_ylabel(\"Accuracy\")\n",
    "ax.set_title(\"The NewNet Model with FGSM attack\")"
   ]
  },
  {
   "cell_type": "markdown",
   "metadata": {},
   "source": [
    "### Metrics"
   ]
  },
  {
   "cell_type": "code",
   "execution_count": 37,
   "metadata": {},
   "outputs": [],
   "source": [
    "def model_metrics(adv_imgs, real_imgs, epi_len):\n",
    "    \"\"\"\n",
    "    Function to compute density & coverage for the between the \n",
    "    real & adversarial samples\n",
    "    \n",
    "    Parameters\n",
    "    ---------------\n",
    "    adv_imgs: ep.tensor, the generated adversarial samples, size: no_of_images x image_dims\n",
    "    real_imgs: torch.tensor, size: no_of_images x dims\n",
    "    epi_len: integer, the length or number of epsilons used for the attack\n",
    "    \"\"\"\n",
    "    density = []\n",
    "    coverage = []\n",
    "    if not epi_len==1:\n",
    "        for i in range(epi_len):\n",
    "            # generated adversarial for each epsilon(convert from eagerpy --> torch and reshape)\n",
    "            gen = adv_imgs[i].raw.view(adv_imgs[i].shape[0], -1).cpu()\n",
    "\n",
    "            # density\n",
    "            density.append(gem_build_density(real_imgs, real_imgs.shape[0], gen, 'indexflatl2'))\n",
    "\n",
    "            # coverage\n",
    "            coverage.append(gem_build_coverage(real_imgs, real_imgs.shape[0], gen, 'indexflatl2'))\n",
    "    else:\n",
    "        gen = adv_imgs.raw.view(adv_imgs.shape[0], -1).cpu()\n",
    "\n",
    "        # density\n",
    "        density.append(gem_build_density(real_imgs, real_imgs.shape[0], gen, 'indexflatl2'))\n",
    "\n",
    "        # coverage\n",
    "        coverage.append(gem_build_coverage(real_imgs, real_imgs.shape[0], gen, 'indexflatl2'))\n",
    "        \n",
    "    return density, coverage"
   ]
  },
  {
   "cell_type": "markdown",
   "metadata": {},
   "source": [
    "### - density & coverage for\n",
    "\n",
    "#### --> model_dataset & adversarial samples "
   ]
  },
  {
   "cell_type": "code",
   "execution_count": 38,
   "metadata": {},
   "outputs": [],
   "source": [
    "# resize the real images\n",
    "real = images.raw.view(images.shape[0], -1)\n",
    "\n",
    "# 20 values of epsilons were considered\n",
    "# find the density & coverage for each vgalue of epsilons\n",
    "density = []\n",
    "coverage = []\n",
    "for i in range(len(epsilon)):\n",
    "    \n",
    "    # generated adversarial for each epsilon(convert from eagerpy --> torch and reshape)\n",
    "    gen = adv_images[i].raw.view(adv_images[i].shape[0], -1)\n",
    "    \n",
    "    # density\n",
    "    density.append(gem_build_density(real, real.shape[0], gen, 'indexflatl2'))\n",
    "    \n",
    "    # coverage\n",
    "    coverage.append(gem_build_coverage(real, real.shape[0], gen, 'indexflatl2'))"
   ]
  },
  {
   "cell_type": "markdown",
   "metadata": {},
   "source": [
    "#### --> model_dataset & validation set"
   ]
  },
  {
   "cell_type": "code",
   "execution_count": 40,
   "metadata": {},
   "outputs": [
    {
     "name": "stdout",
     "output_type": "stream",
     "text": [
      "tensor(0.9972, device='cuda:0') tensor(0.3916, device='cuda:0')\n"
     ]
    }
   ],
   "source": [
    "# images from the validation set\n",
    "gen_validate = torch.from_numpy(np.array(vali_images).reshape(len(vali_images), -1)).to(device)\n",
    "gen_labels = torch.from_numpy(np.array(vali_labels)).to(device)\n",
    "density_validate = gem_build_density(real, real.shape[0], gen_validate, 'indexflatl2')\n",
    "coverage_validate = gem_build_coverage(real, real.shape[0], gen_validate, 'indexflatl2')\n",
    "print(density_validate, coverage_validate)"
   ]
  },
  {
   "cell_type": "markdown",
   "metadata": {},
   "source": [
    "#### Attack the model using validation dataset"
   ]
  },
  {
   "cell_type": "code",
   "execution_count": 41,
   "metadata": {},
   "outputs": [],
   "source": [
    "adv_vali, adv_info_vali = model_attack(attack2, original_model, gen_validate, gen_labels, epsilon)"
   ]
  },
  {
   "cell_type": "markdown",
   "metadata": {},
   "source": [
    "#### --> model_dataset and validation adversarial samples"
   ]
  },
  {
   "cell_type": "code",
   "execution_count": 42,
   "metadata": {},
   "outputs": [],
   "source": [
    "vali_den = []\n",
    "vali_cov = []\n",
    "for i in range(len(epsilon)):\n",
    "    \n",
    "    # generated adversarial for each epsilon(convert from eagerpy --> torch and reshape)\n",
    "    gen = adv_vali[i].raw.view(adv_images[i].shape[0], -1)\n",
    "    \n",
    "    # density\n",
    "    vali_den.append(gem_build_density(real, real.shape[0], gen, 'indexflatl2'))\n",
    "    \n",
    "    # coverage\n",
    "    vali_cov.append(gem_build_coverage(real, real.shape[0], gen, 'indexflatl2'))"
   ]
  },
  {
   "cell_type": "code",
   "execution_count": 54,
   "metadata": {},
   "outputs": [
    {
     "name": "stdout",
     "output_type": "stream",
     "text": [
      "Density\n",
      "Model_dataset & validation set: density: 0.99724\n",
      "Epsilon: 0.00000, Accuracy: 0.99%, Model_adv_density: 1.09794, Vali_adv_density: 1.09794\n",
      "Epsilon: 0.05263, Accuracy: 0.99%, Model_adv_density: 1.39155, Vali_adv_density: 1.39155\n",
      "Epsilon: 0.10526, Accuracy: 0.99%, Model_adv_density: 1.48934, Vali_adv_density: 1.48934\n",
      "Epsilon: 0.15789, Accuracy: 0.99%, Model_adv_density: 1.48173, Vali_adv_density: 1.48173\n",
      "Epsilon: 0.21053, Accuracy: 0.99%, Model_adv_density: 1.36783, Vali_adv_density: 1.36783\n",
      "Epsilon: 0.26316, Accuracy: 0.99%, Model_adv_density: 1.15994, Vali_adv_density: 1.15994\n",
      "Epsilon: 0.31579, Accuracy: 0.99%, Model_adv_density: 0.91074, Vali_adv_density: 0.91074\n",
      "Epsilon: 0.36842, Accuracy: 0.98%, Model_adv_density: 0.67030, Vali_adv_density: 0.67030\n",
      "Epsilon: 0.42105, Accuracy: 0.98%, Model_adv_density: 0.47672, Vali_adv_density: 0.47672\n",
      "Epsilon: 0.47368, Accuracy: 0.97%, Model_adv_density: 0.44748, Vali_adv_density: 0.44748\n",
      "Epsilon: 0.52632, Accuracy: 0.94%, Model_adv_density: 0.41987, Vali_adv_density: 0.41987\n",
      "Epsilon: 0.57895, Accuracy: 0.89%, Model_adv_density: 0.38739, Vali_adv_density: 0.38739\n",
      "Epsilon: 0.63158, Accuracy: 0.79%, Model_adv_density: 0.34951, Vali_adv_density: 0.34951\n",
      "Epsilon: 0.68421, Accuracy: 0.68%, Model_adv_density: 0.30941, Vali_adv_density: 0.30941\n",
      "Epsilon: 0.73684, Accuracy: 0.58%, Model_adv_density: 0.26801, Vali_adv_density: 0.26801\n",
      "Epsilon: 0.78947, Accuracy: 0.49%, Model_adv_density: 0.22527, Vali_adv_density: 0.22527\n",
      "Epsilon: 0.84211, Accuracy: 0.40%, Model_adv_density: 0.18375, Vali_adv_density: 0.18375\n",
      "Epsilon: 0.89474, Accuracy: 0.33%, Model_adv_density: 0.14631, Vali_adv_density: 0.14631\n",
      "Epsilon: 0.94737, Accuracy: 0.28%, Model_adv_density: 0.11149, Vali_adv_density: 0.11149\n",
      "Epsilon: 1.00000, Accuracy: 0.25%, Model_adv_density: 0.08244, Vali_adv_density: 0.08244\n"
     ]
    }
   ],
   "source": [
    "print(\"Density\")\n",
    "print(f\"Model_dataset & validation set: density: {density_validate:.5f}\")\n",
    "#print(f\"Model_dataset & adversarial samples\")\n",
    "density_data = []\n",
    "for i in range(len(epsilon)):\n",
    "    print(\"Epsilon: {:.5f}, Accuracy: {:.2f}%, Model_adv_density: {:.5f}, Vali_adv_density: {:.5f}\".format(epsilon[i], robust_accuracy[i], density[i], vali_den[i]))\n",
    "    density_data.append([epsilon[i], robust_accuracy[i], density[i].cpu().numpy(), vali_den[i].cpu().numpy()])\n",
    "\n",
    "density_data = np.array(density_data)"
   ]
  },
  {
   "cell_type": "code",
   "execution_count": 44,
   "metadata": {},
   "outputs": [
    {
     "data": {
      "text/plain": [
       "Text(0.5, 1.0, 'The NewNet Model with FGSM attack')"
      ]
     },
     "execution_count": 44,
     "metadata": {},
     "output_type": "execute_result"
    },
    {
     "data": {
      "image/png": "[encoded data removed]",
      "text/plain": [
       "<Figure size 432x288 with 1 Axes>"
      ]
     },
     "metadata": {
      "needs_background": "light"
     },
     "output_type": "display_data"
    }
   ],
   "source": [
    "fig, ax = plt.subplots()\n",
    "ax.plot(epsilon, density)\n",
    "ax.set_xlabel(\"Epsilons\")\n",
    "ax.set_ylabel(\"Accuracy\")\n",
    "ax.set_title(\"The NewNet Model with FGSM attack\")"
   ]
  },
  {
   "cell_type": "code",
   "execution_count": 56,
   "metadata": {},
   "outputs": [
    {
     "name": "stdout",
     "output_type": "stream",
     "text": [
      "Coverage\n",
      "Model_dataset & validation set: coverage: 0.39159998297691345\n",
      "Model_dataset & adversarial samples\n",
      "Epsilon: 0.00000, Accuracy: 0.99%, Model_adv_coverage: 1.00000, Vali_adv_coverage: 1.00000\n",
      "Epsilon: 0.05263, Accuracy: 0.99%, Model_adv_coverage: 1.00000, Vali_adv_coverage: 1.00000\n",
      "Epsilon: 0.10526, Accuracy: 0.99%, Model_adv_coverage: 1.00000, Vali_adv_coverage: 1.00000\n",
      "Epsilon: 0.15789, Accuracy: 0.99%, Model_adv_coverage: 0.99995, Vali_adv_coverage: 0.99995\n",
      "Epsilon: 0.21053, Accuracy: 0.99%, Model_adv_coverage: 0.98955, Vali_adv_coverage: 0.98955\n",
      "Epsilon: 0.26316, Accuracy: 0.99%, Model_adv_coverage: 0.94520, Vali_adv_coverage: 0.94520\n",
      "Epsilon: 0.31579, Accuracy: 0.99%, Model_adv_coverage: 0.91540, Vali_adv_coverage: 0.91540\n",
      "Epsilon: 0.36842, Accuracy: 0.98%, Model_adv_coverage: 0.90040, Vali_adv_coverage: 0.90040\n",
      "Epsilon: 0.42105, Accuracy: 0.98%, Model_adv_coverage: 0.88385, Vali_adv_coverage: 0.88385\n",
      "Epsilon: 0.47368, Accuracy: 0.97%, Model_adv_coverage: 0.87155, Vali_adv_coverage: 0.87155\n",
      "Epsilon: 0.52632, Accuracy: 0.94%, Model_adv_coverage: 0.85345, Vali_adv_coverage: 0.85345\n",
      "Epsilon: 0.57895, Accuracy: 0.89%, Model_adv_coverage: 0.82695, Vali_adv_coverage: 0.82695\n",
      "Epsilon: 0.63158, Accuracy: 0.79%, Model_adv_coverage: 0.78725, Vali_adv_coverage: 0.78725\n",
      "Epsilon: 0.68421, Accuracy: 0.68%, Model_adv_coverage: 0.73350, Vali_adv_coverage: 0.73350\n",
      "Epsilon: 0.73684, Accuracy: 0.58%, Model_adv_coverage: 0.66775, Vali_adv_coverage: 0.66775\n",
      "Epsilon: 0.78947, Accuracy: 0.49%, Model_adv_coverage: 0.58420, Vali_adv_coverage: 0.58420\n",
      "Epsilon: 0.84211, Accuracy: 0.40%, Model_adv_coverage: 0.49160, Vali_adv_coverage: 0.49160\n",
      "Epsilon: 0.89474, Accuracy: 0.33%, Model_adv_coverage: 0.39785, Vali_adv_coverage: 0.39785\n",
      "Epsilon: 0.94737, Accuracy: 0.28%, Model_adv_coverage: 0.30345, Vali_adv_coverage: 0.30345\n",
      "Epsilon: 1.00000, Accuracy: 0.25%, Model_adv_coverage: 0.21865, Vali_adv_coverage: 0.21865\n"
     ]
    }
   ],
   "source": [
    "print(\"Coverage\")\n",
    "print(f\"Model_dataset & validation set: coverage: {coverage_validate}\")\n",
    "print(f\"Model_dataset & adversarial samples\")\n",
    "coverage_data = []\n",
    "for i in range(len(epsilon)):\n",
    "    print(\"Epsilon: {:.5f}, Accuracy: {:.2f}%, Model_adv_coverage: {:.5f}, Vali_adv_coverage: {:.5f}\".format(epsilon[i], robust_accuracy[i], coverage[i], vali_cov[i]))\n",
    "    coverage_data.append([epsilon[i], robust_accuracy[i], coverage[i].cpu().numpy(), vali_cov[i].cpu().numpy()])\n",
    "\n",
    "coverage_data = np.array(coverage_data)"
   ]
  },
  {
   "cell_type": "markdown",
   "metadata": {},
   "source": [
    "- save/write the density_data & coverage_data\n",
    "- info: attack model with model_dataset -> model_dataset & adversarial samples\n",
    "- attack model validataion_dataset -> model_dataset & vali_adv samples\n",
    "- model_dataset & vali_dataset"
   ]
  },
  {
   "cell_type": "code",
   "execution_count": 87,
   "metadata": {},
   "outputs": [],
   "source": [
    "with open('FGSM_attack_density.dat', 'w') as newfile:\n",
    "    newfile.write(\"# FGSM attack with model_dataset(20000 images)\" + \"\\n\" +\n",
    "                 \"# and valiudation_images(2100) 20 epsilon\" + \"\\n\" +\n",
    "                 \"# Epsilon Model_accuracy Model_adv_density Vali_adv_density\" + \"\\n\" +\n",
    "                 \"# Model_dataset & validation set: \" + str(density_validate.cpu().numpy()) + \"\\n\" )\n",
    "\n",
    "with open('FGSM_attack_coverage.dat', 'w') as newfile:\n",
    "    newfile.write(\"# FGSM attack with model_dataset(20000 images)\" + \"\\n\" +\n",
    "                 \"# and valiudation_images(2100) 20 epsilon\" + \"\\n\" +\n",
    "                 \"# Epsilon Model_accuracy Model_adv_coverage Vali_adv_coverage\" + \"\\n\" +\n",
    "                 \"# Model_dataset & validation set: \" + str(coverage_validate.cpu().numpy()) + \"\\n\")\n",
    "with open('FGSM_attack_density.dat', 'a') as addfile:\n",
    "    np.savetxt(addfile, density_data)\n",
    "    \n",
    "with open('FGSM_attack_coverage.dat', 'a') as addfile:\n",
    "    np.savetxt(addfile, coverage_data)"
   ]
  },
  {
   "cell_type": "markdown",
   "metadata": {},
   "source": [
    "## Attack the model using 5 epsilon & ```Boundary attack```"
   ]
  },
  {
   "cell_type": "markdown",
   "metadata": {},
   "source": [
    "#### Attack the model using ```model_dataset```"
   ]
  },
  {
   "cell_type": "markdown",
   "metadata": {},
   "source": [
    "- Load the model_dataset & validation dataset"
   ]
  },
  {
   "cell_type": "code",
   "execution_count": 7,
   "metadata": {},
   "outputs": [],
   "source": [
    "md_images = torch.load('images/model_dataset_images.pt', map_location='cpu').cpu()\n",
    "md_labels = torch.load('images/model_dataset_labels.pt', map_location='cpu').cpu()\n",
    "\n",
    "vali_images = torch.load('images/validation_images.pt', map_location='cpu')\n",
    "vali_labels = torch.load('images/validation_labels.pt', map_location='cpu')\n",
    "#print(torch.cuda.memory_allocated())"
   ]
  },
  {
   "cell_type": "code",
   "execution_count": 8,
   "metadata": {},
   "outputs": [],
   "source": [
    "images = ep.astensor( md_images[:20000, :, :, :].to(device))\n",
    "labels = ep.astensor(md_labels[:20000].to(device))"
   ]
  },
  {
   "cell_type": "code",
   "execution_count": 14,
   "metadata": {},
   "outputs": [],
   "source": [
    "del md_images; del md_labels; del images; del labels"
   ]
  },
  {
   "cell_type": "code",
   "execution_count": 10,
   "metadata": {},
   "outputs": [
    {
     "name": "stdout",
     "output_type": "stream",
     "text": [
      "64871424\n"
     ]
    }
   ],
   "source": [
    "torch.cuda.empty_cache()\n",
    "print(torch.cuda.memory_allocated())"
   ]
  },
  {
   "cell_type": "markdown",
   "metadata": {},
   "source": [
    "#### Attack the model"
   ]
  },
  {
   "cell_type": "code",
   "execution_count": 12,
   "metadata": {},
   "outputs": [],
   "source": [
    "epi = np.linspace(0.0, 1.0, 5)\n",
    "attak = fb.attacks.BoundaryAttack()\n",
    "_, adv_bdy_images, adv_bdy_info = attak(original_model, images, labels, epsilons=epi)"
   ]
  },
  {
   "cell_type": "markdown",
   "metadata": {},
   "source": [
    "Plot the results"
   ]
  },
  {
   "cell_type": "code",
   "execution_count": 26,
   "metadata": {},
   "outputs": [
    {
     "data": {
      "text/plain": [
       "Text(0.5, 1.0, 'The NewNet Model with Boundary attack')"
      ]
     },
     "execution_count": 26,
     "metadata": {},
     "output_type": "execute_result"
    },
    {
     "data": {
      "image/png": "[encoded data removed]",
      "text/plain": [
       "<Figure size 432x288 with 1 Axes>"
      ]
     },
     "metadata": {
      "needs_background": "light"
     },
     "output_type": "display_data"
    }
   ],
   "source": [
    "import matplotlib.pyplot as plt\n",
    "fig, ax = plt.subplots()\n",
    "robust_accuracy = []\n",
    "for i in range(len(epi)):\n",
    "    acc = 1 - adv_bdy_info[i, :].raw.cpu().numpy().astype(np.float32).mean(axis=-1)\n",
    "    robust_accuracy.append(acc)\n",
    "ax.plot(epi, robust_accuracy)\n",
    "ax.set_xlabel(\"Epsilons\")\n",
    "ax.set_ylabel(\"Accuracy\")\n",
    "ax.set_title(\"The NewNet Model with Boundary attack\")"
   ]
  },
  {
   "cell_type": "markdown",
   "metadata": {},
   "source": [
    "### Metrics\n",
    "\n",
    "#### model_dataset & adversarial samples"
   ]
  },
  {
   "cell_type": "code",
   "execution_count": 60,
   "metadata": {},
   "outputs": [],
   "source": [
    "real = images.raw.view(images.shape[0], -1).cpu()\n",
    "model_bdy_attk_density, model_bdy_attk_coverage = model_metrics(adv_bdy_images, real, len(epi))"
   ]
  },
  {
   "cell_type": "markdown",
   "metadata": {},
   "source": [
    "#### model_dataset & validation dataset"
   ]
  },
  {
   "cell_type": "code",
   "execution_count": 63,
   "metadata": {},
   "outputs": [],
   "source": [
    "# images from the validation set\n",
    "gen_validate = torch.from_numpy(np.array(vali_images).reshape(len(vali_images), -1)).cpu()\n",
    "gen_labels = torch.from_numpy(np.array(vali_labels)).cpu()"
   ]
  },
  {
   "cell_type": "code",
   "execution_count": 64,
   "metadata": {},
   "outputs": [],
   "source": [
    "density_validate = gem_build_density(real, real.shape[0], gen_validate, 'indexflatl2')\n",
    "coverage_validate = gem_build_coverage(real, real.shape[0], gen_validate, 'indexflatl2')"
   ]
  },
  {
   "cell_type": "code",
   "execution_count": 69,
   "metadata": {},
   "outputs": [
    {
     "data": {
      "text/plain": [
       "(torch.Size([2100, 1, 28, 28]), torch.Size([2100]))"
      ]
     },
     "execution_count": 69,
     "metadata": {},
     "output_type": "execute_result"
    }
   ],
   "source": [
    "vali_attk_images = ep.astensor(torch.from_numpy(np.array(vali_images)).to(device))\n",
    "vali_attk_labels = ep.astensor(torch.from_numpy(np.array(vali_labels)).to(device))\n",
    "vali_attk_images.shape, vali_attk_labels.shape"
   ]
  },
  {
   "cell_type": "markdown",
   "metadata": {},
   "source": [
    "#### Attack the model using validation set"
   ]
  },
  {
   "cell_type": "code",
   "execution_count": 70,
   "metadata": {},
   "outputs": [],
   "source": [
    "_, adv_bdy_vali_images, adv_bdy_vali_info = attak(original_model, vali_attk_images, vali_attk_labels, epsilons=epi)"
   ]
  },
  {
   "cell_type": "code",
   "execution_count": 71,
   "metadata": {},
   "outputs": [],
   "source": [
    "modelv_bdy_density, modelv_bdy_coverage = model_metrics(adv_bdy_vali_images, gen_validate, len(epi))"
   ]
  },
  {
   "cell_type": "markdown",
   "metadata": {},
   "source": [
    "#### Print the results"
   ]
  },
  {
   "cell_type": "code",
   "execution_count": 72,
   "metadata": {},
   "outputs": [
    {
     "name": "stdout",
     "output_type": "stream",
     "text": [
      "Density\n",
      "Model_dataset & validation set: density: 1.01076\n",
      "Epsilon: 0.00000, Accuracy: 1.00%, Model_adv_density: 1.13520, Vali_adv_density: 1.09495\n",
      "Epsilon: 0.25000, Accuracy: 1.00%, Model_adv_density: 1.25715, Vali_adv_density: 1.25200\n",
      "Epsilon: 0.50000, Accuracy: 1.00%, Model_adv_density: 1.31539, Vali_adv_density: 1.30771\n",
      "Epsilon: 0.75000, Accuracy: 1.00%, Model_adv_density: 1.37387, Vali_adv_density: 1.36381\n",
      "Epsilon: 1.00000, Accuracy: 1.00%, Model_adv_density: 1.43164, Vali_adv_density: 1.42352\n"
     ]
    }
   ],
   "source": [
    "print(\"Density\")\n",
    "print(f\"Model_dataset & validation set: density: {density_validate:.5f}\")\n",
    "#print(f\"Model_dataset & adversarial samples\")\n",
    "for i in range(len(epi)):\n",
    "    print(\"Epsilon: {:.5f}, Accuracy: {:.2f}%, Model_adv_density: {:.5f}, Vali_adv_density: {:.5f}\".format(epi[i], robust_accuracy[i], model_bdy_attk_density[i], modelv_bdy_density[i]))"
   ]
  },
  {
   "cell_type": "code",
   "execution_count": 74,
   "metadata": {},
   "outputs": [
    {
     "name": "stdout",
     "output_type": "stream",
     "text": [
      "Coverage\n",
      "Model_dataset & validation set: Coverage: 0.39365\n",
      "Epsilon: 0.00000, Accuracy: 1.00%, Model_adv_coverage: 1.00000, Vali_adv_coverage: 1.00000\n",
      "Epsilon: 0.25000, Accuracy: 1.00%, Model_adv_coverage: 1.00000, Vali_adv_coverage: 1.00000\n",
      "Epsilon: 0.50000, Accuracy: 1.00%, Model_adv_coverage: 1.00000, Vali_adv_coverage: 1.00000\n",
      "Epsilon: 0.75000, Accuracy: 1.00%, Model_adv_coverage: 1.00000, Vali_adv_coverage: 1.00000\n",
      "Epsilon: 1.00000, Accuracy: 1.00%, Model_adv_coverage: 1.00000, Vali_adv_coverage: 1.00000\n"
     ]
    }
   ],
   "source": [
    "print(\"Coverage\")\n",
    "print(f\"Model_dataset & validation set: Coverage: {coverage_validate:.5f}\")\n",
    "#print(f\"Model_dataset & adversarial samples\")\n",
    "for i in range(len(epi)):\n",
    "    print(\"Epsilon: {:.5f}, Accuracy: {:.2f}%, Model_adv_coverage: {:.5f}, Vali_adv_coverage: {:.5f}\".format(epi[i], robust_accuracy[i], model_bdy_attk_coverage[i], modelv_bdy_coverage[i]))"
   ]
  },
  {
   "cell_type": "code",
   "execution_count": 43,
   "metadata": {},
   "outputs": [],
   "source": [
    "#del images; del labels; del MyModel;\n",
    "#torch.cuda.empty_cache(); print(torch.cuda.memory_allocated())"
   ]
  },
  {
   "cell_type": "markdown",
   "metadata": {},
   "source": [
    "## Attack the model using ```HOP_Skip_Jump_attack``` aka BoundaryAttack++"
   ]
  },
  {
   "cell_type": "code",
   "execution_count": 21,
   "metadata": {},
   "outputs": [],
   "source": [
    "attack = fb.attacks.HopSkipJump(steps=0, initial_gradient_eval_steps=10, max_gradient_eval_steps=1000)\n",
    "_, hsj_attk_images, hsj_attk_info = attack(original_model, images, labels, epsilons=None)"
   ]
  },
  {
   "cell_type": "markdown",
   "metadata": {},
   "source": [
    "### Metrics"
   ]
  },
  {
   "cell_type": "markdown",
   "metadata": {},
   "source": [
    "#### -> model_dataset & adv samples"
   ]
  },
  {
   "cell_type": "code",
   "execution_count": 34,
   "metadata": {},
   "outputs": [],
   "source": [
    "real = images.raw.view(images.shape[0], -1).cpu()\n",
    "model_hsj_attk_density, model_hsj_attk_coverage = model_metrics(hsj_attk_images, real, 1)"
   ]
  },
  {
   "cell_type": "markdown",
   "metadata": {},
   "source": [
    "#### -> model_dataset & validation_set"
   ]
  },
  {
   "cell_type": "code",
   "execution_count": 29,
   "metadata": {},
   "outputs": [],
   "source": [
    "# images from the validation set\n",
    "gen_hsj_validate = torch.from_numpy(np.array(vali_images).reshape(len(vali_images), -1)).cpu()\n",
    "gen_hsj_labels = torch.from_numpy(np.array(vali_labels)).cpu()"
   ]
  },
  {
   "cell_type": "code",
   "execution_count": 30,
   "metadata": {},
   "outputs": [],
   "source": [
    "density_hsj_validate = gem_build_density(real, real.shape[0], gen_hsj_validate, 'indexflatl2')\n",
    "coverage_hsj_validate = gem_build_coverage(real, real.shape[0], gen_hsj_validate, 'indexflatl2')"
   ]
  },
  {
   "cell_type": "code",
   "execution_count": 31,
   "metadata": {},
   "outputs": [],
   "source": [
    "vali_attk_images = ep.astensor(torch.from_numpy(np.array(vali_images)).to(device))\n",
    "vali_attk_labels = ep.astensor(torch.from_numpy(np.array(vali_labels)).to(device))"
   ]
  },
  {
   "cell_type": "markdown",
   "metadata": {},
   "source": [
    "#### Attack model using validation_dataset"
   ]
  },
  {
   "cell_type": "code",
   "execution_count": 32,
   "metadata": {},
   "outputs": [],
   "source": [
    "_, adv_bdy_vali_images, adv_bdy_vali_info = attack(original_model, vali_attk_images, vali_attk_labels, epsilons=None)"
   ]
  },
  {
   "cell_type": "code",
   "execution_count": 33,
   "metadata": {},
   "outputs": [],
   "source": [
    "modelv_hsj_density, modelv_hsj_coverage = model_metrics(adv_bdy_vali_images, gen_hsj_validate, 1)"
   ]
  },
  {
   "cell_type": "markdown",
   "metadata": {},
   "source": [
    "#### Print the results"
   ]
  },
  {
   "cell_type": "code",
   "execution_count": 40,
   "metadata": {},
   "outputs": [
    {
     "name": "stdout",
     "output_type": "stream",
     "text": [
      "Density\n",
      "Model_dataset & validation set: density: 1.01076\n",
      "Model_adv_density: 0.00717, Vali_adv_density: 0.06762\n"
     ]
    }
   ],
   "source": [
    "print(\"Density\")\n",
    "print(f\"Model_dataset & validation set: density: {density_hsj_validate:.5f}\")\n",
    "\n",
    "print(f\"Model_adv_density: {model_hsj_attk_density[0]:.5f}, Vali_adv_density: {modelv_hsj_density[0]:.5f}\")"
   ]
  },
  {
   "cell_type": "code",
   "execution_count": 41,
   "metadata": {},
   "outputs": [
    {
     "name": "stdout",
     "output_type": "stream",
     "text": [
      "Coverage\n",
      "Model_dataset & validation set: coverage: 0.39365\n",
      "Model_adv_density: 0.02905, Vali_adv_density: 0.09524\n"
     ]
    }
   ],
   "source": [
    "print(\"Coverage\")\n",
    "print(f\"Model_dataset & validation set: coverage: {coverage_hsj_validate:.5f}\")\n",
    "\n",
    "print(f\"Model_adv_density: {model_hsj_attk_coverage[0]:.5f}, Vali_adv_density: {modelv_hsj_coverage[0]:.5f}\")"
   ]
  },
  {
   "cell_type": "markdown",
   "metadata": {},
   "source": [
    "## The End"
   ]
  }
 ],
 "metadata": {
  "kernelspec": {
   "display_name": "conda-n2gem",
   "language": "python",
   "name": "n2gem"
  },
  "language_info": {
   "codemirror_mode": {
    "name": "ipython",
    "version": 3
   },
   "file_extension": ".py",
   "mimetype": "text/x-python",
   "name": "python",
   "nbconvert_exporter": "python",
   "pygments_lexer": "ipython3",
   "version": "3.8.5"
  }
 },
 "nbformat": 4,
 "nbformat_minor": 4
}
