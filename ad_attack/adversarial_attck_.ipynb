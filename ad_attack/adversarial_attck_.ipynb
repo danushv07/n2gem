{
 "cells": [
  {
   "cell_type": "code",
   "execution_count": 150,
   "metadata": {},
   "outputs": [],
   "source": [
    "import os \n",
    "os.environ[\"GIT_PYTHON_REFRESH\"] = \"quiet\" \n",
    "#!module load git\n",
    "import foolbox as fb\n",
    "import torch\n",
    "import eagerpy as ep\n",
    "from foolbox import PyTorchModel, accuracy, samples"
   ]
  },
  {
   "cell_type": "code",
   "execution_count": 151,
   "metadata": {},
   "outputs": [],
   "source": [
    "import torchvision\n",
    "from fastai.vision.all import *"
   ]
  },
  {
   "cell_type": "markdown",
   "metadata": {},
   "source": [
    "Import the MNIST dataset and create the CNN class"
   ]
  },
  {
   "cell_type": "code",
   "execution_count": 152,
   "metadata": {},
   "outputs": [],
   "source": [
    "transforms = torchvision.transforms.Compose([\n",
    "    torchvision.transforms.ToTensor(),\n",
    "    torchvision.transforms.Normalize((0.1307,), (0.3081))\n",
    "])\n",
    "train_set = torchvision.datasets.MNIST('./files/', train=True, download=True, transform=transforms)\n",
    "test_set = torchvision.datasets.MNIST('./files/', train=False, download=True, transform=transforms)"
   ]
  },
  {
   "cell_type": "code",
   "execution_count": 153,
   "metadata": {},
   "outputs": [],
   "source": [
    "train_loader = torch.utils.data.DataLoader(train_set, batch_size=64, shuffle=True)\n",
    "test_loader = torch.utils.data.DataLoader(test_set, batch_size=1000, shuffle=True)"
   ]
  },
  {
   "cell_type": "code",
   "execution_count": 147,
   "metadata": {},
   "outputs": [],
   "source": [
    "import torch.nn as nn\n",
    "import torch.nn.functional as F\n",
    "\n",
    "class CNet(nn.Module):\n",
    "    def __init__(self):\n",
    "        super(CNet, self).__init__()\n",
    "        self.conv1 = nn.Conv2d(1, 10, kernel_size=5)\n",
    "        self.conv2 = nn.Conv2d(10, 20, kernel_size=5)\n",
    "        self.drop = nn.Dropout(0.5)\n",
    "        self.fc1 = nn.Linear(320, 50)\n",
    "        self.fc2 = nn.Linear(50, 10)\n",
    "    \n",
    "    def forward(self, x):\n",
    "        x = F.max_pool2d(self.conv1(x), 2)\n",
    "        x = F.relu(x)\n",
    "        x = self.drop(self.conv2(x))\n",
    "        x = F.relu(F.max_pool2d(x, 2))\n",
    "        x = x.view(-1, 320)\n",
    "        x = F.relu(self.fc1(x))\n",
    "        x = F.dropout(x, training=self.training)\n",
    "        x = self.fc2(x)\n",
    "        output = F.log_softmax(x, dim=1)\n",
    "        return output\n",
    "        "
   ]
  },
  {
   "cell_type": "code",
   "execution_count": 154,
   "metadata": {},
   "outputs": [],
   "source": [
    "class NewNet(nn.Module):\n",
    "    def __init__(self):\n",
    "        super(NewNet, self).__init__()\n",
    "        self.conv1 = nn.Conv2d(1, 16, kernel_size=3)\n",
    "        self.conv2 = nn.Conv2d(16, 32, kernel_size=3)\n",
    "        self.drop = nn.Dropout(0.5)\n",
    "        self.fc1 = nn.Linear(800, 512)\n",
    "        self.fc2 = nn.Linear(512, 64)\n",
    "        self.fc3 = nn.Linear(64, 10)\n",
    "    \n",
    "    def forward(self, x):\n",
    "        x = F.relu(self.conv1(x))\n",
    "        x = self.drop(F.max_pool2d(x, 2))\n",
    "        x = F.relu(self.conv2(x))\n",
    "        x = F.max_pool2d(x, 2)\n",
    "        x = x.view(-1, 800)\n",
    "        x = self.drop(F.relu(self.fc1(x)))\n",
    "        x = F.relu(self.fc2(x))\n",
    "        x = self.fc3(x)\n",
    "        output = F.log_softmax(x, dim=1)\n",
    "        return output"
   ]
  },
  {
   "cell_type": "markdown",
   "metadata": {},
   "source": [
    "Fastai takes the available device by default"
   ]
  },
  {
   "cell_type": "code",
   "execution_count": 155,
   "metadata": {},
   "outputs": [],
   "source": [
    "data = DataLoaders(train_loader, test_loader)\n",
    "learn = Learner(data, NewNet(), loss_func=F.nll_loss, opt_func=Adam, metrics=accuracy)"
   ]
  },
  {
   "cell_type": "code",
   "execution_count": 156,
   "metadata": {},
   "outputs": [
    {
     "data": {
      "text/html": [
       "<table border=\"1\" class=\"dataframe\">\n",
       "  <thead>\n",
       "    <tr style=\"text-align: left;\">\n",
       "      <th>epoch</th>\n",
       "      <th>train_loss</th>\n",
       "      <th>valid_loss</th>\n",
       "      <th>accuracy</th>\n",
       "      <th>time</th>\n",
       "    </tr>\n",
       "  </thead>\n",
       "  <tbody>\n",
       "    <tr>\n",
       "      <td>0</td>\n",
       "      <td>0.165215</td>\n",
       "      <td>0.091996</td>\n",
       "      <td>0.970300</td>\n",
       "      <td>00:09</td>\n",
       "    </tr>\n",
       "    <tr>\n",
       "      <td>1</td>\n",
       "      <td>0.091724</td>\n",
       "      <td>0.045646</td>\n",
       "      <td>0.985200</td>\n",
       "      <td>00:09</td>\n",
       "    </tr>\n",
       "    <tr>\n",
       "      <td>2</td>\n",
       "      <td>0.067474</td>\n",
       "      <td>0.037492</td>\n",
       "      <td>0.988300</td>\n",
       "      <td>00:09</td>\n",
       "    </tr>\n",
       "  </tbody>\n",
       "</table>"
      ],
      "text/plain": [
       "<IPython.core.display.HTML object>"
      ]
     },
     "metadata": {},
     "output_type": "display_data"
    }
   ],
   "source": [
    "learn.fit_one_cycle(3)"
   ]
  },
  {
   "cell_type": "markdown",
   "metadata": {},
   "source": [
    "Save the model, trained in fastai\n",
    "By default it is saved in the /models folder with .pth extension"
   ]
  },
  {
   "cell_type": "code",
   "execution_count": 157,
   "metadata": {},
   "outputs": [
    {
     "data": {
      "text/plain": [
       "Path('models/fastai_cnn_NewNet.pth')"
      ]
     },
     "execution_count": 157,
     "metadata": {},
     "output_type": "execute_result"
    }
   ],
   "source": [
    "learn.save('./fastai_cnn_NewNet')"
   ]
  },
  {
   "cell_type": "markdown",
   "metadata": {},
   "source": [
    "Load the model(fastai) and save it as torch model for foolbox compatibility"
   ]
  },
  {
   "cell_type": "code",
   "execution_count": 158,
   "metadata": {},
   "outputs": [],
   "source": [
    "model_new = learn.load('fastai_cnn_NewNet')\n",
    "torch.save(model_new.model.state_dict(), 'fastai_cnn_NewNet_weights.pth')"
   ]
  },
  {
   "cell_type": "markdown",
   "metadata": {},
   "source": [
    "Load model for the attack"
   ]
  },
  {
   "cell_type": "code",
   "execution_count": 159,
   "metadata": {},
   "outputs": [
    {
     "data": {
      "text/plain": [
       "NewNet(\n",
       "  (conv1): Conv2d(1, 16, kernel_size=(3, 3), stride=(1, 1))\n",
       "  (conv2): Conv2d(16, 32, kernel_size=(3, 3), stride=(1, 1))\n",
       "  (drop): Dropout(p=0.5, inplace=False)\n",
       "  (fc1): Linear(in_features=800, out_features=512, bias=True)\n",
       "  (fc2): Linear(in_features=512, out_features=64, bias=True)\n",
       "  (fc3): Linear(in_features=64, out_features=10, bias=True)\n",
       ")"
      ]
     },
     "execution_count": 159,
     "metadata": {},
     "output_type": "execute_result"
    }
   ],
   "source": [
    "MyModel = NewNet()\n",
    "MyModel.load_state_dict(torch.load('fastai_cnn_NewNet_weights.pth'))\n",
    "MyModel.eval()"
   ]
  },
  {
   "cell_type": "markdown",
   "metadata": {},
   "source": [
    "Think about preprocess and the attack on the model!!!!!!"
   ]
  },
  {
   "cell_type": "code",
   "execution_count": 160,
   "metadata": {},
   "outputs": [],
   "source": [
    "#model = torchvision.models.resnet18(pretrained=True).eval()\n",
    "preprocess = dict(mean=0.1307, std=0.3081)\n",
    "#preprocess = dict(mean=[0.485, 0.456, 0.406], std=[0.229, 0.224, 0.225], axis=-3)\n",
    "bound = (0, 1)\n",
    "fmodel = fb.PyTorchModel(MyModel, bounds=bound, preprocessing=preprocess)"
   ]
  },
  {
   "cell_type": "code",
   "execution_count": 167,
   "metadata": {},
   "outputs": [],
   "source": [
    "images, labels = ep.astensors(*samples(fmodel, dataset=\"mnist\", batchsize=16))\n",
    "accuracy(fmodel, images, labels)"
   ]
  },
  {
   "cell_type": "markdown",
   "metadata": {},
   "source": [
    "Three different attacks with 100 values of epsilons"
   ]
  },
  {
   "cell_type": "code",
   "execution_count": 174,
   "metadata": {},
   "outputs": [],
   "source": [
    "attack0 = fb.attacks.LinfPGD()\n",
    "attack1 = fb.attacks.BoundaryAttack()\n",
    "attack2 = fb.attacks.FGSM()\n",
    "attack = [attack0, attack1, attack2]\n",
    "epsilon = np.linspace(0.0, 1, num=100)"
   ]
  },
  {
   "cell_type": "code",
   "execution_count": 175,
   "metadata": {},
   "outputs": [],
   "source": [
    "succes_rates = []\n",
    "\n",
    "for attacking in attack:\n",
    "    raw, clipped, is_adv = attacking(fmodel, images, labels, epsilons=epsilon)\n",
    "    succes_rates.append(is_adv)\n"
   ]
  },
  {
   "cell_type": "code",
   "execution_count": 177,
   "metadata": {},
   "outputs": [
    {
     "data": {
      "image/png": "[encoded data removed]",
      "text/plain": [
       "<Figure size 432x288 with 1 Axes>"
      ]
     },
     "metadata": {
      "needs_background": "light"
     },
     "output_type": "display_data"
    }
   ],
   "source": [
    "import matplotlib.pyplot as plt\n",
    "label = ['LinfPGD', 'Boundary_Attack', 'FGSM']\n",
    "for success, labels in zip(succes_rates, label):\n",
    "    robust_accuracy = 1 - success.float32().mean(axis=-1)\n",
    "    plt.plot(epsilon, robust_accuracy.numpy(), label=labels)\n",
    "    plt.xlabel(\"Epsilon\")\n",
    "    plt.ylabel(\"Model Accuracy\")\n",
    "    plt.legend()"
   ]
  },
  {
   "cell_type": "code",
   "execution_count": null,
   "metadata": {},
   "outputs": [],
   "source": [
    "robust_accuracy = 1 - is_adv.float32().mean(axis=-1)\n",
    "print(\"robust accuracy for perturbations with\")\n",
    "for eps, acc in zip(epsilon, robust_accuracy):\n",
    "    print(f\"  Linf norm ≤ {eps:<6}: {acc.item() * 100:4.1f} %\")\n",
    "#print(robust_accuracy)"
   ]
  },
  {
   "cell_type": "code",
   "execution_count": 108,
   "metadata": {},
   "outputs": [
    {
     "data": {
      "image/png": "[encoded data removed]",
      "text/plain": [
       "<Figure size 1152x72 with 16 Axes>"
      ]
     },
     "metadata": {},
     "output_type": "display_data"
    }
   ],
   "source": [
    "fb.plot.images(images)"
   ]
  },
  {
   "cell_type": "code",
   "execution_count": 68,
   "metadata": {},
   "outputs": [
    {
     "data": {
      "text/plain": [
       "1.0"
      ]
     },
     "execution_count": 68,
     "metadata": {},
     "output_type": "execute_result"
    }
   ],
   "source": [
    "# if not used as eagerpy tensor follow this\n",
    "robust_accuracy = 1 - is_adv.cpu().numpy().astype(np.float32()).mean(axis=-1)\n",
    "robust_accuracy"
   ]
  }
 ],
 "metadata": {
  "kernelspec": {
   "display_name": "conda-n2gem",
   "language": "python",
   "name": "n2gem"
  },
  "language_info": {
   "codemirror_mode": {
    "name": "ipython",
    "version": 3
   },
   "file_extension": ".py",
   "mimetype": "text/x-python",
   "name": "python",
   "nbconvert_exporter": "python",
   "pygments_lexer": "ipython3",
   "version": "3.8.5"
  }
 },
 "nbformat": 4,
 "nbformat_minor": 4
}
